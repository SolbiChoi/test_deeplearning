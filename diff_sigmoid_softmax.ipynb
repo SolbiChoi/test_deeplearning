{
  "nbformat": 4,
  "nbformat_minor": 0,
  "metadata": {
    "colab": {
      "name": "diff_sigmoid_softmax.ipynb",
      "provenance": [],
      "authorship_tag": "ABX9TyNlOXiMLcYVVKn3eZSvORlY",
      "include_colab_link": true
    },
    "kernelspec": {
      "name": "python3",
      "display_name": "Python 3"
    },
    "language_info": {
      "name": "python"
    }
  },
  "cells": [
    {
      "cell_type": "markdown",
      "metadata": {
        "id": "view-in-github",
        "colab_type": "text"
      },
      "source": [
        "<a href=\"https://colab.research.google.com/github/SolbiChoi/test_deeplearning/blob/master/diff_sigmoid_softmax.ipynb\" target=\"_parent\"><img src=\"https://colab.research.google.com/assets/colab-badge.svg\" alt=\"Open In Colab\"/></a>"
      ]
    },
    {
      "cell_type": "markdown",
      "metadata": {
        "id": "Wdq1jIwN4NQC"
      },
      "source": [
        "## Sigmoid"
      ]
    },
    {
      "cell_type": "code",
      "metadata": {
        "id": "iRyd8ksh7FbJ"
      },
      "source": [
        "import tensorflow as tf"
      ],
      "execution_count": 1,
      "outputs": []
    },
    {
      "cell_type": "code",
      "metadata": {
        "colab": {
          "base_uri": "https://localhost:8080/"
        },
        "id": "MyIK7ale3lrl",
        "outputId": "8b724dbd-6963-427f-cda5-7a2f2a965bc8"
      },
      "source": [
        "a = tf.constant([4.0, 1.0, 3.0], dtype = tf.float32)\n",
        "a, type(a)"
      ],
      "execution_count": 10,
      "outputs": [
        {
          "output_type": "execute_result",
          "data": {
            "text/plain": [
              "(<tf.Tensor: shape=(3,), dtype=float32, numpy=array([4., 1., 3.], dtype=float32)>,\n",
              " tensorflow.python.framework.ops.EagerTensor)"
            ]
          },
          "metadata": {
            "tags": []
          },
          "execution_count": 10
        }
      ]
    },
    {
      "cell_type": "code",
      "metadata": {
        "colab": {
          "base_uri": "https://localhost:8080/"
        },
        "id": "Z2pSg9DZ4JfM",
        "outputId": "7d234b94-b36a-4ad8-dbdd-9b6d6da7ea73"
      },
      "source": [
        "b = tf.keras.activations.sigmoid(a)\n",
        "b"
      ],
      "execution_count": 11,
      "outputs": [
        {
          "output_type": "execute_result",
          "data": {
            "text/plain": [
              "<tf.Tensor: shape=(3,), dtype=float32, numpy=array([0.98201376, 0.7310586 , 0.95257413], dtype=float32)>"
            ]
          },
          "metadata": {
            "tags": []
          },
          "execution_count": 11
        }
      ]
    },
    {
      "cell_type": "code",
      "metadata": {
        "colab": {
          "base_uri": "https://localhost:8080/"
        },
        "id": "4q_HzCav4MWi",
        "outputId": "83b466f2-e579-4049-fc5c-3a2cee5e7ceb"
      },
      "source": [
        "b.numpy()"
      ],
      "execution_count": 12,
      "outputs": [
        {
          "output_type": "execute_result",
          "data": {
            "text/plain": [
              "array([0.98201376, 0.7310586 , 0.95257413], dtype=float32)"
            ]
          },
          "metadata": {
            "tags": []
          },
          "execution_count": 12
        }
      ]
    },
    {
      "cell_type": "markdown",
      "metadata": {
        "id": "pu_Z8dUH8oIY"
      },
      "source": [
        "## softmax"
      ]
    },
    {
      "cell_type": "code",
      "metadata": {
        "colab": {
          "base_uri": "https://localhost:8080/"
        },
        "id": "ZRpjn-N37PwU",
        "outputId": "c7d1f7e6-17ab-4f0e-f73e-ac7e150a55e9"
      },
      "source": [
        "inputs = tf.random.normal(shape=(1, 3))\n",
        "inputs"
      ],
      "execution_count": 19,
      "outputs": [
        {
          "output_type": "execute_result",
          "data": {
            "text/plain": [
              "<tf.Tensor: shape=(1, 3), dtype=float32, numpy=array([[ 0.05342698, -0.692308  ,  0.18183856]], dtype=float32)>"
            ]
          },
          "metadata": {
            "tags": []
          },
          "execution_count": 19
        }
      ]
    },
    {
      "cell_type": "code",
      "metadata": {
        "id": "9LZ2OtFS8rNF"
      },
      "source": [
        "outputs = tf.keras.activations.softmax(inputs)\n",
        "# outputs"
      ],
      "execution_count": 20,
      "outputs": []
    },
    {
      "cell_type": "code",
      "metadata": {
        "colab": {
          "base_uri": "https://localhost:8080/"
        },
        "id": "vcX5fTWH9DYN",
        "outputId": "e1933940-f0d5-4964-8882-0b3fb9d41be2"
      },
      "source": [
        "outputs.numpy()"
      ],
      "execution_count": 21,
      "outputs": [
        {
          "output_type": "execute_result",
          "data": {
            "text/plain": [
              "array([[0.3829354 , 0.18165901, 0.43540555]], dtype=float32)"
            ]
          },
          "metadata": {
            "tags": []
          },
          "execution_count": 21
        }
      ]
    },
    {
      "cell_type": "code",
      "metadata": {
        "id": "OqepckIJ8sTZ"
      },
      "source": [
        "tf.reduce_sum(outputs[0, :])  # Each sample in the batch now sums to 1"
      ],
      "execution_count": null,
      "outputs": []
    }
  ]
}