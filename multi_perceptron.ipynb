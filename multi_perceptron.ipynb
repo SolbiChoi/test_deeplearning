{
  "nbformat": 4,
  "nbformat_minor": 0,
  "metadata": {
    "colab": {
      "name": "multi_perceptron.ipynb",
      "provenance": [],
      "authorship_tag": "ABX9TyOWOENscbud/IXgFLYI/HYz",
      "include_colab_link": true
    },
    "kernelspec": {
      "name": "python3",
      "display_name": "Python 3"
    },
    "language_info": {
      "name": "python"
    }
  },
  "cells": [
    {
      "cell_type": "markdown",
      "metadata": {
        "id": "view-in-github",
        "colab_type": "text"
      },
      "source": [
        "<a href=\"https://colab.research.google.com/github/SolbiChoi/test_deeplearning/blob/master/multi_perceptron.ipynb\" target=\"_parent\"><img src=\"https://colab.research.google.com/assets/colab-badge.svg\" alt=\"Open In Colab\"/></a>"
      ]
    },
    {
      "cell_type": "code",
      "metadata": {
        "id": "jpyR_8NfuFr4"
      },
      "source": [
        "import tensorflow as tf"
      ],
      "execution_count": 1,
      "outputs": []
    },
    {
      "cell_type": "code",
      "metadata": {
        "colab": {
          "base_uri": "https://localhost:8080/"
        },
        "id": "bLxVp635x4Zp",
        "outputId": "a1559b5a-d4fd-4942-91e7-3ee3790ca985"
      },
      "source": [
        "x_data = [[0,0],\n",
        "          [1,0],\n",
        "          [0,1],\n",
        "          [1,1]]\n",
        "y_data = [[0],\n",
        "          [1],\n",
        "          [1],\n",
        "          [1]]\n",
        "type(x_data), type(y_data)"
      ],
      "execution_count": 2,
      "outputs": [
        {
          "output_type": "execute_result",
          "data": {
            "text/plain": [
              "(list, list)"
            ]
          },
          "metadata": {
            "tags": []
          },
          "execution_count": 2
        }
      ]
    },
    {
      "cell_type": "code",
      "metadata": {
        "colab": {
          "base_uri": "https://localhost:8080/"
        },
        "id": "C5t26OGtx-D8",
        "outputId": "3e65144e-7f13-4241-dc27-339b3d90da32"
      },
      "source": [
        "import numpy as np\n",
        "x_train = np.array(x_data)\n",
        "y_train = np.array(y_data)\n",
        "x_train.shape, y_train.shape"
      ],
      "execution_count": 3,
      "outputs": [
        {
          "output_type": "execute_result",
          "data": {
            "text/plain": [
              "((4, 2), (4, 1))"
            ]
          },
          "metadata": {
            "tags": []
          },
          "execution_count": 3
        }
      ]
    },
    {
      "cell_type": "markdown",
      "metadata": {
        "id": "afTyOrxX0u5l"
      },
      "source": [
        "## Create model"
      ]
    },
    {
      "cell_type": "code",
      "metadata": {
        "colab": {
          "base_uri": "https://localhost:8080/"
        },
        "id": "aUZZjx1Z0umn",
        "outputId": "d0f70e48-f5a3-48aa-ab2d-f183cc6e03b4"
      },
      "source": [
        "model = tf.keras.models.Sequential()\n",
        "\n",
        "# solve XOR model\n",
        "model.add(tf.keras.Input(shape=(2,))) # input layer\n",
        "model.add(tf.keras.layers.Dense(128, activation='sigmoid')) # 기능 layer\n",
        "model.add(tf.keras.layers.Dense(1, activation='sigmoid')) # output layer\n",
        "\n",
        "model.compile(optimizer='sgd', loss='mse', metrics=['acc'])"
      ],
      "execution_count": 12,
      "outputs": [
        {
          "output_type": "stream",
          "text": [
            "WARNING:tensorflow:Please add `keras.layers.InputLayer` instead of `keras.Input` to Sequential model. `keras.Input` is intended to be used by Functional model.\n"
          ],
          "name": "stdout"
        }
      ]
    },
    {
      "cell_type": "code",
      "metadata": {
        "colab": {
          "base_uri": "https://localhost:8080/",
          "height": 312
        },
        "id": "xtMZQrxB8xVq",
        "outputId": "fb17ce33-4e62-49c1-ea1d-72cb18572f94"
      },
      "source": [
        "tf.keras.utils.plot_model(model,show_shapes=True)"
      ],
      "execution_count": 5,
      "outputs": [
        {
          "output_type": "execute_result",
          "data": {
            "image/png": "[encoded data removed]",
            "text/plain": [
              "<IPython.core.display.Image object>"
            ]
          },
          "metadata": {
            "tags": []
          },
          "execution_count": 5
        }
      ]
    },
    {
      "cell_type": "code",
      "metadata": {
        "colab": {
          "base_uri": "https://localhost:8080/"
        },
        "id": "cvu17HCdyKnR",
        "outputId": "06fb2c19-0909-478f-f316-f9b05de8cd46"
      },
      "source": [
        "model.fit(x_train,y_train,epochs=100)"
      ],
      "execution_count": 13,
      "outputs": [
        {
          "output_type": "stream",
          "text": [
            "Epoch 1/100\n",
            "1/1 [==============================] - 0s 289ms/step - loss: 0.2132 - acc: 0.7500\n",
            "Epoch 2/100\n",
            "1/1 [==============================] - 0s 11ms/step - loss: 0.2111 - acc: 0.7500\n",
            "Epoch 3/100\n",
            "1/1 [==============================] - 0s 4ms/step - loss: 0.2091 - acc: 0.7500\n",
            "Epoch 4/100\n",
            "1/1 [==============================] - 0s 6ms/step - loss: 0.2073 - acc: 0.7500\n",
            "Epoch 5/100\n",
            "1/1 [==============================] - 0s 5ms/step - loss: 0.2057 - acc: 0.7500\n",
            "Epoch 6/100\n",
            "1/1 [==============================] - 0s 6ms/step - loss: 0.2042 - acc: 0.7500\n",
            "Epoch 7/100\n",
            "1/1 [==============================] - 0s 10ms/step - loss: 0.2028 - acc: 0.7500\n",
            "Epoch 8/100\n",
            "1/1 [==============================] - 0s 5ms/step - loss: 0.2015 - acc: 0.7500\n",
            "Epoch 9/100\n",
            "1/1 [==============================] - 0s 10ms/step - loss: 0.2004 - acc: 0.7500\n",
            "Epoch 10/100\n",
            "1/1 [==============================] - 0s 5ms/step - loss: 0.1993 - acc: 0.7500\n",
            "Epoch 11/100\n",
            "1/1 [==============================] - 0s 4ms/step - loss: 0.1983 - acc: 0.7500\n",
            "Epoch 12/100\n",
            "1/1 [==============================] - 0s 4ms/step - loss: 0.1974 - acc: 0.7500\n",
            "Epoch 13/100\n",
            "1/1 [==============================] - 0s 5ms/step - loss: 0.1966 - acc: 0.7500\n",
            "Epoch 14/100\n",
            "1/1 [==============================] - 0s 7ms/step - loss: 0.1958 - acc: 0.7500\n",
            "Epoch 15/100\n",
            "1/1 [==============================] - 0s 4ms/step - loss: 0.1951 - acc: 0.7500\n",
            "Epoch 16/100\n",
            "1/1 [==============================] - 0s 4ms/step - loss: 0.1944 - acc: 0.7500\n",
            "Epoch 17/100\n",
            "1/1 [==============================] - 0s 4ms/step - loss: 0.1938 - acc: 0.7500\n",
            "Epoch 18/100\n",
            "1/1 [==============================] - 0s 6ms/step - loss: 0.1932 - acc: 0.7500\n",
            "Epoch 19/100\n",
            "1/1 [==============================] - 0s 4ms/step - loss: 0.1927 - acc: 0.7500\n",
            "Epoch 20/100\n",
            "1/1 [==============================] - 0s 5ms/step - loss: 0.1922 - acc: 0.7500\n",
            "Epoch 21/100\n",
            "1/1 [==============================] - 0s 7ms/step - loss: 0.1917 - acc: 0.7500\n",
            "Epoch 22/100\n",
            "1/1 [==============================] - 0s 4ms/step - loss: 0.1913 - acc: 0.7500\n",
            "Epoch 23/100\n",
            "1/1 [==============================] - 0s 5ms/step - loss: 0.1909 - acc: 0.7500\n",
            "Epoch 24/100\n",
            "1/1 [==============================] - 0s 4ms/step - loss: 0.1906 - acc: 0.7500\n",
            "Epoch 25/100\n",
            "1/1 [==============================] - 0s 4ms/step - loss: 0.1902 - acc: 0.7500\n",
            "Epoch 26/100\n",
            "1/1 [==============================] - 0s 4ms/step - loss: 0.1899 - acc: 0.7500\n",
            "Epoch 27/100\n",
            "1/1 [==============================] - 0s 4ms/step - loss: 0.1896 - acc: 0.7500\n",
            "Epoch 28/100\n",
            "1/1 [==============================] - 0s 4ms/step - loss: 0.1893 - acc: 0.7500\n",
            "Epoch 29/100\n",
            "1/1 [==============================] - 0s 5ms/step - loss: 0.1891 - acc: 0.7500\n",
            "Epoch 30/100\n",
            "1/1 [==============================] - 0s 6ms/step - loss: 0.1888 - acc: 0.7500\n",
            "Epoch 31/100\n",
            "1/1 [==============================] - 0s 4ms/step - loss: 0.1886 - acc: 0.7500\n",
            "Epoch 32/100\n",
            "1/1 [==============================] - 0s 4ms/step - loss: 0.1884 - acc: 0.7500\n",
            "Epoch 33/100\n",
            "1/1 [==============================] - 0s 4ms/step - loss: 0.1882 - acc: 0.7500\n",
            "Epoch 34/100\n",
            "1/1 [==============================] - 0s 4ms/step - loss: 0.1880 - acc: 0.7500\n",
            "Epoch 35/100\n",
            "1/1 [==============================] - 0s 4ms/step - loss: 0.1878 - acc: 0.7500\n",
            "Epoch 36/100\n",
            "1/1 [==============================] - 0s 5ms/step - loss: 0.1877 - acc: 0.7500\n",
            "Epoch 37/100\n",
            "1/1 [==============================] - 0s 4ms/step - loss: 0.1875 - acc: 0.7500\n",
            "Epoch 38/100\n",
            "1/1 [==============================] - 0s 4ms/step - loss: 0.1873 - acc: 0.7500\n",
            "Epoch 39/100\n",
            "1/1 [==============================] - 0s 9ms/step - loss: 0.1872 - acc: 0.7500\n",
            "Epoch 40/100\n",
            "1/1 [==============================] - 0s 4ms/step - loss: 0.1871 - acc: 0.7500\n",
            "Epoch 41/100\n",
            "1/1 [==============================] - 0s 4ms/step - loss: 0.1870 - acc: 0.7500\n",
            "Epoch 42/100\n",
            "1/1 [==============================] - 0s 4ms/step - loss: 0.1868 - acc: 0.7500\n",
            "Epoch 43/100\n",
            "1/1 [==============================] - 0s 6ms/step - loss: 0.1867 - acc: 0.7500\n",
            "Epoch 44/100\n",
            "1/1 [==============================] - 0s 5ms/step - loss: 0.1866 - acc: 0.7500\n",
            "Epoch 45/100\n",
            "1/1 [==============================] - 0s 6ms/step - loss: 0.1865 - acc: 0.7500\n",
            "Epoch 46/100\n",
            "1/1 [==============================] - 0s 7ms/step - loss: 0.1864 - acc: 0.7500\n",
            "Epoch 47/100\n",
            "1/1 [==============================] - 0s 6ms/step - loss: 0.1863 - acc: 0.7500\n",
            "Epoch 48/100\n",
            "1/1 [==============================] - 0s 6ms/step - loss: 0.1863 - acc: 0.7500\n",
            "Epoch 49/100\n",
            "1/1 [==============================] - 0s 7ms/step - loss: 0.1862 - acc: 0.7500\n",
            "Epoch 50/100\n",
            "1/1 [==============================] - 0s 7ms/step - loss: 0.1861 - acc: 0.7500\n",
            "Epoch 51/100\n",
            "1/1 [==============================] - 0s 6ms/step - loss: 0.1860 - acc: 0.7500\n",
            "Epoch 52/100\n",
            "1/1 [==============================] - 0s 5ms/step - loss: 0.1860 - acc: 0.7500\n",
            "Epoch 53/100\n",
            "1/1 [==============================] - 0s 6ms/step - loss: 0.1859 - acc: 0.7500\n",
            "Epoch 54/100\n",
            "1/1 [==============================] - 0s 7ms/step - loss: 0.1858 - acc: 0.7500\n",
            "Epoch 55/100\n",
            "1/1 [==============================] - 0s 8ms/step - loss: 0.1858 - acc: 0.7500\n",
            "Epoch 56/100\n",
            "1/1 [==============================] - 0s 5ms/step - loss: 0.1857 - acc: 0.7500\n",
            "Epoch 57/100\n",
            "1/1 [==============================] - 0s 8ms/step - loss: 0.1857 - acc: 0.7500\n",
            "Epoch 58/100\n",
            "1/1 [==============================] - 0s 4ms/step - loss: 0.1856 - acc: 0.7500\n",
            "Epoch 59/100\n",
            "1/1 [==============================] - 0s 4ms/step - loss: 0.1856 - acc: 0.7500\n",
            "Epoch 60/100\n",
            "1/1 [==============================] - 0s 14ms/step - loss: 0.1855 - acc: 0.7500\n",
            "Epoch 61/100\n",
            "1/1 [==============================] - 0s 7ms/step - loss: 0.1855 - acc: 0.7500\n",
            "Epoch 62/100\n",
            "1/1 [==============================] - 0s 8ms/step - loss: 0.1854 - acc: 0.7500\n",
            "Epoch 63/100\n",
            "1/1 [==============================] - 0s 4ms/step - loss: 0.1854 - acc: 0.7500\n",
            "Epoch 64/100\n",
            "1/1 [==============================] - 0s 5ms/step - loss: 0.1853 - acc: 0.7500\n",
            "Epoch 65/100\n",
            "1/1 [==============================] - 0s 7ms/step - loss: 0.1853 - acc: 0.7500\n",
            "Epoch 66/100\n",
            "1/1 [==============================] - 0s 8ms/step - loss: 0.1853 - acc: 0.7500\n",
            "Epoch 67/100\n",
            "1/1 [==============================] - 0s 6ms/step - loss: 0.1852 - acc: 0.7500\n",
            "Epoch 68/100\n",
            "1/1 [==============================] - 0s 7ms/step - loss: 0.1852 - acc: 0.7500\n",
            "Epoch 69/100\n",
            "1/1 [==============================] - 0s 7ms/step - loss: 0.1852 - acc: 0.7500\n",
            "Epoch 70/100\n",
            "1/1 [==============================] - 0s 5ms/step - loss: 0.1851 - acc: 0.7500\n",
            "Epoch 71/100\n",
            "1/1 [==============================] - 0s 6ms/step - loss: 0.1851 - acc: 0.7500\n",
            "Epoch 72/100\n",
            "1/1 [==============================] - 0s 5ms/step - loss: 0.1851 - acc: 0.7500\n",
            "Epoch 73/100\n",
            "1/1 [==============================] - 0s 6ms/step - loss: 0.1850 - acc: 0.7500\n",
            "Epoch 74/100\n",
            "1/1 [==============================] - 0s 9ms/step - loss: 0.1850 - acc: 0.7500\n",
            "Epoch 75/100\n",
            "1/1 [==============================] - 0s 4ms/step - loss: 0.1850 - acc: 0.7500\n",
            "Epoch 76/100\n",
            "1/1 [==============================] - 0s 4ms/step - loss: 0.1850 - acc: 0.7500\n",
            "Epoch 77/100\n",
            "1/1 [==============================] - 0s 8ms/step - loss: 0.1849 - acc: 0.7500\n",
            "Epoch 78/100\n",
            "1/1 [==============================] - 0s 6ms/step - loss: 0.1849 - acc: 0.7500\n",
            "Epoch 79/100\n",
            "1/1 [==============================] - 0s 9ms/step - loss: 0.1849 - acc: 0.7500\n",
            "Epoch 80/100\n",
            "1/1 [==============================] - 0s 5ms/step - loss: 0.1849 - acc: 0.7500\n",
            "Epoch 81/100\n",
            "1/1 [==============================] - 0s 5ms/step - loss: 0.1848 - acc: 0.7500\n",
            "Epoch 82/100\n",
            "1/1 [==============================] - 0s 4ms/step - loss: 0.1848 - acc: 0.7500\n",
            "Epoch 83/100\n",
            "1/1 [==============================] - 0s 5ms/step - loss: 0.1848 - acc: 0.7500\n",
            "Epoch 84/100\n",
            "1/1 [==============================] - 0s 7ms/step - loss: 0.1848 - acc: 0.7500\n",
            "Epoch 85/100\n",
            "1/1 [==============================] - 0s 7ms/step - loss: 0.1847 - acc: 0.7500\n",
            "Epoch 86/100\n",
            "1/1 [==============================] - 0s 7ms/step - loss: 0.1847 - acc: 0.7500\n",
            "Epoch 87/100\n",
            "1/1 [==============================] - 0s 7ms/step - loss: 0.1847 - acc: 0.7500\n",
            "Epoch 88/100\n",
            "1/1 [==============================] - 0s 7ms/step - loss: 0.1847 - acc: 0.7500\n",
            "Epoch 89/100\n",
            "1/1 [==============================] - 0s 8ms/step - loss: 0.1847 - acc: 0.7500\n",
            "Epoch 90/100\n",
            "1/1 [==============================] - 0s 7ms/step - loss: 0.1846 - acc: 0.7500\n",
            "Epoch 91/100\n",
            "1/1 [==============================] - 0s 8ms/step - loss: 0.1846 - acc: 0.7500\n",
            "Epoch 92/100\n",
            "1/1 [==============================] - 0s 7ms/step - loss: 0.1846 - acc: 0.7500\n",
            "Epoch 93/100\n",
            "1/1 [==============================] - 0s 6ms/step - loss: 0.1846 - acc: 0.7500\n",
            "Epoch 94/100\n",
            "1/1 [==============================] - 0s 5ms/step - loss: 0.1846 - acc: 0.7500\n",
            "Epoch 95/100\n",
            "1/1 [==============================] - 0s 8ms/step - loss: 0.1845 - acc: 0.7500\n",
            "Epoch 96/100\n",
            "1/1 [==============================] - 0s 14ms/step - loss: 0.1845 - acc: 0.7500\n",
            "Epoch 97/100\n",
            "1/1 [==============================] - 0s 6ms/step - loss: 0.1845 - acc: 0.7500\n",
            "Epoch 98/100\n",
            "1/1 [==============================] - 0s 7ms/step - loss: 0.1845 - acc: 0.7500\n",
            "Epoch 99/100\n",
            "1/1 [==============================] - 0s 8ms/step - loss: 0.1845 - acc: 0.7500\n",
            "Epoch 100/100\n",
            "1/1 [==============================] - 0s 13ms/step - loss: 0.1845 - acc: 0.7500\n"
          ],
          "name": "stdout"
        },
        {
          "output_type": "execute_result",
          "data": {
            "text/plain": [
              "<tensorflow.python.keras.callbacks.History at 0x7f20486c3350>"
            ]
          },
          "metadata": {
            "tags": []
          },
          "execution_count": 13
        }
      ]
    },
    {
      "cell_type": "code",
      "metadata": {
        "id": "LtkohS5u9cEX"
      },
      "source": [
        "# model.predict([[0,1]])   # epochs : 100, loss : 0.2245"
      ],
      "execution_count": 7,
      "outputs": []
    },
    {
      "cell_type": "code",
      "metadata": {
        "colab": {
          "base_uri": "https://localhost:8080/"
        },
        "id": "xai0EChi_SIi",
        "outputId": "b689877a-6a9f-484f-830a-1d9dc59ef888"
      },
      "source": [
        "# model.predict([[0,1]])   # epochs : 100, loss : 0.1883 0.55"
      ],
      "execution_count": 8,
      "outputs": [
        {
          "output_type": "execute_result",
          "data": {
            "text/plain": [
              "array([[0.74155265]], dtype=float32)"
            ]
          },
          "metadata": {
            "tags": []
          },
          "execution_count": 8
        }
      ]
    },
    {
      "cell_type": "code",
      "metadata": {
        "id": "Q1ilwLiK__CK"
      },
      "source": [
        "# model.predict([[0,1]])   # dense : 128, epochs : 100, loss : 0.1883 0.74155265"
      ],
      "execution_count": 9,
      "outputs": []
    },
    {
      "cell_type": "code",
      "metadata": {
        "colab": {
          "base_uri": "https://localhost:8080/"
        },
        "id": "42f26-ooBFRj",
        "outputId": "4527aa35-3f13-4579-cff5-3381a38b66a1"
      },
      "source": [
        "model.predict([[0,1]])"
      ],
      "execution_count": 10,
      "outputs": [
        {
          "output_type": "execute_result",
          "data": {
            "text/plain": [
              "array([[0.74155265]], dtype=float32)"
            ]
          },
          "metadata": {
            "tags": []
          },
          "execution_count": 10
        }
      ]
    },
    {
      "cell_type": "code",
      "metadata": {
        "colab": {
          "base_uri": "https://localhost:8080/"
        },
        "id": "Ameuk2HxBHsG",
        "outputId": "dae3b3a0-2c62-445b-bdb2-2d0fb86fc10c"
      },
      "source": [
        "model.evaluate(x_train, y_train)"
      ],
      "execution_count": 11,
      "outputs": [
        {
          "output_type": "stream",
          "text": [
            "1/1 [==============================] - 0s 113ms/step - loss: 0.1883\n"
          ],
          "name": "stdout"
        },
        {
          "output_type": "execute_result",
          "data": {
            "text/plain": [
              "0.18830299377441406"
            ]
          },
          "metadata": {
            "tags": []
          },
          "execution_count": 11
        }
      ]
    },
    {
      "cell_type": "code",
      "metadata": {
        "id": "G8xVA33uCZCs"
      },
      "source": [
        ""
      ],
      "execution_count": null,
      "outputs": []
    }
  ]
}