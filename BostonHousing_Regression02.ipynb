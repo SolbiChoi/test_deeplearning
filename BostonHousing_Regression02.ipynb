{
  "nbformat": 4,
  "nbformat_minor": 0,
  "metadata": {
    "colab": {
      "name": "boston_housingWithRegression.ipynb",
      "provenance": [],
      "authorship_tag": "ABX9TyP+N6hCVAC2DKcz4LhLT7wm",
      "include_colab_link": true
    },
    "kernelspec": {
      "name": "python3",
      "display_name": "Python 3"
    },
    "language_info": {
      "name": "python"
    }
  },
  "cells": [
    {
      "cell_type": "markdown",
      "metadata": {
        "id": "view-in-github",
        "colab_type": "text"
      },
      "source": [
        "<a href=\"https://colab.research.google.com/github/SolbiChoi/test_deeplearning/blob/master/BostonHousing_Regression02.ipynb\" target=\"_parent\"><img src=\"https://colab.research.google.com/assets/colab-badge.svg\" alt=\"Open In Colab\"/></a>"
      ]
    },
    {
      "cell_type": "code",
      "metadata": {
        "id": "m0U63sXRX5e7"
      },
      "source": [
        "import tensorflow as tf\n",
        "from tensorflow.keras.datasets.boston_housing import load_data"
      ],
      "execution_count": 32,
      "outputs": []
    },
    {
      "cell_type": "markdown",
      "metadata": {
        "id": "z2HHcGe_1GQO"
      },
      "source": [
        "## Dataset"
      ]
    },
    {
      "cell_type": "code",
      "metadata": {
        "colab": {
          "base_uri": "https://localhost:8080/"
        },
        "id": "tmCT25p7bQea",
        "outputId": "b5540043-a29c-4039-cda2-cdc9b02f78df"
      },
      "source": [
        "(x_train, y_train), (x_test, y_test) = load_data(path='boston_housing.npz', test_split=0.2, seed=113)\n",
        "x_train.shape, y_train.shape, x_test.shape, y_test.shape"
      ],
      "execution_count": 33,
      "outputs": [
        {
          "output_type": "execute_result",
          "data": {
            "text/plain": [
              "((404, 13), (404,), (102, 13), (102,))"
            ]
          },
          "metadata": {
            "tags": []
          },
          "execution_count": 33
        }
      ]
    },
    {
      "cell_type": "code",
      "metadata": {
        "colab": {
          "base_uri": "https://localhost:8080/"
        },
        "id": "33WAAEdqd3Eu",
        "outputId": "84734c13-6ea8-4e33-89cd-563d5b92fb04"
      },
      "source": [
        "type(x_train)"
      ],
      "execution_count": 34,
      "outputs": [
        {
          "output_type": "execute_result",
          "data": {
            "text/plain": [
              "numpy.ndarray"
            ]
          },
          "metadata": {
            "tags": []
          },
          "execution_count": 34
        }
      ]
    },
    {
      "cell_type": "code",
      "metadata": {
        "id": "A5YLmZka1J3j"
      },
      "source": [
        "import pandas as pd"
      ],
      "execution_count": 35,
      "outputs": []
    },
    {
      "cell_type": "code",
      "metadata": {
        "colab": {
          "base_uri": "https://localhost:8080/"
        },
        "id": "eQKjPoC-1UxA",
        "outputId": "d42a430e-908e-45b2-e7bd-836dd115a76b"
      },
      "source": [
        "dfr = pd.DataFrame(x_train)\n",
        "dfr.info()"
      ],
      "execution_count": 36,
      "outputs": [
        {
          "output_type": "stream",
          "text": [
            "<class 'pandas.core.frame.DataFrame'>\n",
            "RangeIndex: 404 entries, 0 to 403\n",
            "Data columns (total 13 columns):\n",
            " #   Column  Non-Null Count  Dtype  \n",
            "---  ------  --------------  -----  \n",
            " 0   0       404 non-null    float64\n",
            " 1   1       404 non-null    float64\n",
            " 2   2       404 non-null    float64\n",
            " 3   3       404 non-null    float64\n",
            " 4   4       404 non-null    float64\n",
            " 5   5       404 non-null    float64\n",
            " 6   6       404 non-null    float64\n",
            " 7   7       404 non-null    float64\n",
            " 8   8       404 non-null    float64\n",
            " 9   9       404 non-null    float64\n",
            " 10  10      404 non-null    float64\n",
            " 11  11      404 non-null    float64\n",
            " 12  12      404 non-null    float64\n",
            "dtypes: float64(13)\n",
            "memory usage: 41.2 KB\n"
          ],
          "name": "stdout"
        }
      ]
    },
    {
      "cell_type": "code",
      "metadata": {
        "id": "stmGxynzMT5a"
      },
      "source": [
        "import sqlite3"
      ],
      "execution_count": 37,
      "outputs": []
    },
    {
      "cell_type": "code",
      "metadata": {
        "id": "9ljlF8BvMi7k"
      },
      "source": [
        "connect = sqlite3.connect('./db.sqlite3')"
      ],
      "execution_count": 38,
      "outputs": []
    },
    {
      "cell_type": "code",
      "metadata": {
        "id": "Z04AmX5KM3xJ"
      },
      "source": [
        "dfr.to_sql('boston_housing_resource',connect,if_exists='append',index=False)"
      ],
      "execution_count": 39,
      "outputs": []
    },
    {
      "cell_type": "code",
      "metadata": {
        "id": "8wNDh_C8OIqi"
      },
      "source": [
        "df = pd.read_sql_query('select * from boston_housing_resource',connect)"
      ],
      "execution_count": 40,
      "outputs": []
    },
    {
      "cell_type": "code",
      "metadata": {
        "colab": {
          "base_uri": "https://localhost:8080/",
          "height": 297
        },
        "id": "WVJbw52S1dOi",
        "outputId": "bfc78503-cece-46fc-93e3-d7df37e16e89"
      },
      "source": [
        "df.describe()"
      ],
      "execution_count": 41,
      "outputs": [
        {
          "output_type": "execute_result",
          "data": {
            "text/html": [
              "<div>\n",
              "<style scoped>\n",
              "    .dataframe tbody tr th:only-of-type {\n",
              "        vertical-align: middle;\n",
              "    }\n",
              "\n",
              "    .dataframe tbody tr th {\n",
              "        vertical-align: top;\n",
              "    }\n",
              "\n",
              "    .dataframe thead th {\n",
              "        text-align: right;\n",
              "    }\n",
              "</style>\n",
              "<table border=\"1\" class=\"dataframe\">\n",
              "  <thead>\n",
              "    <tr style=\"text-align: right;\">\n",
              "      <th></th>\n",
              "      <th>0</th>\n",
              "      <th>1</th>\n",
              "      <th>2</th>\n",
              "      <th>3</th>\n",
              "      <th>4</th>\n",
              "      <th>5</th>\n",
              "      <th>6</th>\n",
              "      <th>7</th>\n",
              "      <th>8</th>\n",
              "      <th>9</th>\n",
              "      <th>10</th>\n",
              "      <th>11</th>\n",
              "      <th>12</th>\n",
              "    </tr>\n",
              "  </thead>\n",
              "  <tbody>\n",
              "    <tr>\n",
              "      <th>count</th>\n",
              "      <td>1212.000000</td>\n",
              "      <td>1212.000000</td>\n",
              "      <td>1212.000000</td>\n",
              "      <td>1212.000000</td>\n",
              "      <td>1212.000000</td>\n",
              "      <td>1212.000000</td>\n",
              "      <td>1212.000000</td>\n",
              "      <td>1212.000000</td>\n",
              "      <td>1212.000000</td>\n",
              "      <td>1212.000000</td>\n",
              "      <td>1212.000000</td>\n",
              "      <td>1212.000000</td>\n",
              "      <td>1212.000000</td>\n",
              "    </tr>\n",
              "    <tr>\n",
              "      <th>mean</th>\n",
              "      <td>3.745111</td>\n",
              "      <td>11.480198</td>\n",
              "      <td>11.104431</td>\n",
              "      <td>0.061881</td>\n",
              "      <td>0.557356</td>\n",
              "      <td>6.267082</td>\n",
              "      <td>69.010644</td>\n",
              "      <td>3.740271</td>\n",
              "      <td>9.440594</td>\n",
              "      <td>405.898515</td>\n",
              "      <td>18.475990</td>\n",
              "      <td>354.783168</td>\n",
              "      <td>12.740817</td>\n",
              "    </tr>\n",
              "    <tr>\n",
              "      <th>std</th>\n",
              "      <td>9.233101</td>\n",
              "      <td>23.748076</td>\n",
              "      <td>6.805681</td>\n",
              "      <td>0.241039</td>\n",
              "      <td>0.117196</td>\n",
              "      <td>0.709201</td>\n",
              "      <td>27.917583</td>\n",
              "      <td>2.028538</td>\n",
              "      <td>8.691175</td>\n",
              "      <td>166.237100</td>\n",
              "      <td>2.198564</td>\n",
              "      <td>94.033402</td>\n",
              "      <td>7.248552</td>\n",
              "    </tr>\n",
              "    <tr>\n",
              "      <th>min</th>\n",
              "      <td>0.006320</td>\n",
              "      <td>0.000000</td>\n",
              "      <td>0.460000</td>\n",
              "      <td>0.000000</td>\n",
              "      <td>0.385000</td>\n",
              "      <td>3.561000</td>\n",
              "      <td>2.900000</td>\n",
              "      <td>1.129600</td>\n",
              "      <td>1.000000</td>\n",
              "      <td>188.000000</td>\n",
              "      <td>12.600000</td>\n",
              "      <td>0.320000</td>\n",
              "      <td>1.730000</td>\n",
              "    </tr>\n",
              "    <tr>\n",
              "      <th>25%</th>\n",
              "      <td>0.081437</td>\n",
              "      <td>0.000000</td>\n",
              "      <td>5.130000</td>\n",
              "      <td>0.000000</td>\n",
              "      <td>0.453000</td>\n",
              "      <td>5.874750</td>\n",
              "      <td>45.475000</td>\n",
              "      <td>2.077100</td>\n",
              "      <td>4.000000</td>\n",
              "      <td>279.000000</td>\n",
              "      <td>17.225000</td>\n",
              "      <td>374.672500</td>\n",
              "      <td>6.890000</td>\n",
              "    </tr>\n",
              "    <tr>\n",
              "      <th>50%</th>\n",
              "      <td>0.268880</td>\n",
              "      <td>0.000000</td>\n",
              "      <td>9.690000</td>\n",
              "      <td>0.000000</td>\n",
              "      <td>0.538000</td>\n",
              "      <td>6.198500</td>\n",
              "      <td>78.500000</td>\n",
              "      <td>3.142300</td>\n",
              "      <td>5.000000</td>\n",
              "      <td>330.000000</td>\n",
              "      <td>19.100000</td>\n",
              "      <td>391.250000</td>\n",
              "      <td>11.395000</td>\n",
              "    </tr>\n",
              "    <tr>\n",
              "      <th>75%</th>\n",
              "      <td>3.674808</td>\n",
              "      <td>12.500000</td>\n",
              "      <td>18.100000</td>\n",
              "      <td>0.000000</td>\n",
              "      <td>0.631000</td>\n",
              "      <td>6.609000</td>\n",
              "      <td>94.100000</td>\n",
              "      <td>5.118000</td>\n",
              "      <td>24.000000</td>\n",
              "      <td>666.000000</td>\n",
              "      <td>20.200000</td>\n",
              "      <td>396.157500</td>\n",
              "      <td>17.092500</td>\n",
              "    </tr>\n",
              "    <tr>\n",
              "      <th>max</th>\n",
              "      <td>88.976200</td>\n",
              "      <td>100.000000</td>\n",
              "      <td>27.740000</td>\n",
              "      <td>1.000000</td>\n",
              "      <td>0.871000</td>\n",
              "      <td>8.725000</td>\n",
              "      <td>100.000000</td>\n",
              "      <td>10.710300</td>\n",
              "      <td>24.000000</td>\n",
              "      <td>711.000000</td>\n",
              "      <td>22.000000</td>\n",
              "      <td>396.900000</td>\n",
              "      <td>37.970000</td>\n",
              "    </tr>\n",
              "  </tbody>\n",
              "</table>\n",
              "</div>"
            ],
            "text/plain": [
              "                 0            1  ...           11           12\n",
              "count  1212.000000  1212.000000  ...  1212.000000  1212.000000\n",
              "mean      3.745111    11.480198  ...   354.783168    12.740817\n",
              "std       9.233101    23.748076  ...    94.033402     7.248552\n",
              "min       0.006320     0.000000  ...     0.320000     1.730000\n",
              "25%       0.081437     0.000000  ...   374.672500     6.890000\n",
              "50%       0.268880     0.000000  ...   391.250000    11.395000\n",
              "75%       3.674808    12.500000  ...   396.157500    17.092500\n",
              "max      88.976200   100.000000  ...   396.900000    37.970000\n",
              "\n",
              "[8 rows x 13 columns]"
            ]
          },
          "metadata": {
            "tags": []
          },
          "execution_count": 41
        }
      ]
    },
    {
      "cell_type": "code",
      "metadata": {
        "colab": {
          "base_uri": "https://localhost:8080/"
        },
        "id": "9BS2pDky2i36",
        "outputId": "f5885950-3330-4922-f6c1-3ad021d0b24b"
      },
      "source": [
        "from sklearn.preprocessing import StandardScaler\n",
        "scaler = StandardScaler()\n",
        "scaler.fit(x_train)"
      ],
      "execution_count": 42,
      "outputs": [
        {
          "output_type": "execute_result",
          "data": {
            "text/plain": [
              "StandardScaler(copy=True, with_mean=True, with_std=True)"
            ]
          },
          "metadata": {
            "tags": []
          },
          "execution_count": 42
        }
      ]
    },
    {
      "cell_type": "code",
      "metadata": {
        "colab": {
          "base_uri": "https://localhost:8080/"
        },
        "id": "al3jThQ33myx",
        "outputId": "c817e6e2-ae6a-4398-afb2-498995ee0890"
      },
      "source": [
        "x_train = scaler.transform(x_train)\n",
        "x_test = scaler.transform(x_test)\n",
        "x_train.shape, x_test.shape"
      ],
      "execution_count": 43,
      "outputs": [
        {
          "output_type": "execute_result",
          "data": {
            "text/plain": [
              "((404, 13), (102, 13))"
            ]
          },
          "metadata": {
            "tags": []
          },
          "execution_count": 43
        }
      ]
    },
    {
      "cell_type": "code",
      "metadata": {
        "id": "QkbabwYO4F0I"
      },
      "source": [
        "df = pd.DataFrame(x_train)\n",
        "df.describe()"
      ],
      "execution_count": null,
      "outputs": []
    },
    {
      "cell_type": "markdown",
      "metadata": {
        "id": "HOeC7201yBwI"
      },
      "source": [
        "## Model & Fit"
      ]
    },
    {
      "cell_type": "code",
      "metadata": {
        "id": "m05jUjSpeQWe"
      },
      "source": [
        "model = tf.keras.models.Sequential()"
      ],
      "execution_count": 71,
      "outputs": []
    },
    {
      "cell_type": "code",
      "metadata": {
        "colab": {
          "base_uri": "https://localhost:8080/"
        },
        "id": "dpLBwQ8WfNIr",
        "outputId": "a23021d9-b0a1-4792-afea-a5f5ab568878"
      },
      "source": [
        "model.add(tf.keras.Input(shape=(13,))) # input layer\n",
        "\n",
        "model.add(tf.keras.layers.Dense(64, activation='relu')) # 기능 layer - 64 : 2의 배수 사용 / 항아리모양이 되도록 구성\n",
        "model.add(tf.keras.layers.Dense(128, activation='relu')) # hidden layer\n",
        "model.add(tf.keras.layers.Dense(128, activation='relu')) # hidden layer\n",
        "model.add(tf.keras.layers.Dense(64, activation='relu')) # hidden layer\n",
        "model.add(tf.keras.layers.Dense(32, activation='relu')) # hidden layer\n",
        "\n",
        "model.add(tf.keras.layers.Dense(1,)) # output layer - 1 : LogisticRegression 갯수 / 항상 output의 갯수가 1인 것은 아님(class의 갯수)\n",
        "\n",
        "model.compile(optimizer='adam',loss='mse', metrics=['mae'])"
      ],
      "execution_count": 72,
      "outputs": [
        {
          "output_type": "stream",
          "text": [
            "WARNING:tensorflow:Please add `keras.layers.InputLayer` instead of `keras.Input` to Sequential model. `keras.Input` is intended to be used by Functional model.\n"
          ],
          "name": "stdout"
        }
      ]
    },
    {
      "cell_type": "markdown",
      "metadata": {
        "id": "6grkpq5JocC0"
      },
      "source": [
        "연속형일 때 Regression 사용 아웃풋 1개, 분류형일 때는 결과만큼 아웃풋이 있는 것\n",
        "\n",
        "분류형일때는 분류하는 만큼이 결과로 아웃풋이 나오고, 연속형은 결과 하나가 아웃풋으로 나온다"
      ]
    },
    {
      "cell_type": "code",
      "metadata": {
        "id": "-RKnwuMkomL5"
      },
      "source": [
        "tf.keras.utils.plot_model(model, show_shapes=True)"
      ],
      "execution_count": null,
      "outputs": []
    },
    {
      "cell_type": "code",
      "metadata": {
        "id": "oBoGT7B4rKjN"
      },
      "source": [
        "model.summary()"
      ],
      "execution_count": null,
      "outputs": []
    },
    {
      "cell_type": "code",
      "metadata": {
        "colab": {
          "base_uri": "https://localhost:8080/"
        },
        "id": "ljLvx6xzrN8_",
        "outputId": "69eacd44-eb8b-4968-ca4a-434ee18fce53"
      },
      "source": [
        "hist = model.fit(x_train, y_train, epochs=500, validation_split=0.3)"
      ],
      "execution_count": 74,
      "outputs": [
        {
          "output_type": "stream",
          "text": [
            "Epoch 1/500\n",
            "9/9 [==============================] - 0s 9ms/step - loss: 0.0813 - mae: 0.1847 - val_loss: 19.5107 - val_mae: 2.8429\n",
            "Epoch 2/500\n",
            "9/9 [==============================] - 0s 7ms/step - loss: 0.0958 - mae: 0.2163 - val_loss: 19.1580 - val_mae: 2.8163\n",
            "Epoch 3/500\n",
            "9/9 [==============================] - 0s 6ms/step - loss: 0.1083 - mae: 0.2372 - val_loss: 19.5714 - val_mae: 2.8615\n",
            "Epoch 4/500\n",
            "9/9 [==============================] - 0s 6ms/step - loss: 0.1503 - mae: 0.2935 - val_loss: 18.7725 - val_mae: 2.7958\n",
            "Epoch 5/500\n",
            "9/9 [==============================] - 0s 6ms/step - loss: 0.1700 - mae: 0.2960 - val_loss: 19.5500 - val_mae: 2.8563\n",
            "Epoch 6/500\n",
            "9/9 [==============================] - 0s 6ms/step - loss: 0.2188 - mae: 0.3593 - val_loss: 19.0874 - val_mae: 2.8334\n",
            "Epoch 7/500\n",
            "9/9 [==============================] - 0s 8ms/step - loss: 0.1227 - mae: 0.2683 - val_loss: 19.6912 - val_mae: 2.8573\n",
            "Epoch 8/500\n",
            "9/9 [==============================] - 0s 6ms/step - loss: 0.1220 - mae: 0.2615 - val_loss: 19.1126 - val_mae: 2.7982\n",
            "Epoch 9/500\n",
            "9/9 [==============================] - 0s 7ms/step - loss: 0.1220 - mae: 0.2564 - val_loss: 19.6153 - val_mae: 2.8735\n",
            "Epoch 10/500\n",
            "9/9 [==============================] - 0s 6ms/step - loss: 0.1584 - mae: 0.2824 - val_loss: 19.2073 - val_mae: 2.8117\n",
            "Epoch 11/500\n",
            "9/9 [==============================] - 0s 5ms/step - loss: 0.1060 - mae: 0.2398 - val_loss: 19.6595 - val_mae: 2.8648\n",
            "Epoch 12/500\n",
            "9/9 [==============================] - 0s 8ms/step - loss: 0.0931 - mae: 0.2256 - val_loss: 19.4164 - val_mae: 2.8542\n",
            "Epoch 13/500\n",
            "9/9 [==============================] - 0s 6ms/step - loss: 0.1079 - mae: 0.2534 - val_loss: 19.4151 - val_mae: 2.8330\n",
            "Epoch 14/500\n",
            "9/9 [==============================] - 0s 7ms/step - loss: 0.1189 - mae: 0.2338 - val_loss: 19.5134 - val_mae: 2.8317\n",
            "Epoch 15/500\n",
            "9/9 [==============================] - 0s 7ms/step - loss: 0.1616 - mae: 0.2885 - val_loss: 19.2267 - val_mae: 2.8578\n",
            "Epoch 16/500\n",
            "9/9 [==============================] - 0s 6ms/step - loss: 0.2028 - mae: 0.3366 - val_loss: 19.1673 - val_mae: 2.8616\n",
            "Epoch 17/500\n",
            "9/9 [==============================] - 0s 6ms/step - loss: 0.2120 - mae: 0.3445 - val_loss: 19.2174 - val_mae: 2.8421\n",
            "Epoch 18/500\n",
            "9/9 [==============================] - 0s 6ms/step - loss: 0.1901 - mae: 0.3304 - val_loss: 19.1069 - val_mae: 2.8133\n",
            "Epoch 19/500\n",
            "9/9 [==============================] - 0s 7ms/step - loss: 0.1093 - mae: 0.2529 - val_loss: 19.4909 - val_mae: 2.8589\n",
            "Epoch 20/500\n",
            "9/9 [==============================] - 0s 7ms/step - loss: 0.1777 - mae: 0.3095 - val_loss: 19.1874 - val_mae: 2.8259\n",
            "Epoch 21/500\n",
            "9/9 [==============================] - 0s 7ms/step - loss: 0.1303 - mae: 0.2617 - val_loss: 19.0715 - val_mae: 2.8145\n",
            "Epoch 22/500\n",
            "9/9 [==============================] - 0s 7ms/step - loss: 0.0771 - mae: 0.1969 - val_loss: 19.3099 - val_mae: 2.8335\n",
            "Epoch 23/500\n",
            "9/9 [==============================] - 0s 5ms/step - loss: 0.0961 - mae: 0.2249 - val_loss: 19.3305 - val_mae: 2.8302\n",
            "Epoch 24/500\n",
            "9/9 [==============================] - 0s 6ms/step - loss: 0.0827 - mae: 0.1990 - val_loss: 19.2852 - val_mae: 2.8383\n",
            "Epoch 25/500\n",
            "9/9 [==============================] - 0s 5ms/step - loss: 0.1182 - mae: 0.2610 - val_loss: 19.3383 - val_mae: 2.8661\n",
            "Epoch 26/500\n",
            "9/9 [==============================] - 0s 5ms/step - loss: 0.0984 - mae: 0.2365 - val_loss: 19.3851 - val_mae: 2.8340\n",
            "Epoch 27/500\n",
            "9/9 [==============================] - 0s 6ms/step - loss: 0.0711 - mae: 0.1897 - val_loss: 19.2593 - val_mae: 2.8288\n",
            "Epoch 28/500\n",
            "9/9 [==============================] - 0s 5ms/step - loss: 0.1242 - mae: 0.2614 - val_loss: 19.4457 - val_mae: 2.8615\n",
            "Epoch 29/500\n",
            "9/9 [==============================] - 0s 6ms/step - loss: 0.1740 - mae: 0.3121 - val_loss: 19.1545 - val_mae: 2.8076\n",
            "Epoch 30/500\n",
            "9/9 [==============================] - 0s 7ms/step - loss: 0.1157 - mae: 0.2596 - val_loss: 19.1059 - val_mae: 2.8253\n",
            "Epoch 31/500\n",
            "9/9 [==============================] - 0s 6ms/step - loss: 0.1279 - mae: 0.2585 - val_loss: 19.1676 - val_mae: 2.8268\n",
            "Epoch 32/500\n",
            "9/9 [==============================] - 0s 6ms/step - loss: 0.1767 - mae: 0.3159 - val_loss: 18.9743 - val_mae: 2.8339\n",
            "Epoch 33/500\n",
            "9/9 [==============================] - 0s 8ms/step - loss: 0.1379 - mae: 0.3013 - val_loss: 19.4205 - val_mae: 2.8507\n",
            "Epoch 34/500\n",
            "9/9 [==============================] - 0s 6ms/step - loss: 0.1213 - mae: 0.2463 - val_loss: 19.3630 - val_mae: 2.8282\n",
            "Epoch 35/500\n",
            "9/9 [==============================] - 0s 7ms/step - loss: 0.1232 - mae: 0.2720 - val_loss: 19.9988 - val_mae: 2.9014\n",
            "Epoch 36/500\n",
            "9/9 [==============================] - 0s 7ms/step - loss: 0.1200 - mae: 0.2457 - val_loss: 19.1222 - val_mae: 2.8154\n",
            "Epoch 37/500\n",
            "9/9 [==============================] - 0s 5ms/step - loss: 0.1157 - mae: 0.2477 - val_loss: 19.3431 - val_mae: 2.8522\n",
            "Epoch 38/500\n",
            "9/9 [==============================] - 0s 9ms/step - loss: 0.1123 - mae: 0.2424 - val_loss: 19.1858 - val_mae: 2.8148\n",
            "Epoch 39/500\n",
            "9/9 [==============================] - 0s 6ms/step - loss: 0.1339 - mae: 0.2622 - val_loss: 19.3145 - val_mae: 2.8549\n",
            "Epoch 40/500\n",
            "9/9 [==============================] - 0s 8ms/step - loss: 0.1634 - mae: 0.2964 - val_loss: 19.1764 - val_mae: 2.8266\n",
            "Epoch 41/500\n",
            "9/9 [==============================] - 0s 7ms/step - loss: 0.2051 - mae: 0.3112 - val_loss: 19.4972 - val_mae: 2.8865\n",
            "Epoch 42/500\n",
            "9/9 [==============================] - 0s 6ms/step - loss: 0.4808 - mae: 0.5535 - val_loss: 20.0481 - val_mae: 2.9419\n",
            "Epoch 43/500\n",
            "9/9 [==============================] - 0s 8ms/step - loss: 0.5547 - mae: 0.5592 - val_loss: 19.5726 - val_mae: 2.8705\n",
            "Epoch 44/500\n",
            "9/9 [==============================] - 0s 5ms/step - loss: 0.6863 - mae: 0.6219 - val_loss: 19.4604 - val_mae: 2.8167\n",
            "Epoch 45/500\n",
            "9/9 [==============================] - 0s 5ms/step - loss: 0.6658 - mae: 0.6314 - val_loss: 18.7255 - val_mae: 2.8242\n",
            "Epoch 46/500\n",
            "9/9 [==============================] - 0s 8ms/step - loss: 0.5234 - mae: 0.5782 - val_loss: 19.6512 - val_mae: 2.9196\n",
            "Epoch 47/500\n",
            "9/9 [==============================] - 0s 5ms/step - loss: 0.2656 - mae: 0.3885 - val_loss: 19.1512 - val_mae: 2.8346\n",
            "Epoch 48/500\n",
            "9/9 [==============================] - 0s 6ms/step - loss: 0.2741 - mae: 0.3997 - val_loss: 18.8762 - val_mae: 2.8153\n",
            "Epoch 49/500\n",
            "9/9 [==============================] - 0s 7ms/step - loss: 0.3330 - mae: 0.4614 - val_loss: 19.8791 - val_mae: 2.8637\n",
            "Epoch 50/500\n",
            "9/9 [==============================] - 0s 6ms/step - loss: 0.3048 - mae: 0.4314 - val_loss: 18.2712 - val_mae: 2.7485\n",
            "Epoch 51/500\n",
            "9/9 [==============================] - 0s 8ms/step - loss: 0.2073 - mae: 0.3173 - val_loss: 19.3875 - val_mae: 2.8340\n",
            "Epoch 52/500\n",
            "9/9 [==============================] - 0s 8ms/step - loss: 0.2081 - mae: 0.3291 - val_loss: 18.8234 - val_mae: 2.8139\n",
            "Epoch 53/500\n",
            "9/9 [==============================] - 0s 6ms/step - loss: 0.1540 - mae: 0.2795 - val_loss: 18.9693 - val_mae: 2.8206\n",
            "Epoch 54/500\n",
            "9/9 [==============================] - 0s 6ms/step - loss: 0.1559 - mae: 0.2820 - val_loss: 18.5583 - val_mae: 2.8281\n",
            "Epoch 55/500\n",
            "9/9 [==============================] - 0s 7ms/step - loss: 0.1472 - mae: 0.2680 - val_loss: 19.2060 - val_mae: 2.8286\n",
            "Epoch 56/500\n",
            "9/9 [==============================] - 0s 5ms/step - loss: 0.1787 - mae: 0.3302 - val_loss: 19.3209 - val_mae: 2.8821\n",
            "Epoch 57/500\n",
            "9/9 [==============================] - 0s 6ms/step - loss: 0.3007 - mae: 0.4333 - val_loss: 19.1058 - val_mae: 2.8441\n",
            "Epoch 58/500\n",
            "9/9 [==============================] - 0s 7ms/step - loss: 0.2484 - mae: 0.3845 - val_loss: 19.1380 - val_mae: 2.8395\n",
            "Epoch 59/500\n",
            "9/9 [==============================] - 0s 7ms/step - loss: 0.1943 - mae: 0.3301 - val_loss: 18.8949 - val_mae: 2.8179\n",
            "Epoch 60/500\n",
            "9/9 [==============================] - 0s 6ms/step - loss: 0.1495 - mae: 0.2957 - val_loss: 19.9725 - val_mae: 2.9105\n",
            "Epoch 61/500\n",
            "9/9 [==============================] - 0s 8ms/step - loss: 0.3240 - mae: 0.4375 - val_loss: 18.8282 - val_mae: 2.8443\n",
            "Epoch 62/500\n",
            "9/9 [==============================] - 0s 8ms/step - loss: 0.4000 - mae: 0.4548 - val_loss: 19.5229 - val_mae: 2.8674\n",
            "Epoch 63/500\n",
            "9/9 [==============================] - 0s 9ms/step - loss: 0.2106 - mae: 0.3364 - val_loss: 18.7262 - val_mae: 2.8296\n",
            "Epoch 64/500\n",
            "9/9 [==============================] - 0s 7ms/step - loss: 0.2090 - mae: 0.3463 - val_loss: 19.4724 - val_mae: 2.8815\n",
            "Epoch 65/500\n",
            "9/9 [==============================] - 0s 9ms/step - loss: 0.1627 - mae: 0.3123 - val_loss: 19.0430 - val_mae: 2.8210\n",
            "Epoch 66/500\n",
            "9/9 [==============================] - 0s 5ms/step - loss: 0.1930 - mae: 0.3374 - val_loss: 19.6696 - val_mae: 2.8490\n",
            "Epoch 67/500\n",
            "9/9 [==============================] - 0s 7ms/step - loss: 0.2385 - mae: 0.3730 - val_loss: 18.8514 - val_mae: 2.7899\n",
            "Epoch 68/500\n",
            "9/9 [==============================] - 0s 8ms/step - loss: 0.1733 - mae: 0.3138 - val_loss: 19.5287 - val_mae: 2.8556\n",
            "Epoch 69/500\n",
            "9/9 [==============================] - 0s 7ms/step - loss: 0.1090 - mae: 0.2394 - val_loss: 18.9506 - val_mae: 2.8134\n",
            "Epoch 70/500\n",
            "9/9 [==============================] - 0s 6ms/step - loss: 0.0801 - mae: 0.2002 - val_loss: 19.0277 - val_mae: 2.8213\n",
            "Epoch 71/500\n",
            "9/9 [==============================] - 0s 8ms/step - loss: 0.0684 - mae: 0.1791 - val_loss: 19.1188 - val_mae: 2.8213\n",
            "Epoch 72/500\n",
            "9/9 [==============================] - 0s 7ms/step - loss: 0.0598 - mae: 0.1725 - val_loss: 19.0608 - val_mae: 2.8286\n",
            "Epoch 73/500\n",
            "9/9 [==============================] - 0s 9ms/step - loss: 0.0620 - mae: 0.1600 - val_loss: 19.2722 - val_mae: 2.8269\n",
            "Epoch 74/500\n",
            "9/9 [==============================] - 0s 7ms/step - loss: 0.0527 - mae: 0.1669 - val_loss: 18.9817 - val_mae: 2.8155\n",
            "Epoch 75/500\n",
            "9/9 [==============================] - 0s 7ms/step - loss: 0.0582 - mae: 0.1727 - val_loss: 19.2654 - val_mae: 2.8300\n",
            "Epoch 76/500\n",
            "9/9 [==============================] - 0s 7ms/step - loss: 0.0760 - mae: 0.2026 - val_loss: 18.9892 - val_mae: 2.8191\n",
            "Epoch 77/500\n",
            "9/9 [==============================] - 0s 8ms/step - loss: 0.0949 - mae: 0.2230 - val_loss: 19.2722 - val_mae: 2.8540\n",
            "Epoch 78/500\n",
            "9/9 [==============================] - 0s 8ms/step - loss: 0.1353 - mae: 0.2693 - val_loss: 19.3186 - val_mae: 2.8816\n",
            "Epoch 79/500\n",
            "9/9 [==============================] - 0s 6ms/step - loss: 0.1820 - mae: 0.3303 - val_loss: 19.3550 - val_mae: 2.9106\n",
            "Epoch 80/500\n",
            "9/9 [==============================] - 0s 6ms/step - loss: 0.1995 - mae: 0.3293 - val_loss: 18.8834 - val_mae: 2.8018\n",
            "Epoch 81/500\n",
            "9/9 [==============================] - 0s 7ms/step - loss: 0.1395 - mae: 0.2718 - val_loss: 18.9503 - val_mae: 2.8116\n",
            "Epoch 82/500\n",
            "9/9 [==============================] - 0s 8ms/step - loss: 0.0945 - mae: 0.2133 - val_loss: 19.3098 - val_mae: 2.8393\n",
            "Epoch 83/500\n",
            "9/9 [==============================] - 0s 6ms/step - loss: 0.0812 - mae: 0.2126 - val_loss: 18.8356 - val_mae: 2.8152\n",
            "Epoch 84/500\n",
            "9/9 [==============================] - 0s 7ms/step - loss: 0.0615 - mae: 0.1803 - val_loss: 19.1837 - val_mae: 2.8336\n",
            "Epoch 85/500\n",
            "9/9 [==============================] - 0s 7ms/step - loss: 0.0576 - mae: 0.1648 - val_loss: 18.9051 - val_mae: 2.8138\n",
            "Epoch 86/500\n",
            "9/9 [==============================] - 0s 6ms/step - loss: 0.1754 - mae: 0.3245 - val_loss: 19.2166 - val_mae: 2.8537\n",
            "Epoch 87/500\n",
            "9/9 [==============================] - 0s 8ms/step - loss: 0.1398 - mae: 0.2740 - val_loss: 18.6889 - val_mae: 2.8208\n",
            "Epoch 88/500\n",
            "9/9 [==============================] - 0s 5ms/step - loss: 0.1235 - mae: 0.2654 - val_loss: 19.6257 - val_mae: 2.8876\n",
            "Epoch 89/500\n",
            "9/9 [==============================] - 0s 9ms/step - loss: 0.0929 - mae: 0.2159 - val_loss: 19.0714 - val_mae: 2.8507\n",
            "Epoch 90/500\n",
            "9/9 [==============================] - 0s 7ms/step - loss: 0.0902 - mae: 0.1995 - val_loss: 19.2087 - val_mae: 2.8592\n",
            "Epoch 91/500\n",
            "9/9 [==============================] - 0s 7ms/step - loss: 0.0961 - mae: 0.2250 - val_loss: 18.9693 - val_mae: 2.8125\n",
            "Epoch 92/500\n",
            "9/9 [==============================] - 0s 8ms/step - loss: 0.0724 - mae: 0.1996 - val_loss: 19.4434 - val_mae: 2.8804\n",
            "Epoch 93/500\n",
            "9/9 [==============================] - 0s 6ms/step - loss: 0.0794 - mae: 0.2046 - val_loss: 19.2684 - val_mae: 2.8341\n",
            "Epoch 94/500\n",
            "9/9 [==============================] - 0s 7ms/step - loss: 0.0655 - mae: 0.1754 - val_loss: 19.3817 - val_mae: 2.8794\n",
            "Epoch 95/500\n",
            "9/9 [==============================] - 0s 6ms/step - loss: 0.0766 - mae: 0.1922 - val_loss: 18.9063 - val_mae: 2.8111\n",
            "Epoch 96/500\n",
            "9/9 [==============================] - 0s 6ms/step - loss: 0.0864 - mae: 0.1827 - val_loss: 18.9161 - val_mae: 2.8201\n",
            "Epoch 97/500\n",
            "9/9 [==============================] - 0s 8ms/step - loss: 0.0689 - mae: 0.1610 - val_loss: 19.4105 - val_mae: 2.8821\n",
            "Epoch 98/500\n",
            "9/9 [==============================] - 0s 6ms/step - loss: 0.0943 - mae: 0.2199 - val_loss: 18.9081 - val_mae: 2.8304\n",
            "Epoch 99/500\n",
            "9/9 [==============================] - 0s 7ms/step - loss: 0.1155 - mae: 0.2444 - val_loss: 19.5783 - val_mae: 2.8875\n",
            "Epoch 100/500\n",
            "9/9 [==============================] - 0s 6ms/step - loss: 0.0898 - mae: 0.2107 - val_loss: 19.2468 - val_mae: 2.8490\n",
            "Epoch 101/500\n",
            "9/9 [==============================] - 0s 8ms/step - loss: 0.0695 - mae: 0.1839 - val_loss: 19.2743 - val_mae: 2.8355\n",
            "Epoch 102/500\n",
            "9/9 [==============================] - 0s 6ms/step - loss: 0.0943 - mae: 0.2276 - val_loss: 19.2373 - val_mae: 2.8479\n",
            "Epoch 103/500\n",
            "9/9 [==============================] - 0s 7ms/step - loss: 0.1142 - mae: 0.2405 - val_loss: 19.3039 - val_mae: 2.8601\n",
            "Epoch 104/500\n",
            "9/9 [==============================] - 0s 6ms/step - loss: 0.0890 - mae: 0.2134 - val_loss: 19.3347 - val_mae: 2.8667\n",
            "Epoch 105/500\n",
            "9/9 [==============================] - 0s 6ms/step - loss: 0.0850 - mae: 0.2072 - val_loss: 19.1138 - val_mae: 2.8576\n",
            "Epoch 106/500\n",
            "9/9 [==============================] - 0s 7ms/step - loss: 0.1059 - mae: 0.2351 - val_loss: 19.5784 - val_mae: 2.8894\n",
            "Epoch 107/500\n",
            "9/9 [==============================] - 0s 6ms/step - loss: 0.1550 - mae: 0.3042 - val_loss: 18.7047 - val_mae: 2.8478\n",
            "Epoch 108/500\n",
            "9/9 [==============================] - 0s 9ms/step - loss: 0.2175 - mae: 0.3639 - val_loss: 19.6319 - val_mae: 2.9019\n",
            "Epoch 109/500\n",
            "9/9 [==============================] - 0s 6ms/step - loss: 0.1954 - mae: 0.3347 - val_loss: 18.7292 - val_mae: 2.8281\n",
            "Epoch 110/500\n",
            "9/9 [==============================] - 0s 6ms/step - loss: 0.2766 - mae: 0.4114 - val_loss: 19.9193 - val_mae: 2.8891\n",
            "Epoch 111/500\n",
            "9/9 [==============================] - 0s 6ms/step - loss: 0.4078 - mae: 0.5224 - val_loss: 19.9066 - val_mae: 2.9506\n",
            "Epoch 112/500\n",
            "9/9 [==============================] - 0s 6ms/step - loss: 0.3286 - mae: 0.4526 - val_loss: 19.0489 - val_mae: 2.8323\n",
            "Epoch 113/500\n",
            "9/9 [==============================] - 0s 6ms/step - loss: 0.2808 - mae: 0.3984 - val_loss: 19.0968 - val_mae: 2.8688\n",
            "Epoch 114/500\n",
            "9/9 [==============================] - 0s 8ms/step - loss: 0.2752 - mae: 0.4041 - val_loss: 19.3195 - val_mae: 2.8606\n",
            "Epoch 115/500\n",
            "9/9 [==============================] - 0s 7ms/step - loss: 0.2407 - mae: 0.3798 - val_loss: 18.4351 - val_mae: 2.7800\n",
            "Epoch 116/500\n",
            "9/9 [==============================] - 0s 6ms/step - loss: 0.3077 - mae: 0.4094 - val_loss: 19.7097 - val_mae: 2.9024\n",
            "Epoch 117/500\n",
            "9/9 [==============================] - 0s 8ms/step - loss: 0.2482 - mae: 0.3612 - val_loss: 18.8325 - val_mae: 2.8217\n",
            "Epoch 118/500\n",
            "9/9 [==============================] - 0s 6ms/step - loss: 0.2362 - mae: 0.3567 - val_loss: 18.6707 - val_mae: 2.7977\n",
            "Epoch 119/500\n",
            "9/9 [==============================] - 0s 6ms/step - loss: 0.3303 - mae: 0.4332 - val_loss: 19.1109 - val_mae: 2.8650\n",
            "Epoch 120/500\n",
            "9/9 [==============================] - 0s 6ms/step - loss: 0.3255 - mae: 0.4291 - val_loss: 18.8952 - val_mae: 2.8569\n",
            "Epoch 121/500\n",
            "9/9 [==============================] - 0s 8ms/step - loss: 0.3198 - mae: 0.4337 - val_loss: 19.3761 - val_mae: 2.9254\n",
            "Epoch 122/500\n",
            "9/9 [==============================] - 0s 7ms/step - loss: 0.4606 - mae: 0.5380 - val_loss: 19.7074 - val_mae: 2.9466\n",
            "Epoch 123/500\n",
            "9/9 [==============================] - 0s 7ms/step - loss: 0.7220 - mae: 0.6788 - val_loss: 20.3416 - val_mae: 2.9295\n",
            "Epoch 124/500\n",
            "9/9 [==============================] - 0s 6ms/step - loss: 0.4767 - mae: 0.5043 - val_loss: 18.6065 - val_mae: 2.7735\n",
            "Epoch 125/500\n",
            "9/9 [==============================] - 0s 8ms/step - loss: 0.3896 - mae: 0.4793 - val_loss: 19.6660 - val_mae: 2.9421\n",
            "Epoch 126/500\n",
            "9/9 [==============================] - 0s 6ms/step - loss: 0.3446 - mae: 0.4614 - val_loss: 18.9638 - val_mae: 2.8696\n",
            "Epoch 127/500\n",
            "9/9 [==============================] - 0s 5ms/step - loss: 0.2825 - mae: 0.4134 - val_loss: 18.8782 - val_mae: 2.8191\n",
            "Epoch 128/500\n",
            "9/9 [==============================] - 0s 9ms/step - loss: 0.2203 - mae: 0.3602 - val_loss: 18.4105 - val_mae: 2.7331\n",
            "Epoch 129/500\n",
            "9/9 [==============================] - 0s 9ms/step - loss: 0.2152 - mae: 0.3453 - val_loss: 19.3559 - val_mae: 2.8931\n",
            "Epoch 130/500\n",
            "9/9 [==============================] - 0s 9ms/step - loss: 0.2142 - mae: 0.3439 - val_loss: 19.3133 - val_mae: 2.7925\n",
            "Epoch 131/500\n",
            "9/9 [==============================] - 0s 7ms/step - loss: 0.2156 - mae: 0.3635 - val_loss: 19.3919 - val_mae: 2.8491\n",
            "Epoch 132/500\n",
            "9/9 [==============================] - 0s 9ms/step - loss: 0.2322 - mae: 0.3659 - val_loss: 19.3074 - val_mae: 2.8382\n",
            "Epoch 133/500\n",
            "9/9 [==============================] - 0s 7ms/step - loss: 0.3191 - mae: 0.4489 - val_loss: 19.2048 - val_mae: 2.8589\n",
            "Epoch 134/500\n",
            "9/9 [==============================] - 0s 7ms/step - loss: 0.1699 - mae: 0.3235 - val_loss: 18.8375 - val_mae: 2.7770\n",
            "Epoch 135/500\n",
            "9/9 [==============================] - 0s 6ms/step - loss: 0.2537 - mae: 0.3994 - val_loss: 19.3308 - val_mae: 2.8859\n",
            "Epoch 136/500\n",
            "9/9 [==============================] - 0s 6ms/step - loss: 0.3129 - mae: 0.4291 - val_loss: 19.0073 - val_mae: 2.7956\n",
            "Epoch 137/500\n",
            "9/9 [==============================] - 0s 6ms/step - loss: 0.3391 - mae: 0.4426 - val_loss: 18.2264 - val_mae: 2.7676\n",
            "Epoch 138/500\n",
            "9/9 [==============================] - 0s 9ms/step - loss: 0.3258 - mae: 0.4270 - val_loss: 21.0597 - val_mae: 3.0306\n",
            "Epoch 139/500\n",
            "9/9 [==============================] - 0s 8ms/step - loss: 0.4340 - mae: 0.5164 - val_loss: 18.3588 - val_mae: 2.8613\n",
            "Epoch 140/500\n",
            "9/9 [==============================] - 0s 6ms/step - loss: 0.3421 - mae: 0.4494 - val_loss: 19.4808 - val_mae: 2.8473\n",
            "Epoch 141/500\n",
            "9/9 [==============================] - 0s 7ms/step - loss: 0.4077 - mae: 0.4957 - val_loss: 18.7861 - val_mae: 2.8761\n",
            "Epoch 142/500\n",
            "9/9 [==============================] - 0s 6ms/step - loss: 0.4654 - mae: 0.5312 - val_loss: 19.4306 - val_mae: 2.8609\n",
            "Epoch 143/500\n",
            "9/9 [==============================] - 0s 8ms/step - loss: 0.4182 - mae: 0.4941 - val_loss: 18.0530 - val_mae: 2.7085\n",
            "Epoch 144/500\n",
            "9/9 [==============================] - 0s 7ms/step - loss: 0.3141 - mae: 0.4289 - val_loss: 19.6386 - val_mae: 2.8365\n",
            "Epoch 145/500\n",
            "9/9 [==============================] - 0s 7ms/step - loss: 0.2711 - mae: 0.4012 - val_loss: 18.2206 - val_mae: 2.7531\n",
            "Epoch 146/500\n",
            "9/9 [==============================] - 0s 6ms/step - loss: 0.2632 - mae: 0.3977 - val_loss: 18.7163 - val_mae: 2.8358\n",
            "Epoch 147/500\n",
            "9/9 [==============================] - 0s 5ms/step - loss: 0.2103 - mae: 0.3480 - val_loss: 18.8849 - val_mae: 2.8253\n",
            "Epoch 148/500\n",
            "9/9 [==============================] - 0s 8ms/step - loss: 0.1904 - mae: 0.3300 - val_loss: 18.9271 - val_mae: 2.8021\n",
            "Epoch 149/500\n",
            "9/9 [==============================] - 0s 6ms/step - loss: 0.2005 - mae: 0.3495 - val_loss: 18.4983 - val_mae: 2.8115\n",
            "Epoch 150/500\n",
            "9/9 [==============================] - 0s 8ms/step - loss: 0.1436 - mae: 0.2973 - val_loss: 19.0630 - val_mae: 2.8465\n",
            "Epoch 151/500\n",
            "9/9 [==============================] - 0s 6ms/step - loss: 0.1287 - mae: 0.2851 - val_loss: 18.5710 - val_mae: 2.7745\n",
            "Epoch 152/500\n",
            "9/9 [==============================] - 0s 6ms/step - loss: 0.1086 - mae: 0.2412 - val_loss: 18.7454 - val_mae: 2.7992\n",
            "Epoch 153/500\n",
            "9/9 [==============================] - 0s 6ms/step - loss: 0.1217 - mae: 0.2550 - val_loss: 18.8397 - val_mae: 2.7965\n",
            "Epoch 154/500\n",
            "9/9 [==============================] - 0s 7ms/step - loss: 0.1211 - mae: 0.2643 - val_loss: 18.9505 - val_mae: 2.8222\n",
            "Epoch 155/500\n",
            "9/9 [==============================] - 0s 6ms/step - loss: 0.0916 - mae: 0.2122 - val_loss: 19.0394 - val_mae: 2.8370\n",
            "Epoch 156/500\n",
            "9/9 [==============================] - 0s 6ms/step - loss: 0.0609 - mae: 0.1734 - val_loss: 18.9035 - val_mae: 2.8177\n",
            "Epoch 157/500\n",
            "9/9 [==============================] - 0s 6ms/step - loss: 0.0453 - mae: 0.1328 - val_loss: 18.8875 - val_mae: 2.8246\n",
            "Epoch 158/500\n",
            "9/9 [==============================] - 0s 8ms/step - loss: 0.0655 - mae: 0.1764 - val_loss: 19.0380 - val_mae: 2.8352\n",
            "Epoch 159/500\n",
            "9/9 [==============================] - 0s 7ms/step - loss: 0.1373 - mae: 0.2766 - val_loss: 18.9832 - val_mae: 2.8249\n",
            "Epoch 160/500\n",
            "9/9 [==============================] - 0s 8ms/step - loss: 0.1074 - mae: 0.2445 - val_loss: 19.0279 - val_mae: 2.8362\n",
            "Epoch 161/500\n",
            "9/9 [==============================] - 0s 6ms/step - loss: 0.1353 - mae: 0.2752 - val_loss: 19.0522 - val_mae: 2.8452\n",
            "Epoch 162/500\n",
            "9/9 [==============================] - 0s 6ms/step - loss: 0.1337 - mae: 0.2633 - val_loss: 18.6371 - val_mae: 2.8180\n",
            "Epoch 163/500\n",
            "9/9 [==============================] - 0s 7ms/step - loss: 0.1694 - mae: 0.3160 - val_loss: 19.6740 - val_mae: 2.8956\n",
            "Epoch 164/500\n",
            "9/9 [==============================] - 0s 7ms/step - loss: 0.1490 - mae: 0.2718 - val_loss: 18.2068 - val_mae: 2.7451\n",
            "Epoch 165/500\n",
            "9/9 [==============================] - 0s 6ms/step - loss: 0.0735 - mae: 0.2008 - val_loss: 19.4884 - val_mae: 2.8608\n",
            "Epoch 166/500\n",
            "9/9 [==============================] - 0s 8ms/step - loss: 0.0584 - mae: 0.1779 - val_loss: 18.8483 - val_mae: 2.8010\n",
            "Epoch 167/500\n",
            "9/9 [==============================] - 0s 6ms/step - loss: 0.0594 - mae: 0.1630 - val_loss: 19.2066 - val_mae: 2.8395\n",
            "Epoch 168/500\n",
            "9/9 [==============================] - 0s 6ms/step - loss: 0.1068 - mae: 0.2412 - val_loss: 19.0798 - val_mae: 2.8553\n",
            "Epoch 169/500\n",
            "9/9 [==============================] - 0s 7ms/step - loss: 0.1218 - mae: 0.2631 - val_loss: 18.8850 - val_mae: 2.8068\n",
            "Epoch 170/500\n",
            "9/9 [==============================] - 0s 7ms/step - loss: 0.1431 - mae: 0.2866 - val_loss: 19.2838 - val_mae: 2.8619\n",
            "Epoch 171/500\n",
            "9/9 [==============================] - 0s 8ms/step - loss: 0.1284 - mae: 0.2476 - val_loss: 18.8188 - val_mae: 2.8031\n",
            "Epoch 172/500\n",
            "9/9 [==============================] - 0s 6ms/step - loss: 0.1165 - mae: 0.2512 - val_loss: 19.0708 - val_mae: 2.8217\n",
            "Epoch 173/500\n",
            "9/9 [==============================] - 0s 6ms/step - loss: 0.1087 - mae: 0.2405 - val_loss: 19.0085 - val_mae: 2.8425\n",
            "Epoch 174/500\n",
            "9/9 [==============================] - 0s 8ms/step - loss: 0.1187 - mae: 0.2513 - val_loss: 19.0532 - val_mae: 2.8516\n",
            "Epoch 175/500\n",
            "9/9 [==============================] - 0s 8ms/step - loss: 0.1074 - mae: 0.2395 - val_loss: 18.8127 - val_mae: 2.8129\n",
            "Epoch 176/500\n",
            "9/9 [==============================] - 0s 5ms/step - loss: 0.1286 - mae: 0.2458 - val_loss: 18.9189 - val_mae: 2.7922\n",
            "Epoch 177/500\n",
            "9/9 [==============================] - 0s 9ms/step - loss: 0.1677 - mae: 0.2899 - val_loss: 19.4419 - val_mae: 2.8725\n",
            "Epoch 178/500\n",
            "9/9 [==============================] - 0s 7ms/step - loss: 0.1542 - mae: 0.2938 - val_loss: 18.5491 - val_mae: 2.7740\n",
            "Epoch 179/500\n",
            "9/9 [==============================] - 0s 7ms/step - loss: 0.1862 - mae: 0.3126 - val_loss: 19.4025 - val_mae: 2.8447\n",
            "Epoch 180/500\n",
            "9/9 [==============================] - 0s 7ms/step - loss: 0.1420 - mae: 0.2820 - val_loss: 18.9332 - val_mae: 2.8017\n",
            "Epoch 181/500\n",
            "9/9 [==============================] - 0s 6ms/step - loss: 0.1744 - mae: 0.2879 - val_loss: 19.0923 - val_mae: 2.8703\n",
            "Epoch 182/500\n",
            "9/9 [==============================] - 0s 6ms/step - loss: 0.1905 - mae: 0.3311 - val_loss: 18.4597 - val_mae: 2.7870\n",
            "Epoch 183/500\n",
            "9/9 [==============================] - 0s 6ms/step - loss: 0.1305 - mae: 0.2786 - val_loss: 18.9662 - val_mae: 2.8230\n",
            "Epoch 184/500\n",
            "9/9 [==============================] - 0s 8ms/step - loss: 0.1857 - mae: 0.3373 - val_loss: 18.7103 - val_mae: 2.8121\n",
            "Epoch 185/500\n",
            "9/9 [==============================] - 0s 7ms/step - loss: 0.2756 - mae: 0.4047 - val_loss: 19.0988 - val_mae: 2.8617\n",
            "Epoch 186/500\n",
            "9/9 [==============================] - 0s 5ms/step - loss: 0.4862 - mae: 0.5478 - val_loss: 19.5030 - val_mae: 2.9233\n",
            "Epoch 187/500\n",
            "9/9 [==============================] - 0s 7ms/step - loss: 0.3829 - mae: 0.5080 - val_loss: 19.3914 - val_mae: 2.8922\n",
            "Epoch 188/500\n",
            "9/9 [==============================] - 0s 5ms/step - loss: 0.3048 - mae: 0.4234 - val_loss: 19.3371 - val_mae: 2.8548\n",
            "Epoch 189/500\n",
            "9/9 [==============================] - 0s 6ms/step - loss: 0.2766 - mae: 0.4206 - val_loss: 19.4367 - val_mae: 2.8940\n",
            "Epoch 190/500\n",
            "9/9 [==============================] - 0s 7ms/step - loss: 0.2489 - mae: 0.3853 - val_loss: 18.7417 - val_mae: 2.8488\n",
            "Epoch 191/500\n",
            "9/9 [==============================] - 0s 5ms/step - loss: 0.1787 - mae: 0.3238 - val_loss: 18.8527 - val_mae: 2.8251\n",
            "Epoch 192/500\n",
            "9/9 [==============================] - 0s 6ms/step - loss: 0.1562 - mae: 0.2868 - val_loss: 19.1308 - val_mae: 2.8485\n",
            "Epoch 193/500\n",
            "9/9 [==============================] - 0s 8ms/step - loss: 0.1331 - mae: 0.2674 - val_loss: 18.1870 - val_mae: 2.7489\n",
            "Epoch 194/500\n",
            "9/9 [==============================] - 0s 6ms/step - loss: 0.1463 - mae: 0.2806 - val_loss: 18.7317 - val_mae: 2.8205\n",
            "Epoch 195/500\n",
            "9/9 [==============================] - 0s 7ms/step - loss: 0.1513 - mae: 0.2820 - val_loss: 18.6273 - val_mae: 2.7744\n",
            "Epoch 196/500\n",
            "9/9 [==============================] - 0s 6ms/step - loss: 0.1459 - mae: 0.2818 - val_loss: 19.1463 - val_mae: 2.8566\n",
            "Epoch 197/500\n",
            "9/9 [==============================] - 0s 8ms/step - loss: 0.1327 - mae: 0.2737 - val_loss: 18.6245 - val_mae: 2.8287\n",
            "Epoch 198/500\n",
            "9/9 [==============================] - 0s 8ms/step - loss: 0.1004 - mae: 0.2436 - val_loss: 18.9738 - val_mae: 2.8667\n",
            "Epoch 199/500\n",
            "9/9 [==============================] - 0s 6ms/step - loss: 0.0979 - mae: 0.2415 - val_loss: 18.6074 - val_mae: 2.8078\n",
            "Epoch 200/500\n",
            "9/9 [==============================] - 0s 6ms/step - loss: 0.0765 - mae: 0.2130 - val_loss: 18.7975 - val_mae: 2.8159\n",
            "Epoch 201/500\n",
            "9/9 [==============================] - 0s 6ms/step - loss: 0.0534 - mae: 0.1569 - val_loss: 18.5838 - val_mae: 2.7962\n",
            "Epoch 202/500\n",
            "9/9 [==============================] - 0s 6ms/step - loss: 0.0550 - mae: 0.1589 - val_loss: 18.7014 - val_mae: 2.8140\n",
            "Epoch 203/500\n",
            "9/9 [==============================] - 0s 6ms/step - loss: 0.0722 - mae: 0.1923 - val_loss: 19.1304 - val_mae: 2.8615\n",
            "Epoch 204/500\n",
            "9/9 [==============================] - 0s 7ms/step - loss: 0.0598 - mae: 0.1787 - val_loss: 18.7602 - val_mae: 2.8349\n",
            "Epoch 205/500\n",
            "9/9 [==============================] - 0s 8ms/step - loss: 0.0839 - mae: 0.2185 - val_loss: 18.9782 - val_mae: 2.8508\n",
            "Epoch 206/500\n",
            "9/9 [==============================] - 0s 6ms/step - loss: 0.0725 - mae: 0.1994 - val_loss: 18.6922 - val_mae: 2.8274\n",
            "Epoch 207/500\n",
            "9/9 [==============================] - 0s 7ms/step - loss: 0.0699 - mae: 0.1842 - val_loss: 19.0044 - val_mae: 2.8389\n",
            "Epoch 208/500\n",
            "9/9 [==============================] - 0s 6ms/step - loss: 0.0539 - mae: 0.1497 - val_loss: 18.6589 - val_mae: 2.7880\n",
            "Epoch 209/500\n",
            "9/9 [==============================] - 0s 9ms/step - loss: 0.0626 - mae: 0.1834 - val_loss: 18.8260 - val_mae: 2.8215\n",
            "Epoch 210/500\n",
            "9/9 [==============================] - 0s 6ms/step - loss: 0.0567 - mae: 0.1654 - val_loss: 18.7822 - val_mae: 2.8227\n",
            "Epoch 211/500\n",
            "9/9 [==============================] - 0s 6ms/step - loss: 0.0551 - mae: 0.1740 - val_loss: 18.7969 - val_mae: 2.8366\n",
            "Epoch 212/500\n",
            "9/9 [==============================] - 0s 6ms/step - loss: 0.0422 - mae: 0.1556 - val_loss: 18.9792 - val_mae: 2.8338\n",
            "Epoch 213/500\n",
            "9/9 [==============================] - 0s 6ms/step - loss: 0.0431 - mae: 0.1461 - val_loss: 18.7117 - val_mae: 2.8043\n",
            "Epoch 214/500\n",
            "9/9 [==============================] - 0s 6ms/step - loss: 0.0516 - mae: 0.1521 - val_loss: 18.9874 - val_mae: 2.8498\n",
            "Epoch 215/500\n",
            "9/9 [==============================] - 0s 6ms/step - loss: 0.0404 - mae: 0.1277 - val_loss: 18.8702 - val_mae: 2.8118\n",
            "Epoch 216/500\n",
            "9/9 [==============================] - 0s 7ms/step - loss: 0.0500 - mae: 0.1639 - val_loss: 18.8491 - val_mae: 2.8229\n",
            "Epoch 217/500\n",
            "9/9 [==============================] - 0s 9ms/step - loss: 0.0642 - mae: 0.1708 - val_loss: 18.5999 - val_mae: 2.8108\n",
            "Epoch 218/500\n",
            "9/9 [==============================] - 0s 6ms/step - loss: 0.0551 - mae: 0.1725 - val_loss: 19.0891 - val_mae: 2.8458\n",
            "Epoch 219/500\n",
            "9/9 [==============================] - 0s 8ms/step - loss: 0.0835 - mae: 0.2177 - val_loss: 18.6858 - val_mae: 2.8145\n",
            "Epoch 220/500\n",
            "9/9 [==============================] - 0s 6ms/step - loss: 0.0923 - mae: 0.2248 - val_loss: 19.1833 - val_mae: 2.8629\n",
            "Epoch 221/500\n",
            "9/9 [==============================] - 0s 9ms/step - loss: 0.0820 - mae: 0.2182 - val_loss: 18.8953 - val_mae: 2.8415\n",
            "Epoch 222/500\n",
            "9/9 [==============================] - 0s 9ms/step - loss: 0.0686 - mae: 0.1783 - val_loss: 18.6696 - val_mae: 2.8192\n",
            "Epoch 223/500\n",
            "9/9 [==============================] - 0s 7ms/step - loss: 0.0592 - mae: 0.1728 - val_loss: 19.0211 - val_mae: 2.8360\n",
            "Epoch 224/500\n",
            "9/9 [==============================] - 0s 6ms/step - loss: 0.0562 - mae: 0.1720 - val_loss: 18.9645 - val_mae: 2.8149\n",
            "Epoch 225/500\n",
            "9/9 [==============================] - 0s 5ms/step - loss: 0.0535 - mae: 0.1558 - val_loss: 19.1416 - val_mae: 2.8679\n",
            "Epoch 226/500\n",
            "9/9 [==============================] - 0s 6ms/step - loss: 0.0696 - mae: 0.1965 - val_loss: 18.7594 - val_mae: 2.8206\n",
            "Epoch 227/500\n",
            "9/9 [==============================] - 0s 7ms/step - loss: 0.0580 - mae: 0.1867 - val_loss: 19.1543 - val_mae: 2.8831\n",
            "Epoch 228/500\n",
            "9/9 [==============================] - 0s 7ms/step - loss: 0.0780 - mae: 0.1877 - val_loss: 18.8399 - val_mae: 2.8496\n",
            "Epoch 229/500\n",
            "9/9 [==============================] - 0s 9ms/step - loss: 0.0830 - mae: 0.2017 - val_loss: 19.0806 - val_mae: 2.8591\n",
            "Epoch 230/500\n",
            "9/9 [==============================] - 0s 7ms/step - loss: 0.0704 - mae: 0.1891 - val_loss: 18.7472 - val_mae: 2.8139\n",
            "Epoch 231/500\n",
            "9/9 [==============================] - 0s 6ms/step - loss: 0.0762 - mae: 0.1979 - val_loss: 19.2752 - val_mae: 2.8788\n",
            "Epoch 232/500\n",
            "9/9 [==============================] - 0s 6ms/step - loss: 0.0593 - mae: 0.1743 - val_loss: 18.7494 - val_mae: 2.8376\n",
            "Epoch 233/500\n",
            "9/9 [==============================] - 0s 6ms/step - loss: 0.0664 - mae: 0.1843 - val_loss: 19.2871 - val_mae: 2.8682\n",
            "Epoch 234/500\n",
            "9/9 [==============================] - 0s 6ms/step - loss: 0.0711 - mae: 0.1975 - val_loss: 19.0180 - val_mae: 2.8656\n",
            "Epoch 235/500\n",
            "9/9 [==============================] - 0s 8ms/step - loss: 0.1274 - mae: 0.2561 - val_loss: 19.4668 - val_mae: 2.9469\n",
            "Epoch 236/500\n",
            "9/9 [==============================] - 0s 6ms/step - loss: 0.1848 - mae: 0.2923 - val_loss: 18.7206 - val_mae: 2.8641\n",
            "Epoch 237/500\n",
            "9/9 [==============================] - 0s 6ms/step - loss: 0.1564 - mae: 0.2938 - val_loss: 18.9893 - val_mae: 2.8696\n",
            "Epoch 238/500\n",
            "9/9 [==============================] - 0s 6ms/step - loss: 0.1510 - mae: 0.2820 - val_loss: 19.0678 - val_mae: 2.8310\n",
            "Epoch 239/500\n",
            "9/9 [==============================] - 0s 7ms/step - loss: 0.1429 - mae: 0.2752 - val_loss: 18.8176 - val_mae: 2.8451\n",
            "Epoch 240/500\n",
            "9/9 [==============================] - 0s 8ms/step - loss: 0.1663 - mae: 0.3131 - val_loss: 18.8318 - val_mae: 2.8640\n",
            "Epoch 241/500\n",
            "9/9 [==============================] - 0s 6ms/step - loss: 0.1693 - mae: 0.3109 - val_loss: 19.2852 - val_mae: 2.8485\n",
            "Epoch 242/500\n",
            "9/9 [==============================] - 0s 9ms/step - loss: 0.1538 - mae: 0.2863 - val_loss: 18.7904 - val_mae: 2.7783\n",
            "Epoch 243/500\n",
            "9/9 [==============================] - 0s 7ms/step - loss: 0.1925 - mae: 0.3346 - val_loss: 19.2413 - val_mae: 2.8523\n",
            "Epoch 244/500\n",
            "9/9 [==============================] - 0s 8ms/step - loss: 0.2158 - mae: 0.3505 - val_loss: 19.3753 - val_mae: 2.8641\n",
            "Epoch 245/500\n",
            "9/9 [==============================] - 0s 8ms/step - loss: 0.2054 - mae: 0.3517 - val_loss: 19.1112 - val_mae: 2.8597\n",
            "Epoch 246/500\n",
            "9/9 [==============================] - 0s 8ms/step - loss: 0.2548 - mae: 0.3970 - val_loss: 18.9295 - val_mae: 2.8375\n",
            "Epoch 247/500\n",
            "9/9 [==============================] - 0s 7ms/step - loss: 0.2574 - mae: 0.3809 - val_loss: 19.0219 - val_mae: 2.8176\n",
            "Epoch 248/500\n",
            "9/9 [==============================] - 0s 6ms/step - loss: 0.2182 - mae: 0.3623 - val_loss: 19.0316 - val_mae: 2.8069\n",
            "Epoch 249/500\n",
            "9/9 [==============================] - 0s 8ms/step - loss: 0.2067 - mae: 0.3555 - val_loss: 18.6029 - val_mae: 2.7934\n",
            "Epoch 250/500\n",
            "9/9 [==============================] - 0s 7ms/step - loss: 0.1739 - mae: 0.3225 - val_loss: 19.3613 - val_mae: 2.8707\n",
            "Epoch 251/500\n",
            "9/9 [==============================] - 0s 7ms/step - loss: 0.1290 - mae: 0.2761 - val_loss: 17.9712 - val_mae: 2.7243\n",
            "Epoch 252/500\n",
            "9/9 [==============================] - 0s 9ms/step - loss: 0.1237 - mae: 0.2681 - val_loss: 19.5031 - val_mae: 2.8621\n",
            "Epoch 253/500\n",
            "9/9 [==============================] - 0s 9ms/step - loss: 0.1065 - mae: 0.2401 - val_loss: 18.9484 - val_mae: 2.8495\n",
            "Epoch 254/500\n",
            "9/9 [==============================] - 0s 6ms/step - loss: 0.1294 - mae: 0.2690 - val_loss: 18.6029 - val_mae: 2.8118\n",
            "Epoch 255/500\n",
            "9/9 [==============================] - 0s 7ms/step - loss: 0.1014 - mae: 0.2391 - val_loss: 18.4808 - val_mae: 2.8169\n",
            "Epoch 256/500\n",
            "9/9 [==============================] - 0s 5ms/step - loss: 0.0853 - mae: 0.2172 - val_loss: 18.5607 - val_mae: 2.7935\n",
            "Epoch 257/500\n",
            "9/9 [==============================] - 0s 6ms/step - loss: 0.1085 - mae: 0.2458 - val_loss: 19.2090 - val_mae: 2.8653\n",
            "Epoch 258/500\n",
            "9/9 [==============================] - 0s 8ms/step - loss: 0.1540 - mae: 0.3067 - val_loss: 18.5654 - val_mae: 2.7972\n",
            "Epoch 259/500\n",
            "9/9 [==============================] - 0s 6ms/step - loss: 0.1193 - mae: 0.2497 - val_loss: 18.8135 - val_mae: 2.8564\n",
            "Epoch 260/500\n",
            "9/9 [==============================] - 0s 7ms/step - loss: 0.1608 - mae: 0.3107 - val_loss: 18.5439 - val_mae: 2.7843\n",
            "Epoch 261/500\n",
            "9/9 [==============================] - 0s 6ms/step - loss: 0.2555 - mae: 0.3879 - val_loss: 19.1462 - val_mae: 2.8672\n",
            "Epoch 262/500\n",
            "9/9 [==============================] - 0s 6ms/step - loss: 0.1392 - mae: 0.2767 - val_loss: 18.5579 - val_mae: 2.7802\n",
            "Epoch 263/500\n",
            "9/9 [==============================] - 0s 6ms/step - loss: 0.1235 - mae: 0.2766 - val_loss: 18.8167 - val_mae: 2.8506\n",
            "Epoch 264/500\n",
            "9/9 [==============================] - 0s 7ms/step - loss: 0.1250 - mae: 0.2744 - val_loss: 18.2938 - val_mae: 2.7786\n",
            "Epoch 265/500\n",
            "9/9 [==============================] - 0s 7ms/step - loss: 0.1977 - mae: 0.3393 - val_loss: 19.1304 - val_mae: 2.8457\n",
            "Epoch 266/500\n",
            "9/9 [==============================] - 0s 7ms/step - loss: 0.1094 - mae: 0.2408 - val_loss: 18.5756 - val_mae: 2.7997\n",
            "Epoch 267/500\n",
            "9/9 [==============================] - 0s 6ms/step - loss: 0.1050 - mae: 0.2403 - val_loss: 18.7828 - val_mae: 2.8451\n",
            "Epoch 268/500\n",
            "9/9 [==============================] - 0s 6ms/step - loss: 0.0893 - mae: 0.2234 - val_loss: 18.7349 - val_mae: 2.8460\n",
            "Epoch 269/500\n",
            "9/9 [==============================] - 0s 8ms/step - loss: 0.0670 - mae: 0.1895 - val_loss: 18.9016 - val_mae: 2.8255\n",
            "Epoch 270/500\n",
            "9/9 [==============================] - 0s 7ms/step - loss: 0.1002 - mae: 0.2355 - val_loss: 18.8706 - val_mae: 2.8564\n",
            "Epoch 271/500\n",
            "9/9 [==============================] - 0s 6ms/step - loss: 0.1406 - mae: 0.2902 - val_loss: 18.8947 - val_mae: 2.8372\n",
            "Epoch 272/500\n",
            "9/9 [==============================] - 0s 7ms/step - loss: 0.1523 - mae: 0.3074 - val_loss: 18.7457 - val_mae: 2.7951\n",
            "Epoch 273/500\n",
            "9/9 [==============================] - 0s 6ms/step - loss: 0.1674 - mae: 0.3122 - val_loss: 18.4214 - val_mae: 2.8145\n",
            "Epoch 274/500\n",
            "9/9 [==============================] - 0s 7ms/step - loss: 0.1805 - mae: 0.3194 - val_loss: 18.5690 - val_mae: 2.8091\n",
            "Epoch 275/500\n",
            "9/9 [==============================] - 0s 5ms/step - loss: 0.1992 - mae: 0.3372 - val_loss: 19.2391 - val_mae: 2.8920\n",
            "Epoch 276/500\n",
            "9/9 [==============================] - 0s 7ms/step - loss: 0.3536 - mae: 0.4428 - val_loss: 18.2471 - val_mae: 2.7757\n",
            "Epoch 277/500\n",
            "9/9 [==============================] - 0s 7ms/step - loss: 0.3456 - mae: 0.4558 - val_loss: 19.5363 - val_mae: 2.9803\n",
            "Epoch 278/500\n",
            "9/9 [==============================] - 0s 6ms/step - loss: 0.7073 - mae: 0.6545 - val_loss: 19.4625 - val_mae: 2.9193\n",
            "Epoch 279/500\n",
            "9/9 [==============================] - 0s 6ms/step - loss: 0.8385 - mae: 0.7115 - val_loss: 19.0752 - val_mae: 2.8918\n",
            "Epoch 280/500\n",
            "9/9 [==============================] - 0s 6ms/step - loss: 0.6447 - mae: 0.6347 - val_loss: 19.1612 - val_mae: 2.8675\n",
            "Epoch 281/500\n",
            "9/9 [==============================] - 0s 6ms/step - loss: 0.6857 - mae: 0.6394 - val_loss: 18.1494 - val_mae: 2.7899\n",
            "Epoch 282/500\n",
            "9/9 [==============================] - 0s 9ms/step - loss: 0.6124 - mae: 0.5753 - val_loss: 18.3817 - val_mae: 2.7916\n",
            "Epoch 283/500\n",
            "9/9 [==============================] - 0s 6ms/step - loss: 0.5001 - mae: 0.5547 - val_loss: 19.5879 - val_mae: 2.9695\n",
            "Epoch 284/500\n",
            "9/9 [==============================] - 0s 6ms/step - loss: 0.7525 - mae: 0.6653 - val_loss: 18.5576 - val_mae: 2.8235\n",
            "Epoch 285/500\n",
            "9/9 [==============================] - 0s 8ms/step - loss: 0.6015 - mae: 0.5733 - val_loss: 19.7065 - val_mae: 2.9373\n",
            "Epoch 286/500\n",
            "9/9 [==============================] - 0s 6ms/step - loss: 0.5601 - mae: 0.5639 - val_loss: 17.5731 - val_mae: 2.6922\n",
            "Epoch 287/500\n",
            "9/9 [==============================] - 0s 7ms/step - loss: 0.5536 - mae: 0.5550 - val_loss: 19.0829 - val_mae: 2.8180\n",
            "Epoch 288/500\n",
            "9/9 [==============================] - 0s 7ms/step - loss: 0.5987 - mae: 0.6051 - val_loss: 18.7417 - val_mae: 2.8645\n",
            "Epoch 289/500\n",
            "9/9 [==============================] - 0s 9ms/step - loss: 0.5449 - mae: 0.5925 - val_loss: 19.1532 - val_mae: 2.8482\n",
            "Epoch 290/500\n",
            "9/9 [==============================] - 0s 7ms/step - loss: 0.4102 - mae: 0.5007 - val_loss: 18.8383 - val_mae: 2.8722\n",
            "Epoch 291/500\n",
            "9/9 [==============================] - 0s 6ms/step - loss: 0.5029 - mae: 0.5711 - val_loss: 18.1668 - val_mae: 2.7992\n",
            "Epoch 292/500\n",
            "9/9 [==============================] - 0s 6ms/step - loss: 0.3409 - mae: 0.4330 - val_loss: 18.3035 - val_mae: 2.7397\n",
            "Epoch 293/500\n",
            "9/9 [==============================] - 0s 8ms/step - loss: 0.2220 - mae: 0.3545 - val_loss: 18.8277 - val_mae: 2.8252\n",
            "Epoch 294/500\n",
            "9/9 [==============================] - 0s 7ms/step - loss: 0.1734 - mae: 0.3204 - val_loss: 18.4894 - val_mae: 2.7937\n",
            "Epoch 295/500\n",
            "9/9 [==============================] - 0s 7ms/step - loss: 0.1224 - mae: 0.2597 - val_loss: 18.4540 - val_mae: 2.7965\n",
            "Epoch 296/500\n",
            "9/9 [==============================] - 0s 6ms/step - loss: 0.1432 - mae: 0.2907 - val_loss: 18.3486 - val_mae: 2.7608\n",
            "Epoch 297/500\n",
            "9/9 [==============================] - 0s 6ms/step - loss: 0.1310 - mae: 0.2708 - val_loss: 19.2520 - val_mae: 2.8783\n",
            "Epoch 298/500\n",
            "9/9 [==============================] - 0s 7ms/step - loss: 0.0997 - mae: 0.2401 - val_loss: 18.4552 - val_mae: 2.7666\n",
            "Epoch 299/500\n",
            "9/9 [==============================] - 0s 9ms/step - loss: 0.0947 - mae: 0.2119 - val_loss: 18.8706 - val_mae: 2.8260\n",
            "Epoch 300/500\n",
            "9/9 [==============================] - 0s 6ms/step - loss: 0.0851 - mae: 0.2225 - val_loss: 18.5560 - val_mae: 2.8077\n",
            "Epoch 301/500\n",
            "9/9 [==============================] - 0s 6ms/step - loss: 0.1115 - mae: 0.2397 - val_loss: 19.0307 - val_mae: 2.8668\n",
            "Epoch 302/500\n",
            "9/9 [==============================] - 0s 8ms/step - loss: 0.0897 - mae: 0.2076 - val_loss: 18.5349 - val_mae: 2.7866\n",
            "Epoch 303/500\n",
            "9/9 [==============================] - 0s 9ms/step - loss: 0.0747 - mae: 0.1995 - val_loss: 19.0697 - val_mae: 2.8422\n",
            "Epoch 304/500\n",
            "9/9 [==============================] - 0s 9ms/step - loss: 0.0823 - mae: 0.2091 - val_loss: 18.6191 - val_mae: 2.7959\n",
            "Epoch 305/500\n",
            "9/9 [==============================] - 0s 7ms/step - loss: 0.0755 - mae: 0.1940 - val_loss: 19.1931 - val_mae: 2.8570\n",
            "Epoch 306/500\n",
            "9/9 [==============================] - 0s 6ms/step - loss: 0.0845 - mae: 0.2140 - val_loss: 18.4388 - val_mae: 2.8257\n",
            "Epoch 307/500\n",
            "9/9 [==============================] - 0s 9ms/step - loss: 0.0833 - mae: 0.2086 - val_loss: 18.9578 - val_mae: 2.8274\n",
            "Epoch 308/500\n",
            "9/9 [==============================] - 0s 6ms/step - loss: 0.0678 - mae: 0.1864 - val_loss: 18.3481 - val_mae: 2.7743\n",
            "Epoch 309/500\n",
            "9/9 [==============================] - 0s 9ms/step - loss: 0.0758 - mae: 0.1979 - val_loss: 19.2332 - val_mae: 2.8617\n",
            "Epoch 310/500\n",
            "9/9 [==============================] - 0s 5ms/step - loss: 0.0682 - mae: 0.1874 - val_loss: 18.6741 - val_mae: 2.8145\n",
            "Epoch 311/500\n",
            "9/9 [==============================] - 0s 7ms/step - loss: 0.0639 - mae: 0.1802 - val_loss: 18.8516 - val_mae: 2.8279\n",
            "Epoch 312/500\n",
            "9/9 [==============================] - 0s 7ms/step - loss: 0.0822 - mae: 0.2159 - val_loss: 18.7223 - val_mae: 2.8190\n",
            "Epoch 313/500\n",
            "9/9 [==============================] - 0s 7ms/step - loss: 0.1085 - mae: 0.2439 - val_loss: 18.8966 - val_mae: 2.8409\n",
            "Epoch 314/500\n",
            "9/9 [==============================] - 0s 7ms/step - loss: 0.0933 - mae: 0.2249 - val_loss: 18.7350 - val_mae: 2.8497\n",
            "Epoch 315/500\n",
            "9/9 [==============================] - 0s 7ms/step - loss: 0.1592 - mae: 0.2594 - val_loss: 19.1006 - val_mae: 2.8794\n",
            "Epoch 316/500\n",
            "9/9 [==============================] - 0s 6ms/step - loss: 0.1359 - mae: 0.2757 - val_loss: 18.8075 - val_mae: 2.8253\n",
            "Epoch 317/500\n",
            "9/9 [==============================] - 0s 6ms/step - loss: 0.1160 - mae: 0.2553 - val_loss: 18.8896 - val_mae: 2.8400\n",
            "Epoch 318/500\n",
            "9/9 [==============================] - 0s 6ms/step - loss: 0.1340 - mae: 0.2746 - val_loss: 19.0260 - val_mae: 2.8358\n",
            "Epoch 319/500\n",
            "9/9 [==============================] - 0s 6ms/step - loss: 0.1262 - mae: 0.2864 - val_loss: 18.6774 - val_mae: 2.8379\n",
            "Epoch 320/500\n",
            "9/9 [==============================] - 0s 7ms/step - loss: 0.1004 - mae: 0.2303 - val_loss: 18.8208 - val_mae: 2.8345\n",
            "Epoch 321/500\n",
            "9/9 [==============================] - 0s 6ms/step - loss: 0.0982 - mae: 0.2243 - val_loss: 18.6982 - val_mae: 2.8431\n",
            "Epoch 322/500\n",
            "9/9 [==============================] - 0s 6ms/step - loss: 0.0886 - mae: 0.2233 - val_loss: 18.7047 - val_mae: 2.8387\n",
            "Epoch 323/500\n",
            "9/9 [==============================] - 0s 6ms/step - loss: 0.0605 - mae: 0.1856 - val_loss: 18.6631 - val_mae: 2.8258\n",
            "Epoch 324/500\n",
            "9/9 [==============================] - 0s 6ms/step - loss: 0.0575 - mae: 0.1747 - val_loss: 18.6287 - val_mae: 2.7974\n",
            "Epoch 325/500\n",
            "9/9 [==============================] - 0s 8ms/step - loss: 0.0481 - mae: 0.1556 - val_loss: 18.8190 - val_mae: 2.8088\n",
            "Epoch 326/500\n",
            "9/9 [==============================] - 0s 6ms/step - loss: 0.0572 - mae: 0.1779 - val_loss: 18.8654 - val_mae: 2.8278\n",
            "Epoch 327/500\n",
            "9/9 [==============================] - 0s 7ms/step - loss: 0.0576 - mae: 0.1643 - val_loss: 18.7308 - val_mae: 2.8218\n",
            "Epoch 328/500\n",
            "9/9 [==============================] - 0s 8ms/step - loss: 0.0627 - mae: 0.1844 - val_loss: 18.7894 - val_mae: 2.8405\n",
            "Epoch 329/500\n",
            "9/9 [==============================] - 0s 9ms/step - loss: 0.0501 - mae: 0.1584 - val_loss: 18.5895 - val_mae: 2.8133\n",
            "Epoch 330/500\n",
            "9/9 [==============================] - 0s 6ms/step - loss: 0.0691 - mae: 0.1925 - val_loss: 19.0516 - val_mae: 2.8608\n",
            "Epoch 331/500\n",
            "9/9 [==============================] - 0s 9ms/step - loss: 0.1008 - mae: 0.2473 - val_loss: 18.7146 - val_mae: 2.8386\n",
            "Epoch 332/500\n",
            "9/9 [==============================] - 0s 7ms/step - loss: 0.1022 - mae: 0.2470 - val_loss: 18.6866 - val_mae: 2.8245\n",
            "Epoch 333/500\n",
            "9/9 [==============================] - 0s 6ms/step - loss: 0.1078 - mae: 0.2537 - val_loss: 19.0652 - val_mae: 2.8546\n",
            "Epoch 334/500\n",
            "9/9 [==============================] - 0s 8ms/step - loss: 0.1105 - mae: 0.2548 - val_loss: 18.6614 - val_mae: 2.8184\n",
            "Epoch 335/500\n",
            "9/9 [==============================] - 0s 7ms/step - loss: 0.0722 - mae: 0.2051 - val_loss: 18.9950 - val_mae: 2.8589\n",
            "Epoch 336/500\n",
            "9/9 [==============================] - 0s 6ms/step - loss: 0.0729 - mae: 0.2061 - val_loss: 18.7703 - val_mae: 2.8379\n",
            "Epoch 337/500\n",
            "9/9 [==============================] - 0s 8ms/step - loss: 0.0483 - mae: 0.1687 - val_loss: 18.9389 - val_mae: 2.8341\n",
            "Epoch 338/500\n",
            "9/9 [==============================] - 0s 7ms/step - loss: 0.0382 - mae: 0.1304 - val_loss: 18.3614 - val_mae: 2.7877\n",
            "Epoch 339/500\n",
            "9/9 [==============================] - 0s 7ms/step - loss: 0.0455 - mae: 0.1511 - val_loss: 18.7807 - val_mae: 2.8264\n",
            "Epoch 340/500\n",
            "9/9 [==============================] - 0s 7ms/step - loss: 0.0319 - mae: 0.1269 - val_loss: 18.6970 - val_mae: 2.8112\n",
            "Epoch 341/500\n",
            "9/9 [==============================] - 0s 7ms/step - loss: 0.0413 - mae: 0.1423 - val_loss: 18.8782 - val_mae: 2.8409\n",
            "Epoch 342/500\n",
            "9/9 [==============================] - 0s 6ms/step - loss: 0.0373 - mae: 0.1418 - val_loss: 18.6655 - val_mae: 2.8229\n",
            "Epoch 343/500\n",
            "9/9 [==============================] - 0s 8ms/step - loss: 0.0329 - mae: 0.1250 - val_loss: 18.7001 - val_mae: 2.8257\n",
            "Epoch 344/500\n",
            "9/9 [==============================] - 0s 9ms/step - loss: 0.0404 - mae: 0.1374 - val_loss: 18.7278 - val_mae: 2.8132\n",
            "Epoch 345/500\n",
            "9/9 [==============================] - 0s 9ms/step - loss: 0.0522 - mae: 0.1602 - val_loss: 18.7250 - val_mae: 2.8375\n",
            "Epoch 346/500\n",
            "9/9 [==============================] - 0s 6ms/step - loss: 0.0663 - mae: 0.2022 - val_loss: 18.9746 - val_mae: 2.8374\n",
            "Epoch 347/500\n",
            "9/9 [==============================] - 0s 6ms/step - loss: 0.0616 - mae: 0.1797 - val_loss: 18.9197 - val_mae: 2.8220\n",
            "Epoch 348/500\n",
            "9/9 [==============================] - 0s 6ms/step - loss: 0.0529 - mae: 0.1607 - val_loss: 18.7054 - val_mae: 2.8095\n",
            "Epoch 349/500\n",
            "9/9 [==============================] - 0s 7ms/step - loss: 0.0485 - mae: 0.1596 - val_loss: 18.4959 - val_mae: 2.8123\n",
            "Epoch 350/500\n",
            "9/9 [==============================] - 0s 8ms/step - loss: 0.0338 - mae: 0.1299 - val_loss: 18.7150 - val_mae: 2.8225\n",
            "Epoch 351/500\n",
            "9/9 [==============================] - 0s 6ms/step - loss: 0.0324 - mae: 0.1290 - val_loss: 18.7594 - val_mae: 2.8117\n",
            "Epoch 352/500\n",
            "9/9 [==============================] - 0s 7ms/step - loss: 0.0361 - mae: 0.1325 - val_loss: 18.8944 - val_mae: 2.8251\n",
            "Epoch 353/500\n",
            "9/9 [==============================] - 0s 6ms/step - loss: 0.0546 - mae: 0.1539 - val_loss: 18.8069 - val_mae: 2.8454\n",
            "Epoch 354/500\n",
            "9/9 [==============================] - 0s 7ms/step - loss: 0.0679 - mae: 0.1879 - val_loss: 18.6906 - val_mae: 2.8172\n",
            "Epoch 355/500\n",
            "9/9 [==============================] - 0s 6ms/step - loss: 0.0618 - mae: 0.1897 - val_loss: 19.1994 - val_mae: 2.8564\n",
            "Epoch 356/500\n",
            "9/9 [==============================] - 0s 7ms/step - loss: 0.0849 - mae: 0.2214 - val_loss: 19.0542 - val_mae: 2.8343\n",
            "Epoch 357/500\n",
            "9/9 [==============================] - 0s 6ms/step - loss: 0.0788 - mae: 0.1982 - val_loss: 19.2240 - val_mae: 2.8866\n",
            "Epoch 358/500\n",
            "9/9 [==============================] - 0s 7ms/step - loss: 0.0791 - mae: 0.2044 - val_loss: 19.1356 - val_mae: 2.8399\n",
            "Epoch 359/500\n",
            "9/9 [==============================] - 0s 6ms/step - loss: 0.1089 - mae: 0.2579 - val_loss: 18.7326 - val_mae: 2.8407\n",
            "Epoch 360/500\n",
            "9/9 [==============================] - 0s 7ms/step - loss: 0.1391 - mae: 0.2921 - val_loss: 19.4926 - val_mae: 2.9112\n",
            "Epoch 361/500\n",
            "9/9 [==============================] - 0s 6ms/step - loss: 0.0843 - mae: 0.2083 - val_loss: 18.5033 - val_mae: 2.7966\n",
            "Epoch 362/500\n",
            "9/9 [==============================] - 0s 7ms/step - loss: 0.1122 - mae: 0.2534 - val_loss: 18.7937 - val_mae: 2.8202\n",
            "Epoch 363/500\n",
            "9/9 [==============================] - 0s 9ms/step - loss: 0.0970 - mae: 0.2203 - val_loss: 19.5442 - val_mae: 2.8976\n",
            "Epoch 364/500\n",
            "9/9 [==============================] - 0s 6ms/step - loss: 0.2556 - mae: 0.3871 - val_loss: 18.7069 - val_mae: 2.8159\n",
            "Epoch 365/500\n",
            "9/9 [==============================] - 0s 6ms/step - loss: 0.1699 - mae: 0.3016 - val_loss: 18.9056 - val_mae: 2.8515\n",
            "Epoch 366/500\n",
            "9/9 [==============================] - 0s 8ms/step - loss: 0.1485 - mae: 0.2916 - val_loss: 19.0711 - val_mae: 2.8558\n",
            "Epoch 367/500\n",
            "9/9 [==============================] - 0s 6ms/step - loss: 0.1988 - mae: 0.3195 - val_loss: 19.1579 - val_mae: 2.9294\n",
            "Epoch 368/500\n",
            "9/9 [==============================] - 0s 6ms/step - loss: 0.1421 - mae: 0.2958 - val_loss: 18.8342 - val_mae: 2.8377\n",
            "Epoch 369/500\n",
            "9/9 [==============================] - 0s 6ms/step - loss: 0.1269 - mae: 0.2654 - val_loss: 18.7233 - val_mae: 2.8191\n",
            "Epoch 370/500\n",
            "9/9 [==============================] - 0s 6ms/step - loss: 0.1987 - mae: 0.3359 - val_loss: 18.8021 - val_mae: 2.8509\n",
            "Epoch 371/500\n",
            "9/9 [==============================] - 0s 7ms/step - loss: 0.1889 - mae: 0.3325 - val_loss: 18.8837 - val_mae: 2.8781\n",
            "Epoch 372/500\n",
            "9/9 [==============================] - 0s 6ms/step - loss: 0.1681 - mae: 0.3209 - val_loss: 18.5652 - val_mae: 2.7906\n",
            "Epoch 373/500\n",
            "9/9 [==============================] - 0s 6ms/step - loss: 0.1513 - mae: 0.3097 - val_loss: 18.8720 - val_mae: 2.8391\n",
            "Epoch 374/500\n",
            "9/9 [==============================] - 0s 7ms/step - loss: 0.1514 - mae: 0.2921 - val_loss: 18.6863 - val_mae: 2.8384\n",
            "Epoch 375/500\n",
            "9/9 [==============================] - 0s 7ms/step - loss: 0.1578 - mae: 0.3104 - val_loss: 18.4114 - val_mae: 2.8290\n",
            "Epoch 376/500\n",
            "9/9 [==============================] - 0s 10ms/step - loss: 0.1571 - mae: 0.2830 - val_loss: 18.8184 - val_mae: 2.8714\n",
            "Epoch 377/500\n",
            "9/9 [==============================] - 0s 6ms/step - loss: 0.3018 - mae: 0.4173 - val_loss: 18.9757 - val_mae: 2.8553\n",
            "Epoch 378/500\n",
            "9/9 [==============================] - 0s 7ms/step - loss: 0.1936 - mae: 0.3290 - val_loss: 18.3868 - val_mae: 2.7825\n",
            "Epoch 379/500\n",
            "9/9 [==============================] - 0s 6ms/step - loss: 0.1288 - mae: 0.2833 - val_loss: 18.8534 - val_mae: 2.7897\n",
            "Epoch 380/500\n",
            "9/9 [==============================] - 0s 6ms/step - loss: 0.1163 - mae: 0.2607 - val_loss: 18.4296 - val_mae: 2.8013\n",
            "Epoch 381/500\n",
            "9/9 [==============================] - 0s 7ms/step - loss: 0.0813 - mae: 0.2209 - val_loss: 18.7911 - val_mae: 2.8197\n",
            "Epoch 382/500\n",
            "9/9 [==============================] - 0s 6ms/step - loss: 0.0906 - mae: 0.2391 - val_loss: 18.3542 - val_mae: 2.8024\n",
            "Epoch 383/500\n",
            "9/9 [==============================] - 0s 8ms/step - loss: 0.0849 - mae: 0.2285 - val_loss: 19.0327 - val_mae: 2.8468\n",
            "Epoch 384/500\n",
            "9/9 [==============================] - 0s 7ms/step - loss: 0.0624 - mae: 0.1878 - val_loss: 18.2886 - val_mae: 2.8010\n",
            "Epoch 385/500\n",
            "9/9 [==============================] - 0s 7ms/step - loss: 0.0830 - mae: 0.2086 - val_loss: 19.0209 - val_mae: 2.8528\n",
            "Epoch 386/500\n",
            "9/9 [==============================] - 0s 9ms/step - loss: 0.0927 - mae: 0.2296 - val_loss: 18.4653 - val_mae: 2.8121\n",
            "Epoch 387/500\n",
            "9/9 [==============================] - 0s 7ms/step - loss: 0.0785 - mae: 0.1988 - val_loss: 18.4336 - val_mae: 2.7992\n",
            "Epoch 388/500\n",
            "9/9 [==============================] - 0s 7ms/step - loss: 0.0674 - mae: 0.1826 - val_loss: 18.6785 - val_mae: 2.8068\n",
            "Epoch 389/500\n",
            "9/9 [==============================] - 0s 7ms/step - loss: 0.0689 - mae: 0.1922 - val_loss: 18.8043 - val_mae: 2.8141\n",
            "Epoch 390/500\n",
            "9/9 [==============================] - 0s 7ms/step - loss: 0.0804 - mae: 0.2105 - val_loss: 19.0220 - val_mae: 2.8533\n",
            "Epoch 391/500\n",
            "9/9 [==============================] - 0s 6ms/step - loss: 0.1346 - mae: 0.2847 - val_loss: 18.6384 - val_mae: 2.8252\n",
            "Epoch 392/500\n",
            "9/9 [==============================] - 0s 7ms/step - loss: 0.1229 - mae: 0.2714 - val_loss: 19.1108 - val_mae: 2.8492\n",
            "Epoch 393/500\n",
            "9/9 [==============================] - 0s 7ms/step - loss: 0.1323 - mae: 0.2900 - val_loss: 18.4977 - val_mae: 2.8088\n",
            "Epoch 394/500\n",
            "9/9 [==============================] - 0s 8ms/step - loss: 0.1052 - mae: 0.2493 - val_loss: 19.2017 - val_mae: 2.8445\n",
            "Epoch 395/500\n",
            "9/9 [==============================] - 0s 7ms/step - loss: 0.1087 - mae: 0.2643 - val_loss: 18.6078 - val_mae: 2.8279\n",
            "Epoch 396/500\n",
            "9/9 [==============================] - 0s 7ms/step - loss: 0.0944 - mae: 0.2425 - val_loss: 18.9824 - val_mae: 2.8589\n",
            "Epoch 397/500\n",
            "9/9 [==============================] - 0s 9ms/step - loss: 0.0703 - mae: 0.2083 - val_loss: 18.7208 - val_mae: 2.8367\n",
            "Epoch 398/500\n",
            "9/9 [==============================] - 0s 7ms/step - loss: 0.0451 - mae: 0.1525 - val_loss: 18.5839 - val_mae: 2.7995\n",
            "Epoch 399/500\n",
            "9/9 [==============================] - 0s 7ms/step - loss: 0.0650 - mae: 0.1868 - val_loss: 18.4478 - val_mae: 2.8298\n",
            "Epoch 400/500\n",
            "9/9 [==============================] - 0s 7ms/step - loss: 0.1019 - mae: 0.2379 - val_loss: 18.7823 - val_mae: 2.8347\n",
            "Epoch 401/500\n",
            "9/9 [==============================] - 0s 8ms/step - loss: 0.1518 - mae: 0.3075 - val_loss: 18.3859 - val_mae: 2.8164\n",
            "Epoch 402/500\n",
            "9/9 [==============================] - 0s 7ms/step - loss: 0.1376 - mae: 0.2833 - val_loss: 18.8948 - val_mae: 2.8159\n",
            "Epoch 403/500\n",
            "9/9 [==============================] - 0s 6ms/step - loss: 0.1398 - mae: 0.3016 - val_loss: 18.9399 - val_mae: 2.8129\n",
            "Epoch 404/500\n",
            "9/9 [==============================] - 0s 7ms/step - loss: 0.1174 - mae: 0.2712 - val_loss: 18.5655 - val_mae: 2.7955\n",
            "Epoch 405/500\n",
            "9/9 [==============================] - 0s 8ms/step - loss: 0.1321 - mae: 0.2706 - val_loss: 18.9682 - val_mae: 2.8485\n",
            "Epoch 406/500\n",
            "9/9 [==============================] - 0s 6ms/step - loss: 0.1478 - mae: 0.2969 - val_loss: 18.7053 - val_mae: 2.8061\n",
            "Epoch 407/500\n",
            "9/9 [==============================] - 0s 9ms/step - loss: 0.1114 - mae: 0.2464 - val_loss: 18.6408 - val_mae: 2.8113\n",
            "Epoch 408/500\n",
            "9/9 [==============================] - 0s 5ms/step - loss: 0.1244 - mae: 0.2734 - val_loss: 18.7523 - val_mae: 2.8639\n",
            "Epoch 409/500\n",
            "9/9 [==============================] - 0s 6ms/step - loss: 0.1420 - mae: 0.2846 - val_loss: 18.6888 - val_mae: 2.8077\n",
            "Epoch 410/500\n",
            "9/9 [==============================] - 0s 8ms/step - loss: 0.2210 - mae: 0.3755 - val_loss: 18.7922 - val_mae: 2.8378\n",
            "Epoch 411/500\n",
            "9/9 [==============================] - 0s 7ms/step - loss: 0.2058 - mae: 0.3656 - val_loss: 18.6349 - val_mae: 2.8546\n",
            "Epoch 412/500\n",
            "9/9 [==============================] - 0s 7ms/step - loss: 0.1714 - mae: 0.3032 - val_loss: 18.8467 - val_mae: 2.8100\n",
            "Epoch 413/500\n",
            "9/9 [==============================] - 0s 7ms/step - loss: 0.1555 - mae: 0.3088 - val_loss: 18.4435 - val_mae: 2.8263\n",
            "Epoch 414/500\n",
            "9/9 [==============================] - 0s 8ms/step - loss: 0.1639 - mae: 0.2960 - val_loss: 18.5855 - val_mae: 2.8526\n",
            "Epoch 415/500\n",
            "9/9 [==============================] - 0s 7ms/step - loss: 0.1563 - mae: 0.2969 - val_loss: 18.4783 - val_mae: 2.8040\n",
            "Epoch 416/500\n",
            "9/9 [==============================] - 0s 7ms/step - loss: 0.0910 - mae: 0.2295 - val_loss: 18.2037 - val_mae: 2.7720\n",
            "Epoch 417/500\n",
            "9/9 [==============================] - 0s 7ms/step - loss: 0.0652 - mae: 0.1936 - val_loss: 18.6549 - val_mae: 2.8006\n",
            "Epoch 418/500\n",
            "9/9 [==============================] - 0s 10ms/step - loss: 0.0624 - mae: 0.1785 - val_loss: 18.6740 - val_mae: 2.8106\n",
            "Epoch 419/500\n",
            "9/9 [==============================] - 0s 7ms/step - loss: 0.0734 - mae: 0.1979 - val_loss: 18.6030 - val_mae: 2.7871\n",
            "Epoch 420/500\n",
            "9/9 [==============================] - 0s 6ms/step - loss: 0.0661 - mae: 0.1874 - val_loss: 18.5374 - val_mae: 2.8326\n",
            "Epoch 421/500\n",
            "9/9 [==============================] - 0s 7ms/step - loss: 0.0520 - mae: 0.1678 - val_loss: 18.4376 - val_mae: 2.7896\n",
            "Epoch 422/500\n",
            "9/9 [==============================] - 0s 8ms/step - loss: 0.0569 - mae: 0.1794 - val_loss: 18.6990 - val_mae: 2.8220\n",
            "Epoch 423/500\n",
            "9/9 [==============================] - 0s 6ms/step - loss: 0.0516 - mae: 0.1679 - val_loss: 18.7631 - val_mae: 2.8235\n",
            "Epoch 424/500\n",
            "9/9 [==============================] - 0s 8ms/step - loss: 0.0557 - mae: 0.1720 - val_loss: 18.9510 - val_mae: 2.8179\n",
            "Epoch 425/500\n",
            "9/9 [==============================] - 0s 7ms/step - loss: 0.0588 - mae: 0.1754 - val_loss: 18.6398 - val_mae: 2.8282\n",
            "Epoch 426/500\n",
            "9/9 [==============================] - 0s 7ms/step - loss: 0.0745 - mae: 0.2013 - val_loss: 18.7250 - val_mae: 2.8383\n",
            "Epoch 427/500\n",
            "9/9 [==============================] - 0s 8ms/step - loss: 0.0652 - mae: 0.1716 - val_loss: 18.4272 - val_mae: 2.7981\n",
            "Epoch 428/500\n",
            "9/9 [==============================] - 0s 6ms/step - loss: 0.0468 - mae: 0.1572 - val_loss: 18.9501 - val_mae: 2.8370\n",
            "Epoch 429/500\n",
            "9/9 [==============================] - 0s 6ms/step - loss: 0.0552 - mae: 0.1656 - val_loss: 18.3983 - val_mae: 2.7908\n",
            "Epoch 430/500\n",
            "9/9 [==============================] - 0s 8ms/step - loss: 0.0437 - mae: 0.1517 - val_loss: 18.7632 - val_mae: 2.8533\n",
            "Epoch 431/500\n",
            "9/9 [==============================] - 0s 5ms/step - loss: 0.0711 - mae: 0.2096 - val_loss: 18.9152 - val_mae: 2.8471\n",
            "Epoch 432/500\n",
            "9/9 [==============================] - 0s 7ms/step - loss: 0.0779 - mae: 0.2077 - val_loss: 18.4002 - val_mae: 2.8095\n",
            "Epoch 433/500\n",
            "9/9 [==============================] - 0s 8ms/step - loss: 0.1034 - mae: 0.2507 - val_loss: 18.8606 - val_mae: 2.8434\n",
            "Epoch 434/500\n",
            "9/9 [==============================] - 0s 6ms/step - loss: 0.0522 - mae: 0.1736 - val_loss: 18.6145 - val_mae: 2.8266\n",
            "Epoch 435/500\n",
            "9/9 [==============================] - 0s 6ms/step - loss: 0.0459 - mae: 0.1619 - val_loss: 18.7276 - val_mae: 2.8350\n",
            "Epoch 436/500\n",
            "9/9 [==============================] - 0s 8ms/step - loss: 0.0586 - mae: 0.1863 - val_loss: 18.2438 - val_mae: 2.7793\n",
            "Epoch 437/500\n",
            "9/9 [==============================] - 0s 5ms/step - loss: 0.0609 - mae: 0.1916 - val_loss: 18.8757 - val_mae: 2.8492\n",
            "Epoch 438/500\n",
            "9/9 [==============================] - 0s 6ms/step - loss: 0.0500 - mae: 0.1627 - val_loss: 18.5129 - val_mae: 2.8264\n",
            "Epoch 439/500\n",
            "9/9 [==============================] - 0s 8ms/step - loss: 0.0633 - mae: 0.1866 - val_loss: 18.7217 - val_mae: 2.8176\n",
            "Epoch 440/500\n",
            "9/9 [==============================] - 0s 6ms/step - loss: 0.0692 - mae: 0.1990 - val_loss: 18.4946 - val_mae: 2.8251\n",
            "Epoch 441/500\n",
            "9/9 [==============================] - 0s 6ms/step - loss: 0.1063 - mae: 0.2543 - val_loss: 18.6575 - val_mae: 2.8080\n",
            "Epoch 442/500\n",
            "9/9 [==============================] - 0s 6ms/step - loss: 0.0988 - mae: 0.2293 - val_loss: 18.6912 - val_mae: 2.8445\n",
            "Epoch 443/500\n",
            "9/9 [==============================] - 0s 7ms/step - loss: 0.0605 - mae: 0.1834 - val_loss: 18.8898 - val_mae: 2.8129\n",
            "Epoch 444/500\n",
            "9/9 [==============================] - 0s 6ms/step - loss: 0.0927 - mae: 0.2230 - val_loss: 18.4773 - val_mae: 2.8449\n",
            "Epoch 445/500\n",
            "9/9 [==============================] - 0s 9ms/step - loss: 0.1103 - mae: 0.2614 - val_loss: 18.8263 - val_mae: 2.8407\n",
            "Epoch 446/500\n",
            "9/9 [==============================] - 0s 6ms/step - loss: 0.0720 - mae: 0.2055 - val_loss: 18.4453 - val_mae: 2.8002\n",
            "Epoch 447/500\n",
            "9/9 [==============================] - 0s 7ms/step - loss: 0.0612 - mae: 0.1823 - val_loss: 18.6384 - val_mae: 2.8062\n",
            "Epoch 448/500\n",
            "9/9 [==============================] - 0s 6ms/step - loss: 0.0675 - mae: 0.1739 - val_loss: 19.0130 - val_mae: 2.8766\n",
            "Epoch 449/500\n",
            "9/9 [==============================] - 0s 8ms/step - loss: 0.0563 - mae: 0.1748 - val_loss: 18.4441 - val_mae: 2.7870\n",
            "Epoch 450/500\n",
            "9/9 [==============================] - 0s 8ms/step - loss: 0.0464 - mae: 0.1629 - val_loss: 19.0174 - val_mae: 2.8466\n",
            "Epoch 451/500\n",
            "9/9 [==============================] - 0s 6ms/step - loss: 0.0613 - mae: 0.1796 - val_loss: 18.4251 - val_mae: 2.7931\n",
            "Epoch 452/500\n",
            "9/9 [==============================] - 0s 8ms/step - loss: 0.0557 - mae: 0.1761 - val_loss: 18.9056 - val_mae: 2.8612\n",
            "Epoch 453/500\n",
            "9/9 [==============================] - 0s 7ms/step - loss: 0.0842 - mae: 0.2148 - val_loss: 18.6664 - val_mae: 2.8790\n",
            "Epoch 454/500\n",
            "9/9 [==============================] - 0s 8ms/step - loss: 0.1558 - mae: 0.3090 - val_loss: 18.6983 - val_mae: 2.8561\n",
            "Epoch 455/500\n",
            "9/9 [==============================] - 0s 6ms/step - loss: 0.2232 - mae: 0.3775 - val_loss: 19.5695 - val_mae: 2.9588\n",
            "Epoch 456/500\n",
            "9/9 [==============================] - 0s 7ms/step - loss: 0.4552 - mae: 0.5069 - val_loss: 18.1285 - val_mae: 2.7915\n",
            "Epoch 457/500\n",
            "9/9 [==============================] - 0s 9ms/step - loss: 0.7412 - mae: 0.6326 - val_loss: 20.9202 - val_mae: 3.1336\n",
            "Epoch 458/500\n",
            "9/9 [==============================] - 0s 6ms/step - loss: 1.4883 - mae: 0.9356 - val_loss: 21.6915 - val_mae: 3.3044\n",
            "Epoch 459/500\n",
            "9/9 [==============================] - 0s 7ms/step - loss: 1.9620 - mae: 1.1103 - val_loss: 18.2005 - val_mae: 2.8883\n",
            "Epoch 460/500\n",
            "9/9 [==============================] - 0s 8ms/step - loss: 1.3444 - mae: 0.8660 - val_loss: 19.0206 - val_mae: 2.8319\n",
            "Epoch 461/500\n",
            "9/9 [==============================] - 0s 7ms/step - loss: 1.2992 - mae: 0.8179 - val_loss: 19.2148 - val_mae: 2.9245\n",
            "Epoch 462/500\n",
            "9/9 [==============================] - 0s 8ms/step - loss: 0.6920 - mae: 0.6422 - val_loss: 18.2906 - val_mae: 2.7003\n",
            "Epoch 463/500\n",
            "9/9 [==============================] - 0s 7ms/step - loss: 0.4430 - mae: 0.5202 - val_loss: 18.5227 - val_mae: 2.8028\n",
            "Epoch 464/500\n",
            "9/9 [==============================] - 0s 9ms/step - loss: 0.3867 - mae: 0.4786 - val_loss: 18.3486 - val_mae: 2.7813\n",
            "Epoch 465/500\n",
            "9/9 [==============================] - 0s 7ms/step - loss: 0.3034 - mae: 0.3960 - val_loss: 18.6161 - val_mae: 2.8679\n",
            "Epoch 466/500\n",
            "9/9 [==============================] - 0s 8ms/step - loss: 0.2570 - mae: 0.3835 - val_loss: 18.5407 - val_mae: 2.7364\n",
            "Epoch 467/500\n",
            "9/9 [==============================] - 0s 6ms/step - loss: 0.2604 - mae: 0.3931 - val_loss: 18.3374 - val_mae: 2.7510\n",
            "Epoch 468/500\n",
            "9/9 [==============================] - 0s 8ms/step - loss: 0.2026 - mae: 0.3450 - val_loss: 18.8061 - val_mae: 2.8073\n",
            "Epoch 469/500\n",
            "9/9 [==============================] - 0s 8ms/step - loss: 0.1614 - mae: 0.3002 - val_loss: 18.8640 - val_mae: 2.8239\n",
            "Epoch 470/500\n",
            "9/9 [==============================] - 0s 7ms/step - loss: 0.1713 - mae: 0.3017 - val_loss: 18.7203 - val_mae: 2.8119\n",
            "Epoch 471/500\n",
            "9/9 [==============================] - 0s 8ms/step - loss: 0.1257 - mae: 0.2641 - val_loss: 18.7926 - val_mae: 2.8070\n",
            "Epoch 472/500\n",
            "9/9 [==============================] - 0s 7ms/step - loss: 0.0863 - mae: 0.2257 - val_loss: 18.7638 - val_mae: 2.7867\n",
            "Epoch 473/500\n",
            "9/9 [==============================] - 0s 7ms/step - loss: 0.0711 - mae: 0.1877 - val_loss: 18.7070 - val_mae: 2.8064\n",
            "Epoch 474/500\n",
            "9/9 [==============================] - 0s 9ms/step - loss: 0.1043 - mae: 0.2190 - val_loss: 18.8328 - val_mae: 2.8296\n",
            "Epoch 475/500\n",
            "9/9 [==============================] - 0s 6ms/step - loss: 0.0780 - mae: 0.1956 - val_loss: 18.5717 - val_mae: 2.7730\n",
            "Epoch 476/500\n",
            "9/9 [==============================] - 0s 7ms/step - loss: 0.0596 - mae: 0.1668 - val_loss: 18.9988 - val_mae: 2.8089\n",
            "Epoch 477/500\n",
            "9/9 [==============================] - 0s 8ms/step - loss: 0.0478 - mae: 0.1485 - val_loss: 18.4558 - val_mae: 2.7773\n",
            "Epoch 478/500\n",
            "9/9 [==============================] - 0s 7ms/step - loss: 0.0518 - mae: 0.1529 - val_loss: 18.7734 - val_mae: 2.8088\n",
            "Epoch 479/500\n",
            "9/9 [==============================] - 0s 7ms/step - loss: 0.0455 - mae: 0.1475 - val_loss: 18.6812 - val_mae: 2.7933\n",
            "Epoch 480/500\n",
            "9/9 [==============================] - 0s 8ms/step - loss: 0.0361 - mae: 0.1399 - val_loss: 18.7129 - val_mae: 2.8018\n",
            "Epoch 481/500\n",
            "9/9 [==============================] - 0s 7ms/step - loss: 0.0306 - mae: 0.1253 - val_loss: 18.6468 - val_mae: 2.7836\n",
            "Epoch 482/500\n",
            "9/9 [==============================] - 0s 7ms/step - loss: 0.0260 - mae: 0.1137 - val_loss: 18.6942 - val_mae: 2.8048\n",
            "Epoch 483/500\n",
            "9/9 [==============================] - 0s 8ms/step - loss: 0.0258 - mae: 0.1088 - val_loss: 18.6626 - val_mae: 2.7936\n",
            "Epoch 484/500\n",
            "9/9 [==============================] - 0s 6ms/step - loss: 0.0270 - mae: 0.1196 - val_loss: 18.6051 - val_mae: 2.7812\n",
            "Epoch 485/500\n",
            "9/9 [==============================] - 0s 7ms/step - loss: 0.0235 - mae: 0.1030 - val_loss: 18.7939 - val_mae: 2.8134\n",
            "Epoch 486/500\n",
            "9/9 [==============================] - 0s 7ms/step - loss: 0.0304 - mae: 0.1188 - val_loss: 18.8235 - val_mae: 2.8190\n",
            "Epoch 487/500\n",
            "9/9 [==============================] - 0s 7ms/step - loss: 0.0476 - mae: 0.1527 - val_loss: 18.7373 - val_mae: 2.8201\n",
            "Epoch 488/500\n",
            "9/9 [==============================] - 0s 7ms/step - loss: 0.0612 - mae: 0.1805 - val_loss: 18.6295 - val_mae: 2.7981\n",
            "Epoch 489/500\n",
            "9/9 [==============================] - 0s 7ms/step - loss: 0.0549 - mae: 0.1697 - val_loss: 18.6858 - val_mae: 2.8095\n",
            "Epoch 490/500\n",
            "9/9 [==============================] - 0s 6ms/step - loss: 0.0544 - mae: 0.1663 - val_loss: 18.7814 - val_mae: 2.7890\n",
            "Epoch 491/500\n",
            "9/9 [==============================] - 0s 10ms/step - loss: 0.0643 - mae: 0.1688 - val_loss: 18.6147 - val_mae: 2.7869\n",
            "Epoch 492/500\n",
            "9/9 [==============================] - 0s 8ms/step - loss: 0.0446 - mae: 0.1483 - val_loss: 18.7782 - val_mae: 2.7945\n",
            "Epoch 493/500\n",
            "9/9 [==============================] - 0s 7ms/step - loss: 0.0446 - mae: 0.1485 - val_loss: 18.7925 - val_mae: 2.8086\n",
            "Epoch 494/500\n",
            "9/9 [==============================] - 0s 7ms/step - loss: 0.0435 - mae: 0.1513 - val_loss: 18.6326 - val_mae: 2.8111\n",
            "Epoch 495/500\n",
            "9/9 [==============================] - 0s 9ms/step - loss: 0.0709 - mae: 0.1972 - val_loss: 18.5869 - val_mae: 2.8145\n",
            "Epoch 496/500\n",
            "9/9 [==============================] - 0s 7ms/step - loss: 0.1088 - mae: 0.2392 - val_loss: 18.9906 - val_mae: 2.8319\n",
            "Epoch 497/500\n",
            "9/9 [==============================] - 0s 7ms/step - loss: 0.0620 - mae: 0.1766 - val_loss: 18.6744 - val_mae: 2.8049\n",
            "Epoch 498/500\n",
            "9/9 [==============================] - 0s 8ms/step - loss: 0.0445 - mae: 0.1533 - val_loss: 18.8383 - val_mae: 2.8067\n",
            "Epoch 499/500\n",
            "9/9 [==============================] - 0s 7ms/step - loss: 0.0351 - mae: 0.1417 - val_loss: 18.5638 - val_mae: 2.8039\n",
            "Epoch 500/500\n",
            "9/9 [==============================] - 0s 7ms/step - loss: 0.0383 - mae: 0.1436 - val_loss: 18.7173 - val_mae: 2.8002\n"
          ],
          "name": "stdout"
        }
      ]
    },
    {
      "cell_type": "markdown",
      "metadata": {
        "id": "LJ045c1ywYz5"
      },
      "source": [
        "## evaluation"
      ]
    },
    {
      "cell_type": "code",
      "metadata": {
        "colab": {
          "base_uri": "https://localhost:8080/"
        },
        "id": "DM-fc8Wotkxn",
        "outputId": "960578be-067f-4e64-e6b7-7ebeb71f3bd2"
      },
      "source": [
        "# model.evaluate(x_train,y_train) # activation = sigmoid - loss: 8.3300 - mae: 2.1364"
      ],
      "execution_count": 50,
      "outputs": [
        {
          "output_type": "stream",
          "text": [
            "13/13 [==============================] - 0s 1ms/step - loss: 8.3300 - mae: 2.1364\n"
          ],
          "name": "stdout"
        },
        {
          "output_type": "execute_result",
          "data": {
            "text/plain": [
              "[8.330029487609863, 2.1363582611083984]"
            ]
          },
          "metadata": {
            "tags": []
          },
          "execution_count": 50
        }
      ]
    },
    {
      "cell_type": "code",
      "metadata": {
        "colab": {
          "base_uri": "https://localhost:8080/"
        },
        "id": "8HQIPX-2gSWe",
        "outputId": "1ffc2bc4-9556-45b2-c0fd-e844c0a0f5bb"
      },
      "source": [
        "hist.history.keys()"
      ],
      "execution_count": 75,
      "outputs": [
        {
          "output_type": "execute_result",
          "data": {
            "text/plain": [
              "dict_keys(['loss', 'mae', 'val_loss', 'val_mae'])"
            ]
          },
          "metadata": {
            "tags": []
          },
          "execution_count": 75
        }
      ]
    },
    {
      "cell_type": "code",
      "metadata": {
        "id": "ZuRLIzUbhgsK"
      },
      "source": [
        "import matplotlib.pyplot as plt"
      ],
      "execution_count": 79,
      "outputs": []
    },
    {
      "cell_type": "code",
      "metadata": {
        "colab": {
          "base_uri": "https://localhost:8080/",
          "height": 265
        },
        "id": "-1FAya2vhqn2",
        "outputId": "7ef2f5b4-7cb6-4d1d-d263-6093eb651453"
      },
      "source": [
        "plt.plot(hist.history['loss'],'--b')\n",
        "plt.plot(hist.history['val_loss'])\n",
        "plt.show()"
      ],
      "execution_count": 80,
      "outputs": [
        {
          "output_type": "display_data",
          "data": {
            "image/png": "[encoded data removed]",
            "text/plain": [
              "<Figure size 432x288 with 1 Axes>"
            ]
          },
          "metadata": {
            "tags": [],
            "needs_background": "light"
          }
        }
      ]
    },
    {
      "cell_type": "markdown",
      "metadata": {
        "id": "1PnaUJrqwgjz"
      },
      "source": [
        "## Service"
      ]
    },
    {
      "cell_type": "code",
      "metadata": {
        "colab": {
          "base_uri": "https://localhost:8080/"
        },
        "id": "FTbM7KJXwdeK",
        "outputId": "bb47f6e5-9fdb-4397-ab48-bfa4e4522c16"
      },
      "source": [
        "x_train[10]"
      ],
      "execution_count": 69,
      "outputs": [
        {
          "output_type": "execute_result",
          "data": {
            "text/plain": [
              "array([ 0.63391647, -0.48361547,  1.0283258 , -0.25683275,  1.15788777,\n",
              "        0.19313958,  1.11048828, -1.03628262,  1.67588577,  1.5652875 ,\n",
              "        0.78447637,  0.22689422,  1.04466491])"
            ]
          },
          "metadata": {
            "tags": []
          },
          "execution_count": 69
        }
      ]
    },
    {
      "cell_type": "code",
      "metadata": {
        "colab": {
          "base_uri": "https://localhost:8080/"
        },
        "id": "UPH5lj7Lwpph",
        "outputId": "dee17c33-27b1-4db3-ff55-fe6a424d638d"
      },
      "source": [
        "model.predict([[ 0.63391647, -0.48361547,  1.0283258 , -0.25683275,  1.15788777,\n",
        "        0.19313958,  1.11048828, -1.03628262,  1.67588577,  1.5652875 ,\n",
        "        0.78447637,  0.22689422,  1.04466491]])"
      ],
      "execution_count": 70,
      "outputs": [
        {
          "output_type": "execute_result",
          "data": {
            "text/plain": [
              "array([[11.775159]], dtype=float32)"
            ]
          },
          "metadata": {
            "tags": []
          },
          "execution_count": 70
        }
      ]
    },
    {
      "cell_type": "code",
      "metadata": {
        "colab": {
          "base_uri": "https://localhost:8080/"
        },
        "id": "kLHydUttxnzM",
        "outputId": "dfe6a2ab-61fa-4db6-d7d5-07999b9ceafe"
      },
      "source": [
        "y_train[10]"
      ],
      "execution_count": 53,
      "outputs": [
        {
          "output_type": "execute_result",
          "data": {
            "text/plain": [
              "12.1"
            ]
          },
          "metadata": {
            "tags": []
          },
          "execution_count": 53
        }
      ]
    },
    {
      "cell_type": "code",
      "metadata": {
        "id": "OwJIhDqH5mzh"
      },
      "source": [
        ""
      ],
      "execution_count": 53,
      "outputs": []
    }
  ]
}