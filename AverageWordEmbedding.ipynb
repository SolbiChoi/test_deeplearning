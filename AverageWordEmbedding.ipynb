{
  "nbformat": 4,
  "nbformat_minor": 0,
  "metadata": {
    "colab": {
      "name": "AverageWordEmbedding.ipynb",
      "provenance": [],
      "authorship_tag": "ABX9TyMYGHGbCTukA0fMQTUdVTnO",
      "include_colab_link": true
    },
    "kernelspec": {
      "name": "python3",
      "display_name": "Python 3"
    },
    "language_info": {
      "name": "python"
    }
  },
  "cells": [
    {
      "cell_type": "markdown",
      "metadata": {
        "id": "view-in-github",
        "colab_type": "text"
      },
      "source": [
        "<a href=\"https://colab.research.google.com/github/SolbiChoi/test_deeplearning/blob/master/AverageWordEmbedding.ipynb\" target=\"_parent\"><img src=\"https://colab.research.google.com/assets/colab-badge.svg\" alt=\"Open In Colab\"/></a>"
      ]
    },
    {
      "cell_type": "code",
      "metadata": {
        "id": "u9gyD4Md8iQ-"
      },
      "source": [
        "from tensorflow.keras.datasets import imdb"
      ],
      "execution_count": 1,
      "outputs": []
    },
    {
      "cell_type": "code",
      "metadata": {
        "colab": {
          "base_uri": "https://localhost:8080/"
        },
        "id": "fJy2j_i49ICn",
        "outputId": "d2e296e3-42a3-4ab8-e7c3-070985583764"
      },
      "source": [
        "vocab_size = 2000\n",
        "(x_train, y_train),(x_test, y_test)=imdb.load_data(num_words=vocab_size)\n",
        "x_train.shape, y_train.shape,x_test.shape, y_test.shape"
      ],
      "execution_count": 2,
      "outputs": [
        {
          "output_type": "stream",
          "text": [
            "Downloading data from https://storage.googleapis.com/tensorflow/tf-keras-datasets/imdb.npz\n",
            "17465344/17464789 [==============================] - 0s 0us/step\n",
            "17473536/17464789 [==============================] - 0s 0us/step\n"
          ],
          "name": "stdout"
        },
        {
          "output_type": "execute_result",
          "data": {
            "text/plain": [
              "((25000,), (25000,), (25000,), (25000,))"
            ]
          },
          "metadata": {},
          "execution_count": 2
        }
      ]
    },
    {
      "cell_type": "code",
      "metadata": {
        "colab": {
          "base_uri": "https://localhost:8080/"
        },
        "id": "cjKNU05c9olK",
        "outputId": "650c4da0-06ab-4bd1-8a62-989e3953b96c"
      },
      "source": [
        "print(x_train[1])"
      ],
      "execution_count": 4,
      "outputs": [
        {
          "output_type": "stream",
          "text": [
            "[1, 194, 1153, 194, 2, 78, 228, 5, 6, 1463, 2, 2, 134, 26, 4, 715, 8, 118, 1634, 14, 394, 20, 13, 119, 954, 189, 102, 5, 207, 110, 2, 21, 14, 69, 188, 8, 30, 23, 7, 4, 249, 126, 93, 4, 114, 9, 2, 1523, 5, 647, 4, 116, 9, 35, 2, 4, 229, 9, 340, 1322, 4, 118, 9, 4, 130, 2, 19, 4, 1002, 5, 89, 29, 952, 46, 37, 4, 455, 9, 45, 43, 38, 1543, 1905, 398, 4, 1649, 26, 2, 5, 163, 11, 2, 2, 4, 1153, 9, 194, 775, 7, 2, 2, 349, 2, 148, 605, 2, 2, 15, 123, 125, 68, 2, 2, 15, 349, 165, 2, 98, 5, 4, 228, 9, 43, 2, 1157, 15, 299, 120, 5, 120, 174, 11, 220, 175, 136, 50, 9, 2, 228, 2, 5, 2, 656, 245, 2, 5, 4, 2, 131, 152, 491, 18, 2, 32, 2, 1212, 14, 9, 6, 371, 78, 22, 625, 64, 1382, 9, 8, 168, 145, 23, 4, 1690, 15, 16, 4, 1355, 5, 28, 6, 52, 154, 462, 33, 89, 78, 285, 16, 145, 95]\n"
          ],
          "name": "stdout"
        }
      ]
    },
    {
      "cell_type": "code",
      "metadata": {
        "colab": {
          "base_uri": "https://localhost:8080/"
        },
        "id": "OO_0cUhA9v8j",
        "outputId": "9a8b8772-155b-4c35-c028-94734c58175c"
      },
      "source": [
        "len(x_train[1]), len(x_train[200])"
      ],
      "execution_count": 5,
      "outputs": [
        {
          "output_type": "execute_result",
          "data": {
            "text/plain": [
              "(189, 160)"
            ]
          },
          "metadata": {},
          "execution_count": 5
        }
      ]
    },
    {
      "cell_type": "code",
      "metadata": {
        "id": "Ws03Q4Oq-O7b"
      },
      "source": [
        "from tensorflow.keras.preprocessing.sequence import pad_sequences"
      ],
      "execution_count": 6,
      "outputs": []
    },
    {
      "cell_type": "code",
      "metadata": {
        "id": "QjtGheuJ-Yh3"
      },
      "source": [
        "X_train = pad_sequences(x_train, maxlen=300)"
      ],
      "execution_count": 7,
      "outputs": []
    },
    {
      "cell_type": "code",
      "metadata": {
        "colab": {
          "base_uri": "https://localhost:8080/"
        },
        "id": "meREq7I4ACAY",
        "outputId": "c1430e33-0ef3-4d6a-e2f9-cfa22a8e38b1"
      },
      "source": [
        "import numpy as np\n",
        "np.unique(y_train)"
      ],
      "execution_count": 10,
      "outputs": [
        {
          "output_type": "execute_result",
          "data": {
            "text/plain": [
              "array([0, 1])"
            ]
          },
          "metadata": {},
          "execution_count": 10
        }
      ]
    },
    {
      "cell_type": "code",
      "metadata": {
        "id": "NbLxdaHv-0KQ"
      },
      "source": [
        "import tensorflow as tf"
      ],
      "execution_count": 8,
      "outputs": []
    },
    {
      "cell_type": "code",
      "metadata": {
        "id": "Xjd6v_6N-6Ny"
      },
      "source": [
        "model=tf.keras.models.Sequential()\n",
        "\n",
        "model.add(tf.keras.layers.Embedding(input_dim=vocab_size, output_dim=50, input_length=300))  # input\n",
        "model.add(tf.keras.layers.GlobalAveragePooling1D())  # hidden /vectorize된것에 대한 평균\n",
        "model.add(tf.keras.layers.Dense(1, activation='sigmoid'))  # output\n",
        "\n",
        "model.compile(optimizer='adam', loss='binary_crossentropy')"
      ],
      "execution_count": 11,
      "outputs": []
    },
    {
      "cell_type": "code",
      "metadata": {
        "colab": {
          "base_uri": "https://localhost:8080/"
        },
        "id": "MqBKsMEU_Egk",
        "outputId": "3e0894b4-815f-47ee-d7db-f2f9b9fe65b0"
      },
      "source": [
        "hist = model.fit(X_train, y_train, epochs=10, batch_size=128, validation_split=0.2)"
      ],
      "execution_count": 12,
      "outputs": [
        {
          "output_type": "stream",
          "text": [
            "Epoch 1/10\n",
            "157/157 [==============================] - 3s 12ms/step - loss: 0.6814 - val_loss: 0.6608\n",
            "Epoch 2/10\n",
            "157/157 [==============================] - 2s 11ms/step - loss: 0.6294 - val_loss: 0.5918\n",
            "Epoch 3/10\n",
            "157/157 [==============================] - 2s 11ms/step - loss: 0.5567 - val_loss: 0.5214\n",
            "Epoch 4/10\n",
            "157/157 [==============================] - 2s 11ms/step - loss: 0.4902 - val_loss: 0.4653\n",
            "Epoch 5/10\n",
            "157/157 [==============================] - 2s 11ms/step - loss: 0.4383 - val_loss: 0.4254\n",
            "Epoch 6/10\n",
            "157/157 [==============================] - 2s 11ms/step - loss: 0.4006 - val_loss: 0.3986\n",
            "Epoch 7/10\n",
            "157/157 [==============================] - 2s 11ms/step - loss: 0.3735 - val_loss: 0.3783\n",
            "Epoch 8/10\n",
            "157/157 [==============================] - 2s 11ms/step - loss: 0.3529 - val_loss: 0.3621\n",
            "Epoch 9/10\n",
            "157/157 [==============================] - 2s 11ms/step - loss: 0.3366 - val_loss: 0.3512\n",
            "Epoch 10/10\n",
            "157/157 [==============================] - 2s 11ms/step - loss: 0.3236 - val_loss: 0.3426\n"
          ],
          "name": "stdout"
        }
      ]
    },
    {
      "cell_type": "code",
      "metadata": {
        "colab": {
          "base_uri": "https://localhost:8080/"
        },
        "id": "Ss-0qQYMBMyh",
        "outputId": "dad0710d-c14e-4a7f-90cd-32538a3564df"
      },
      "source": [
        "model.predict(X_train[5:6])"
      ],
      "execution_count": 13,
      "outputs": [
        {
          "output_type": "execute_result",
          "data": {
            "text/plain": [
              "array([[0.35303736]], dtype=float32)"
            ]
          },
          "metadata": {},
          "execution_count": 13
        }
      ]
    },
    {
      "cell_type": "markdown",
      "metadata": {
        "id": "JEuYqjmsDCdB"
      },
      "source": [
        "# Callback EarlyStopping"
      ]
    },
    {
      "cell_type": "code",
      "metadata": {
        "colab": {
          "base_uri": "https://localhost:8080/"
        },
        "id": "9fs8Ofm2BbRX",
        "outputId": "eba0cf6a-f8a7-4343-ad88-59a585165b59"
      },
      "source": [
        "es = tf.keras.callbacks.EarlyStopping(monitor='val_loss', patience=4, mode='min', verbose=1)\n",
        "es"
      ],
      "execution_count": 15,
      "outputs": [
        {
          "output_type": "execute_result",
          "data": {
            "text/plain": [
              "<keras.callbacks.EarlyStopping at 0x7f3521e77810>"
            ]
          },
          "metadata": {},
          "execution_count": 15
        }
      ]
    },
    {
      "cell_type": "code",
      "metadata": {
        "colab": {
          "base_uri": "https://localhost:8080/"
        },
        "id": "g19WP-m-ETY2",
        "outputId": "a54ee13f-9a08-4333-a251-10ae16650c36"
      },
      "source": [
        "hist = model.fit(X_train, y_train, epochs=20, batch_size=128, validation_split=0.2, callbacks=[es])"
      ],
      "execution_count": 16,
      "outputs": [
        {
          "output_type": "stream",
          "text": [
            "Epoch 1/20\n",
            "157/157 [==============================] - 2s 12ms/step - loss: 0.3131 - val_loss: 0.3350\n",
            "Epoch 2/20\n",
            "157/157 [==============================] - 2s 11ms/step - loss: 0.3041 - val_loss: 0.3294\n",
            "Epoch 3/20\n",
            "157/157 [==============================] - 2s 11ms/step - loss: 0.2965 - val_loss: 0.3250\n",
            "Epoch 4/20\n",
            "157/157 [==============================] - 2s 11ms/step - loss: 0.2896 - val_loss: 0.3218\n",
            "Epoch 5/20\n",
            "157/157 [==============================] - 2s 11ms/step - loss: 0.2836 - val_loss: 0.3185\n",
            "Epoch 6/20\n",
            "157/157 [==============================] - 2s 11ms/step - loss: 0.2783 - val_loss: 0.3165\n",
            "Epoch 7/20\n",
            "157/157 [==============================] - 2s 11ms/step - loss: 0.2737 - val_loss: 0.3147\n",
            "Epoch 8/20\n",
            "157/157 [==============================] - 2s 11ms/step - loss: 0.2697 - val_loss: 0.3132\n",
            "Epoch 9/20\n",
            "157/157 [==============================] - 2s 10ms/step - loss: 0.2663 - val_loss: 0.3118\n",
            "Epoch 10/20\n",
            "157/157 [==============================] - 2s 11ms/step - loss: 0.2629 - val_loss: 0.3121\n",
            "Epoch 11/20\n",
            "157/157 [==============================] - 2s 11ms/step - loss: 0.2599 - val_loss: 0.3104\n",
            "Epoch 12/20\n",
            "157/157 [==============================] - 2s 12ms/step - loss: 0.2576 - val_loss: 0.3105\n",
            "Epoch 13/20\n",
            "157/157 [==============================] - 2s 11ms/step - loss: 0.2546 - val_loss: 0.3125\n",
            "Epoch 14/20\n",
            "157/157 [==============================] - 2s 11ms/step - loss: 0.2526 - val_loss: 0.3112\n",
            "Epoch 15/20\n",
            "157/157 [==============================] - 2s 11ms/step - loss: 0.2505 - val_loss: 0.3103\n",
            "Epoch 16/20\n",
            "157/157 [==============================] - 2s 11ms/step - loss: 0.2484 - val_loss: 0.3107\n",
            "Epoch 17/20\n",
            "157/157 [==============================] - 2s 11ms/step - loss: 0.2471 - val_loss: 0.3112\n",
            "Epoch 18/20\n",
            "157/157 [==============================] - 2s 11ms/step - loss: 0.2450 - val_loss: 0.3122\n",
            "Epoch 19/20\n",
            "157/157 [==============================] - 2s 11ms/step - loss: 0.2434 - val_loss: 0.3152\n",
            "Epoch 00019: early stopping\n"
          ],
          "name": "stdout"
        }
      ]
    },
    {
      "cell_type": "code",
      "metadata": {
        "id": "MTqoChoPEaR6"
      },
      "source": [
        ""
      ],
      "execution_count": null,
      "outputs": []
    }
  ]
}