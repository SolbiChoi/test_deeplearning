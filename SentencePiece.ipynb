{
  "nbformat": 4,
  "nbformat_minor": 0,
  "metadata": {
    "colab": {
      "name": "SentencePiece.ipynb",
      "provenance": [],
      "collapsed_sections": [],
      "authorship_tag": "ABX9TyMstCi7avcWzUkc6fle5D+d",
      "include_colab_link": true
    },
    "kernelspec": {
      "name": "python3",
      "display_name": "Python 3"
    },
    "language_info": {
      "name": "python"
    }
  },
  "cells": [
    {
      "cell_type": "markdown",
      "metadata": {
        "id": "view-in-github",
        "colab_type": "text"
      },
      "source": [
        "<a href=\"https://colab.research.google.com/github/SolbiChoi/test_deeplearning/blob/master/SentencePiece.ipynb\" target=\"_parent\"><img src=\"https://colab.research.google.com/assets/colab-badge.svg\" alt=\"Open In Colab\"/></a>"
      ]
    },
    {
      "cell_type": "code",
      "metadata": {
        "colab": {
          "base_uri": "https://localhost:8080/"
        },
        "id": "lneOJis8IidV",
        "outputId": "effd1f04-d975-436c-d0f4-0023d0553eb4"
      },
      "source": [
        "! python -m pip install sentencepiece"
      ],
      "execution_count": 1,
      "outputs": [
        {
          "output_type": "stream",
          "text": [
            "Collecting sentencepiece\n",
            "  Downloading sentencepiece-0.1.96-cp37-cp37m-manylinux_2_17_x86_64.manylinux2014_x86_64.whl (1.2 MB)\n",
            "\u001b[?25l\r\u001b[K     |▎                               | 10 kB 13.9 MB/s eta 0:00:01\r\u001b[K     |▌                               | 20 kB 10.0 MB/s eta 0:00:01\r\u001b[K     |▉                               | 30 kB 9.5 MB/s eta 0:00:01\r\u001b[K     |█                               | 40 kB 9.9 MB/s eta 0:00:01\r\u001b[K     |█▍                              | 51 kB 11.0 MB/s eta 0:00:01\r\u001b[K     |█▋                              | 61 kB 11.8 MB/s eta 0:00:01\r\u001b[K     |██                              | 71 kB 12.2 MB/s eta 0:00:01\r\u001b[K     |██▏                             | 81 kB 11.8 MB/s eta 0:00:01\r\u001b[K     |██▍                             | 92 kB 12.7 MB/s eta 0:00:01\r\u001b[K     |██▊                             | 102 kB 13.7 MB/s eta 0:00:01\r\u001b[K     |███                             | 112 kB 13.7 MB/s eta 0:00:01\r\u001b[K     |███▎                            | 122 kB 13.7 MB/s eta 0:00:01\r\u001b[K     |███▌                            | 133 kB 13.7 MB/s eta 0:00:01\r\u001b[K     |███▉                            | 143 kB 13.7 MB/s eta 0:00:01\r\u001b[K     |████                            | 153 kB 13.7 MB/s eta 0:00:01\r\u001b[K     |████▎                           | 163 kB 13.7 MB/s eta 0:00:01\r\u001b[K     |████▋                           | 174 kB 13.7 MB/s eta 0:00:01\r\u001b[K     |████▉                           | 184 kB 13.7 MB/s eta 0:00:01\r\u001b[K     |█████▏                          | 194 kB 13.7 MB/s eta 0:00:01\r\u001b[K     |█████▍                          | 204 kB 13.7 MB/s eta 0:00:01\r\u001b[K     |█████▊                          | 215 kB 13.7 MB/s eta 0:00:01\r\u001b[K     |██████                          | 225 kB 13.7 MB/s eta 0:00:01\r\u001b[K     |██████▏                         | 235 kB 13.7 MB/s eta 0:00:01\r\u001b[K     |██████▌                         | 245 kB 13.7 MB/s eta 0:00:01\r\u001b[K     |██████▊                         | 256 kB 13.7 MB/s eta 0:00:01\r\u001b[K     |███████                         | 266 kB 13.7 MB/s eta 0:00:01\r\u001b[K     |███████▎                        | 276 kB 13.7 MB/s eta 0:00:01\r\u001b[K     |███████▋                        | 286 kB 13.7 MB/s eta 0:00:01\r\u001b[K     |███████▉                        | 296 kB 13.7 MB/s eta 0:00:01\r\u001b[K     |████████                        | 307 kB 13.7 MB/s eta 0:00:01\r\u001b[K     |████████▍                       | 317 kB 13.7 MB/s eta 0:00:01\r\u001b[K     |████████▋                       | 327 kB 13.7 MB/s eta 0:00:01\r\u001b[K     |█████████                       | 337 kB 13.7 MB/s eta 0:00:01\r\u001b[K     |█████████▏                      | 348 kB 13.7 MB/s eta 0:00:01\r\u001b[K     |█████████▌                      | 358 kB 13.7 MB/s eta 0:00:01\r\u001b[K     |█████████▊                      | 368 kB 13.7 MB/s eta 0:00:01\r\u001b[K     |██████████                      | 378 kB 13.7 MB/s eta 0:00:01\r\u001b[K     |██████████▎                     | 389 kB 13.7 MB/s eta 0:00:01\r\u001b[K     |██████████▌                     | 399 kB 13.7 MB/s eta 0:00:01\r\u001b[K     |██████████▉                     | 409 kB 13.7 MB/s eta 0:00:01\r\u001b[K     |███████████                     | 419 kB 13.7 MB/s eta 0:00:01\r\u001b[K     |███████████▍                    | 430 kB 13.7 MB/s eta 0:00:01\r\u001b[K     |███████████▋                    | 440 kB 13.7 MB/s eta 0:00:01\r\u001b[K     |███████████▉                    | 450 kB 13.7 MB/s eta 0:00:01\r\u001b[K     |████████████▏                   | 460 kB 13.7 MB/s eta 0:00:01\r\u001b[K     |████████████▍                   | 471 kB 13.7 MB/s eta 0:00:01\r\u001b[K     |████████████▊                   | 481 kB 13.7 MB/s eta 0:00:01\r\u001b[K     |█████████████                   | 491 kB 13.7 MB/s eta 0:00:01\r\u001b[K     |█████████████▎                  | 501 kB 13.7 MB/s eta 0:00:01\r\u001b[K     |█████████████▌                  | 512 kB 13.7 MB/s eta 0:00:01\r\u001b[K     |█████████████▊                  | 522 kB 13.7 MB/s eta 0:00:01\r\u001b[K     |██████████████                  | 532 kB 13.7 MB/s eta 0:00:01\r\u001b[K     |██████████████▎                 | 542 kB 13.7 MB/s eta 0:00:01\r\u001b[K     |██████████████▋                 | 552 kB 13.7 MB/s eta 0:00:01\r\u001b[K     |██████████████▉                 | 563 kB 13.7 MB/s eta 0:00:01\r\u001b[K     |███████████████▏                | 573 kB 13.7 MB/s eta 0:00:01\r\u001b[K     |███████████████▍                | 583 kB 13.7 MB/s eta 0:00:01\r\u001b[K     |███████████████▋                | 593 kB 13.7 MB/s eta 0:00:01\r\u001b[K     |████████████████                | 604 kB 13.7 MB/s eta 0:00:01\r\u001b[K     |████████████████▏               | 614 kB 13.7 MB/s eta 0:00:01\r\u001b[K     |████████████████▌               | 624 kB 13.7 MB/s eta 0:00:01\r\u001b[K     |████████████████▊               | 634 kB 13.7 MB/s eta 0:00:01\r\u001b[K     |█████████████████               | 645 kB 13.7 MB/s eta 0:00:01\r\u001b[K     |█████████████████▎              | 655 kB 13.7 MB/s eta 0:00:01\r\u001b[K     |█████████████████▌              | 665 kB 13.7 MB/s eta 0:00:01\r\u001b[K     |█████████████████▉              | 675 kB 13.7 MB/s eta 0:00:01\r\u001b[K     |██████████████████              | 686 kB 13.7 MB/s eta 0:00:01\r\u001b[K     |██████████████████▍             | 696 kB 13.7 MB/s eta 0:00:01\r\u001b[K     |██████████████████▋             | 706 kB 13.7 MB/s eta 0:00:01\r\u001b[K     |███████████████████             | 716 kB 13.7 MB/s eta 0:00:01\r\u001b[K     |███████████████████▏            | 727 kB 13.7 MB/s eta 0:00:01\r\u001b[K     |███████████████████▍            | 737 kB 13.7 MB/s eta 0:00:01\r\u001b[K     |███████████████████▊            | 747 kB 13.7 MB/s eta 0:00:01\r\u001b[K     |████████████████████            | 757 kB 13.7 MB/s eta 0:00:01\r\u001b[K     |████████████████████▎           | 768 kB 13.7 MB/s eta 0:00:01\r\u001b[K     |████████████████████▌           | 778 kB 13.7 MB/s eta 0:00:01\r\u001b[K     |████████████████████▉           | 788 kB 13.7 MB/s eta 0:00:01\r\u001b[K     |█████████████████████           | 798 kB 13.7 MB/s eta 0:00:01\r\u001b[K     |█████████████████████▎          | 808 kB 13.7 MB/s eta 0:00:01\r\u001b[K     |█████████████████████▋          | 819 kB 13.7 MB/s eta 0:00:01\r\u001b[K     |█████████████████████▉          | 829 kB 13.7 MB/s eta 0:00:01\r\u001b[K     |██████████████████████▏         | 839 kB 13.7 MB/s eta 0:00:01\r\u001b[K     |██████████████████████▍         | 849 kB 13.7 MB/s eta 0:00:01\r\u001b[K     |██████████████████████▊         | 860 kB 13.7 MB/s eta 0:00:01\r\u001b[K     |███████████████████████         | 870 kB 13.7 MB/s eta 0:00:01\r\u001b[K     |███████████████████████▏        | 880 kB 13.7 MB/s eta 0:00:01\r\u001b[K     |███████████████████████▌        | 890 kB 13.7 MB/s eta 0:00:01\r\u001b[K     |███████████████████████▊        | 901 kB 13.7 MB/s eta 0:00:01\r\u001b[K     |████████████████████████        | 911 kB 13.7 MB/s eta 0:00:01\r\u001b[K     |████████████████████████▎       | 921 kB 13.7 MB/s eta 0:00:01\r\u001b[K     |████████████████████████▋       | 931 kB 13.7 MB/s eta 0:00:01\r\u001b[K     |████████████████████████▉       | 942 kB 13.7 MB/s eta 0:00:01\r\u001b[K     |█████████████████████████       | 952 kB 13.7 MB/s eta 0:00:01\r\u001b[K     |█████████████████████████▍      | 962 kB 13.7 MB/s eta 0:00:01\r\u001b[K     |█████████████████████████▋      | 972 kB 13.7 MB/s eta 0:00:01\r\u001b[K     |██████████████████████████      | 983 kB 13.7 MB/s eta 0:00:01\r\u001b[K     |██████████████████████████▏     | 993 kB 13.7 MB/s eta 0:00:01\r\u001b[K     |██████████████████████████▌     | 1.0 MB 13.7 MB/s eta 0:00:01\r\u001b[K     |██████████████████████████▊     | 1.0 MB 13.7 MB/s eta 0:00:01\r\u001b[K     |███████████████████████████     | 1.0 MB 13.7 MB/s eta 0:00:01\r\u001b[K     |███████████████████████████▎    | 1.0 MB 13.7 MB/s eta 0:00:01\r\u001b[K     |███████████████████████████▌    | 1.0 MB 13.7 MB/s eta 0:00:01\r\u001b[K     |███████████████████████████▉    | 1.1 MB 13.7 MB/s eta 0:00:01\r\u001b[K     |████████████████████████████    | 1.1 MB 13.7 MB/s eta 0:00:01\r\u001b[K     |████████████████████████████▍   | 1.1 MB 13.7 MB/s eta 0:00:01\r\u001b[K     |████████████████████████████▋   | 1.1 MB 13.7 MB/s eta 0:00:01\r\u001b[K     |████████████████████████████▉   | 1.1 MB 13.7 MB/s eta 0:00:01\r\u001b[K     |█████████████████████████████▏  | 1.1 MB 13.7 MB/s eta 0:00:01\r\u001b[K     |█████████████████████████████▍  | 1.1 MB 13.7 MB/s eta 0:00:01\r\u001b[K     |█████████████████████████████▊  | 1.1 MB 13.7 MB/s eta 0:00:01\r\u001b[K     |██████████████████████████████  | 1.1 MB 13.7 MB/s eta 0:00:01\r\u001b[K     |██████████████████████████████▎ | 1.1 MB 13.7 MB/s eta 0:00:01\r\u001b[K     |██████████████████████████████▌ | 1.2 MB 13.7 MB/s eta 0:00:01\r\u001b[K     |██████████████████████████████▊ | 1.2 MB 13.7 MB/s eta 0:00:01\r\u001b[K     |███████████████████████████████ | 1.2 MB 13.7 MB/s eta 0:00:01\r\u001b[K     |███████████████████████████████▎| 1.2 MB 13.7 MB/s eta 0:00:01\r\u001b[K     |███████████████████████████████▋| 1.2 MB 13.7 MB/s eta 0:00:01\r\u001b[K     |███████████████████████████████▉| 1.2 MB 13.7 MB/s eta 0:00:01\r\u001b[K     |████████████████████████████████| 1.2 MB 13.7 MB/s \n",
            "\u001b[?25hInstalling collected packages: sentencepiece\n",
            "Successfully installed sentencepiece-0.1.96\n"
          ],
          "name": "stdout"
        }
      ]
    },
    {
      "cell_type": "code",
      "metadata": {
        "id": "fl-JjHZEIyJ4"
      },
      "source": [
        "import sentencepiece as spm"
      ],
      "execution_count": 2,
      "outputs": []
    },
    {
      "cell_type": "code",
      "metadata": {
        "colab": {
          "base_uri": "https://localhost:8080/"
        },
        "id": "EiYWbpS-JIJc",
        "outputId": "585734cf-f0fd-40db-816a-9ef9338a6f95"
      },
      "source": [
        "!curl -O https://raw.githubusercontent.com/LawrenceDuan/IMDb-Review-Analysis/master/IMDb_Reviews.csv"
      ],
      "execution_count": 15,
      "outputs": [
        {
          "output_type": "stream",
          "text": [
            "  % Total    % Received % Xferd  Average Speed   Time    Time     Time  Current\n",
            "                                 Dload  Upload   Total   Spent    Left  Speed\n",
            "100 62.8M  100 62.8M    0     0   173M      0 --:--:-- --:--:-- --:--:--  173M\n"
          ],
          "name": "stdout"
        }
      ]
    },
    {
      "cell_type": "code",
      "metadata": {
        "id": "jEufo55jJIpT"
      },
      "source": [
        "import pandas as pd"
      ],
      "execution_count": 16,
      "outputs": []
    },
    {
      "cell_type": "code",
      "metadata": {
        "id": "EbGHIX6GMF2V"
      },
      "source": [
        "df_data = df_data[0:2000]"
      ],
      "execution_count": 17,
      "outputs": []
    },
    {
      "cell_type": "code",
      "metadata": {
        "colab": {
          "base_uri": "https://localhost:8080/",
          "height": 142
        },
        "id": "kdQj1HnrJUT1",
        "outputId": "0b89f0f9-154c-43bd-f81b-caa6326f40b6"
      },
      "source": [
        "df_data = pd.read_csv('./IMDb_Reviews.csv')\n",
        "df_data.head(3)"
      ],
      "execution_count": 18,
      "outputs": [
        {
          "output_type": "execute_result",
          "data": {
            "text/html": [
              "<div>\n",
              "<style scoped>\n",
              "    .dataframe tbody tr th:only-of-type {\n",
              "        vertical-align: middle;\n",
              "    }\n",
              "\n",
              "    .dataframe tbody tr th {\n",
              "        vertical-align: top;\n",
              "    }\n",
              "\n",
              "    .dataframe thead th {\n",
              "        text-align: right;\n",
              "    }\n",
              "</style>\n",
              "<table border=\"1\" class=\"dataframe\">\n",
              "  <thead>\n",
              "    <tr style=\"text-align: right;\">\n",
              "      <th></th>\n",
              "      <th>review</th>\n",
              "      <th>sentiment</th>\n",
              "    </tr>\n",
              "  </thead>\n",
              "  <tbody>\n",
              "    <tr>\n",
              "      <th>0</th>\n",
              "      <td>My family and I normally do not watch local mo...</td>\n",
              "      <td>1</td>\n",
              "    </tr>\n",
              "    <tr>\n",
              "      <th>1</th>\n",
              "      <td>Believe it or not, this was at one time the wo...</td>\n",
              "      <td>0</td>\n",
              "    </tr>\n",
              "    <tr>\n",
              "      <th>2</th>\n",
              "      <td>After some internet surfing, I found the \"Home...</td>\n",
              "      <td>0</td>\n",
              "    </tr>\n",
              "  </tbody>\n",
              "</table>\n",
              "</div>"
            ],
            "text/plain": [
              "                                              review  sentiment\n",
              "0  My family and I normally do not watch local mo...          1\n",
              "1  Believe it or not, this was at one time the wo...          0\n",
              "2  After some internet surfing, I found the \"Home...          0"
            ]
          },
          "metadata": {},
          "execution_count": 18
        }
      ]
    },
    {
      "cell_type": "code",
      "metadata": {
        "id": "3MXhgWjbJikp"
      },
      "source": [
        "with open('imdb_review.txt','w') as f:\n",
        "  f.write('\\n'.join(df_data['review']))"
      ],
      "execution_count": 19,
      "outputs": []
    },
    {
      "cell_type": "code",
      "metadata": {
        "id": "_PYUHGRQLRHI"
      },
      "source": [
        "spm.SentencePieceTrainer.Train('--input=./imdb_review.txt --model_prefix=imdb --vocab_size=5000 --model_type=bpe --max_sentence_length=9999')"
      ],
      "execution_count": 20,
      "outputs": []
    },
    {
      "cell_type": "code",
      "metadata": {
        "id": "x4o_Bqe8Mqe0"
      },
      "source": [
        "import csv"
      ],
      "execution_count": 21,
      "outputs": []
    },
    {
      "cell_type": "code",
      "metadata": {
        "colab": {
          "base_uri": "https://localhost:8080/",
          "height": 415
        },
        "id": "0c-nf_agOXZX",
        "outputId": "174eaada-1a8f-4c8f-dfcb-b37e64d2dfa4"
      },
      "source": [
        "df_vocab=pd.read_csv('./imdb.vocab', sep='Wt', quoting=csv.QUOTE_NONE, header=None)\n",
        "df_vocab.sample(10)"
      ],
      "execution_count": 22,
      "outputs": [
        {
          "output_type": "stream",
          "text": [
            "/usr/local/lib/python3.7/dist-packages/ipykernel_launcher.py:1: ParserWarning: Falling back to the 'python' engine because the 'c' engine does not support regex separators (separators > 1 char and different from '\\s+' are interpreted as regex); you can avoid this warning by specifying engine='python'.\n",
            "  \"\"\"Entry point for launching an IPython kernel.\n"
          ],
          "name": "stderr"
        },
        {
          "output_type": "execute_result",
          "data": {
            "text/html": [
              "<div>\n",
              "<style scoped>\n",
              "    .dataframe tbody tr th:only-of-type {\n",
              "        vertical-align: middle;\n",
              "    }\n",
              "\n",
              "    .dataframe tbody tr th {\n",
              "        vertical-align: top;\n",
              "    }\n",
              "\n",
              "    .dataframe thead th {\n",
              "        text-align: right;\n",
              "    }\n",
              "</style>\n",
              "<table border=\"1\" class=\"dataframe\">\n",
              "  <thead>\n",
              "    <tr style=\"text-align: right;\">\n",
              "      <th></th>\n",
              "      <th>0</th>\n",
              "    </tr>\n",
              "  </thead>\n",
              "  <tbody>\n",
              "    <tr>\n",
              "      <th>3524</th>\n",
              "      <td>ability\\t-3521</td>\n",
              "    </tr>\n",
              "    <tr>\n",
              "      <th>2448</th>\n",
              "      <td>▁dog\\t-2445</td>\n",
              "    </tr>\n",
              "    <tr>\n",
              "      <th>314</th>\n",
              "      <td>ick\\t-311</td>\n",
              "    </tr>\n",
              "    <tr>\n",
              "      <th>681</th>\n",
              "      <td>▁now\\t-678</td>\n",
              "    </tr>\n",
              "    <tr>\n",
              "      <th>3259</th>\n",
              "      <td>▁tough\\t-3256</td>\n",
              "    </tr>\n",
              "    <tr>\n",
              "      <th>4876</th>\n",
              "      <td>Re\\t-4873</td>\n",
              "    </tr>\n",
              "    <tr>\n",
              "      <th>3762</th>\n",
              "      <td>▁drawn\\t-3759</td>\n",
              "    </tr>\n",
              "    <tr>\n",
              "      <th>4145</th>\n",
              "      <td>▁Lau\\t-4142</td>\n",
              "    </tr>\n",
              "    <tr>\n",
              "      <th>2829</th>\n",
              "      <td>▁remake\\t-2826</td>\n",
              "    </tr>\n",
              "    <tr>\n",
              "      <th>1544</th>\n",
              "      <td>▁et\\t-1541</td>\n",
              "    </tr>\n",
              "  </tbody>\n",
              "</table>\n",
              "</div>"
            ],
            "text/plain": [
              "                   0\n",
              "3524  ability\\t-3521\n",
              "2448     ▁dog\\t-2445\n",
              "314        ick\\t-311\n",
              "681       ▁now\\t-678\n",
              "3259   ▁tough\\t-3256\n",
              "4876       Re\\t-4873\n",
              "3762   ▁drawn\\t-3759\n",
              "4145     ▁Lau\\t-4142\n",
              "2829  ▁remake\\t-2826\n",
              "1544      ▁et\\t-1541"
            ]
          },
          "metadata": {},
          "execution_count": 22
        }
      ]
    },
    {
      "cell_type": "code",
      "metadata": {
        "colab": {
          "base_uri": "https://localhost:8080/"
        },
        "id": "GPQtC9euOn4M",
        "outputId": "fe9171bd-fc90-4af4-e2c1-05e23122c460"
      },
      "source": [
        "spp = spm.SentencePieceProcessor()\n",
        "spp.load('./imdb.model')"
      ],
      "execution_count": 23,
      "outputs": [
        {
          "output_type": "execute_result",
          "data": {
            "text/plain": [
              "True"
            ]
          },
          "metadata": {},
          "execution_count": 23
        }
      ]
    },
    {
      "cell_type": "code",
      "metadata": {
        "id": "Pxw-TiD1QDs-"
      },
      "source": [
        "line01 = \"I didn't at all think of it this way.\""
      ],
      "execution_count": 24,
      "outputs": []
    },
    {
      "cell_type": "code",
      "metadata": {
        "colab": {
          "base_uri": "https://localhost:8080/"
        },
        "id": "2MQKo1kVQYdh",
        "outputId": "995554ac-7e4d-4e07-e3df-dc42bee92ef7"
      },
      "source": [
        "print(spp.encode_as_pieces(line01))"
      ],
      "execution_count": 25,
      "outputs": [
        {
          "output_type": "stream",
          "text": [
            "['▁I', '▁didn', \"'\", 't', '▁at', '▁all', '▁think', '▁of', '▁it', '▁this', '▁way', '.']\n"
          ],
          "name": "stdout"
        }
      ]
    },
    {
      "cell_type": "code",
      "metadata": {
        "colab": {
          "base_uri": "https://localhost:8080/"
        },
        "id": "9-F5pRw8Q5eb",
        "outputId": "fcb23e07-214c-4354-95c9-b755bc6ca369"
      },
      "source": [
        "print(spp.encode_as_ids(line01))"
      ],
      "execution_count": 27,
      "outputs": [
        {
          "output_type": "stream",
          "text": [
            "[41, 623, 4950, 4926, 138, 169, 378, 30, 58, 73, 413, 4945]\n"
          ],
          "name": "stdout"
        }
      ]
    },
    {
      "cell_type": "code",
      "metadata": {
        "id": "jlGm2QG4RABa"
      },
      "source": [
        ""
      ],
      "execution_count": null,
      "outputs": []
    }
  ]
}