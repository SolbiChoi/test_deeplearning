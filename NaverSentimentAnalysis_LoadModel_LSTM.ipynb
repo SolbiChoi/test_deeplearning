{
  "nbformat": 4,
  "nbformat_minor": 0,
  "metadata": {
    "colab": {
      "name": "NaverSentimentAnalysis_LoadModel_LSTM.ipynb",
      "provenance": [],
      "collapsed_sections": [],
      "authorship_tag": "ABX9TyP/Ji5pdkfWwWJrkvfwi9cl",
      "include_colab_link": true
    },
    "kernelspec": {
      "name": "python3",
      "display_name": "Python 3"
    },
    "language_info": {
      "name": "python"
    }
  },
  "cells": [
    {
      "cell_type": "markdown",
      "metadata": {
        "id": "view-in-github",
        "colab_type": "text"
      },
      "source": [
        "<a href=\"https://colab.research.google.com/github/SolbiChoi/test_deeplearning/blob/master/NaverSentimentAnalysis_LoadModel_LSTM.ipynb\" target=\"_parent\"><img src=\"https://colab.research.google.com/assets/colab-badge.svg\" alt=\"Open In Colab\"/></a>"
      ]
    },
    {
      "cell_type": "code",
      "metadata": {
        "id": "Hq_7PLvwdJro"
      },
      "source": [
        "import tensorflow as tf"
      ],
      "execution_count": 94,
      "outputs": []
    },
    {
      "cell_type": "code",
      "metadata": {
        "colab": {
          "base_uri": "https://localhost:8080/"
        },
        "id": "pawr6UUZd8Sy",
        "outputId": "ab4a0aa3-03d4-4699-bac9-9149701ba25b"
      },
      "source": [
        "loaded_model = tf.keras.models.load_model('./NaverSentimentAnalysis_LSTM.h5')\n",
        "loaded_model"
      ],
      "execution_count": 95,
      "outputs": [
        {
          "output_type": "execute_result",
          "data": {
            "text/plain": [
              "<tensorflow.python.keras.engine.sequential.Sequential at 0x7f6902e37650>"
            ]
          },
          "metadata": {
            "tags": []
          },
          "execution_count": 95
        }
      ]
    },
    {
      "cell_type": "code",
      "metadata": {
        "id": "aL_i-KVHgdHS"
      },
      "source": [
        "# !python -m pip install konlpy"
      ],
      "execution_count": 96,
      "outputs": []
    },
    {
      "cell_type": "code",
      "metadata": {
        "colab": {
          "base_uri": "https://localhost:8080/"
        },
        "id": "yfdQSBnAnioj",
        "outputId": "c0615cb3-478e-4ee6-b23a-47becaf96d8e"
      },
      "source": [
        "import pickle\n",
        "stopwords = pickle.load(open('./stopwords.pkl','rb'))\n",
        "print(stopwords)"
      ],
      "execution_count": 97,
      "outputs": [
        {
          "output_type": "stream",
          "text": [
            "['의', '가', '이', '은', '들', '는', '좀', '잘', '걍', '과', '도', '를', '으로', '자', '에', '와', '한', '하다']\n"
          ],
          "name": "stdout"
        }
      ]
    },
    {
      "cell_type": "code",
      "metadata": {
        "id": "Q8TR0-BDfN9B"
      },
      "source": [
        "import konlpy"
      ],
      "execution_count": 98,
      "outputs": []
    },
    {
      "cell_type": "code",
      "metadata": {
        "id": "OQN-snpGwwyx"
      },
      "source": [
        "okt = konlpy.tag.Okt()"
      ],
      "execution_count": 99,
      "outputs": []
    },
    {
      "cell_type": "code",
      "metadata": {
        "id": "Y4RgjJnuw3Ie"
      },
      "source": [
        "# 감독이 예술이네. -> 웹 사용자 입력.\n",
        "new_sentence = okt.morphs('감독이 예술이네.', stem=True)  # 전처리에서 사용한것과 같은 옵션으로 사용"
      ],
      "execution_count": 100,
      "outputs": []
    },
    {
      "cell_type": "code",
      "metadata": {
        "id": "nKZalim5mVUl"
      },
      "source": [
        "# words = list()  # tok을 담을 list\n",
        "# for tok in temp_x:\n",
        "#   if tok not in stopwords:\n",
        "#     words.append(tok)"
      ],
      "execution_count": 101,
      "outputs": []
    },
    {
      "cell_type": "code",
      "metadata": {
        "colab": {
          "base_uri": "https://localhost:8080/"
        },
        "id": "TPNiN4e6gpqz",
        "outputId": "6c8d8a63-787e-4be6-ed17-3595c76b01e2"
      },
      "source": [
        "# 불용어 처리\n",
        "new_sentence = [ tok for tok in new_sentence if tok not in stopwords ]\n",
        "new_sentence"
      ],
      "execution_count": 102,
      "outputs": [
        {
          "output_type": "execute_result",
          "data": {
            "text/plain": [
              "['감독', '예술', '이네', '.']"
            ]
          },
          "metadata": {
            "tags": []
          },
          "execution_count": 102
        }
      ]
    },
    {
      "cell_type": "code",
      "metadata": {
        "colab": {
          "base_uri": "https://localhost:8080/"
        },
        "id": "WdJqp92_oUPA",
        "outputId": "4ac1a277-0ed6-463c-806b-3f982a46ec60"
      },
      "source": [
        "tokenizer = pickle.load(open('./tokenizer.pkl','rb'))\n",
        "tokenizer"
      ],
      "execution_count": 103,
      "outputs": [
        {
          "output_type": "execute_result",
          "data": {
            "text/plain": [
              "<keras_preprocessing.text.Tokenizer at 0x7f68d9b33990>"
            ]
          },
          "metadata": {
            "tags": []
          },
          "execution_count": 103
        }
      ]
    },
    {
      "cell_type": "markdown",
      "metadata": {
        "id": "2IGjefIsxBhl"
      },
      "source": [
        "# padding"
      ]
    },
    {
      "cell_type": "code",
      "metadata": {
        "colab": {
          "base_uri": "https://localhost:8080/"
        },
        "id": "GHn0LJiFpZOt",
        "outputId": "d44de249-e1b4-4d6a-f861-c01cdc9df2dc"
      },
      "source": [
        "encoded = tokenizer.texts_to_sequences([new_sentence])\n",
        "# encoded\n",
        "pad_new = tf.keras.preprocessing.sequence.pad_sequences(encoded, maxlen=50)\n",
        "pad_new"
      ],
      "execution_count": 107,
      "outputs": [
        {
          "output_type": "execute_result",
          "data": {
            "text/plain": [
              "array([[  0,   0,   0,   0,   0,   0,   0,   0,   0,   0,   0,   0,   0,\n",
              "          0,   0,   0,   0,   0,   0,   0,   0,   0,   0,   0,   0,   0,\n",
              "          0,   0,   0,   0,   0,   0,   0,   0,   0,   0,   0,   0,   0,\n",
              "          0,   0,   0,   0,   0,   0,   0,   0,  92, 128,   1]],\n",
              "      dtype=int32)"
            ]
          },
          "metadata": {
            "tags": []
          },
          "execution_count": 107
        }
      ]
    },
    {
      "cell_type": "markdown",
      "metadata": {
        "id": "d-AJHd2ixM6H"
      },
      "source": [
        "# predict"
      ]
    },
    {
      "cell_type": "code",
      "metadata": {
        "colab": {
          "base_uri": "https://localhost:8080/"
        },
        "id": "VUrLbQOOeQWm",
        "outputId": "3a82273c-a464-4994-f530-3c00d10016d0"
      },
      "source": [
        "# ['감독이 예술이네.']\n",
        "score = loaded_model.predict(pad_new)\n",
        "score"
      ],
      "execution_count": 108,
      "outputs": [
        {
          "output_type": "execute_result",
          "data": {
            "text/plain": [
              "array([[0.48630244]], dtype=float32)"
            ]
          },
          "metadata": {
            "tags": []
          },
          "execution_count": 108
        }
      ]
    },
    {
      "cell_type": "markdown",
      "metadata": {
        "id": "HCkB9SmVxQI2"
      },
      "source": [
        "# service"
      ]
    },
    {
      "cell_type": "code",
      "metadata": {
        "colab": {
          "base_uri": "https://localhost:8080/"
        },
        "id": "NeyU5pgZrc4V",
        "outputId": "9ef02b6b-4b07-4a24-f47d-4db78e73ddd0"
      },
      "source": [
        "if (score>0.5):\n",
        "  print('긍정',score*100)\n",
        "else:\n",
        "  print('부정',score)"
      ],
      "execution_count": 109,
      "outputs": [
        {
          "output_type": "stream",
          "text": [
            "부정 [[0.48630244]]\n"
          ],
          "name": "stdout"
        }
      ]
    },
    {
      "cell_type": "code",
      "metadata": {
        "id": "bRMrY7wdrws9"
      },
      "source": [
        "okt = konlpy.tag.Okt()\n",
        "new_sentence = okt.morphs('감독이 예술이네.', stem=True)\n",
        "new_sentence = [ tok for tok in new_sentence if tok not in stopwords ]\n",
        "encoded = tokenizer.texts_to_sequences([new_sentence])\n",
        "pad_new = tf.keras.preprocessing.sequence.pad_sequences(encoded, maxlen=50)\n",
        "score = loaded_model.predict(pad_new)"
      ],
      "execution_count": 110,
      "outputs": []
    },
    {
      "cell_type": "code",
      "metadata": {
        "id": "MPsF_1NAtm23"
      },
      "source": [
        "# 위에꺼 function 화\n",
        "def sentiment_predict(sentence):\n",
        "  okt = konlpy.tag.Okt()\n",
        "  new_sentence = okt.morphs(sentence, stem=True)\n",
        "  new_sentence = [ tok for tok in new_sentence if tok not in stopwords ]\n",
        "  encoded = tokenizer.texts_to_sequences([new_sentence])\n",
        "  pad_new = tf.keras.preprocessing.sequence.pad_sequences(encoded, maxlen=50)\n",
        "  score = loaded_model.predict(pad_new)\n",
        "  return score"
      ],
      "execution_count": 111,
      "outputs": []
    },
    {
      "cell_type": "code",
      "metadata": {
        "colab": {
          "base_uri": "https://localhost:8080/"
        },
        "id": "Rb8PSBeovM8q",
        "outputId": "46555926-3352-4169-9b19-876b14044685"
      },
      "source": [
        "words = '이 영화 꽝이네.'\n",
        "sentiment_predict(words)"
      ],
      "execution_count": 112,
      "outputs": [
        {
          "output_type": "execute_result",
          "data": {
            "text/plain": [
              "array([[0.48776603]], dtype=float32)"
            ]
          },
          "metadata": {
            "tags": []
          },
          "execution_count": 112
        }
      ]
    },
    {
      "cell_type": "code",
      "metadata": {
        "id": "KqaWONvYvUS8"
      },
      "source": [
        ""
      ],
      "execution_count": null,
      "outputs": []
    }
  ]
}