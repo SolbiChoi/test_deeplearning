{
  "nbformat": 4,
  "nbformat_minor": 0,
  "metadata": {
    "colab": {
      "name": "reuter_LSTM.ipynb",
      "provenance": [],
      "collapsed_sections": [],
      "authorship_tag": "ABX9TyMV0OFDC8j9Bvpky+y17Dgm",
      "include_colab_link": true
    },
    "kernelspec": {
      "name": "python3",
      "display_name": "Python 3"
    },
    "language_info": {
      "name": "python"
    }
  },
  "cells": [
    {
      "cell_type": "markdown",
      "metadata": {
        "id": "view-in-github",
        "colab_type": "text"
      },
      "source": [
        "<a href=\"https://colab.research.google.com/github/SolbiChoi/test_deeplearning/blob/master/reuter_LSTM.ipynb\" target=\"_parent\"><img src=\"https://colab.research.google.com/assets/colab-badge.svg\" alt=\"Open In Colab\"/></a>"
      ]
    },
    {
      "cell_type": "code",
      "metadata": {
        "id": "ckbL_dxX3JgX"
      },
      "source": [
        "import tensorflow as tf"
      ],
      "execution_count": 28,
      "outputs": []
    },
    {
      "cell_type": "code",
      "metadata": {
        "colab": {
          "base_uri": "https://localhost:8080/"
        },
        "id": "cY7wg3Lw4IcJ",
        "outputId": "f253fa00-53c9-4bf5-adf5-5aa628b7a5d8"
      },
      "source": [
        "(x_train,y_train),(x_test,y_test) = tf.keras.datasets.reuters.load_data(num_words=10000)\n",
        "x_train.shape,y_train.shape,x_test.shape,y_test.shape"
      ],
      "execution_count": 29,
      "outputs": [
        {
          "output_type": "stream",
          "text": [
            "/usr/local/lib/python3.7/dist-packages/tensorflow/python/keras/datasets/reuters.py:143: VisibleDeprecationWarning: Creating an ndarray from ragged nested sequences (which is a list-or-tuple of lists-or-tuples-or ndarrays with different lengths or shapes) is deprecated. If you meant to do this, you must specify 'dtype=object' when creating the ndarray\n",
            "  x_train, y_train = np.array(xs[:idx]), np.array(labels[:idx])\n",
            "/usr/local/lib/python3.7/dist-packages/tensorflow/python/keras/datasets/reuters.py:144: VisibleDeprecationWarning: Creating an ndarray from ragged nested sequences (which is a list-or-tuple of lists-or-tuples-or ndarrays with different lengths or shapes) is deprecated. If you meant to do this, you must specify 'dtype=object' when creating the ndarray\n",
            "  x_test, y_test = np.array(xs[idx:]), np.array(labels[idx:])\n"
          ],
          "name": "stderr"
        },
        {
          "output_type": "execute_result",
          "data": {
            "text/plain": [
              "((8982,), (8982,), (2246,), (2246,))"
            ]
          },
          "metadata": {
            "tags": []
          },
          "execution_count": 29
        }
      ]
    },
    {
      "cell_type": "code",
      "metadata": {
        "colab": {
          "base_uri": "https://localhost:8080/"
        },
        "id": "kK0hWQZq5-um",
        "outputId": "f92c11fd-0eb5-42cd-c813-662def91f996"
      },
      "source": [
        "print(y_train[50], x_train[50])"
      ],
      "execution_count": 30,
      "outputs": [
        {
          "output_type": "stream",
          "text": [
            "4 [1, 1479, 1197, 71, 8, 25, 1479, 1197, 640, 71, 304, 471, 80, 9, 1379, 1901, 4530, 6797, 79, 5, 8144, 71, 175, 80, 58, 4, 1279, 5, 63, 32, 20, 5, 4, 326, 175, 80, 335, 7, 10, 845, 31, 4, 221, 9, 108, 259, 1479, 1197, 640, 8, 16, 600, 69, 68, 11, 15, 6, 8144, 21, 397, 321, 6, 438, 1761, 3072, 79, 5, 8144, 1040, 894, 1051, 617, 80, 4, 617, 80, 23, 1051, 172, 3814, 3206, 8144, 175, 79, 9, 1379, 6, 264, 395, 3814, 3206, 79, 1479, 1197, 9, 25, 323, 8, 4, 8144, 80, 23, 381, 43, 42, 205, 50, 77, 33, 909, 9, 3509, 22, 216, 6, 216, 17, 12]\n"
          ],
          "name": "stdout"
        }
      ]
    },
    {
      "cell_type": "code",
      "metadata": {
        "colab": {
          "base_uri": "https://localhost:8080/"
        },
        "id": "n4RVs-FW7i67",
        "outputId": "ccf1b771-5b9f-4838-ffdd-3d6512f7877c"
      },
      "source": [
        "pad_x_train = tf.keras.preprocessing.sequence.pad_sequences(x_train, maxlen=500)\n",
        "len(pad_x_train[50])"
      ],
      "execution_count": 31,
      "outputs": [
        {
          "output_type": "execute_result",
          "data": {
            "text/plain": [
              "500"
            ]
          },
          "metadata": {
            "tags": []
          },
          "execution_count": 31
        }
      ]
    },
    {
      "cell_type": "code",
      "metadata": {
        "id": "f1Tqah1bEXxk"
      },
      "source": [
        "import numpy as np"
      ],
      "execution_count": 32,
      "outputs": []
    },
    {
      "cell_type": "code",
      "metadata": {
        "colab": {
          "base_uri": "https://localhost:8080/"
        },
        "id": "B_IHweCkEafn",
        "outputId": "81b9993a-8ec6-471a-f2c0-4b977e4889d2"
      },
      "source": [
        "np.unique(y_train).shape, np.unique(y_train)"
      ],
      "execution_count": 33,
      "outputs": [
        {
          "output_type": "execute_result",
          "data": {
            "text/plain": [
              "((46,),\n",
              " array([ 0,  1,  2,  3,  4,  5,  6,  7,  8,  9, 10, 11, 12, 13, 14, 15, 16,\n",
              "        17, 18, 19, 20, 21, 22, 23, 24, 25, 26, 27, 28, 29, 30, 31, 32, 33,\n",
              "        34, 35, 36, 37, 38, 39, 40, 41, 42, 43, 44, 45]))"
            ]
          },
          "metadata": {
            "tags": []
          },
          "execution_count": 33
        }
      ]
    },
    {
      "cell_type": "markdown",
      "metadata": {
        "id": "v_q60BT_7efH"
      },
      "source": [
        "# make model"
      ]
    },
    {
      "cell_type": "code",
      "metadata": {
        "id": "rGvSgRNv7bPt"
      },
      "source": [
        "model = tf.keras.models.Sequential()"
      ],
      "execution_count": 34,
      "outputs": []
    },
    {
      "cell_type": "code",
      "metadata": {
        "id": "vttKX1Jy77M4"
      },
      "source": [
        "model.add(tf.keras.layers.Embedding(input_length=500, input_dim=10000, output_dim=24))  # input layer\n",
        "\n",
        "# model.add(tf.keras.layers.Flatten())  # hidden \n",
        "model.add(tf.keras.layers.LSTM(24, return_sequences=True, activation='tanh'))  # hidden , return_sequences=True, activation='tanh' defalut 값이라 안넣어줘도 됨\n",
        "model.add(tf.keras.layers.LSTM(12, activation='tanh'))  # hidden\n",
        "\n",
        "model.add(tf.keras.layers.Dense(46, activation='softmax'))  # output layer\n",
        "\n",
        "model.compile(optimizer='adam', loss='sparse_categorical_crossentropy', metrics=['acc'])  # gadget"
      ],
      "execution_count": 35,
      "outputs": []
    },
    {
      "cell_type": "code",
      "metadata": {
        "id": "x97qt8IFH4TT"
      },
      "source": [
        "# model.fit(pad_x_train, y_train)"
      ],
      "execution_count": 36,
      "outputs": []
    },
    {
      "cell_type": "code",
      "metadata": {
        "colab": {
          "base_uri": "https://localhost:8080/"
        },
        "id": "IzFsl7wQSvFo",
        "outputId": "4ad803d8-a59e-48f6-dba6-3c0ea60e7424"
      },
      "source": [
        "# hist = model.fit(pad_x_train, y_train, epochs=5, validation_split=0.3, batch_size=128)\n",
        "hist = model.fit(pad_x_train, y_train, epochs=100, validation_split=0.3, batch_size=256)"
      ],
      "execution_count": 37,
      "outputs": [
        {
          "output_type": "stream",
          "text": [
            "Epoch 1/100\n",
            "25/25 [==============================] - 20s 693ms/step - loss: 3.7307 - acc: 0.3302 - val_loss: 3.4548 - val_acc: 0.3532\n",
            "Epoch 2/100\n",
            "25/25 [==============================] - 16s 659ms/step - loss: 3.2141 - acc: 0.3510 - val_loss: 2.9482 - val_acc: 0.3532\n",
            "Epoch 3/100\n",
            "25/25 [==============================] - 16s 661ms/step - loss: 2.7955 - acc: 0.3510 - val_loss: 2.6137 - val_acc: 0.3532\n",
            "Epoch 4/100\n",
            "25/25 [==============================] - 16s 663ms/step - loss: 2.5623 - acc: 0.3510 - val_loss: 2.4733 - val_acc: 0.3532\n",
            "Epoch 5/100\n",
            "25/25 [==============================] - 17s 664ms/step - loss: 2.4760 - acc: 0.3510 - val_loss: 2.4252 - val_acc: 0.3532\n",
            "Epoch 6/100\n",
            "25/25 [==============================] - 16s 662ms/step - loss: 2.4441 - acc: 0.3510 - val_loss: 2.4057 - val_acc: 0.3532\n",
            "Epoch 7/100\n",
            "25/25 [==============================] - 17s 667ms/step - loss: 2.4300 - acc: 0.3510 - val_loss: 2.3962 - val_acc: 0.3532\n",
            "Epoch 8/100\n",
            "25/25 [==============================] - 17s 663ms/step - loss: 2.4228 - acc: 0.3510 - val_loss: 2.3911 - val_acc: 0.3532\n",
            "Epoch 9/100\n",
            "25/25 [==============================] - 16s 662ms/step - loss: 2.4191 - acc: 0.3510 - val_loss: 2.3884 - val_acc: 0.3532\n",
            "Epoch 10/100\n",
            "25/25 [==============================] - 16s 661ms/step - loss: 2.4168 - acc: 0.3510 - val_loss: 2.3869 - val_acc: 0.3532\n",
            "Epoch 11/100\n",
            "25/25 [==============================] - 17s 666ms/step - loss: 2.4155 - acc: 0.3510 - val_loss: 2.3855 - val_acc: 0.3532\n",
            "Epoch 12/100\n",
            "25/25 [==============================] - 16s 660ms/step - loss: 2.4145 - acc: 0.3510 - val_loss: 2.3850 - val_acc: 0.3532\n",
            "Epoch 13/100\n",
            "25/25 [==============================] - 17s 664ms/step - loss: 2.4139 - acc: 0.3510 - val_loss: 2.3847 - val_acc: 0.3532\n",
            "Epoch 14/100\n",
            "25/25 [==============================] - 16s 661ms/step - loss: 2.4131 - acc: 0.3510 - val_loss: 2.3839 - val_acc: 0.3532\n",
            "Epoch 15/100\n",
            "25/25 [==============================] - 17s 669ms/step - loss: 2.4129 - acc: 0.3510 - val_loss: 2.3835 - val_acc: 0.3532\n",
            "Epoch 16/100\n",
            "25/25 [==============================] - 17s 664ms/step - loss: 2.4129 - acc: 0.3510 - val_loss: 2.3833 - val_acc: 0.3532\n",
            "Epoch 17/100\n",
            "25/25 [==============================] - 17s 665ms/step - loss: 2.4125 - acc: 0.3510 - val_loss: 2.3831 - val_acc: 0.3532\n",
            "Epoch 18/100\n",
            "25/25 [==============================] - 16s 662ms/step - loss: 2.4121 - acc: 0.3510 - val_loss: 2.3830 - val_acc: 0.3532\n",
            "Epoch 19/100\n",
            "25/25 [==============================] - 16s 659ms/step - loss: 2.4121 - acc: 0.3510 - val_loss: 2.3830 - val_acc: 0.3532\n",
            "Epoch 20/100\n",
            "25/25 [==============================] - 16s 661ms/step - loss: 2.4120 - acc: 0.3510 - val_loss: 2.3828 - val_acc: 0.3532\n",
            "Epoch 21/100\n",
            "25/25 [==============================] - 16s 660ms/step - loss: 2.4119 - acc: 0.3510 - val_loss: 2.3828 - val_acc: 0.3532\n",
            "Epoch 22/100\n",
            "25/25 [==============================] - 17s 668ms/step - loss: 2.4118 - acc: 0.3510 - val_loss: 2.3826 - val_acc: 0.3532\n",
            "Epoch 23/100\n",
            "25/25 [==============================] - 17s 664ms/step - loss: 2.4119 - acc: 0.3510 - val_loss: 2.3830 - val_acc: 0.3532\n",
            "Epoch 24/100\n",
            "25/25 [==============================] - 16s 662ms/step - loss: 2.4120 - acc: 0.3510 - val_loss: 2.3826 - val_acc: 0.3532\n",
            "Epoch 25/100\n",
            "25/25 [==============================] - 16s 660ms/step - loss: 2.4118 - acc: 0.3510 - val_loss: 2.3826 - val_acc: 0.3532\n",
            "Epoch 26/100\n",
            "25/25 [==============================] - 17s 664ms/step - loss: 2.4117 - acc: 0.3510 - val_loss: 2.3827 - val_acc: 0.3532\n",
            "Epoch 27/100\n",
            "25/25 [==============================] - 17s 666ms/step - loss: 2.4122 - acc: 0.3510 - val_loss: 2.3826 - val_acc: 0.3532\n",
            "Epoch 28/100\n",
            "25/25 [==============================] - 16s 662ms/step - loss: 2.4118 - acc: 0.3510 - val_loss: 2.3826 - val_acc: 0.3532\n",
            "Epoch 29/100\n",
            "25/25 [==============================] - 17s 663ms/step - loss: 2.4118 - acc: 0.3510 - val_loss: 2.3821 - val_acc: 0.3532\n",
            "Epoch 30/100\n",
            "25/25 [==============================] - 16s 661ms/step - loss: 2.4117 - acc: 0.3510 - val_loss: 2.3829 - val_acc: 0.3532\n",
            "Epoch 31/100\n",
            "25/25 [==============================] - 17s 662ms/step - loss: 2.4116 - acc: 0.3510 - val_loss: 2.3821 - val_acc: 0.3532\n",
            "Epoch 32/100\n",
            "25/25 [==============================] - 17s 664ms/step - loss: 2.4117 - acc: 0.3510 - val_loss: 2.3823 - val_acc: 0.3532\n",
            "Epoch 33/100\n",
            "25/25 [==============================] - 17s 668ms/step - loss: 2.4116 - acc: 0.3510 - val_loss: 2.3825 - val_acc: 0.3532\n",
            "Epoch 34/100\n",
            "25/25 [==============================] - 16s 661ms/step - loss: 2.4114 - acc: 0.3510 - val_loss: 2.3824 - val_acc: 0.3532\n",
            "Epoch 35/100\n",
            "25/25 [==============================] - 17s 663ms/step - loss: 2.4114 - acc: 0.3510 - val_loss: 2.3821 - val_acc: 0.3532\n",
            "Epoch 36/100\n",
            "25/25 [==============================] - 17s 666ms/step - loss: 2.4114 - acc: 0.3510 - val_loss: 2.3819 - val_acc: 0.3532\n",
            "Epoch 37/100\n",
            "25/25 [==============================] - 17s 665ms/step - loss: 2.4088 - acc: 0.3510 - val_loss: 2.3739 - val_acc: 0.3532\n",
            "Epoch 38/100\n",
            "25/25 [==============================] - 17s 664ms/step - loss: 2.4108 - acc: 0.3510 - val_loss: 2.3788 - val_acc: 0.3532\n",
            "Epoch 39/100\n",
            "25/25 [==============================] - 17s 663ms/step - loss: 2.3196 - acc: 0.3536 - val_loss: 2.2430 - val_acc: 0.3558\n",
            "Epoch 40/100\n",
            "25/25 [==============================] - 17s 671ms/step - loss: 2.1767 - acc: 0.3539 - val_loss: 2.1014 - val_acc: 0.3555\n",
            "Epoch 41/100\n",
            "25/25 [==============================] - 17s 664ms/step - loss: 2.0438 - acc: 0.3633 - val_loss: 2.0353 - val_acc: 0.3659\n",
            "Epoch 42/100\n",
            "25/25 [==============================] - 17s 663ms/step - loss: 1.9519 - acc: 0.3843 - val_loss: 1.9789 - val_acc: 0.4234\n",
            "Epoch 43/100\n",
            "25/25 [==============================] - 17s 665ms/step - loss: 1.8627 - acc: 0.4781 - val_loss: 1.9385 - val_acc: 0.4560\n",
            "Epoch 44/100\n",
            "25/25 [==============================] - 17s 669ms/step - loss: 1.7719 - acc: 0.5383 - val_loss: 1.8909 - val_acc: 0.5095\n",
            "Epoch 45/100\n",
            "25/25 [==============================] - 17s 670ms/step - loss: 1.6881 - acc: 0.5769 - val_loss: 1.8522 - val_acc: 0.5232\n",
            "Epoch 46/100\n",
            "25/25 [==============================] - 17s 670ms/step - loss: 1.6130 - acc: 0.5917 - val_loss: 1.8175 - val_acc: 0.5406\n",
            "Epoch 47/100\n",
            "25/25 [==============================] - 17s 675ms/step - loss: 1.5574 - acc: 0.6186 - val_loss: 1.7861 - val_acc: 0.5469\n",
            "Epoch 48/100\n",
            "25/25 [==============================] - 17s 672ms/step - loss: 1.4954 - acc: 0.6342 - val_loss: 1.8306 - val_acc: 0.5236\n",
            "Epoch 49/100\n",
            "25/25 [==============================] - 17s 674ms/step - loss: 1.4352 - acc: 0.6498 - val_loss: 1.7646 - val_acc: 0.5532\n",
            "Epoch 50/100\n",
            "25/25 [==============================] - 17s 673ms/step - loss: 1.3588 - acc: 0.6728 - val_loss: 1.7662 - val_acc: 0.5610\n",
            "Epoch 51/100\n",
            "25/25 [==============================] - 17s 672ms/step - loss: 1.3046 - acc: 0.6884 - val_loss: 1.7772 - val_acc: 0.5321\n",
            "Epoch 52/100\n",
            "25/25 [==============================] - 17s 665ms/step - loss: 1.3024 - acc: 0.6785 - val_loss: 1.7612 - val_acc: 0.5536\n",
            "Epoch 53/100\n",
            "25/25 [==============================] - 17s 665ms/step - loss: 1.2291 - acc: 0.7008 - val_loss: 1.7537 - val_acc: 0.5699\n",
            "Epoch 54/100\n",
            "25/25 [==============================] - 17s 667ms/step - loss: 1.1786 - acc: 0.7202 - val_loss: 1.7715 - val_acc: 0.5625\n",
            "Epoch 55/100\n",
            "25/25 [==============================] - 17s 671ms/step - loss: 1.1370 - acc: 0.7258 - val_loss: 1.7781 - val_acc: 0.5607\n",
            "Epoch 56/100\n",
            "25/25 [==============================] - 17s 663ms/step - loss: 1.1087 - acc: 0.7320 - val_loss: 1.7656 - val_acc: 0.5718\n",
            "Epoch 57/100\n",
            "25/25 [==============================] - 17s 663ms/step - loss: 1.0696 - acc: 0.7396 - val_loss: 1.7827 - val_acc: 0.5714\n",
            "Epoch 58/100\n",
            "25/25 [==============================] - 17s 669ms/step - loss: 1.0347 - acc: 0.7488 - val_loss: 1.7957 - val_acc: 0.5659\n",
            "Epoch 59/100\n",
            "25/25 [==============================] - 17s 667ms/step - loss: 1.0130 - acc: 0.7481 - val_loss: 1.7948 - val_acc: 0.5677\n",
            "Epoch 60/100\n",
            "25/25 [==============================] - 17s 669ms/step - loss: 0.9932 - acc: 0.7539 - val_loss: 1.8035 - val_acc: 0.5740\n",
            "Epoch 61/100\n",
            "25/25 [==============================] - 17s 666ms/step - loss: 0.9686 - acc: 0.7597 - val_loss: 1.8080 - val_acc: 0.5733\n",
            "Epoch 62/100\n",
            "25/25 [==============================] - 17s 665ms/step - loss: 0.9611 - acc: 0.7625 - val_loss: 1.8097 - val_acc: 0.5763\n",
            "Epoch 63/100\n",
            "25/25 [==============================] - 17s 666ms/step - loss: 0.9494 - acc: 0.7651 - val_loss: 1.8637 - val_acc: 0.5562\n",
            "Epoch 64/100\n",
            "25/25 [==============================] - 17s 666ms/step - loss: 0.9258 - acc: 0.7692 - val_loss: 1.8259 - val_acc: 0.5740\n",
            "Epoch 65/100\n",
            "25/25 [==============================] - 17s 668ms/step - loss: 0.9088 - acc: 0.7789 - val_loss: 1.8496 - val_acc: 0.5729\n",
            "Epoch 66/100\n",
            "25/25 [==============================] - 17s 666ms/step - loss: 0.8804 - acc: 0.7853 - val_loss: 1.8458 - val_acc: 0.5751\n",
            "Epoch 67/100\n",
            "25/25 [==============================] - 17s 665ms/step - loss: 0.8587 - acc: 0.7950 - val_loss: 1.8367 - val_acc: 0.5755\n",
            "Epoch 68/100\n",
            "25/25 [==============================] - 17s 665ms/step - loss: 0.8417 - acc: 0.8007 - val_loss: 1.8456 - val_acc: 0.5788\n",
            "Epoch 69/100\n",
            "25/25 [==============================] - 17s 667ms/step - loss: 0.8257 - acc: 0.8053 - val_loss: 1.8579 - val_acc: 0.5763\n",
            "Epoch 70/100\n",
            "25/25 [==============================] - 17s 665ms/step - loss: 0.8080 - acc: 0.8094 - val_loss: 1.8650 - val_acc: 0.5785\n",
            "Epoch 71/100\n",
            "25/25 [==============================] - 17s 666ms/step - loss: 0.7904 - acc: 0.8150 - val_loss: 1.8616 - val_acc: 0.5814\n",
            "Epoch 72/100\n",
            "25/25 [==============================] - 17s 664ms/step - loss: 0.7766 - acc: 0.8168 - val_loss: 1.8660 - val_acc: 0.5744\n",
            "Epoch 73/100\n",
            "25/25 [==============================] - 17s 665ms/step - loss: 0.7645 - acc: 0.8220 - val_loss: 1.8852 - val_acc: 0.5770\n",
            "Epoch 74/100\n",
            "25/25 [==============================] - 17s 664ms/step - loss: 0.7555 - acc: 0.8242 - val_loss: 1.8949 - val_acc: 0.5826\n",
            "Epoch 75/100\n",
            "25/25 [==============================] - 17s 665ms/step - loss: 0.7489 - acc: 0.8271 - val_loss: 1.8924 - val_acc: 0.5844\n",
            "Epoch 76/100\n",
            "25/25 [==============================] - 17s 670ms/step - loss: 0.7427 - acc: 0.8265 - val_loss: 1.9186 - val_acc: 0.5788\n",
            "Epoch 77/100\n",
            "25/25 [==============================] - 17s 672ms/step - loss: 0.7330 - acc: 0.8293 - val_loss: 1.9112 - val_acc: 0.5751\n",
            "Epoch 78/100\n",
            "25/25 [==============================] - 17s 672ms/step - loss: 0.7196 - acc: 0.8312 - val_loss: 1.9126 - val_acc: 0.5781\n",
            "Epoch 79/100\n",
            "25/25 [==============================] - 17s 670ms/step - loss: 0.7074 - acc: 0.8368 - val_loss: 1.9179 - val_acc: 0.5792\n",
            "Epoch 80/100\n",
            "25/25 [==============================] - 17s 669ms/step - loss: 0.7047 - acc: 0.8366 - val_loss: 1.9153 - val_acc: 0.5826\n",
            "Epoch 81/100\n",
            "25/25 [==============================] - 17s 670ms/step - loss: 0.7046 - acc: 0.8362 - val_loss: 1.9144 - val_acc: 0.5870\n",
            "Epoch 82/100\n",
            "25/25 [==============================] - 17s 665ms/step - loss: 0.6938 - acc: 0.8386 - val_loss: 1.9669 - val_acc: 0.5707\n",
            "Epoch 83/100\n",
            "25/25 [==============================] - 17s 664ms/step - loss: 0.6891 - acc: 0.8417 - val_loss: 1.9217 - val_acc: 0.5833\n",
            "Epoch 84/100\n",
            "25/25 [==============================] - 17s 666ms/step - loss: 0.6844 - acc: 0.8409 - val_loss: 1.9427 - val_acc: 0.5826\n",
            "Epoch 85/100\n",
            "25/25 [==============================] - 17s 670ms/step - loss: 0.6740 - acc: 0.8433 - val_loss: 1.9515 - val_acc: 0.5811\n",
            "Epoch 86/100\n",
            "25/25 [==============================] - 17s 665ms/step - loss: 0.6543 - acc: 0.8498 - val_loss: 1.9390 - val_acc: 0.5889\n",
            "Epoch 87/100\n",
            "25/25 [==============================] - 17s 671ms/step - loss: 0.6489 - acc: 0.8502 - val_loss: 1.9651 - val_acc: 0.5777\n",
            "Epoch 88/100\n",
            "25/25 [==============================] - 17s 671ms/step - loss: 0.6387 - acc: 0.8549 - val_loss: 1.9552 - val_acc: 0.5807\n",
            "Epoch 89/100\n",
            "25/25 [==============================] - 17s 670ms/step - loss: 0.6276 - acc: 0.8578 - val_loss: 1.9387 - val_acc: 0.5874\n",
            "Epoch 90/100\n",
            "25/25 [==============================] - 17s 663ms/step - loss: 0.6199 - acc: 0.8610 - val_loss: 1.9675 - val_acc: 0.5807\n",
            "Epoch 91/100\n",
            "25/25 [==============================] - 17s 663ms/step - loss: 0.6118 - acc: 0.8650 - val_loss: 1.9553 - val_acc: 0.5874\n",
            "Epoch 92/100\n",
            "25/25 [==============================] - 17s 668ms/step - loss: 0.6017 - acc: 0.8648 - val_loss: 1.9649 - val_acc: 0.5881\n",
            "Epoch 93/100\n",
            "25/25 [==============================] - 17s 665ms/step - loss: 0.6033 - acc: 0.8675 - val_loss: 1.9725 - val_acc: 0.5855\n",
            "Epoch 94/100\n",
            "25/25 [==============================] - 17s 668ms/step - loss: 0.6525 - acc: 0.8513 - val_loss: 2.0153 - val_acc: 0.5770\n",
            "Epoch 95/100\n",
            "25/25 [==============================] - 17s 668ms/step - loss: 0.6314 - acc: 0.8529 - val_loss: 1.9722 - val_acc: 0.5889\n",
            "Epoch 96/100\n",
            "25/25 [==============================] - 17s 667ms/step - loss: 0.6027 - acc: 0.8615 - val_loss: 1.9776 - val_acc: 0.5878\n",
            "Epoch 97/100\n",
            "25/25 [==============================] - 17s 668ms/step - loss: 0.5889 - acc: 0.8654 - val_loss: 1.9771 - val_acc: 0.5881\n",
            "Epoch 98/100\n",
            "25/25 [==============================] - 17s 670ms/step - loss: 0.5762 - acc: 0.8728 - val_loss: 2.0008 - val_acc: 0.5826\n",
            "Epoch 99/100\n",
            "25/25 [==============================] - 17s 666ms/step - loss: 0.5855 - acc: 0.8646 - val_loss: 2.0045 - val_acc: 0.5889\n",
            "Epoch 100/100\n",
            "25/25 [==============================] - 17s 664ms/step - loss: 0.5666 - acc: 0.8726 - val_loss: 1.9869 - val_acc: 0.5929\n"
          ],
          "name": "stdout"
        }
      ]
    },
    {
      "cell_type": "markdown",
      "metadata": {
        "id": "8s-Pgm0YRby1"
      },
      "source": [
        "# Evaluation"
      ]
    },
    {
      "cell_type": "code",
      "metadata": {
        "colab": {
          "base_uri": "https://localhost:8080/"
        },
        "id": "Hpg02grfIFyD",
        "outputId": "c843efb3-00b6-4b4a-b38a-dc329e77b92e"
      },
      "source": [
        "# 학습시켰던 데이터\n",
        "model.evaluate(pad_x_train,y_train)  # - loss: 2.4055 - acc: 0.3517"
      ],
      "execution_count": 38,
      "outputs": [
        {
          "output_type": "stream",
          "text": [
            "281/281 [==============================] - 17s 61ms/step - loss: 0.9876 - acc: 0.7892\n"
          ],
          "name": "stdout"
        },
        {
          "output_type": "execute_result",
          "data": {
            "text/plain": [
              "[0.9875892400741577, 0.7892451286315918]"
            ]
          },
          "metadata": {
            "tags": []
          },
          "execution_count": 38
        }
      ]
    },
    {
      "cell_type": "markdown",
      "metadata": {
        "id": "nS-iOszqUqmd"
      },
      "source": [
        "## 전처리"
      ]
    },
    {
      "cell_type": "code",
      "metadata": {
        "id": "YCoEFyQVRokO"
      },
      "source": [
        "pad_x_train = tf.keras.preprocessing.sequence.pad_sequences(x_train, maxlen=500)\n",
        "pad_x_test = tf.keras.preprocessing.sequence.pad_sequences(x_test, maxlen=500)"
      ],
      "execution_count": 39,
      "outputs": []
    },
    {
      "cell_type": "code",
      "metadata": {
        "id": "WGjZaGYdXMgT"
      },
      "source": [
        "def pad_make(x_data):\n",
        "  pad_x = tf.keras.preprocessing.sequence.pad_sequences(x_data, maxlen=500)\n",
        "  return pad_x"
      ],
      "execution_count": 40,
      "outputs": []
    },
    {
      "cell_type": "code",
      "metadata": {
        "id": "7ad1t7YqX6y1"
      },
      "source": [
        "pad_make_x = pad_make(x_test)"
      ],
      "execution_count": 41,
      "outputs": []
    },
    {
      "cell_type": "code",
      "metadata": {
        "colab": {
          "base_uri": "https://localhost:8080/"
        },
        "id": "IkuYRGUpYPIg",
        "outputId": "0f85a026-50e8-4829-e757-11362f1c446d"
      },
      "source": [
        "model.evaluate(pad_make_x, y_test)"
      ],
      "execution_count": 42,
      "outputs": [
        {
          "output_type": "stream",
          "text": [
            "71/71 [==============================] - 4s 61ms/step - loss: 2.1429 - acc: 0.5735\n"
          ],
          "name": "stdout"
        },
        {
          "output_type": "execute_result",
          "data": {
            "text/plain": [
              "[2.142890453338623, 0.5734639167785645]"
            ]
          },
          "metadata": {
            "tags": []
          },
          "execution_count": 42
        }
      ]
    },
    {
      "cell_type": "code",
      "metadata": {
        "colab": {
          "base_uri": "https://localhost:8080/"
        },
        "id": "sagJ-2R_U8f0",
        "outputId": "f58a5d35-cc1a-4155-8baa-55f2ce406b29"
      },
      "source": [
        "model.evaluate(pad_x_test, y_test)"
      ],
      "execution_count": 43,
      "outputs": [
        {
          "output_type": "stream",
          "text": [
            "71/71 [==============================] - 4s 61ms/step - loss: 2.1429 - acc: 0.5735\n"
          ],
          "name": "stdout"
        },
        {
          "output_type": "execute_result",
          "data": {
            "text/plain": [
              "[2.142890453338623, 0.5734639167785645]"
            ]
          },
          "metadata": {
            "tags": []
          },
          "execution_count": 43
        }
      ]
    },
    {
      "cell_type": "code",
      "metadata": {
        "id": "Zy0kvzgGVEJy"
      },
      "source": [
        "import matplotlib.pyplot as plt"
      ],
      "execution_count": 44,
      "outputs": []
    },
    {
      "cell_type": "code",
      "metadata": {
        "colab": {
          "base_uri": "https://localhost:8080/",
          "height": 265
        },
        "id": "jdcEctvzVoXs",
        "outputId": "698d0867-5e23-4a85-b0d7-dac1ade70c43"
      },
      "source": [
        "plt.plot(hist.history['loss'])\n",
        "plt.plot(hist.history['val_loss'])\n",
        "plt.show()"
      ],
      "execution_count": 45,
      "outputs": [
        {
          "output_type": "display_data",
          "data": {
            "image/png": "[encoded data removed]",
            "text/plain": [
              "<Figure size 432x288 with 1 Axes>"
            ]
          },
          "metadata": {
            "tags": [],
            "needs_background": "light"
          }
        }
      ]
    },
    {
      "cell_type": "code",
      "metadata": {
        "colab": {
          "base_uri": "https://localhost:8080/",
          "height": 265
        },
        "id": "Z-s8DDNAWEgx",
        "outputId": "f5cbe714-10d5-4fb1-9529-3746df0ecc3d"
      },
      "source": [
        "plt.plot(hist.history['acc'])\n",
        "plt.plot(hist.history['val_acc'])\n",
        "plt.show()"
      ],
      "execution_count": 46,
      "outputs": [
        {
          "output_type": "display_data",
          "data": {
            "image/png": "[encoded data removed]",
            "text/plain": [
              "<Figure size 432x288 with 1 Axes>"
            ]
          },
          "metadata": {
            "tags": [],
            "needs_background": "light"
          }
        }
      ]
    },
    {
      "cell_type": "code",
      "metadata": {
        "id": "3lFDCfjlWWdj"
      },
      "source": [
        "from sklearn.metrics import classification_report"
      ],
      "execution_count": 47,
      "outputs": []
    },
    {
      "cell_type": "code",
      "metadata": {
        "colab": {
          "base_uri": "https://localhost:8080/"
        },
        "id": "6Uuq8bi3paLO",
        "outputId": "da304951-4b18-418c-e120-370e5fc9ef82"
      },
      "source": [
        "y_train_predict = model.predict(pad_x_train)\n",
        "y_train_predict[0]"
      ],
      "execution_count": 49,
      "outputs": [
        {
          "output_type": "execute_result",
          "data": {
            "text/plain": [
              "array([3.02541025e-06, 1.64304348e-03, 2.37869390e-05, 9.59506452e-01,\n",
              "       2.10948680e-02, 9.27544806e-06, 1.80386851e-05, 3.30924559e-05,\n",
              "       3.08849034e-04, 5.50989207e-05, 3.62940009e-05, 2.12904415e-03,\n",
              "       4.44519537e-04, 6.30629365e-05, 5.87777276e-06, 1.34577313e-05,\n",
              "       6.86837686e-03, 1.35560267e-05, 3.01181553e-05, 4.45308117e-03,\n",
              "       1.90572394e-03, 2.17621608e-04, 6.08305072e-06, 5.36035695e-05,\n",
              "       5.46289903e-06, 1.43114103e-05, 9.26799385e-06, 1.36045155e-05,\n",
              "       3.32607488e-05, 1.48814834e-05, 9.06668065e-05, 9.33914707e-05,\n",
              "       3.42892090e-05, 1.75614168e-05, 3.78300232e-04, 2.07267694e-05,\n",
              "       6.92764734e-05, 6.83521102e-06, 4.19200478e-05, 6.17130427e-05,\n",
              "       6.33846139e-05, 4.57318747e-05, 2.34106992e-05, 1.11959143e-05,\n",
              "       8.41858127e-06, 6.44436159e-06], dtype=float32)"
            ]
          },
          "metadata": {
            "tags": []
          },
          "execution_count": 49
        }
      ]
    },
    {
      "cell_type": "code",
      "metadata": {
        "id": "yqAz4myJqYub"
      },
      "source": [
        "import numpy as np"
      ],
      "execution_count": 50,
      "outputs": []
    },
    {
      "cell_type": "code",
      "metadata": {
        "colab": {
          "base_uri": "https://localhost:8080/"
        },
        "id": "zUTYTAiOqbrt",
        "outputId": "1b6c8952-6073-47f3-a345-8dc3aab49588"
      },
      "source": [
        "y_pred = np.argmax(y_train_predict, axis=1)\n",
        "y_pred.shape"
      ],
      "execution_count": 51,
      "outputs": [
        {
          "output_type": "execute_result",
          "data": {
            "text/plain": [
              "(8982,)"
            ]
          },
          "metadata": {
            "tags": []
          },
          "execution_count": 51
        }
      ]
    },
    {
      "cell_type": "code",
      "metadata": {
        "colab": {
          "base_uri": "https://localhost:8080/"
        },
        "id": "MbxnGzTBq4m7",
        "outputId": "723cd1c4-ec84-4c4f-f8e6-5b77ded4cd6e"
      },
      "source": [
        "len(y_train)"
      ],
      "execution_count": 52,
      "outputs": [
        {
          "output_type": "execute_result",
          "data": {
            "text/plain": [
              "8982"
            ]
          },
          "metadata": {
            "tags": []
          },
          "execution_count": 52
        }
      ]
    },
    {
      "cell_type": "code",
      "metadata": {
        "colab": {
          "base_uri": "https://localhost:8080/"
        },
        "id": "Zszc68Ghp1eq",
        "outputId": "45022cf7-0e95-4aed-b953-b839dcce50e5"
      },
      "source": [
        "print(classification_report(y_train, y_pred))"
      ],
      "execution_count": 53,
      "outputs": [
        {
          "output_type": "stream",
          "text": [
            "              precision    recall  f1-score   support\n",
            "\n",
            "           0       0.51      0.36      0.43        55\n",
            "           1       0.74      0.78      0.76       432\n",
            "           2       0.56      0.54      0.55        74\n",
            "           3       0.92      0.96      0.94      3159\n",
            "           4       0.88      0.91      0.90      1949\n",
            "           5       0.00      0.00      0.00        17\n",
            "           6       0.40      0.71      0.51        48\n",
            "           7       0.00      0.00      0.00        16\n",
            "           8       0.50      0.61      0.55       139\n",
            "           9       0.53      0.77      0.63       101\n",
            "          10       0.75      0.72      0.73       124\n",
            "          11       0.83      0.74      0.78       390\n",
            "          12       0.62      0.37      0.46        49\n",
            "          13       0.70      0.73      0.72       172\n",
            "          14       0.23      0.54      0.32        26\n",
            "          15       0.00      0.00      0.00        20\n",
            "          16       0.81      0.70      0.75       444\n",
            "          17       0.61      0.36      0.45        39\n",
            "          18       0.74      0.80      0.77        66\n",
            "          19       0.56      0.85      0.67       549\n",
            "          20       0.17      0.01      0.01       269\n",
            "          21       0.49      0.75      0.60       100\n",
            "          22       0.00      0.00      0.00        15\n",
            "          23       0.40      0.56      0.46        41\n",
            "          24       0.69      0.58      0.63        62\n",
            "          25       0.53      0.63      0.57        92\n",
            "          26       0.00      0.00      0.00        24\n",
            "          27       0.00      0.00      0.00        15\n",
            "          28       0.40      0.35      0.38        48\n",
            "          29       0.00      0.00      0.00        19\n",
            "          30       0.34      0.36      0.35        45\n",
            "          31       0.62      0.33      0.43        39\n",
            "          32       0.25      0.69      0.37        32\n",
            "          33       0.00      0.00      0.00        11\n",
            "          34       0.58      0.64      0.61        50\n",
            "          35       0.00      0.00      0.00        10\n",
            "          36       1.00      0.04      0.08        49\n",
            "          37       1.00      0.16      0.27        19\n",
            "          38       0.00      0.00      0.00        19\n",
            "          39       0.83      0.21      0.33        24\n",
            "          40       0.00      0.00      0.00        36\n",
            "          41       0.68      0.50      0.58        30\n",
            "          42       0.00      0.00      0.00        13\n",
            "          43       0.00      0.00      0.00        21\n",
            "          44       0.43      0.25      0.32        12\n",
            "          45       0.00      0.00      0.00        18\n",
            "\n",
            "    accuracy                           0.79      8982\n",
            "   macro avg       0.42      0.38      0.37      8982\n",
            "weighted avg       0.77      0.79      0.77      8982\n",
            "\n"
          ],
          "name": "stdout"
        },
        {
          "output_type": "stream",
          "text": [
            "/usr/local/lib/python3.7/dist-packages/sklearn/metrics/_classification.py:1272: UndefinedMetricWarning: Precision and F-score are ill-defined and being set to 0.0 in labels with no predicted samples. Use `zero_division` parameter to control this behavior.\n",
            "  _warn_prf(average, modifier, msg_start, len(result))\n"
          ],
          "name": "stderr"
        }
      ]
    },
    {
      "cell_type": "code",
      "metadata": {
        "id": "qVG-fMQzrDVQ"
      },
      "source": [
        "y_test_pred = model.predict(pad_x_test)"
      ],
      "execution_count": 54,
      "outputs": []
    },
    {
      "cell_type": "code",
      "metadata": {
        "id": "qLBBEozqtGpf"
      },
      "source": [
        "y_pred = np.argmax(y_test_pred, axis=1)"
      ],
      "execution_count": 55,
      "outputs": []
    },
    {
      "cell_type": "code",
      "metadata": {
        "colab": {
          "base_uri": "https://localhost:8080/"
        },
        "id": "C0UwG9k9tP2B",
        "outputId": "8ad3ec8b-fc41-4680-beae-7d3f9e5babd5"
      },
      "source": [
        "print(classification_report(y_test, y_pred))"
      ],
      "execution_count": 56,
      "outputs": [
        {
          "output_type": "stream",
          "text": [
            "              precision    recall  f1-score   support\n",
            "\n",
            "           0       0.11      0.08      0.10        12\n",
            "           1       0.22      0.29      0.25       105\n",
            "           2       0.05      0.05      0.05        20\n",
            "           3       0.86      0.90      0.88       813\n",
            "           4       0.69      0.73      0.71       474\n",
            "           5       0.00      0.00      0.00         5\n",
            "           6       0.33      0.21      0.26        14\n",
            "           7       0.00      0.00      0.00         3\n",
            "           8       0.16      0.24      0.19        38\n",
            "           9       0.17      0.24      0.20        25\n",
            "          10       0.23      0.17      0.19        30\n",
            "          11       0.28      0.25      0.27        83\n",
            "          12       0.20      0.15      0.17        13\n",
            "          13       0.12      0.16      0.14        37\n",
            "          14       0.00      0.00      0.00         2\n",
            "          15       0.00      0.00      0.00         9\n",
            "          16       0.40      0.34      0.37        99\n",
            "          17       0.00      0.00      0.00        12\n",
            "          18       0.13      0.10      0.11        20\n",
            "          19       0.38      0.57      0.46       133\n",
            "          20       0.00      0.00      0.00        70\n",
            "          21       0.11      0.22      0.15        27\n",
            "          22       0.00      0.00      0.00         7\n",
            "          23       0.17      0.08      0.11        12\n",
            "          24       0.00      0.00      0.00        19\n",
            "          25       0.25      0.29      0.27        31\n",
            "          26       0.00      0.00      0.00         8\n",
            "          27       0.00      0.00      0.00         4\n",
            "          28       0.00      0.00      0.00        10\n",
            "          29       0.00      0.00      0.00         4\n",
            "          30       0.00      0.00      0.00        12\n",
            "          31       0.00      0.00      0.00        13\n",
            "          32       0.09      0.20      0.12        10\n",
            "          33       0.00      0.00      0.00         5\n",
            "          34       0.00      0.00      0.00         7\n",
            "          35       0.00      0.00      0.00         6\n",
            "          36       0.00      0.00      0.00        11\n",
            "          37       0.00      0.00      0.00         2\n",
            "          38       0.00      0.00      0.00         3\n",
            "          39       0.00      0.00      0.00         5\n",
            "          40       0.00      0.00      0.00        10\n",
            "          41       0.50      0.12      0.20         8\n",
            "          42       0.00      0.00      0.00         3\n",
            "          43       0.00      0.00      0.00         6\n",
            "          44       1.00      0.20      0.33         5\n",
            "          45       0.00      0.00      0.00         1\n",
            "\n",
            "    accuracy                           0.57      2246\n",
            "   macro avg       0.14      0.12      0.12      2246\n",
            "weighted avg       0.54      0.57      0.56      2246\n",
            "\n"
          ],
          "name": "stdout"
        },
        {
          "output_type": "stream",
          "text": [
            "/usr/local/lib/python3.7/dist-packages/sklearn/metrics/_classification.py:1272: UndefinedMetricWarning: Precision and F-score are ill-defined and being set to 0.0 in labels with no predicted samples. Use `zero_division` parameter to control this behavior.\n",
            "  _warn_prf(average, modifier, msg_start, len(result))\n"
          ],
          "name": "stderr"
        }
      ]
    },
    {
      "cell_type": "code",
      "metadata": {
        "id": "jveT9se5tUwx"
      },
      "source": [
        ""
      ],
      "execution_count": null,
      "outputs": []
    }
  ]
}