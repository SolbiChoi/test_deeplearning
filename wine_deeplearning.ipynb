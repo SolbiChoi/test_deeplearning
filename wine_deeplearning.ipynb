{
  "nbformat": 4,
  "nbformat_minor": 0,
  "metadata": {
    "colab": {
      "name": "wine_deeplearning.ipynb",
      "provenance": [],
      "authorship_tag": "ABX9TyN1MwHH2m/PEnKpJqG34vDt",
      "include_colab_link": true
    },
    "kernelspec": {
      "name": "python3",
      "display_name": "Python 3"
    },
    "language_info": {
      "name": "python"
    }
  },
  "cells": [
    {
      "cell_type": "markdown",
      "metadata": {
        "id": "view-in-github",
        "colab_type": "text"
      },
      "source": [
        "<a href=\"https://colab.research.google.com/github/SolbiChoi/test_deeplearning/blob/master/wine_deeplearning.ipynb\" target=\"_parent\"><img src=\"https://colab.research.google.com/assets/colab-badge.svg\" alt=\"Open In Colab\"/></a>"
      ]
    },
    {
      "cell_type": "markdown",
      "metadata": {
        "id": "Gw6c7DRJheuC"
      },
      "source": [
        "# 1. Store data to DB"
      ]
    },
    {
      "cell_type": "code",
      "metadata": {
        "id": "xeOApJ2hbrjN"
      },
      "source": [
        "from sklearn import datasets"
      ],
      "execution_count": 1,
      "outputs": []
    },
    {
      "cell_type": "code",
      "metadata": {
        "colab": {
          "base_uri": "https://localhost:8080/"
        },
        "id": "w3YfAjYjb0aw",
        "outputId": "3021efb5-ddf8-4424-d36d-4d5d25ae5211"
      },
      "source": [
        "wine = datasets.load_wine()\n",
        "wine.keys()"
      ],
      "execution_count": 2,
      "outputs": [
        {
          "output_type": "execute_result",
          "data": {
            "text/plain": [
              "dict_keys(['data', 'target', 'target_names', 'DESCR', 'feature_names'])"
            ]
          },
          "metadata": {
            "tags": []
          },
          "execution_count": 2
        }
      ]
    },
    {
      "cell_type": "code",
      "metadata": {
        "colab": {
          "base_uri": "https://localhost:8080/"
        },
        "id": "v-LZV5uscJBQ",
        "outputId": "999f270f-ab4a-4ed2-90cb-3d55db2679fd"
      },
      "source": [
        "x_data = wine['data']\n",
        "x_data.shape"
      ],
      "execution_count": 3,
      "outputs": [
        {
          "output_type": "execute_result",
          "data": {
            "text/plain": [
              "(178, 13)"
            ]
          },
          "metadata": {
            "tags": []
          },
          "execution_count": 3
        }
      ]
    },
    {
      "cell_type": "code",
      "metadata": {
        "colab": {
          "base_uri": "https://localhost:8080/"
        },
        "id": "K4dLcDBidBU1",
        "outputId": "49e8f4bd-51af-4e8a-ea16-bda2de1bf310"
      },
      "source": [
        "y_data = wine['target']\n",
        "y_data"
      ],
      "execution_count": 4,
      "outputs": [
        {
          "output_type": "execute_result",
          "data": {
            "text/plain": [
              "array([0, 0, 0, 0, 0, 0, 0, 0, 0, 0, 0, 0, 0, 0, 0, 0, 0, 0, 0, 0, 0, 0,\n",
              "       0, 0, 0, 0, 0, 0, 0, 0, 0, 0, 0, 0, 0, 0, 0, 0, 0, 0, 0, 0, 0, 0,\n",
              "       0, 0, 0, 0, 0, 0, 0, 0, 0, 0, 0, 0, 0, 0, 0, 1, 1, 1, 1, 1, 1, 1,\n",
              "       1, 1, 1, 1, 1, 1, 1, 1, 1, 1, 1, 1, 1, 1, 1, 1, 1, 1, 1, 1, 1, 1,\n",
              "       1, 1, 1, 1, 1, 1, 1, 1, 1, 1, 1, 1, 1, 1, 1, 1, 1, 1, 1, 1, 1, 1,\n",
              "       1, 1, 1, 1, 1, 1, 1, 1, 1, 1, 1, 1, 1, 1, 1, 1, 1, 1, 1, 1, 2, 2,\n",
              "       2, 2, 2, 2, 2, 2, 2, 2, 2, 2, 2, 2, 2, 2, 2, 2, 2, 2, 2, 2, 2, 2,\n",
              "       2, 2, 2, 2, 2, 2, 2, 2, 2, 2, 2, 2, 2, 2, 2, 2, 2, 2, 2, 2, 2, 2,\n",
              "       2, 2])"
            ]
          },
          "metadata": {
            "tags": []
          },
          "execution_count": 4
        }
      ]
    },
    {
      "cell_type": "code",
      "metadata": {
        "colab": {
          "base_uri": "https://localhost:8080/"
        },
        "id": "Sc1b9HOjdH93",
        "outputId": "c9a8cc5e-0c6b-4391-f3d3-7bb1cdc30ab7"
      },
      "source": [
        "import numpy as np\n",
        "np.unique(y_data)"
      ],
      "execution_count": 5,
      "outputs": [
        {
          "output_type": "execute_result",
          "data": {
            "text/plain": [
              "array([0, 1, 2])"
            ]
          },
          "metadata": {
            "tags": []
          },
          "execution_count": 5
        }
      ]
    },
    {
      "cell_type": "markdown",
      "metadata": {
        "id": "ligtho8EhmKS"
      },
      "source": [
        "## Table (data, target)"
      ]
    },
    {
      "cell_type": "code",
      "metadata": {
        "colab": {
          "base_uri": "https://localhost:8080/"
        },
        "id": "kivneX3Ch7Aj",
        "outputId": "84ccbaea-e0cd-4bdf-b11b-2aa253585040"
      },
      "source": [
        "import pandas as pd\n",
        "df_wine = pd.DataFrame(wine.data, columns=wine['feature_names'])\n",
        "df_wine.info()"
      ],
      "execution_count": 6,
      "outputs": [
        {
          "output_type": "stream",
          "text": [
            "<class 'pandas.core.frame.DataFrame'>\n",
            "RangeIndex: 178 entries, 0 to 177\n",
            "Data columns (total 13 columns):\n",
            " #   Column                        Non-Null Count  Dtype  \n",
            "---  ------                        --------------  -----  \n",
            " 0   alcohol                       178 non-null    float64\n",
            " 1   malic_acid                    178 non-null    float64\n",
            " 2   ash                           178 non-null    float64\n",
            " 3   alcalinity_of_ash             178 non-null    float64\n",
            " 4   magnesium                     178 non-null    float64\n",
            " 5   total_phenols                 178 non-null    float64\n",
            " 6   flavanoids                    178 non-null    float64\n",
            " 7   nonflavanoid_phenols          178 non-null    float64\n",
            " 8   proanthocyanins               178 non-null    float64\n",
            " 9   color_intensity               178 non-null    float64\n",
            " 10  hue                           178 non-null    float64\n",
            " 11  od280/od315_of_diluted_wines  178 non-null    float64\n",
            " 12  proline                       178 non-null    float64\n",
            "dtypes: float64(13)\n",
            "memory usage: 18.2 KB\n"
          ],
          "name": "stdout"
        }
      ]
    },
    {
      "cell_type": "code",
      "metadata": {
        "colab": {
          "base_uri": "https://localhost:8080/",
          "height": 419
        },
        "id": "msZjeDSXwtzZ",
        "outputId": "fa3d13ab-67c8-4476-d59f-759748c44d83"
      },
      "source": [
        "df_wine"
      ],
      "execution_count": 7,
      "outputs": [
        {
          "output_type": "execute_result",
          "data": {
            "text/html": [
              "<div>\n",
              "<style scoped>\n",
              "    .dataframe tbody tr th:only-of-type {\n",
              "        vertical-align: middle;\n",
              "    }\n",
              "\n",
              "    .dataframe tbody tr th {\n",
              "        vertical-align: top;\n",
              "    }\n",
              "\n",
              "    .dataframe thead th {\n",
              "        text-align: right;\n",
              "    }\n",
              "</style>\n",
              "<table border=\"1\" class=\"dataframe\">\n",
              "  <thead>\n",
              "    <tr style=\"text-align: right;\">\n",
              "      <th></th>\n",
              "      <th>alcohol</th>\n",
              "      <th>malic_acid</th>\n",
              "      <th>ash</th>\n",
              "      <th>alcalinity_of_ash</th>\n",
              "      <th>magnesium</th>\n",
              "      <th>total_phenols</th>\n",
              "      <th>flavanoids</th>\n",
              "      <th>nonflavanoid_phenols</th>\n",
              "      <th>proanthocyanins</th>\n",
              "      <th>color_intensity</th>\n",
              "      <th>hue</th>\n",
              "      <th>od280/od315_of_diluted_wines</th>\n",
              "      <th>proline</th>\n",
              "    </tr>\n",
              "  </thead>\n",
              "  <tbody>\n",
              "    <tr>\n",
              "      <th>0</th>\n",
              "      <td>14.23</td>\n",
              "      <td>1.71</td>\n",
              "      <td>2.43</td>\n",
              "      <td>15.6</td>\n",
              "      <td>127.0</td>\n",
              "      <td>2.80</td>\n",
              "      <td>3.06</td>\n",
              "      <td>0.28</td>\n",
              "      <td>2.29</td>\n",
              "      <td>5.64</td>\n",
              "      <td>1.04</td>\n",
              "      <td>3.92</td>\n",
              "      <td>1065.0</td>\n",
              "    </tr>\n",
              "    <tr>\n",
              "      <th>1</th>\n",
              "      <td>13.20</td>\n",
              "      <td>1.78</td>\n",
              "      <td>2.14</td>\n",
              "      <td>11.2</td>\n",
              "      <td>100.0</td>\n",
              "      <td>2.65</td>\n",
              "      <td>2.76</td>\n",
              "      <td>0.26</td>\n",
              "      <td>1.28</td>\n",
              "      <td>4.38</td>\n",
              "      <td>1.05</td>\n",
              "      <td>3.40</td>\n",
              "      <td>1050.0</td>\n",
              "    </tr>\n",
              "    <tr>\n",
              "      <th>2</th>\n",
              "      <td>13.16</td>\n",
              "      <td>2.36</td>\n",
              "      <td>2.67</td>\n",
              "      <td>18.6</td>\n",
              "      <td>101.0</td>\n",
              "      <td>2.80</td>\n",
              "      <td>3.24</td>\n",
              "      <td>0.30</td>\n",
              "      <td>2.81</td>\n",
              "      <td>5.68</td>\n",
              "      <td>1.03</td>\n",
              "      <td>3.17</td>\n",
              "      <td>1185.0</td>\n",
              "    </tr>\n",
              "    <tr>\n",
              "      <th>3</th>\n",
              "      <td>14.37</td>\n",
              "      <td>1.95</td>\n",
              "      <td>2.50</td>\n",
              "      <td>16.8</td>\n",
              "      <td>113.0</td>\n",
              "      <td>3.85</td>\n",
              "      <td>3.49</td>\n",
              "      <td>0.24</td>\n",
              "      <td>2.18</td>\n",
              "      <td>7.80</td>\n",
              "      <td>0.86</td>\n",
              "      <td>3.45</td>\n",
              "      <td>1480.0</td>\n",
              "    </tr>\n",
              "    <tr>\n",
              "      <th>4</th>\n",
              "      <td>13.24</td>\n",
              "      <td>2.59</td>\n",
              "      <td>2.87</td>\n",
              "      <td>21.0</td>\n",
              "      <td>118.0</td>\n",
              "      <td>2.80</td>\n",
              "      <td>2.69</td>\n",
              "      <td>0.39</td>\n",
              "      <td>1.82</td>\n",
              "      <td>4.32</td>\n",
              "      <td>1.04</td>\n",
              "      <td>2.93</td>\n",
              "      <td>735.0</td>\n",
              "    </tr>\n",
              "    <tr>\n",
              "      <th>...</th>\n",
              "      <td>...</td>\n",
              "      <td>...</td>\n",
              "      <td>...</td>\n",
              "      <td>...</td>\n",
              "      <td>...</td>\n",
              "      <td>...</td>\n",
              "      <td>...</td>\n",
              "      <td>...</td>\n",
              "      <td>...</td>\n",
              "      <td>...</td>\n",
              "      <td>...</td>\n",
              "      <td>...</td>\n",
              "      <td>...</td>\n",
              "    </tr>\n",
              "    <tr>\n",
              "      <th>173</th>\n",
              "      <td>13.71</td>\n",
              "      <td>5.65</td>\n",
              "      <td>2.45</td>\n",
              "      <td>20.5</td>\n",
              "      <td>95.0</td>\n",
              "      <td>1.68</td>\n",
              "      <td>0.61</td>\n",
              "      <td>0.52</td>\n",
              "      <td>1.06</td>\n",
              "      <td>7.70</td>\n",
              "      <td>0.64</td>\n",
              "      <td>1.74</td>\n",
              "      <td>740.0</td>\n",
              "    </tr>\n",
              "    <tr>\n",
              "      <th>174</th>\n",
              "      <td>13.40</td>\n",
              "      <td>3.91</td>\n",
              "      <td>2.48</td>\n",
              "      <td>23.0</td>\n",
              "      <td>102.0</td>\n",
              "      <td>1.80</td>\n",
              "      <td>0.75</td>\n",
              "      <td>0.43</td>\n",
              "      <td>1.41</td>\n",
              "      <td>7.30</td>\n",
              "      <td>0.70</td>\n",
              "      <td>1.56</td>\n",
              "      <td>750.0</td>\n",
              "    </tr>\n",
              "    <tr>\n",
              "      <th>175</th>\n",
              "      <td>13.27</td>\n",
              "      <td>4.28</td>\n",
              "      <td>2.26</td>\n",
              "      <td>20.0</td>\n",
              "      <td>120.0</td>\n",
              "      <td>1.59</td>\n",
              "      <td>0.69</td>\n",
              "      <td>0.43</td>\n",
              "      <td>1.35</td>\n",
              "      <td>10.20</td>\n",
              "      <td>0.59</td>\n",
              "      <td>1.56</td>\n",
              "      <td>835.0</td>\n",
              "    </tr>\n",
              "    <tr>\n",
              "      <th>176</th>\n",
              "      <td>13.17</td>\n",
              "      <td>2.59</td>\n",
              "      <td>2.37</td>\n",
              "      <td>20.0</td>\n",
              "      <td>120.0</td>\n",
              "      <td>1.65</td>\n",
              "      <td>0.68</td>\n",
              "      <td>0.53</td>\n",
              "      <td>1.46</td>\n",
              "      <td>9.30</td>\n",
              "      <td>0.60</td>\n",
              "      <td>1.62</td>\n",
              "      <td>840.0</td>\n",
              "    </tr>\n",
              "    <tr>\n",
              "      <th>177</th>\n",
              "      <td>14.13</td>\n",
              "      <td>4.10</td>\n",
              "      <td>2.74</td>\n",
              "      <td>24.5</td>\n",
              "      <td>96.0</td>\n",
              "      <td>2.05</td>\n",
              "      <td>0.76</td>\n",
              "      <td>0.56</td>\n",
              "      <td>1.35</td>\n",
              "      <td>9.20</td>\n",
              "      <td>0.61</td>\n",
              "      <td>1.60</td>\n",
              "      <td>560.0</td>\n",
              "    </tr>\n",
              "  </tbody>\n",
              "</table>\n",
              "<p>178 rows × 13 columns</p>\n",
              "</div>"
            ],
            "text/plain": [
              "     alcohol  malic_acid   ash  ...   hue  od280/od315_of_diluted_wines  proline\n",
              "0      14.23        1.71  2.43  ...  1.04                          3.92   1065.0\n",
              "1      13.20        1.78  2.14  ...  1.05                          3.40   1050.0\n",
              "2      13.16        2.36  2.67  ...  1.03                          3.17   1185.0\n",
              "3      14.37        1.95  2.50  ...  0.86                          3.45   1480.0\n",
              "4      13.24        2.59  2.87  ...  1.04                          2.93    735.0\n",
              "..       ...         ...   ...  ...   ...                           ...      ...\n",
              "173    13.71        5.65  2.45  ...  0.64                          1.74    740.0\n",
              "174    13.40        3.91  2.48  ...  0.70                          1.56    750.0\n",
              "175    13.27        4.28  2.26  ...  0.59                          1.56    835.0\n",
              "176    13.17        2.59  2.37  ...  0.60                          1.62    840.0\n",
              "177    14.13        4.10  2.74  ...  0.61                          1.60    560.0\n",
              "\n",
              "[178 rows x 13 columns]"
            ]
          },
          "metadata": {
            "tags": []
          },
          "execution_count": 7
        }
      ]
    },
    {
      "cell_type": "code",
      "metadata": {
        "id": "igzaKA_1iJFK"
      },
      "source": [
        "import sqlite3\n",
        "connect = sqlite3.connect('./db.sqlite3')"
      ],
      "execution_count": 8,
      "outputs": []
    },
    {
      "cell_type": "code",
      "metadata": {
        "id": "dmQ7EEgWiUgH"
      },
      "source": [
        "df_wine.to_sql('wine_resource', connect, if_exists='append', index=False)"
      ],
      "execution_count": 9,
      "outputs": []
    },
    {
      "cell_type": "markdown",
      "metadata": {
        "id": "BA7vo1UVjIsi"
      },
      "source": [
        "# 2. DB에서 data 불러오기 (load data)"
      ]
    },
    {
      "cell_type": "markdown",
      "metadata": {
        "id": "u3CtmhvIkNCJ"
      },
      "source": [
        "## (1) Data 전처리"
      ]
    },
    {
      "cell_type": "markdown",
      "metadata": {
        "id": "rVdFt2DojYcA"
      },
      "source": [
        "## (2) x,y 로 쪼개기 (split)"
      ]
    },
    {
      "cell_type": "code",
      "metadata": {
        "colab": {
          "base_uri": "https://localhost:8080/",
          "height": 0
        },
        "id": "Eg4nwppXinxW",
        "outputId": "c55e1509-17bc-4f12-8be1-09d9ef8931c5"
      },
      "source": [
        "df_load = pd.read_sql_query('select * from wine_resource', connect)\n",
        "df_load.head(3)"
      ],
      "execution_count": 10,
      "outputs": [
        {
          "output_type": "execute_result",
          "data": {
            "text/html": [
              "<div>\n",
              "<style scoped>\n",
              "    .dataframe tbody tr th:only-of-type {\n",
              "        vertical-align: middle;\n",
              "    }\n",
              "\n",
              "    .dataframe tbody tr th {\n",
              "        vertical-align: top;\n",
              "    }\n",
              "\n",
              "    .dataframe thead th {\n",
              "        text-align: right;\n",
              "    }\n",
              "</style>\n",
              "<table border=\"1\" class=\"dataframe\">\n",
              "  <thead>\n",
              "    <tr style=\"text-align: right;\">\n",
              "      <th></th>\n",
              "      <th>alcohol</th>\n",
              "      <th>malic_acid</th>\n",
              "      <th>ash</th>\n",
              "      <th>alcalinity_of_ash</th>\n",
              "      <th>magnesium</th>\n",
              "      <th>total_phenols</th>\n",
              "      <th>flavanoids</th>\n",
              "      <th>nonflavanoid_phenols</th>\n",
              "      <th>proanthocyanins</th>\n",
              "      <th>color_intensity</th>\n",
              "      <th>hue</th>\n",
              "      <th>od280/od315_of_diluted_wines</th>\n",
              "      <th>proline</th>\n",
              "    </tr>\n",
              "  </thead>\n",
              "  <tbody>\n",
              "    <tr>\n",
              "      <th>0</th>\n",
              "      <td>14.23</td>\n",
              "      <td>1.71</td>\n",
              "      <td>2.43</td>\n",
              "      <td>15.6</td>\n",
              "      <td>127.0</td>\n",
              "      <td>2.80</td>\n",
              "      <td>3.06</td>\n",
              "      <td>0.28</td>\n",
              "      <td>2.29</td>\n",
              "      <td>5.64</td>\n",
              "      <td>1.04</td>\n",
              "      <td>3.92</td>\n",
              "      <td>1065.0</td>\n",
              "    </tr>\n",
              "    <tr>\n",
              "      <th>1</th>\n",
              "      <td>13.20</td>\n",
              "      <td>1.78</td>\n",
              "      <td>2.14</td>\n",
              "      <td>11.2</td>\n",
              "      <td>100.0</td>\n",
              "      <td>2.65</td>\n",
              "      <td>2.76</td>\n",
              "      <td>0.26</td>\n",
              "      <td>1.28</td>\n",
              "      <td>4.38</td>\n",
              "      <td>1.05</td>\n",
              "      <td>3.40</td>\n",
              "      <td>1050.0</td>\n",
              "    </tr>\n",
              "    <tr>\n",
              "      <th>2</th>\n",
              "      <td>13.16</td>\n",
              "      <td>2.36</td>\n",
              "      <td>2.67</td>\n",
              "      <td>18.6</td>\n",
              "      <td>101.0</td>\n",
              "      <td>2.80</td>\n",
              "      <td>3.24</td>\n",
              "      <td>0.30</td>\n",
              "      <td>2.81</td>\n",
              "      <td>5.68</td>\n",
              "      <td>1.03</td>\n",
              "      <td>3.17</td>\n",
              "      <td>1185.0</td>\n",
              "    </tr>\n",
              "  </tbody>\n",
              "</table>\n",
              "</div>"
            ],
            "text/plain": [
              "   alcohol  malic_acid   ash  ...   hue  od280/od315_of_diluted_wines  proline\n",
              "0    14.23        1.71  2.43  ...  1.04                          3.92   1065.0\n",
              "1    13.20        1.78  2.14  ...  1.05                          3.40   1050.0\n",
              "2    13.16        2.36  2.67  ...  1.03                          3.17   1185.0\n",
              "\n",
              "[3 rows x 13 columns]"
            ]
          },
          "metadata": {
            "tags": []
          },
          "execution_count": 10
        }
      ]
    },
    {
      "cell_type": "code",
      "metadata": {
        "colab": {
          "base_uri": "https://localhost:8080/"
        },
        "id": "m3iT8GdlikD8",
        "outputId": "b1ed782c-4150-4023-82e4-ef0166acc36d"
      },
      "source": [
        "x_data = df_load.to_numpy()\n",
        "x_data.shape"
      ],
      "execution_count": 11,
      "outputs": [
        {
          "output_type": "execute_result",
          "data": {
            "text/plain": [
              "(178, 13)"
            ]
          },
          "metadata": {
            "tags": []
          },
          "execution_count": 11
        }
      ]
    },
    {
      "cell_type": "code",
      "metadata": {
        "colab": {
          "base_uri": "https://localhost:8080/"
        },
        "id": "b6yXzQMYdSM3",
        "outputId": "251d47f9-c893-4203-c16a-4990da43d1fc"
      },
      "source": [
        "y_data = wine.target\n",
        "y_data, np.unique(y_data)"
      ],
      "execution_count": 12,
      "outputs": [
        {
          "output_type": "execute_result",
          "data": {
            "text/plain": [
              "(array([0, 0, 0, 0, 0, 0, 0, 0, 0, 0, 0, 0, 0, 0, 0, 0, 0, 0, 0, 0, 0, 0,\n",
              "        0, 0, 0, 0, 0, 0, 0, 0, 0, 0, 0, 0, 0, 0, 0, 0, 0, 0, 0, 0, 0, 0,\n",
              "        0, 0, 0, 0, 0, 0, 0, 0, 0, 0, 0, 0, 0, 0, 0, 1, 1, 1, 1, 1, 1, 1,\n",
              "        1, 1, 1, 1, 1, 1, 1, 1, 1, 1, 1, 1, 1, 1, 1, 1, 1, 1, 1, 1, 1, 1,\n",
              "        1, 1, 1, 1, 1, 1, 1, 1, 1, 1, 1, 1, 1, 1, 1, 1, 1, 1, 1, 1, 1, 1,\n",
              "        1, 1, 1, 1, 1, 1, 1, 1, 1, 1, 1, 1, 1, 1, 1, 1, 1, 1, 1, 1, 2, 2,\n",
              "        2, 2, 2, 2, 2, 2, 2, 2, 2, 2, 2, 2, 2, 2, 2, 2, 2, 2, 2, 2, 2, 2,\n",
              "        2, 2, 2, 2, 2, 2, 2, 2, 2, 2, 2, 2, 2, 2, 2, 2, 2, 2, 2, 2, 2, 2,\n",
              "        2, 2]), array([0, 1, 2]))"
            ]
          },
          "metadata": {
            "tags": []
          },
          "execution_count": 12
        }
      ]
    },
    {
      "cell_type": "markdown",
      "metadata": {
        "id": "-bkxeHsMj_XO"
      },
      "source": [
        "# 3. Deeplearning"
      ]
    },
    {
      "cell_type": "markdown",
      "metadata": {
        "id": "QToVNCgLpllT"
      },
      "source": [
        "### model 만들기"
      ]
    },
    {
      "cell_type": "code",
      "metadata": {
        "id": "AlnCLSxNj2ce"
      },
      "source": [
        "import tensorflow as tf"
      ],
      "execution_count": 13,
      "outputs": []
    },
    {
      "cell_type": "code",
      "metadata": {
        "colab": {
          "base_uri": "https://localhost:8080/"
        },
        "id": "9dyQLvokkZSC",
        "outputId": "1949716f-63fe-48f7-dd23-dcf0d85e43e3"
      },
      "source": [
        "model = tf.keras.Sequential()\n",
        "\n",
        "model.add(tf.keras.Input(shape=13,))  # input layer\n",
        "\n",
        "model.add(tf.keras.layers.Dense(64, activation='relu'))  # hidden layer\n",
        "model.add(tf.keras.layers.Dense(128, activation='relu'))  # hidden layer\n",
        "# model.add(tf.keras.layers.Dense(64, activation='relu'))\n",
        "model.add(tf.keras.layers.Dense(32, activation='relu'))  # hidden layer (항아리 모양으로 만들기)\n",
        "\n",
        "model.add(tf.keras.layers.Dense(3, activation='softmax'))  # output layer\n",
        "\n",
        "model.compile(optimizer='adam', loss='sparse_categorical_crossentropy', metrics=['acc'])"
      ],
      "execution_count": 14,
      "outputs": [
        {
          "output_type": "stream",
          "text": [
            "WARNING:tensorflow:Please add `keras.layers.InputLayer` instead of `keras.Input` to Sequential model. `keras.Input` is intended to be used by Functional model.\n"
          ],
          "name": "stdout"
        }
      ]
    },
    {
      "cell_type": "code",
      "metadata": {
        "colab": {
          "base_uri": "https://localhost:8080/"
        },
        "id": "N_hDlWIUlO2s",
        "outputId": "c3d7e1c8-10aa-44ca-a97d-67b03cb7d2b0"
      },
      "source": [
        "model.summary()"
      ],
      "execution_count": 15,
      "outputs": [
        {
          "output_type": "stream",
          "text": [
            "Model: \"sequential\"\n",
            "_________________________________________________________________\n",
            "Layer (type)                 Output Shape              Param #   \n",
            "=================================================================\n",
            "dense (Dense)                (None, 64)                896       \n",
            "_________________________________________________________________\n",
            "dense_1 (Dense)              (None, 128)               8320      \n",
            "_________________________________________________________________\n",
            "dense_2 (Dense)              (None, 64)                8256      \n",
            "_________________________________________________________________\n",
            "dense_3 (Dense)              (None, 32)                2080      \n",
            "_________________________________________________________________\n",
            "dense_4 (Dense)              (None, 3)                 99        \n",
            "=================================================================\n",
            "Total params: 19,651\n",
            "Trainable params: 19,651\n",
            "Non-trainable params: 0\n",
            "_________________________________________________________________\n"
          ],
          "name": "stdout"
        }
      ]
    },
    {
      "cell_type": "markdown",
      "metadata": {
        "id": "kKmFtUHylsef"
      },
      "source": [
        "# 4. 교육"
      ]
    },
    {
      "cell_type": "code",
      "metadata": {
        "colab": {
          "base_uri": "https://localhost:8080/"
        },
        "id": "F9WhN5zvlQr2",
        "outputId": "07c8593a-81da-4d2d-9238-616ecdfb3931"
      },
      "source": [
        "model.fit(x_data, y_data, epochs=500, validation_split=0.3)"
      ],
      "execution_count": 16,
      "outputs": [
        {
          "output_type": "stream",
          "text": [
            "Epoch 1/500\n",
            "4/4 [==============================] - 1s 65ms/step - loss: 12.7721 - acc: 0.4677 - val_loss: 53.2744 - val_acc: 0.0000e+00\n",
            "Epoch 2/500\n",
            "4/4 [==============================] - 0s 9ms/step - loss: 6.5864 - acc: 0.6210 - val_loss: 28.6882 - val_acc: 0.1111\n",
            "Epoch 3/500\n",
            "4/4 [==============================] - 0s 10ms/step - loss: 6.7034 - acc: 0.6048 - val_loss: 31.5675 - val_acc: 0.0370\n",
            "Epoch 4/500\n",
            "4/4 [==============================] - 0s 8ms/step - loss: 5.7039 - acc: 0.5000 - val_loss: 32.9065 - val_acc: 0.0185\n",
            "Epoch 5/500\n",
            "4/4 [==============================] - 0s 9ms/step - loss: 2.4259 - acc: 0.6855 - val_loss: 23.0541 - val_acc: 0.1111\n",
            "Epoch 6/500\n",
            "4/4 [==============================] - 0s 9ms/step - loss: 3.0355 - acc: 0.6613 - val_loss: 21.3752 - val_acc: 0.0926\n",
            "Epoch 7/500\n",
            "4/4 [==============================] - 0s 10ms/step - loss: 2.4375 - acc: 0.6452 - val_loss: 22.9922 - val_acc: 0.0926\n",
            "Epoch 8/500\n",
            "4/4 [==============================] - 0s 9ms/step - loss: 1.3654 - acc: 0.7823 - val_loss: 21.1801 - val_acc: 0.1111\n",
            "Epoch 9/500\n",
            "4/4 [==============================] - 0s 10ms/step - loss: 1.3781 - acc: 0.7903 - val_loss: 20.3622 - val_acc: 0.1111\n",
            "Epoch 10/500\n",
            "4/4 [==============================] - 0s 12ms/step - loss: 0.8052 - acc: 0.8548 - val_loss: 21.3774 - val_acc: 0.0926\n",
            "Epoch 11/500\n",
            "4/4 [==============================] - 0s 10ms/step - loss: 0.7538 - acc: 0.8226 - val_loss: 20.7250 - val_acc: 0.1111\n",
            "Epoch 12/500\n",
            "4/4 [==============================] - 0s 9ms/step - loss: 0.5819 - acc: 0.8871 - val_loss: 21.0391 - val_acc: 0.1111\n",
            "Epoch 13/500\n",
            "4/4 [==============================] - 0s 9ms/step - loss: 0.3187 - acc: 0.9113 - val_loss: 20.5395 - val_acc: 0.0926\n",
            "Epoch 14/500\n",
            "4/4 [==============================] - 0s 12ms/step - loss: 0.4687 - acc: 0.8468 - val_loss: 20.4957 - val_acc: 0.1111\n",
            "Epoch 15/500\n",
            "4/4 [==============================] - 0s 9ms/step - loss: 0.3580 - acc: 0.8952 - val_loss: 20.8982 - val_acc: 0.1111\n",
            "Epoch 16/500\n",
            "4/4 [==============================] - 0s 18ms/step - loss: 0.3812 - acc: 0.8952 - val_loss: 20.6069 - val_acc: 0.1111\n",
            "Epoch 17/500\n",
            "4/4 [==============================] - 0s 16ms/step - loss: 0.3263 - acc: 0.8790 - val_loss: 20.6762 - val_acc: 0.1111\n",
            "Epoch 18/500\n",
            "4/4 [==============================] - 0s 10ms/step - loss: 0.3395 - acc: 0.9032 - val_loss: 20.8418 - val_acc: 0.1111\n",
            "Epoch 19/500\n",
            "4/4 [==============================] - 0s 9ms/step - loss: 0.3165 - acc: 0.9032 - val_loss: 20.7487 - val_acc: 0.1111\n",
            "Epoch 20/500\n",
            "4/4 [==============================] - 0s 10ms/step - loss: 0.3304 - acc: 0.8790 - val_loss: 20.8562 - val_acc: 0.1111\n",
            "Epoch 21/500\n",
            "4/4 [==============================] - 0s 10ms/step - loss: 0.2957 - acc: 0.9113 - val_loss: 21.1543 - val_acc: 0.1111\n",
            "Epoch 22/500\n",
            "4/4 [==============================] - 0s 9ms/step - loss: 0.3369 - acc: 0.9194 - val_loss: 20.9245 - val_acc: 0.1111\n",
            "Epoch 23/500\n",
            "4/4 [==============================] - 0s 10ms/step - loss: 0.3449 - acc: 0.8710 - val_loss: 20.9933 - val_acc: 0.1111\n",
            "Epoch 24/500\n",
            "4/4 [==============================] - 0s 9ms/step - loss: 0.3753 - acc: 0.8710 - val_loss: 21.3696 - val_acc: 0.1111\n",
            "Epoch 25/500\n",
            "4/4 [==============================] - 0s 9ms/step - loss: 0.3099 - acc: 0.9032 - val_loss: 21.0542 - val_acc: 0.1111\n",
            "Epoch 26/500\n",
            "4/4 [==============================] - 0s 9ms/step - loss: 0.2847 - acc: 0.8790 - val_loss: 21.1456 - val_acc: 0.1111\n",
            "Epoch 27/500\n",
            "4/4 [==============================] - 0s 10ms/step - loss: 0.3152 - acc: 0.9194 - val_loss: 21.3078 - val_acc: 0.1111\n",
            "Epoch 28/500\n",
            "4/4 [==============================] - 0s 9ms/step - loss: 0.3108 - acc: 0.8548 - val_loss: 21.2306 - val_acc: 0.1111\n",
            "Epoch 29/500\n",
            "4/4 [==============================] - 0s 9ms/step - loss: 0.3022 - acc: 0.9274 - val_loss: 21.5164 - val_acc: 0.1111\n",
            "Epoch 30/500\n",
            "4/4 [==============================] - 0s 9ms/step - loss: 0.2563 - acc: 0.9032 - val_loss: 21.3949 - val_acc: 0.1111\n",
            "Epoch 31/500\n",
            "4/4 [==============================] - 0s 11ms/step - loss: 0.3520 - acc: 0.8387 - val_loss: 21.5997 - val_acc: 0.1111\n",
            "Epoch 32/500\n",
            "4/4 [==============================] - 0s 12ms/step - loss: 0.3216 - acc: 0.8952 - val_loss: 21.7020 - val_acc: 0.1111\n",
            "Epoch 33/500\n",
            "4/4 [==============================] - 0s 10ms/step - loss: 0.2217 - acc: 0.8952 - val_loss: 21.6833 - val_acc: 0.1111\n",
            "Epoch 34/500\n",
            "4/4 [==============================] - 0s 10ms/step - loss: 0.2664 - acc: 0.8710 - val_loss: 22.3177 - val_acc: 0.1111\n",
            "Epoch 35/500\n",
            "4/4 [==============================] - 0s 12ms/step - loss: 0.3455 - acc: 0.8871 - val_loss: 21.8162 - val_acc: 0.1111\n",
            "Epoch 36/500\n",
            "4/4 [==============================] - 0s 9ms/step - loss: 0.3526 - acc: 0.8468 - val_loss: 21.9616 - val_acc: 0.1111\n",
            "Epoch 37/500\n",
            "4/4 [==============================] - 0s 10ms/step - loss: 0.3257 - acc: 0.9032 - val_loss: 21.9994 - val_acc: 0.1111\n",
            "Epoch 38/500\n",
            "4/4 [==============================] - 0s 10ms/step - loss: 0.2490 - acc: 0.8548 - val_loss: 22.0225 - val_acc: 0.1111\n",
            "Epoch 39/500\n",
            "4/4 [==============================] - 0s 14ms/step - loss: 0.2367 - acc: 0.9032 - val_loss: 22.2741 - val_acc: 0.1111\n",
            "Epoch 40/500\n",
            "4/4 [==============================] - 0s 10ms/step - loss: 0.2395 - acc: 0.9032 - val_loss: 22.1714 - val_acc: 0.1111\n",
            "Epoch 41/500\n",
            "4/4 [==============================] - 0s 10ms/step - loss: 0.2594 - acc: 0.9113 - val_loss: 22.2533 - val_acc: 0.1111\n",
            "Epoch 42/500\n",
            "4/4 [==============================] - 0s 12ms/step - loss: 0.2215 - acc: 0.8871 - val_loss: 22.3402 - val_acc: 0.1111\n",
            "Epoch 43/500\n",
            "4/4 [==============================] - 0s 9ms/step - loss: 0.2234 - acc: 0.9274 - val_loss: 22.5327 - val_acc: 0.1111\n",
            "Epoch 44/500\n",
            "4/4 [==============================] - 0s 10ms/step - loss: 0.2226 - acc: 0.8871 - val_loss: 22.4989 - val_acc: 0.1111\n",
            "Epoch 45/500\n",
            "4/4 [==============================] - 0s 10ms/step - loss: 0.2011 - acc: 0.9032 - val_loss: 22.8972 - val_acc: 0.1111\n",
            "Epoch 46/500\n",
            "4/4 [==============================] - 0s 14ms/step - loss: 0.2788 - acc: 0.8871 - val_loss: 22.6885 - val_acc: 0.1111\n",
            "Epoch 47/500\n",
            "4/4 [==============================] - 0s 11ms/step - loss: 0.2176 - acc: 0.9274 - val_loss: 22.9861 - val_acc: 0.1111\n",
            "Epoch 48/500\n",
            "4/4 [==============================] - 0s 10ms/step - loss: 0.1830 - acc: 0.9113 - val_loss: 22.8497 - val_acc: 0.1111\n",
            "Epoch 49/500\n",
            "4/4 [==============================] - 0s 9ms/step - loss: 0.2140 - acc: 0.8871 - val_loss: 23.1296 - val_acc: 0.1111\n",
            "Epoch 50/500\n",
            "4/4 [==============================] - 0s 9ms/step - loss: 0.2006 - acc: 0.9194 - val_loss: 23.0598 - val_acc: 0.1111\n",
            "Epoch 51/500\n",
            "4/4 [==============================] - 0s 8ms/step - loss: 0.1845 - acc: 0.9355 - val_loss: 23.2757 - val_acc: 0.1111\n",
            "Epoch 52/500\n",
            "4/4 [==============================] - 0s 9ms/step - loss: 0.2384 - acc: 0.8629 - val_loss: 23.6234 - val_acc: 0.1111\n",
            "Epoch 53/500\n",
            "4/4 [==============================] - 0s 10ms/step - loss: 0.2797 - acc: 0.9032 - val_loss: 23.4893 - val_acc: 0.0926\n",
            "Epoch 54/500\n",
            "4/4 [==============================] - 0s 10ms/step - loss: 0.3811 - acc: 0.8468 - val_loss: 23.9199 - val_acc: 0.1111\n",
            "Epoch 55/500\n",
            "4/4 [==============================] - 0s 10ms/step - loss: 0.4619 - acc: 0.8145 - val_loss: 23.2812 - val_acc: 0.1111\n",
            "Epoch 56/500\n",
            "4/4 [==============================] - 0s 10ms/step - loss: 0.2353 - acc: 0.8952 - val_loss: 23.3218 - val_acc: 0.1111\n",
            "Epoch 57/500\n",
            "4/4 [==============================] - 0s 10ms/step - loss: 0.2207 - acc: 0.8952 - val_loss: 23.4580 - val_acc: 0.1111\n",
            "Epoch 58/500\n",
            "4/4 [==============================] - 0s 12ms/step - loss: 0.2842 - acc: 0.9194 - val_loss: 23.3899 - val_acc: 0.0926\n",
            "Epoch 59/500\n",
            "4/4 [==============================] - 0s 9ms/step - loss: 0.3490 - acc: 0.8629 - val_loss: 23.6962 - val_acc: 0.1111\n",
            "Epoch 60/500\n",
            "4/4 [==============================] - 0s 11ms/step - loss: 0.2106 - acc: 0.8952 - val_loss: 23.5569 - val_acc: 0.1111\n",
            "Epoch 61/500\n",
            "4/4 [==============================] - 0s 12ms/step - loss: 0.1924 - acc: 0.9194 - val_loss: 23.5440 - val_acc: 0.1111\n",
            "Epoch 62/500\n",
            "4/4 [==============================] - 0s 10ms/step - loss: 0.2048 - acc: 0.8952 - val_loss: 23.6609 - val_acc: 0.1111\n",
            "Epoch 63/500\n",
            "4/4 [==============================] - 0s 10ms/step - loss: 0.2210 - acc: 0.9194 - val_loss: 23.5520 - val_acc: 0.1111\n",
            "Epoch 64/500\n",
            "4/4 [==============================] - 0s 9ms/step - loss: 0.3202 - acc: 0.8548 - val_loss: 24.0664 - val_acc: 0.1111\n",
            "Epoch 65/500\n",
            "4/4 [==============================] - 0s 9ms/step - loss: 0.2411 - acc: 0.8710 - val_loss: 23.6801 - val_acc: 0.1111\n",
            "Epoch 66/500\n",
            "4/4 [==============================] - 0s 10ms/step - loss: 0.1801 - acc: 0.9194 - val_loss: 23.7312 - val_acc: 0.1111\n",
            "Epoch 67/500\n",
            "4/4 [==============================] - 0s 11ms/step - loss: 0.2277 - acc: 0.8871 - val_loss: 23.6939 - val_acc: 0.1111\n",
            "Epoch 68/500\n",
            "4/4 [==============================] - 0s 13ms/step - loss: 0.1923 - acc: 0.9113 - val_loss: 23.7806 - val_acc: 0.1111\n",
            "Epoch 69/500\n",
            "4/4 [==============================] - 0s 10ms/step - loss: 0.1845 - acc: 0.9113 - val_loss: 23.8670 - val_acc: 0.1111\n",
            "Epoch 70/500\n",
            "4/4 [==============================] - 0s 9ms/step - loss: 0.1894 - acc: 0.9113 - val_loss: 23.7686 - val_acc: 0.1111\n",
            "Epoch 71/500\n",
            "4/4 [==============================] - 0s 11ms/step - loss: 0.2008 - acc: 0.9113 - val_loss: 23.9125 - val_acc: 0.1111\n",
            "Epoch 72/500\n",
            "4/4 [==============================] - 0s 9ms/step - loss: 0.1919 - acc: 0.9113 - val_loss: 23.9207 - val_acc: 0.1111\n",
            "Epoch 73/500\n",
            "4/4 [==============================] - 0s 10ms/step - loss: 0.1682 - acc: 0.9274 - val_loss: 24.0807 - val_acc: 0.1111\n",
            "Epoch 74/500\n",
            "4/4 [==============================] - 0s 11ms/step - loss: 0.1714 - acc: 0.9274 - val_loss: 23.9806 - val_acc: 0.1111\n",
            "Epoch 75/500\n",
            "4/4 [==============================] - 0s 11ms/step - loss: 0.1734 - acc: 0.9355 - val_loss: 24.1790 - val_acc: 0.1111\n",
            "Epoch 76/500\n",
            "4/4 [==============================] - 0s 12ms/step - loss: 0.1743 - acc: 0.9274 - val_loss: 24.1022 - val_acc: 0.1111\n",
            "Epoch 77/500\n",
            "4/4 [==============================] - 0s 9ms/step - loss: 0.2488 - acc: 0.9032 - val_loss: 24.4383 - val_acc: 0.1111\n",
            "Epoch 78/500\n",
            "4/4 [==============================] - 0s 9ms/step - loss: 0.1837 - acc: 0.8952 - val_loss: 24.1159 - val_acc: 0.1111\n",
            "Epoch 79/500\n",
            "4/4 [==============================] - 0s 11ms/step - loss: 0.1653 - acc: 0.9194 - val_loss: 24.2143 - val_acc: 0.1111\n",
            "Epoch 80/500\n",
            "4/4 [==============================] - 0s 11ms/step - loss: 0.2063 - acc: 0.9032 - val_loss: 24.7604 - val_acc: 0.1111\n",
            "Epoch 81/500\n",
            "4/4 [==============================] - 0s 12ms/step - loss: 0.2270 - acc: 0.9355 - val_loss: 24.5491 - val_acc: 0.0926\n",
            "Epoch 82/500\n",
            "4/4 [==============================] - 0s 10ms/step - loss: 0.2615 - acc: 0.8710 - val_loss: 25.0326 - val_acc: 0.1111\n",
            "Epoch 83/500\n",
            "4/4 [==============================] - 0s 17ms/step - loss: 0.2077 - acc: 0.9032 - val_loss: 24.8194 - val_acc: 0.1111\n",
            "Epoch 84/500\n",
            "4/4 [==============================] - 0s 10ms/step - loss: 0.1569 - acc: 0.9274 - val_loss: 24.9250 - val_acc: 0.1111\n",
            "Epoch 85/500\n",
            "4/4 [==============================] - 0s 10ms/step - loss: 0.1657 - acc: 0.9274 - val_loss: 24.9263 - val_acc: 0.1111\n",
            "Epoch 86/500\n",
            "4/4 [==============================] - 0s 9ms/step - loss: 0.2135 - acc: 0.9194 - val_loss: 24.9466 - val_acc: 0.1111\n",
            "Epoch 87/500\n",
            "4/4 [==============================] - 0s 10ms/step - loss: 0.2302 - acc: 0.9113 - val_loss: 25.8127 - val_acc: 0.1111\n",
            "Epoch 88/500\n",
            "4/4 [==============================] - 0s 11ms/step - loss: 0.3203 - acc: 0.8710 - val_loss: 24.7989 - val_acc: 0.1111\n",
            "Epoch 89/500\n",
            "4/4 [==============================] - 0s 9ms/step - loss: 0.3666 - acc: 0.8790 - val_loss: 24.6357 - val_acc: 0.1111\n",
            "Epoch 90/500\n",
            "4/4 [==============================] - 0s 10ms/step - loss: 0.2215 - acc: 0.8710 - val_loss: 24.8740 - val_acc: 0.1111\n",
            "Epoch 91/500\n",
            "4/4 [==============================] - 0s 10ms/step - loss: 0.2325 - acc: 0.9194 - val_loss: 24.5378 - val_acc: 0.1111\n",
            "Epoch 92/500\n",
            "4/4 [==============================] - 0s 11ms/step - loss: 0.1973 - acc: 0.9194 - val_loss: 24.3275 - val_acc: 0.1111\n",
            "Epoch 93/500\n",
            "4/4 [==============================] - 0s 9ms/step - loss: 0.2631 - acc: 0.8871 - val_loss: 24.4817 - val_acc: 0.1111\n",
            "Epoch 94/500\n",
            "4/4 [==============================] - 0s 10ms/step - loss: 0.1686 - acc: 0.9274 - val_loss: 24.4655 - val_acc: 0.1111\n",
            "Epoch 95/500\n",
            "4/4 [==============================] - 0s 12ms/step - loss: 0.1670 - acc: 0.9355 - val_loss: 24.9815 - val_acc: 0.1111\n",
            "Epoch 96/500\n",
            "4/4 [==============================] - 0s 10ms/step - loss: 0.3475 - acc: 0.8548 - val_loss: 24.4807 - val_acc: 0.1111\n",
            "Epoch 97/500\n",
            "4/4 [==============================] - 0s 9ms/step - loss: 0.3133 - acc: 0.8871 - val_loss: 24.6221 - val_acc: 0.0926\n",
            "Epoch 98/500\n",
            "4/4 [==============================] - 0s 10ms/step - loss: 0.2574 - acc: 0.8548 - val_loss: 25.4919 - val_acc: 0.1111\n",
            "Epoch 99/500\n",
            "4/4 [==============================] - 0s 10ms/step - loss: 0.5892 - acc: 0.7903 - val_loss: 24.2279 - val_acc: 0.1111\n",
            "Epoch 100/500\n",
            "4/4 [==============================] - 0s 11ms/step - loss: 0.2062 - acc: 0.9194 - val_loss: 24.1719 - val_acc: 0.1111\n",
            "Epoch 101/500\n",
            "4/4 [==============================] - 0s 10ms/step - loss: 0.1654 - acc: 0.9355 - val_loss: 23.9864 - val_acc: 0.1111\n",
            "Epoch 102/500\n",
            "4/4 [==============================] - 0s 10ms/step - loss: 0.1960 - acc: 0.9032 - val_loss: 24.3598 - val_acc: 0.1111\n",
            "Epoch 103/500\n",
            "4/4 [==============================] - 0s 10ms/step - loss: 0.2284 - acc: 0.9194 - val_loss: 23.8746 - val_acc: 0.1111\n",
            "Epoch 104/500\n",
            "4/4 [==============================] - 0s 17ms/step - loss: 0.2656 - acc: 0.9032 - val_loss: 24.3004 - val_acc: 0.1111\n",
            "Epoch 105/500\n",
            "4/4 [==============================] - 0s 12ms/step - loss: 0.2747 - acc: 0.9113 - val_loss: 23.7219 - val_acc: 0.1111\n",
            "Epoch 106/500\n",
            "4/4 [==============================] - 0s 10ms/step - loss: 0.2117 - acc: 0.9274 - val_loss: 23.8632 - val_acc: 0.1111\n",
            "Epoch 107/500\n",
            "4/4 [==============================] - 0s 16ms/step - loss: 0.2050 - acc: 0.8790 - val_loss: 23.9299 - val_acc: 0.1111\n",
            "Epoch 108/500\n",
            "4/4 [==============================] - 0s 10ms/step - loss: 0.1735 - acc: 0.9194 - val_loss: 23.7098 - val_acc: 0.1111\n",
            "Epoch 109/500\n",
            "4/4 [==============================] - 0s 11ms/step - loss: 0.2053 - acc: 0.9032 - val_loss: 23.8609 - val_acc: 0.1111\n",
            "Epoch 110/500\n",
            "4/4 [==============================] - 0s 11ms/step - loss: 0.2102 - acc: 0.8952 - val_loss: 23.8537 - val_acc: 0.1111\n",
            "Epoch 111/500\n",
            "4/4 [==============================] - 0s 10ms/step - loss: 0.2603 - acc: 0.9355 - val_loss: 23.5844 - val_acc: 0.1111\n",
            "Epoch 112/500\n",
            "4/4 [==============================] - 0s 9ms/step - loss: 0.3756 - acc: 0.8387 - val_loss: 24.0181 - val_acc: 0.1111\n",
            "Epoch 113/500\n",
            "4/4 [==============================] - 0s 16ms/step - loss: 0.2573 - acc: 0.8790 - val_loss: 24.6034 - val_acc: 0.1111\n",
            "Epoch 114/500\n",
            "4/4 [==============================] - 0s 9ms/step - loss: 0.2669 - acc: 0.8871 - val_loss: 23.8090 - val_acc: 0.1111\n",
            "Epoch 115/500\n",
            "4/4 [==============================] - 0s 12ms/step - loss: 0.2351 - acc: 0.9032 - val_loss: 23.5967 - val_acc: 0.1111\n",
            "Epoch 116/500\n",
            "4/4 [==============================] - 0s 10ms/step - loss: 0.1777 - acc: 0.9435 - val_loss: 23.5360 - val_acc: 0.1111\n",
            "Epoch 117/500\n",
            "4/4 [==============================] - 0s 10ms/step - loss: 0.1587 - acc: 0.9274 - val_loss: 23.8381 - val_acc: 0.1111\n",
            "Epoch 118/500\n",
            "4/4 [==============================] - 0s 11ms/step - loss: 0.2044 - acc: 0.9274 - val_loss: 23.3552 - val_acc: 0.1111\n",
            "Epoch 119/500\n",
            "4/4 [==============================] - 0s 12ms/step - loss: 0.1506 - acc: 0.9274 - val_loss: 23.4757 - val_acc: 0.1111\n",
            "Epoch 120/500\n",
            "4/4 [==============================] - 0s 10ms/step - loss: 0.2097 - acc: 0.9194 - val_loss: 23.4082 - val_acc: 0.1111\n",
            "Epoch 121/500\n",
            "4/4 [==============================] - 0s 9ms/step - loss: 0.1857 - acc: 0.9274 - val_loss: 23.3227 - val_acc: 0.1111\n",
            "Epoch 122/500\n",
            "4/4 [==============================] - 0s 10ms/step - loss: 0.2662 - acc: 0.8790 - val_loss: 23.5679 - val_acc: 0.1111\n",
            "Epoch 123/500\n",
            "4/4 [==============================] - 0s 13ms/step - loss: 0.1633 - acc: 0.9274 - val_loss: 23.4986 - val_acc: 0.1111\n",
            "Epoch 124/500\n",
            "4/4 [==============================] - 0s 10ms/step - loss: 0.2175 - acc: 0.9274 - val_loss: 23.4489 - val_acc: 0.1111\n",
            "Epoch 125/500\n",
            "4/4 [==============================] - 0s 10ms/step - loss: 0.3254 - acc: 0.8790 - val_loss: 23.7502 - val_acc: 0.1111\n",
            "Epoch 126/500\n",
            "4/4 [==============================] - 0s 10ms/step - loss: 0.2280 - acc: 0.8790 - val_loss: 23.3868 - val_acc: 0.1111\n",
            "Epoch 127/500\n",
            "4/4 [==============================] - 0s 10ms/step - loss: 0.1707 - acc: 0.9355 - val_loss: 23.1437 - val_acc: 0.1111\n",
            "Epoch 128/500\n",
            "4/4 [==============================] - 0s 10ms/step - loss: 0.1800 - acc: 0.9435 - val_loss: 23.4291 - val_acc: 0.1111\n",
            "Epoch 129/500\n",
            "4/4 [==============================] - 0s 12ms/step - loss: 0.1954 - acc: 0.9032 - val_loss: 23.4297 - val_acc: 0.1111\n",
            "Epoch 130/500\n",
            "4/4 [==============================] - 0s 12ms/step - loss: 0.1878 - acc: 0.9274 - val_loss: 23.5200 - val_acc: 0.1111\n",
            "Epoch 131/500\n",
            "4/4 [==============================] - 0s 11ms/step - loss: 0.1681 - acc: 0.9274 - val_loss: 23.2144 - val_acc: 0.1111\n",
            "Epoch 132/500\n",
            "4/4 [==============================] - 0s 11ms/step - loss: 0.1366 - acc: 0.9355 - val_loss: 23.3720 - val_acc: 0.1111\n",
            "Epoch 133/500\n",
            "4/4 [==============================] - 0s 18ms/step - loss: 0.1622 - acc: 0.9274 - val_loss: 23.2239 - val_acc: 0.1111\n",
            "Epoch 134/500\n",
            "4/4 [==============================] - 0s 11ms/step - loss: 0.1795 - acc: 0.9274 - val_loss: 23.8888 - val_acc: 0.1111\n",
            "Epoch 135/500\n",
            "4/4 [==============================] - 0s 13ms/step - loss: 0.2004 - acc: 0.9194 - val_loss: 23.3374 - val_acc: 0.0926\n",
            "Epoch 136/500\n",
            "4/4 [==============================] - 0s 11ms/step - loss: 0.2829 - acc: 0.8952 - val_loss: 23.5456 - val_acc: 0.1111\n",
            "Epoch 137/500\n",
            "4/4 [==============================] - 0s 10ms/step - loss: 0.2559 - acc: 0.8952 - val_loss: 23.1024 - val_acc: 0.1111\n",
            "Epoch 138/500\n",
            "4/4 [==============================] - 0s 11ms/step - loss: 0.2618 - acc: 0.8871 - val_loss: 22.9729 - val_acc: 0.1111\n",
            "Epoch 139/500\n",
            "4/4 [==============================] - 0s 10ms/step - loss: 0.1543 - acc: 0.9355 - val_loss: 23.8694 - val_acc: 0.1111\n",
            "Epoch 140/500\n",
            "4/4 [==============================] - 0s 10ms/step - loss: 0.3175 - acc: 0.8629 - val_loss: 23.3927 - val_acc: 0.1111\n",
            "Epoch 141/500\n",
            "4/4 [==============================] - 0s 10ms/step - loss: 0.2654 - acc: 0.8952 - val_loss: 23.2383 - val_acc: 0.1111\n",
            "Epoch 142/500\n",
            "4/4 [==============================] - 0s 13ms/step - loss: 0.2239 - acc: 0.8952 - val_loss: 24.0125 - val_acc: 0.1111\n",
            "Epoch 143/500\n",
            "4/4 [==============================] - 0s 13ms/step - loss: 0.1958 - acc: 0.9435 - val_loss: 23.0966 - val_acc: 0.1111\n",
            "Epoch 144/500\n",
            "4/4 [==============================] - 0s 11ms/step - loss: 0.2094 - acc: 0.9032 - val_loss: 23.6460 - val_acc: 0.1111\n",
            "Epoch 145/500\n",
            "4/4 [==============================] - 0s 12ms/step - loss: 0.1712 - acc: 0.8871 - val_loss: 23.0400 - val_acc: 0.1111\n",
            "Epoch 146/500\n",
            "4/4 [==============================] - 0s 10ms/step - loss: 0.2852 - acc: 0.8790 - val_loss: 23.4281 - val_acc: 0.1111\n",
            "Epoch 147/500\n",
            "4/4 [==============================] - 0s 11ms/step - loss: 0.2323 - acc: 0.8710 - val_loss: 23.6115 - val_acc: 0.1111\n",
            "Epoch 148/500\n",
            "4/4 [==============================] - 0s 10ms/step - loss: 0.2169 - acc: 0.8952 - val_loss: 23.1965 - val_acc: 0.1111\n",
            "Epoch 149/500\n",
            "4/4 [==============================] - 0s 9ms/step - loss: 0.2310 - acc: 0.9274 - val_loss: 23.8721 - val_acc: 0.1111\n",
            "Epoch 150/500\n",
            "4/4 [==============================] - 0s 15ms/step - loss: 0.2025 - acc: 0.9274 - val_loss: 23.1366 - val_acc: 0.1111\n",
            "Epoch 151/500\n",
            "4/4 [==============================] - 0s 11ms/step - loss: 0.2432 - acc: 0.8952 - val_loss: 23.5937 - val_acc: 0.1111\n",
            "Epoch 152/500\n",
            "4/4 [==============================] - 0s 10ms/step - loss: 0.2181 - acc: 0.9274 - val_loss: 22.8825 - val_acc: 0.1111\n",
            "Epoch 153/500\n",
            "4/4 [==============================] - 0s 10ms/step - loss: 0.1503 - acc: 0.9274 - val_loss: 23.0116 - val_acc: 0.1111\n",
            "Epoch 154/500\n",
            "4/4 [==============================] - 0s 17ms/step - loss: 0.1687 - acc: 0.9355 - val_loss: 22.7551 - val_acc: 0.1111\n",
            "Epoch 155/500\n",
            "4/4 [==============================] - 0s 10ms/step - loss: 0.1629 - acc: 0.9274 - val_loss: 22.7868 - val_acc: 0.1111\n",
            "Epoch 156/500\n",
            "4/4 [==============================] - 0s 13ms/step - loss: 0.1827 - acc: 0.9355 - val_loss: 22.6186 - val_acc: 0.1111\n",
            "Epoch 157/500\n",
            "4/4 [==============================] - 0s 10ms/step - loss: 0.1565 - acc: 0.9194 - val_loss: 22.7926 - val_acc: 0.1111\n",
            "Epoch 158/500\n",
            "4/4 [==============================] - 0s 11ms/step - loss: 0.1445 - acc: 0.9355 - val_loss: 22.7914 - val_acc: 0.1111\n",
            "Epoch 159/500\n",
            "4/4 [==============================] - 0s 10ms/step - loss: 0.1397 - acc: 0.9274 - val_loss: 22.8277 - val_acc: 0.1111\n",
            "Epoch 160/500\n",
            "4/4 [==============================] - 0s 12ms/step - loss: 0.1434 - acc: 0.9435 - val_loss: 22.9192 - val_acc: 0.1111\n",
            "Epoch 161/500\n",
            "4/4 [==============================] - 0s 12ms/step - loss: 0.1338 - acc: 0.9516 - val_loss: 22.8970 - val_acc: 0.1111\n",
            "Epoch 162/500\n",
            "4/4 [==============================] - 0s 10ms/step - loss: 0.1405 - acc: 0.9516 - val_loss: 22.8851 - val_acc: 0.1111\n",
            "Epoch 163/500\n",
            "4/4 [==============================] - 0s 11ms/step - loss: 0.1676 - acc: 0.9274 - val_loss: 22.8264 - val_acc: 0.1111\n",
            "Epoch 164/500\n",
            "4/4 [==============================] - 0s 11ms/step - loss: 0.2079 - acc: 0.9032 - val_loss: 22.9031 - val_acc: 0.1111\n",
            "Epoch 165/500\n",
            "4/4 [==============================] - 0s 10ms/step - loss: 0.1927 - acc: 0.9355 - val_loss: 23.2018 - val_acc: 0.1111\n",
            "Epoch 166/500\n",
            "4/4 [==============================] - 0s 12ms/step - loss: 0.1664 - acc: 0.9194 - val_loss: 22.9425 - val_acc: 0.1111\n",
            "Epoch 167/500\n",
            "4/4 [==============================] - 0s 12ms/step - loss: 0.1512 - acc: 0.9516 - val_loss: 22.9510 - val_acc: 0.1111\n",
            "Epoch 168/500\n",
            "4/4 [==============================] - 0s 9ms/step - loss: 0.1780 - acc: 0.9355 - val_loss: 22.8935 - val_acc: 0.1111\n",
            "Epoch 169/500\n",
            "4/4 [==============================] - 0s 10ms/step - loss: 0.2370 - acc: 0.8790 - val_loss: 23.0621 - val_acc: 0.1111\n",
            "Epoch 170/500\n",
            "4/4 [==============================] - 0s 10ms/step - loss: 0.1798 - acc: 0.9274 - val_loss: 23.1410 - val_acc: 0.1111\n",
            "Epoch 171/500\n",
            "4/4 [==============================] - 0s 11ms/step - loss: 0.1414 - acc: 0.9435 - val_loss: 22.8662 - val_acc: 0.1111\n",
            "Epoch 172/500\n",
            "4/4 [==============================] - 0s 10ms/step - loss: 0.2055 - acc: 0.9194 - val_loss: 23.7986 - val_acc: 0.1111\n",
            "Epoch 173/500\n",
            "4/4 [==============================] - 0s 11ms/step - loss: 0.5415 - acc: 0.8387 - val_loss: 22.9433 - val_acc: 0.1111\n",
            "Epoch 174/500\n",
            "4/4 [==============================] - 0s 9ms/step - loss: 0.4068 - acc: 0.8468 - val_loss: 23.0035 - val_acc: 0.0926\n",
            "Epoch 175/500\n",
            "4/4 [==============================] - 0s 54ms/step - loss: 0.3274 - acc: 0.8710 - val_loss: 23.2228 - val_acc: 0.1111\n",
            "Epoch 176/500\n",
            "4/4 [==============================] - 0s 12ms/step - loss: 0.3769 - acc: 0.8710 - val_loss: 22.5566 - val_acc: 0.1111\n",
            "Epoch 177/500\n",
            "4/4 [==============================] - 0s 12ms/step - loss: 0.2081 - acc: 0.9113 - val_loss: 22.4158 - val_acc: 0.1111\n",
            "Epoch 178/500\n",
            "4/4 [==============================] - 0s 10ms/step - loss: 0.3515 - acc: 0.8710 - val_loss: 23.8676 - val_acc: 0.1111\n",
            "Epoch 179/500\n",
            "4/4 [==============================] - 0s 9ms/step - loss: 0.2889 - acc: 0.8952 - val_loss: 22.9126 - val_acc: 0.0926\n",
            "Epoch 180/500\n",
            "4/4 [==============================] - 0s 10ms/step - loss: 0.4014 - acc: 0.8387 - val_loss: 24.0475 - val_acc: 0.1111\n",
            "Epoch 181/500\n",
            "4/4 [==============================] - 0s 10ms/step - loss: 0.6199 - acc: 0.8065 - val_loss: 22.2376 - val_acc: 0.0926\n",
            "Epoch 182/500\n",
            "4/4 [==============================] - 0s 10ms/step - loss: 0.5156 - acc: 0.8790 - val_loss: 22.2349 - val_acc: 0.1111\n",
            "Epoch 183/500\n",
            "4/4 [==============================] - 0s 10ms/step - loss: 0.1978 - acc: 0.9113 - val_loss: 21.2474 - val_acc: 0.1111\n",
            "Epoch 184/500\n",
            "4/4 [==============================] - 0s 12ms/step - loss: 0.2118 - acc: 0.9274 - val_loss: 22.0829 - val_acc: 0.1111\n",
            "Epoch 185/500\n",
            "4/4 [==============================] - 0s 10ms/step - loss: 0.2645 - acc: 0.8871 - val_loss: 20.9480 - val_acc: 0.0926\n",
            "Epoch 186/500\n",
            "4/4 [==============================] - 0s 12ms/step - loss: 0.3118 - acc: 0.8790 - val_loss: 21.3336 - val_acc: 0.1111\n",
            "Epoch 187/500\n",
            "4/4 [==============================] - 0s 10ms/step - loss: 0.2369 - acc: 0.9032 - val_loss: 21.3343 - val_acc: 0.1111\n",
            "Epoch 188/500\n",
            "4/4 [==============================] - 0s 10ms/step - loss: 0.1677 - acc: 0.9194 - val_loss: 22.6202 - val_acc: 0.1111\n",
            "Epoch 189/500\n",
            "4/4 [==============================] - 0s 10ms/step - loss: 0.2486 - acc: 0.9113 - val_loss: 22.3822 - val_acc: 0.1111\n",
            "Epoch 190/500\n",
            "4/4 [==============================] - 0s 10ms/step - loss: 0.1862 - acc: 0.9113 - val_loss: 23.3820 - val_acc: 0.1111\n",
            "Epoch 191/500\n",
            "4/4 [==============================] - 0s 11ms/step - loss: 0.3039 - acc: 0.8790 - val_loss: 22.8767 - val_acc: 0.1111\n",
            "Epoch 192/500\n",
            "4/4 [==============================] - 0s 10ms/step - loss: 0.2102 - acc: 0.9274 - val_loss: 23.5217 - val_acc: 0.1111\n",
            "Epoch 193/500\n",
            "4/4 [==============================] - 0s 10ms/step - loss: 0.1861 - acc: 0.9435 - val_loss: 23.1034 - val_acc: 0.1111\n",
            "Epoch 194/500\n",
            "4/4 [==============================] - 0s 11ms/step - loss: 0.1575 - acc: 0.9516 - val_loss: 23.5634 - val_acc: 0.1111\n",
            "Epoch 195/500\n",
            "4/4 [==============================] - 0s 10ms/step - loss: 0.1828 - acc: 0.9274 - val_loss: 23.3114 - val_acc: 0.1111\n",
            "Epoch 196/500\n",
            "4/4 [==============================] - 0s 11ms/step - loss: 0.1741 - acc: 0.9274 - val_loss: 24.0169 - val_acc: 0.1111\n",
            "Epoch 197/500\n",
            "4/4 [==============================] - 0s 11ms/step - loss: 0.2673 - acc: 0.9032 - val_loss: 23.4833 - val_acc: 0.1111\n",
            "Epoch 198/500\n",
            "4/4 [==============================] - 0s 10ms/step - loss: 0.3278 - acc: 0.8871 - val_loss: 24.2327 - val_acc: 0.1111\n",
            "Epoch 199/500\n",
            "4/4 [==============================] - 0s 10ms/step - loss: 0.2244 - acc: 0.8952 - val_loss: 23.3744 - val_acc: 0.1111\n",
            "Epoch 200/500\n",
            "4/4 [==============================] - 0s 10ms/step - loss: 0.2377 - acc: 0.9032 - val_loss: 23.9145 - val_acc: 0.1111\n",
            "Epoch 201/500\n",
            "4/4 [==============================] - 0s 13ms/step - loss: 0.1892 - acc: 0.9435 - val_loss: 23.3113 - val_acc: 0.1111\n",
            "Epoch 202/500\n",
            "4/4 [==============================] - 0s 12ms/step - loss: 0.1919 - acc: 0.9274 - val_loss: 23.6128 - val_acc: 0.1111\n",
            "Epoch 203/500\n",
            "4/4 [==============================] - 0s 11ms/step - loss: 0.1380 - acc: 0.9194 - val_loss: 23.3110 - val_acc: 0.1111\n",
            "Epoch 204/500\n",
            "4/4 [==============================] - 0s 11ms/step - loss: 0.1410 - acc: 0.9435 - val_loss: 23.9389 - val_acc: 0.1111\n",
            "Epoch 205/500\n",
            "4/4 [==============================] - 0s 13ms/step - loss: 0.1774 - acc: 0.9435 - val_loss: 23.3284 - val_acc: 0.1111\n",
            "Epoch 206/500\n",
            "4/4 [==============================] - 0s 11ms/step - loss: 0.2361 - acc: 0.8952 - val_loss: 24.7465 - val_acc: 0.1111\n",
            "Epoch 207/500\n",
            "4/4 [==============================] - 0s 12ms/step - loss: 0.3440 - acc: 0.8790 - val_loss: 23.1851 - val_acc: 0.1111\n",
            "Epoch 208/500\n",
            "4/4 [==============================] - 0s 12ms/step - loss: 0.2598 - acc: 0.9194 - val_loss: 24.3338 - val_acc: 0.1111\n",
            "Epoch 209/500\n",
            "4/4 [==============================] - 0s 11ms/step - loss: 0.4223 - acc: 0.8387 - val_loss: 22.7608 - val_acc: 0.1111\n",
            "Epoch 210/500\n",
            "4/4 [==============================] - 0s 10ms/step - loss: 0.1717 - acc: 0.9274 - val_loss: 23.3376 - val_acc: 0.1111\n",
            "Epoch 211/500\n",
            "4/4 [==============================] - 0s 10ms/step - loss: 0.1445 - acc: 0.9355 - val_loss: 22.4648 - val_acc: 0.1111\n",
            "Epoch 212/500\n",
            "4/4 [==============================] - 0s 10ms/step - loss: 0.2019 - acc: 0.8952 - val_loss: 22.8584 - val_acc: 0.1111\n",
            "Epoch 213/500\n",
            "4/4 [==============================] - 0s 10ms/step - loss: 0.1818 - acc: 0.9355 - val_loss: 22.4552 - val_acc: 0.1111\n",
            "Epoch 214/500\n",
            "4/4 [==============================] - 0s 12ms/step - loss: 0.1866 - acc: 0.9355 - val_loss: 22.5036 - val_acc: 0.1111\n",
            "Epoch 215/500\n",
            "4/4 [==============================] - 0s 10ms/step - loss: 0.1826 - acc: 0.9113 - val_loss: 22.7992 - val_acc: 0.1111\n",
            "Epoch 216/500\n",
            "4/4 [==============================] - 0s 11ms/step - loss: 0.1575 - acc: 0.9355 - val_loss: 22.4864 - val_acc: 0.1111\n",
            "Epoch 217/500\n",
            "4/4 [==============================] - 0s 12ms/step - loss: 0.1801 - acc: 0.9113 - val_loss: 23.2044 - val_acc: 0.1111\n",
            "Epoch 218/500\n",
            "4/4 [==============================] - 0s 13ms/step - loss: 0.1718 - acc: 0.9435 - val_loss: 22.4013 - val_acc: 0.1111\n",
            "Epoch 219/500\n",
            "4/4 [==============================] - 0s 10ms/step - loss: 0.2220 - acc: 0.8871 - val_loss: 23.2033 - val_acc: 0.1111\n",
            "Epoch 220/500\n",
            "4/4 [==============================] - 0s 10ms/step - loss: 0.1653 - acc: 0.9194 - val_loss: 22.4073 - val_acc: 0.1111\n",
            "Epoch 221/500\n",
            "4/4 [==============================] - 0s 10ms/step - loss: 0.2070 - acc: 0.9032 - val_loss: 23.3979 - val_acc: 0.1111\n",
            "Epoch 222/500\n",
            "4/4 [==============================] - 0s 12ms/step - loss: 0.2277 - acc: 0.9274 - val_loss: 22.3371 - val_acc: 0.1111\n",
            "Epoch 223/500\n",
            "4/4 [==============================] - 0s 13ms/step - loss: 0.1452 - acc: 0.9355 - val_loss: 22.8353 - val_acc: 0.1111\n",
            "Epoch 224/500\n",
            "4/4 [==============================] - 0s 14ms/step - loss: 0.1727 - acc: 0.9194 - val_loss: 22.3406 - val_acc: 0.1111\n",
            "Epoch 225/500\n",
            "4/4 [==============================] - 0s 10ms/step - loss: 0.1202 - acc: 0.9435 - val_loss: 23.0145 - val_acc: 0.1111\n",
            "Epoch 226/500\n",
            "4/4 [==============================] - 0s 12ms/step - loss: 0.1740 - acc: 0.9355 - val_loss: 22.2755 - val_acc: 0.1111\n",
            "Epoch 227/500\n",
            "4/4 [==============================] - 0s 12ms/step - loss: 0.1983 - acc: 0.8952 - val_loss: 22.6627 - val_acc: 0.1111\n",
            "Epoch 228/500\n",
            "4/4 [==============================] - 0s 11ms/step - loss: 0.1303 - acc: 0.9677 - val_loss: 22.2601 - val_acc: 0.1111\n",
            "Epoch 229/500\n",
            "4/4 [==============================] - 0s 11ms/step - loss: 0.1566 - acc: 0.9435 - val_loss: 22.5752 - val_acc: 0.1111\n",
            "Epoch 230/500\n",
            "4/4 [==============================] - 0s 12ms/step - loss: 0.1575 - acc: 0.9435 - val_loss: 22.3987 - val_acc: 0.1111\n",
            "Epoch 231/500\n",
            "4/4 [==============================] - 0s 11ms/step - loss: 0.1412 - acc: 0.9435 - val_loss: 22.5283 - val_acc: 0.1111\n",
            "Epoch 232/500\n",
            "4/4 [==============================] - 0s 12ms/step - loss: 0.1300 - acc: 0.9516 - val_loss: 22.2936 - val_acc: 0.1111\n",
            "Epoch 233/500\n",
            "4/4 [==============================] - 0s 13ms/step - loss: 0.1800 - acc: 0.9274 - val_loss: 22.6843 - val_acc: 0.1111\n",
            "Epoch 234/500\n",
            "4/4 [==============================] - 0s 12ms/step - loss: 0.1330 - acc: 0.9516 - val_loss: 22.4036 - val_acc: 0.1111\n",
            "Epoch 235/500\n",
            "4/4 [==============================] - 0s 13ms/step - loss: 0.1209 - acc: 0.9597 - val_loss: 22.6426 - val_acc: 0.1111\n",
            "Epoch 236/500\n",
            "4/4 [==============================] - 0s 12ms/step - loss: 0.1445 - acc: 0.9355 - val_loss: 22.4749 - val_acc: 0.1111\n",
            "Epoch 237/500\n",
            "4/4 [==============================] - 0s 11ms/step - loss: 0.1535 - acc: 0.9516 - val_loss: 22.3919 - val_acc: 0.1111\n",
            "Epoch 238/500\n",
            "4/4 [==============================] - 0s 13ms/step - loss: 0.1276 - acc: 0.9435 - val_loss: 22.6954 - val_acc: 0.1111\n",
            "Epoch 239/500\n",
            "4/4 [==============================] - 0s 11ms/step - loss: 0.1495 - acc: 0.9435 - val_loss: 22.8240 - val_acc: 0.1111\n",
            "Epoch 240/500\n",
            "4/4 [==============================] - 0s 10ms/step - loss: 0.1855 - acc: 0.9113 - val_loss: 22.4634 - val_acc: 0.1111\n",
            "Epoch 241/500\n",
            "4/4 [==============================] - 0s 12ms/step - loss: 0.1201 - acc: 0.9516 - val_loss: 22.5416 - val_acc: 0.1111\n",
            "Epoch 242/500\n",
            "4/4 [==============================] - 0s 11ms/step - loss: 0.1666 - acc: 0.9032 - val_loss: 22.7931 - val_acc: 0.1111\n",
            "Epoch 243/500\n",
            "4/4 [==============================] - 0s 10ms/step - loss: 0.1394 - acc: 0.9435 - val_loss: 22.3712 - val_acc: 0.1111\n",
            "Epoch 244/500\n",
            "4/4 [==============================] - 0s 10ms/step - loss: 0.1524 - acc: 0.9274 - val_loss: 22.7777 - val_acc: 0.1111\n",
            "Epoch 245/500\n",
            "4/4 [==============================] - 0s 10ms/step - loss: 0.1414 - acc: 0.9355 - val_loss: 22.1608 - val_acc: 0.1111\n",
            "Epoch 246/500\n",
            "4/4 [==============================] - 0s 12ms/step - loss: 0.1644 - acc: 0.9274 - val_loss: 23.0296 - val_acc: 0.1111\n",
            "Epoch 247/500\n",
            "4/4 [==============================] - 0s 13ms/step - loss: 0.1893 - acc: 0.9113 - val_loss: 21.7751 - val_acc: 0.1111\n",
            "Epoch 248/500\n",
            "4/4 [==============================] - 0s 11ms/step - loss: 0.1672 - acc: 0.9274 - val_loss: 23.0563 - val_acc: 0.1111\n",
            "Epoch 249/500\n",
            "4/4 [==============================] - 0s 12ms/step - loss: 0.2078 - acc: 0.9194 - val_loss: 21.3760 - val_acc: 0.1111\n",
            "Epoch 250/500\n",
            "4/4 [==============================] - 0s 10ms/step - loss: 0.3125 - acc: 0.8629 - val_loss: 21.9965 - val_acc: 0.1111\n",
            "Epoch 251/500\n",
            "4/4 [==============================] - 0s 10ms/step - loss: 0.2755 - acc: 0.8790 - val_loss: 20.6945 - val_acc: 0.1111\n",
            "Epoch 252/500\n",
            "4/4 [==============================] - 0s 10ms/step - loss: 0.2823 - acc: 0.8952 - val_loss: 20.3715 - val_acc: 0.1111\n",
            "Epoch 253/500\n",
            "4/4 [==============================] - 0s 10ms/step - loss: 0.5263 - acc: 0.8468 - val_loss: 20.7473 - val_acc: 0.1111\n",
            "Epoch 254/500\n",
            "4/4 [==============================] - 0s 11ms/step - loss: 0.5013 - acc: 0.8548 - val_loss: 19.9309 - val_acc: 0.0926\n",
            "Epoch 255/500\n",
            "4/4 [==============================] - 0s 10ms/step - loss: 0.3905 - acc: 0.8548 - val_loss: 20.6249 - val_acc: 0.1111\n",
            "Epoch 256/500\n",
            "4/4 [==============================] - 0s 10ms/step - loss: 0.4966 - acc: 0.8548 - val_loss: 19.1243 - val_acc: 0.0926\n",
            "Epoch 257/500\n",
            "4/4 [==============================] - 0s 12ms/step - loss: 0.2997 - acc: 0.8710 - val_loss: 19.9433 - val_acc: 0.1111\n",
            "Epoch 258/500\n",
            "4/4 [==============================] - 0s 11ms/step - loss: 0.3192 - acc: 0.9032 - val_loss: 18.3454 - val_acc: 0.1111\n",
            "Epoch 259/500\n",
            "4/4 [==============================] - 0s 12ms/step - loss: 0.2719 - acc: 0.9032 - val_loss: 19.0009 - val_acc: 0.1111\n",
            "Epoch 260/500\n",
            "4/4 [==============================] - 0s 11ms/step - loss: 0.3067 - acc: 0.9113 - val_loss: 18.0413 - val_acc: 0.1111\n",
            "Epoch 261/500\n",
            "4/4 [==============================] - 0s 10ms/step - loss: 0.1902 - acc: 0.9032 - val_loss: 18.4095 - val_acc: 0.1111\n",
            "Epoch 262/500\n",
            "4/4 [==============================] - 0s 11ms/step - loss: 0.1942 - acc: 0.9274 - val_loss: 18.0311 - val_acc: 0.1111\n",
            "Epoch 263/500\n",
            "4/4 [==============================] - 0s 10ms/step - loss: 0.1313 - acc: 0.9355 - val_loss: 18.4769 - val_acc: 0.1111\n",
            "Epoch 264/500\n",
            "4/4 [==============================] - 0s 10ms/step - loss: 0.1760 - acc: 0.9355 - val_loss: 18.1273 - val_acc: 0.1111\n",
            "Epoch 265/500\n",
            "4/4 [==============================] - 0s 12ms/step - loss: 0.1589 - acc: 0.9435 - val_loss: 18.5103 - val_acc: 0.1111\n",
            "Epoch 266/500\n",
            "4/4 [==============================] - 0s 10ms/step - loss: 0.1664 - acc: 0.9274 - val_loss: 18.2095 - val_acc: 0.1111\n",
            "Epoch 267/500\n",
            "4/4 [==============================] - 0s 11ms/step - loss: 0.1486 - acc: 0.9516 - val_loss: 18.5476 - val_acc: 0.1111\n",
            "Epoch 268/500\n",
            "4/4 [==============================] - 0s 12ms/step - loss: 0.1389 - acc: 0.9516 - val_loss: 18.3936 - val_acc: 0.1111\n",
            "Epoch 269/500\n",
            "4/4 [==============================] - 0s 10ms/step - loss: 0.1839 - acc: 0.9274 - val_loss: 18.6987 - val_acc: 0.1111\n",
            "Epoch 270/500\n",
            "4/4 [==============================] - 0s 11ms/step - loss: 0.1334 - acc: 0.9355 - val_loss: 18.5909 - val_acc: 0.1111\n",
            "Epoch 271/500\n",
            "4/4 [==============================] - 0s 14ms/step - loss: 0.1504 - acc: 0.9435 - val_loss: 18.9533 - val_acc: 0.1111\n",
            "Epoch 272/500\n",
            "4/4 [==============================] - 0s 11ms/step - loss: 0.1424 - acc: 0.9516 - val_loss: 18.6873 - val_acc: 0.1111\n",
            "Epoch 273/500\n",
            "4/4 [==============================] - 0s 11ms/step - loss: 0.1185 - acc: 0.9516 - val_loss: 19.0162 - val_acc: 0.1111\n",
            "Epoch 274/500\n",
            "4/4 [==============================] - 0s 11ms/step - loss: 0.1928 - acc: 0.9194 - val_loss: 18.7083 - val_acc: 0.1111\n",
            "Epoch 275/500\n",
            "4/4 [==============================] - 0s 11ms/step - loss: 0.1290 - acc: 0.9516 - val_loss: 19.1430 - val_acc: 0.1111\n",
            "Epoch 276/500\n",
            "4/4 [==============================] - 0s 11ms/step - loss: 0.1761 - acc: 0.9435 - val_loss: 19.1224 - val_acc: 0.1111\n",
            "Epoch 277/500\n",
            "4/4 [==============================] - 0s 11ms/step - loss: 0.1322 - acc: 0.9516 - val_loss: 19.2252 - val_acc: 0.1111\n",
            "Epoch 278/500\n",
            "4/4 [==============================] - 0s 11ms/step - loss: 0.1216 - acc: 0.9435 - val_loss: 19.2363 - val_acc: 0.1111\n",
            "Epoch 279/500\n",
            "4/4 [==============================] - 0s 11ms/step - loss: 0.1156 - acc: 0.9597 - val_loss: 19.4590 - val_acc: 0.1111\n",
            "Epoch 280/500\n",
            "4/4 [==============================] - 0s 11ms/step - loss: 0.1273 - acc: 0.9516 - val_loss: 19.2470 - val_acc: 0.1111\n",
            "Epoch 281/500\n",
            "4/4 [==============================] - 0s 9ms/step - loss: 0.1735 - acc: 0.9113 - val_loss: 19.8256 - val_acc: 0.1111\n",
            "Epoch 282/500\n",
            "4/4 [==============================] - 0s 9ms/step - loss: 0.1959 - acc: 0.9113 - val_loss: 19.3715 - val_acc: 0.0926\n",
            "Epoch 283/500\n",
            "4/4 [==============================] - 0s 11ms/step - loss: 0.4199 - acc: 0.8306 - val_loss: 20.5425 - val_acc: 0.1111\n",
            "Epoch 284/500\n",
            "4/4 [==============================] - 0s 11ms/step - loss: 0.4731 - acc: 0.8065 - val_loss: 18.6055 - val_acc: 0.1111\n",
            "Epoch 285/500\n",
            "4/4 [==============================] - 0s 11ms/step - loss: 0.1591 - acc: 0.9032 - val_loss: 19.2941 - val_acc: 0.1111\n",
            "Epoch 286/500\n",
            "4/4 [==============================] - 0s 11ms/step - loss: 0.2510 - acc: 0.9113 - val_loss: 18.3569 - val_acc: 0.1111\n",
            "Epoch 287/500\n",
            "4/4 [==============================] - 0s 11ms/step - loss: 0.1963 - acc: 0.9194 - val_loss: 19.0070 - val_acc: 0.1111\n",
            "Epoch 288/500\n",
            "4/4 [==============================] - 0s 11ms/step - loss: 0.1901 - acc: 0.9113 - val_loss: 18.5880 - val_acc: 0.1111\n",
            "Epoch 289/500\n",
            "4/4 [==============================] - 0s 12ms/step - loss: 0.1266 - acc: 0.9597 - val_loss: 18.9190 - val_acc: 0.1111\n",
            "Epoch 290/500\n",
            "4/4 [==============================] - 0s 10ms/step - loss: 0.1306 - acc: 0.9516 - val_loss: 18.8593 - val_acc: 0.1111\n",
            "Epoch 291/500\n",
            "4/4 [==============================] - 0s 10ms/step - loss: 0.1424 - acc: 0.9355 - val_loss: 19.1263 - val_acc: 0.1111\n",
            "Epoch 292/500\n",
            "4/4 [==============================] - 0s 10ms/step - loss: 0.1212 - acc: 0.9435 - val_loss: 19.2896 - val_acc: 0.1111\n",
            "Epoch 293/500\n",
            "4/4 [==============================] - 0s 14ms/step - loss: 0.1300 - acc: 0.9435 - val_loss: 19.5208 - val_acc: 0.1111\n",
            "Epoch 294/500\n",
            "4/4 [==============================] - 0s 11ms/step - loss: 0.1164 - acc: 0.9516 - val_loss: 19.5617 - val_acc: 0.1111\n",
            "Epoch 295/500\n",
            "4/4 [==============================] - 0s 10ms/step - loss: 0.1311 - acc: 0.9355 - val_loss: 19.6974 - val_acc: 0.1111\n",
            "Epoch 296/500\n",
            "4/4 [==============================] - 0s 11ms/step - loss: 0.1234 - acc: 0.9435 - val_loss: 19.6274 - val_acc: 0.1111\n",
            "Epoch 297/500\n",
            "4/4 [==============================] - 0s 11ms/step - loss: 0.1158 - acc: 0.9597 - val_loss: 19.6610 - val_acc: 0.1111\n",
            "Epoch 298/500\n",
            "4/4 [==============================] - 0s 11ms/step - loss: 0.1165 - acc: 0.9516 - val_loss: 19.9083 - val_acc: 0.1111\n",
            "Epoch 299/500\n",
            "4/4 [==============================] - 0s 11ms/step - loss: 0.1264 - acc: 0.9597 - val_loss: 19.7268 - val_acc: 0.1111\n",
            "Epoch 300/500\n",
            "4/4 [==============================] - 0s 10ms/step - loss: 0.1374 - acc: 0.9355 - val_loss: 19.7609 - val_acc: 0.1111\n",
            "Epoch 301/500\n",
            "4/4 [==============================] - 0s 10ms/step - loss: 0.1129 - acc: 0.9597 - val_loss: 19.6788 - val_acc: 0.1111\n",
            "Epoch 302/500\n",
            "4/4 [==============================] - 0s 11ms/step - loss: 0.1311 - acc: 0.9516 - val_loss: 20.0323 - val_acc: 0.1111\n",
            "Epoch 303/500\n",
            "4/4 [==============================] - 0s 12ms/step - loss: 0.1483 - acc: 0.9194 - val_loss: 19.8976 - val_acc: 0.1111\n",
            "Epoch 304/500\n",
            "4/4 [==============================] - 0s 11ms/step - loss: 0.1091 - acc: 0.9677 - val_loss: 19.9468 - val_acc: 0.1111\n",
            "Epoch 305/500\n",
            "4/4 [==============================] - 0s 12ms/step - loss: 0.1032 - acc: 0.9597 - val_loss: 19.7628 - val_acc: 0.1111\n",
            "Epoch 306/500\n",
            "4/4 [==============================] - 0s 11ms/step - loss: 0.1204 - acc: 0.9435 - val_loss: 20.0726 - val_acc: 0.1111\n",
            "Epoch 307/500\n",
            "4/4 [==============================] - 0s 11ms/step - loss: 0.1363 - acc: 0.9355 - val_loss: 19.8426 - val_acc: 0.1111\n",
            "Epoch 308/500\n",
            "4/4 [==============================] - 0s 11ms/step - loss: 0.1570 - acc: 0.9194 - val_loss: 20.3675 - val_acc: 0.1111\n",
            "Epoch 309/500\n",
            "4/4 [==============================] - 0s 12ms/step - loss: 0.2529 - acc: 0.8790 - val_loss: 19.6611 - val_acc: 0.1111\n",
            "Epoch 310/500\n",
            "4/4 [==============================] - 0s 11ms/step - loss: 0.1506 - acc: 0.9274 - val_loss: 20.4577 - val_acc: 0.1111\n",
            "Epoch 311/500\n",
            "4/4 [==============================] - 0s 11ms/step - loss: 0.2035 - acc: 0.9194 - val_loss: 19.3394 - val_acc: 0.1111\n",
            "Epoch 312/500\n",
            "4/4 [==============================] - 0s 11ms/step - loss: 0.1474 - acc: 0.9355 - val_loss: 20.2708 - val_acc: 0.1111\n",
            "Epoch 313/500\n",
            "4/4 [==============================] - 0s 12ms/step - loss: 0.1601 - acc: 0.9355 - val_loss: 19.2652 - val_acc: 0.1111\n",
            "Epoch 314/500\n",
            "4/4 [==============================] - 0s 12ms/step - loss: 0.2450 - acc: 0.8790 - val_loss: 20.3680 - val_acc: 0.1111\n",
            "Epoch 315/500\n",
            "4/4 [==============================] - 0s 17ms/step - loss: 0.2117 - acc: 0.9032 - val_loss: 19.2518 - val_acc: 0.1111\n",
            "Epoch 316/500\n",
            "4/4 [==============================] - 0s 13ms/step - loss: 0.1176 - acc: 0.9516 - val_loss: 19.6863 - val_acc: 0.1111\n",
            "Epoch 317/500\n",
            "4/4 [==============================] - 0s 12ms/step - loss: 0.2057 - acc: 0.9194 - val_loss: 19.4852 - val_acc: 0.1111\n",
            "Epoch 318/500\n",
            "4/4 [==============================] - 0s 11ms/step - loss: 0.1919 - acc: 0.9113 - val_loss: 19.9056 - val_acc: 0.1111\n",
            "Epoch 319/500\n",
            "4/4 [==============================] - 0s 11ms/step - loss: 0.1276 - acc: 0.9516 - val_loss: 19.7126 - val_acc: 0.1111\n",
            "Epoch 320/500\n",
            "4/4 [==============================] - 0s 12ms/step - loss: 0.1526 - acc: 0.9677 - val_loss: 20.2810 - val_acc: 0.1111\n",
            "Epoch 321/500\n",
            "4/4 [==============================] - 0s 13ms/step - loss: 0.1123 - acc: 0.9597 - val_loss: 19.7847 - val_acc: 0.1111\n",
            "Epoch 322/500\n",
            "4/4 [==============================] - 0s 15ms/step - loss: 0.1109 - acc: 0.9516 - val_loss: 20.2538 - val_acc: 0.1111\n",
            "Epoch 323/500\n",
            "4/4 [==============================] - 0s 12ms/step - loss: 0.1616 - acc: 0.9274 - val_loss: 19.9012 - val_acc: 0.1111\n",
            "Epoch 324/500\n",
            "4/4 [==============================] - 0s 12ms/step - loss: 0.1152 - acc: 0.9597 - val_loss: 20.3594 - val_acc: 0.1111\n",
            "Epoch 325/500\n",
            "4/4 [==============================] - 0s 12ms/step - loss: 0.1248 - acc: 0.9516 - val_loss: 19.9849 - val_acc: 0.1111\n",
            "Epoch 326/500\n",
            "4/4 [==============================] - 0s 12ms/step - loss: 0.1089 - acc: 0.9597 - val_loss: 20.3462 - val_acc: 0.1111\n",
            "Epoch 327/500\n",
            "4/4 [==============================] - 0s 12ms/step - loss: 0.1246 - acc: 0.9597 - val_loss: 20.0820 - val_acc: 0.1111\n",
            "Epoch 328/500\n",
            "4/4 [==============================] - 0s 12ms/step - loss: 0.1211 - acc: 0.9435 - val_loss: 20.3082 - val_acc: 0.1111\n",
            "Epoch 329/500\n",
            "4/4 [==============================] - 0s 12ms/step - loss: 0.1466 - acc: 0.9355 - val_loss: 20.1287 - val_acc: 0.1111\n",
            "Epoch 330/500\n",
            "4/4 [==============================] - 0s 11ms/step - loss: 0.1522 - acc: 0.9274 - val_loss: 19.8932 - val_acc: 0.1111\n",
            "Epoch 331/500\n",
            "4/4 [==============================] - 0s 11ms/step - loss: 0.2044 - acc: 0.9032 - val_loss: 20.3798 - val_acc: 0.1111\n",
            "Epoch 332/500\n",
            "4/4 [==============================] - 0s 11ms/step - loss: 0.1636 - acc: 0.9113 - val_loss: 19.6235 - val_acc: 0.1111\n",
            "Epoch 333/500\n",
            "4/4 [==============================] - 0s 11ms/step - loss: 0.1313 - acc: 0.9194 - val_loss: 20.2070 - val_acc: 0.1111\n",
            "Epoch 334/500\n",
            "4/4 [==============================] - 0s 12ms/step - loss: 0.1323 - acc: 0.9435 - val_loss: 19.8698 - val_acc: 0.1111\n",
            "Epoch 335/500\n",
            "4/4 [==============================] - 0s 11ms/step - loss: 0.1388 - acc: 0.9355 - val_loss: 20.3580 - val_acc: 0.1111\n",
            "Epoch 336/500\n",
            "4/4 [==============================] - 0s 14ms/step - loss: 0.1134 - acc: 0.9516 - val_loss: 20.1789 - val_acc: 0.1111\n",
            "Epoch 337/500\n",
            "4/4 [==============================] - 0s 14ms/step - loss: 0.1300 - acc: 0.9274 - val_loss: 20.6101 - val_acc: 0.1111\n",
            "Epoch 338/500\n",
            "4/4 [==============================] - 0s 13ms/step - loss: 0.1170 - acc: 0.9597 - val_loss: 20.3903 - val_acc: 0.1111\n",
            "Epoch 339/500\n",
            "4/4 [==============================] - 0s 12ms/step - loss: 0.1462 - acc: 0.9597 - val_loss: 20.9186 - val_acc: 0.1111\n",
            "Epoch 340/500\n",
            "4/4 [==============================] - 0s 14ms/step - loss: 0.1276 - acc: 0.9435 - val_loss: 20.5067 - val_acc: 0.1111\n",
            "Epoch 341/500\n",
            "4/4 [==============================] - 0s 11ms/step - loss: 0.0977 - acc: 0.9677 - val_loss: 20.8480 - val_acc: 0.1111\n",
            "Epoch 342/500\n",
            "4/4 [==============================] - 0s 10ms/step - loss: 0.1399 - acc: 0.9597 - val_loss: 20.4078 - val_acc: 0.1111\n",
            "Epoch 343/500\n",
            "4/4 [==============================] - 0s 12ms/step - loss: 0.1183 - acc: 0.9758 - val_loss: 20.7987 - val_acc: 0.1111\n",
            "Epoch 344/500\n",
            "4/4 [==============================] - 0s 11ms/step - loss: 0.1312 - acc: 0.9516 - val_loss: 20.5841 - val_acc: 0.1111\n",
            "Epoch 345/500\n",
            "4/4 [==============================] - 0s 10ms/step - loss: 0.1011 - acc: 0.9758 - val_loss: 20.6829 - val_acc: 0.1111\n",
            "Epoch 346/500\n",
            "4/4 [==============================] - 0s 11ms/step - loss: 0.1200 - acc: 0.9597 - val_loss: 20.6436 - val_acc: 0.1111\n",
            "Epoch 347/500\n",
            "4/4 [==============================] - 0s 12ms/step - loss: 0.1050 - acc: 0.9758 - val_loss: 20.5969 - val_acc: 0.1111\n",
            "Epoch 348/500\n",
            "4/4 [==============================] - 0s 10ms/step - loss: 0.1169 - acc: 0.9516 - val_loss: 20.8950 - val_acc: 0.1111\n",
            "Epoch 349/500\n",
            "4/4 [==============================] - 0s 12ms/step - loss: 0.1390 - acc: 0.9435 - val_loss: 20.6182 - val_acc: 0.1111\n",
            "Epoch 350/500\n",
            "4/4 [==============================] - 0s 11ms/step - loss: 0.1723 - acc: 0.9194 - val_loss: 20.9404 - val_acc: 0.1111\n",
            "Epoch 351/500\n",
            "4/4 [==============================] - 0s 11ms/step - loss: 0.1057 - acc: 0.9597 - val_loss: 20.5048 - val_acc: 0.1111\n",
            "Epoch 352/500\n",
            "4/4 [==============================] - 0s 11ms/step - loss: 0.1149 - acc: 0.9516 - val_loss: 20.7214 - val_acc: 0.1111\n",
            "Epoch 353/500\n",
            "4/4 [==============================] - 0s 11ms/step - loss: 0.1281 - acc: 0.9597 - val_loss: 20.4712 - val_acc: 0.1111\n",
            "Epoch 354/500\n",
            "4/4 [==============================] - 0s 11ms/step - loss: 0.0971 - acc: 0.9839 - val_loss: 20.6511 - val_acc: 0.1111\n",
            "Epoch 355/500\n",
            "4/4 [==============================] - 0s 11ms/step - loss: 0.1055 - acc: 0.9758 - val_loss: 20.3652 - val_acc: 0.1111\n",
            "Epoch 356/500\n",
            "4/4 [==============================] - 0s 9ms/step - loss: 0.1288 - acc: 0.9597 - val_loss: 20.6860 - val_acc: 0.1111\n",
            "Epoch 357/500\n",
            "4/4 [==============================] - 0s 11ms/step - loss: 0.1149 - acc: 0.9516 - val_loss: 20.5884 - val_acc: 0.1111\n",
            "Epoch 358/500\n",
            "4/4 [==============================] - 0s 14ms/step - loss: 0.0981 - acc: 0.9758 - val_loss: 20.7130 - val_acc: 0.1111\n",
            "Epoch 359/500\n",
            "4/4 [==============================] - 0s 12ms/step - loss: 0.1132 - acc: 0.9597 - val_loss: 20.4945 - val_acc: 0.1111\n",
            "Epoch 360/500\n",
            "4/4 [==============================] - 0s 13ms/step - loss: 0.1135 - acc: 0.9758 - val_loss: 20.5047 - val_acc: 0.1111\n",
            "Epoch 361/500\n",
            "4/4 [==============================] - 0s 11ms/step - loss: 0.1076 - acc: 0.9758 - val_loss: 20.4906 - val_acc: 0.1111\n",
            "Epoch 362/500\n",
            "4/4 [==============================] - 0s 11ms/step - loss: 0.1087 - acc: 0.9516 - val_loss: 20.7209 - val_acc: 0.1111\n",
            "Epoch 363/500\n",
            "4/4 [==============================] - 0s 10ms/step - loss: 0.1625 - acc: 0.9435 - val_loss: 20.5606 - val_acc: 0.1111\n",
            "Epoch 364/500\n",
            "4/4 [==============================] - 0s 13ms/step - loss: 0.2874 - acc: 0.8952 - val_loss: 21.6545 - val_acc: 0.1111\n",
            "Epoch 365/500\n",
            "4/4 [==============================] - 0s 12ms/step - loss: 0.2806 - acc: 0.8710 - val_loss: 20.6432 - val_acc: 0.0926\n",
            "Epoch 366/500\n",
            "4/4 [==============================] - 0s 10ms/step - loss: 0.2503 - acc: 0.9113 - val_loss: 22.2599 - val_acc: 0.1111\n",
            "Epoch 367/500\n",
            "4/4 [==============================] - 0s 11ms/step - loss: 0.3202 - acc: 0.9032 - val_loss: 19.9670 - val_acc: 0.1111\n",
            "Epoch 368/500\n",
            "4/4 [==============================] - 0s 14ms/step - loss: 0.2206 - acc: 0.9355 - val_loss: 20.8186 - val_acc: 0.1111\n",
            "Epoch 369/500\n",
            "4/4 [==============================] - 0s 12ms/step - loss: 0.2173 - acc: 0.9355 - val_loss: 19.1161 - val_acc: 0.1111\n",
            "Epoch 370/500\n",
            "4/4 [==============================] - 0s 12ms/step - loss: 0.3203 - acc: 0.8790 - val_loss: 19.7493 - val_acc: 0.1111\n",
            "Epoch 371/500\n",
            "4/4 [==============================] - 0s 11ms/step - loss: 0.1097 - acc: 0.9435 - val_loss: 18.7822 - val_acc: 0.1111\n",
            "Epoch 372/500\n",
            "4/4 [==============================] - 0s 11ms/step - loss: 0.2593 - acc: 0.8952 - val_loss: 19.7459 - val_acc: 0.1111\n",
            "Epoch 373/500\n",
            "4/4 [==============================] - 0s 11ms/step - loss: 0.1592 - acc: 0.9274 - val_loss: 18.6606 - val_acc: 0.1111\n",
            "Epoch 374/500\n",
            "4/4 [==============================] - 0s 12ms/step - loss: 0.3024 - acc: 0.8871 - val_loss: 19.0020 - val_acc: 0.1111\n",
            "Epoch 375/500\n",
            "4/4 [==============================] - 0s 20ms/step - loss: 0.1575 - acc: 0.9516 - val_loss: 18.4793 - val_acc: 0.1111\n",
            "Epoch 376/500\n",
            "4/4 [==============================] - 0s 10ms/step - loss: 0.1523 - acc: 0.9597 - val_loss: 18.8792 - val_acc: 0.1111\n",
            "Epoch 377/500\n",
            "4/4 [==============================] - 0s 11ms/step - loss: 0.2021 - acc: 0.9274 - val_loss: 18.5631 - val_acc: 0.1111\n",
            "Epoch 378/500\n",
            "4/4 [==============================] - 0s 13ms/step - loss: 0.1623 - acc: 0.9435 - val_loss: 19.0091 - val_acc: 0.1111\n",
            "Epoch 379/500\n",
            "4/4 [==============================] - 0s 11ms/step - loss: 0.1368 - acc: 0.9355 - val_loss: 18.6217 - val_acc: 0.1111\n",
            "Epoch 380/500\n",
            "4/4 [==============================] - 0s 13ms/step - loss: 0.1446 - acc: 0.9597 - val_loss: 18.8941 - val_acc: 0.1111\n",
            "Epoch 381/500\n",
            "4/4 [==============================] - 0s 10ms/step - loss: 0.1153 - acc: 0.9597 - val_loss: 18.5829 - val_acc: 0.1111\n",
            "Epoch 382/500\n",
            "4/4 [==============================] - 0s 10ms/step - loss: 0.1221 - acc: 0.9597 - val_loss: 18.7234 - val_acc: 0.1111\n",
            "Epoch 383/500\n",
            "4/4 [==============================] - 0s 13ms/step - loss: 0.1127 - acc: 0.9516 - val_loss: 18.7445 - val_acc: 0.1111\n",
            "Epoch 384/500\n",
            "4/4 [==============================] - 0s 12ms/step - loss: 0.1089 - acc: 0.9516 - val_loss: 18.7379 - val_acc: 0.1111\n",
            "Epoch 385/500\n",
            "4/4 [==============================] - 0s 11ms/step - loss: 0.1107 - acc: 0.9597 - val_loss: 18.7874 - val_acc: 0.1111\n",
            "Epoch 386/500\n",
            "4/4 [==============================] - 0s 10ms/step - loss: 0.1068 - acc: 0.9758 - val_loss: 18.7451 - val_acc: 0.1111\n",
            "Epoch 387/500\n",
            "4/4 [==============================] - 0s 11ms/step - loss: 0.1037 - acc: 0.9597 - val_loss: 18.8451 - val_acc: 0.1111\n",
            "Epoch 388/500\n",
            "4/4 [==============================] - 0s 11ms/step - loss: 0.1039 - acc: 0.9597 - val_loss: 18.8197 - val_acc: 0.1111\n",
            "Epoch 389/500\n",
            "4/4 [==============================] - 0s 11ms/step - loss: 0.1034 - acc: 0.9758 - val_loss: 18.7660 - val_acc: 0.1111\n",
            "Epoch 390/500\n",
            "4/4 [==============================] - 0s 11ms/step - loss: 0.1028 - acc: 0.9677 - val_loss: 18.7948 - val_acc: 0.1111\n",
            "Epoch 391/500\n",
            "4/4 [==============================] - 0s 12ms/step - loss: 0.0993 - acc: 0.9758 - val_loss: 18.8744 - val_acc: 0.1111\n",
            "Epoch 392/500\n",
            "4/4 [==============================] - 0s 13ms/step - loss: 0.1054 - acc: 0.9758 - val_loss: 18.8847 - val_acc: 0.1111\n",
            "Epoch 393/500\n",
            "4/4 [==============================] - 0s 13ms/step - loss: 0.1015 - acc: 0.9677 - val_loss: 18.8768 - val_acc: 0.1111\n",
            "Epoch 394/500\n",
            "4/4 [==============================] - 0s 12ms/step - loss: 0.1041 - acc: 0.9758 - val_loss: 18.8875 - val_acc: 0.1111\n",
            "Epoch 395/500\n",
            "4/4 [==============================] - 0s 12ms/step - loss: 0.1201 - acc: 0.9516 - val_loss: 19.0089 - val_acc: 0.1111\n",
            "Epoch 396/500\n",
            "4/4 [==============================] - 0s 13ms/step - loss: 0.1054 - acc: 0.9677 - val_loss: 18.9386 - val_acc: 0.1111\n",
            "Epoch 397/500\n",
            "4/4 [==============================] - 0s 13ms/step - loss: 0.1360 - acc: 0.9677 - val_loss: 19.3397 - val_acc: 0.1111\n",
            "Epoch 398/500\n",
            "4/4 [==============================] - 0s 12ms/step - loss: 0.0888 - acc: 0.9597 - val_loss: 18.9090 - val_acc: 0.1111\n",
            "Epoch 399/500\n",
            "4/4 [==============================] - 0s 14ms/step - loss: 0.1115 - acc: 0.9355 - val_loss: 19.6345 - val_acc: 0.1111\n",
            "Epoch 400/500\n",
            "4/4 [==============================] - 0s 12ms/step - loss: 0.1870 - acc: 0.9355 - val_loss: 18.9546 - val_acc: 0.1111\n",
            "Epoch 401/500\n",
            "4/4 [==============================] - 0s 17ms/step - loss: 0.1454 - acc: 0.9274 - val_loss: 19.5218 - val_acc: 0.1111\n",
            "Epoch 402/500\n",
            "4/4 [==============================] - 0s 11ms/step - loss: 0.1327 - acc: 0.9597 - val_loss: 18.8954 - val_acc: 0.1111\n",
            "Epoch 403/500\n",
            "4/4 [==============================] - 0s 10ms/step - loss: 0.1350 - acc: 0.9274 - val_loss: 19.5551 - val_acc: 0.1111\n",
            "Epoch 404/500\n",
            "4/4 [==============================] - 0s 11ms/step - loss: 0.1411 - acc: 0.9597 - val_loss: 18.8420 - val_acc: 0.1111\n",
            "Epoch 405/500\n",
            "4/4 [==============================] - 0s 11ms/step - loss: 0.0970 - acc: 0.9677 - val_loss: 19.2773 - val_acc: 0.1111\n",
            "Epoch 406/500\n",
            "4/4 [==============================] - 0s 11ms/step - loss: 0.1401 - acc: 0.9435 - val_loss: 18.7230 - val_acc: 0.1111\n",
            "Epoch 407/500\n",
            "4/4 [==============================] - 0s 12ms/step - loss: 0.2095 - acc: 0.8952 - val_loss: 19.4977 - val_acc: 0.1111\n",
            "Epoch 408/500\n",
            "4/4 [==============================] - 0s 11ms/step - loss: 0.1620 - acc: 0.9677 - val_loss: 18.7446 - val_acc: 0.1111\n",
            "Epoch 409/500\n",
            "4/4 [==============================] - 0s 11ms/step - loss: 0.1115 - acc: 0.9516 - val_loss: 18.9381 - val_acc: 0.1111\n",
            "Epoch 410/500\n",
            "4/4 [==============================] - 0s 10ms/step - loss: 0.1202 - acc: 0.9597 - val_loss: 18.4616 - val_acc: 0.1111\n",
            "Epoch 411/500\n",
            "4/4 [==============================] - 0s 10ms/step - loss: 0.1154 - acc: 0.9274 - val_loss: 18.9366 - val_acc: 0.1111\n",
            "Epoch 412/500\n",
            "4/4 [==============================] - 0s 11ms/step - loss: 0.1330 - acc: 0.9355 - val_loss: 18.4502 - val_acc: 0.1111\n",
            "Epoch 413/500\n",
            "4/4 [==============================] - 0s 11ms/step - loss: 0.2673 - acc: 0.8871 - val_loss: 19.4843 - val_acc: 0.1111\n",
            "Epoch 414/500\n",
            "4/4 [==============================] - 0s 13ms/step - loss: 0.2150 - acc: 0.9113 - val_loss: 18.8889 - val_acc: 0.0926\n",
            "Epoch 415/500\n",
            "4/4 [==============================] - 0s 10ms/step - loss: 0.2226 - acc: 0.9113 - val_loss: 19.2874 - val_acc: 0.1111\n",
            "Epoch 416/500\n",
            "4/4 [==============================] - 0s 14ms/step - loss: 0.2420 - acc: 0.9194 - val_loss: 18.4694 - val_acc: 0.1111\n",
            "Epoch 417/500\n",
            "4/4 [==============================] - 0s 13ms/step - loss: 0.2783 - acc: 0.8710 - val_loss: 18.6230 - val_acc: 0.1111\n",
            "Epoch 418/500\n",
            "4/4 [==============================] - 0s 12ms/step - loss: 0.2358 - acc: 0.9113 - val_loss: 18.1020 - val_acc: 0.1111\n",
            "Epoch 419/500\n",
            "4/4 [==============================] - 0s 13ms/step - loss: 0.1625 - acc: 0.9113 - val_loss: 18.4780 - val_acc: 0.1111\n",
            "Epoch 420/500\n",
            "4/4 [==============================] - 0s 11ms/step - loss: 0.1454 - acc: 0.9597 - val_loss: 18.2565 - val_acc: 0.1111\n",
            "Epoch 421/500\n",
            "4/4 [==============================] - 0s 11ms/step - loss: 0.1171 - acc: 0.9597 - val_loss: 18.1769 - val_acc: 0.1111\n",
            "Epoch 422/500\n",
            "4/4 [==============================] - 0s 14ms/step - loss: 0.0962 - acc: 0.9839 - val_loss: 18.3013 - val_acc: 0.1111\n",
            "Epoch 423/500\n",
            "4/4 [==============================] - 0s 11ms/step - loss: 0.1047 - acc: 0.9677 - val_loss: 18.1786 - val_acc: 0.1111\n",
            "Epoch 424/500\n",
            "4/4 [==============================] - 0s 12ms/step - loss: 0.1042 - acc: 0.9516 - val_loss: 18.4254 - val_acc: 0.1111\n",
            "Epoch 425/500\n",
            "4/4 [==============================] - 0s 11ms/step - loss: 0.1165 - acc: 0.9677 - val_loss: 18.2831 - val_acc: 0.1111\n",
            "Epoch 426/500\n",
            "4/4 [==============================] - 0s 10ms/step - loss: 0.1036 - acc: 0.9516 - val_loss: 18.4506 - val_acc: 0.1111\n",
            "Epoch 427/500\n",
            "4/4 [==============================] - 0s 11ms/step - loss: 0.1064 - acc: 0.9677 - val_loss: 18.4007 - val_acc: 0.1111\n",
            "Epoch 428/500\n",
            "4/4 [==============================] - 0s 11ms/step - loss: 0.1001 - acc: 0.9839 - val_loss: 18.4870 - val_acc: 0.1111\n",
            "Epoch 429/500\n",
            "4/4 [==============================] - 0s 11ms/step - loss: 0.1225 - acc: 0.9435 - val_loss: 18.8196 - val_acc: 0.1111\n",
            "Epoch 430/500\n",
            "4/4 [==============================] - 0s 11ms/step - loss: 0.1323 - acc: 0.9597 - val_loss: 18.5857 - val_acc: 0.1111\n",
            "Epoch 431/500\n",
            "4/4 [==============================] - 0s 12ms/step - loss: 0.1167 - acc: 0.9435 - val_loss: 18.7551 - val_acc: 0.1111\n",
            "Epoch 432/500\n",
            "4/4 [==============================] - 0s 11ms/step - loss: 0.1152 - acc: 0.9597 - val_loss: 18.5508 - val_acc: 0.1111\n",
            "Epoch 433/500\n",
            "4/4 [==============================] - 0s 12ms/step - loss: 0.1102 - acc: 0.9516 - val_loss: 18.5381 - val_acc: 0.1111\n",
            "Epoch 434/500\n",
            "4/4 [==============================] - 0s 15ms/step - loss: 0.1584 - acc: 0.9355 - val_loss: 18.4344 - val_acc: 0.1111\n",
            "Epoch 435/500\n",
            "4/4 [==============================] - 0s 17ms/step - loss: 0.1544 - acc: 0.9194 - val_loss: 18.5978 - val_acc: 0.1111\n",
            "Epoch 436/500\n",
            "4/4 [==============================] - 0s 14ms/step - loss: 0.2026 - acc: 0.9355 - val_loss: 18.2973 - val_acc: 0.1111\n",
            "Epoch 437/500\n",
            "4/4 [==============================] - 0s 12ms/step - loss: 0.2824 - acc: 0.9032 - val_loss: 18.4977 - val_acc: 0.1111\n",
            "Epoch 438/500\n",
            "4/4 [==============================] - 0s 12ms/step - loss: 0.1914 - acc: 0.9435 - val_loss: 18.3104 - val_acc: 0.1111\n",
            "Epoch 439/500\n",
            "4/4 [==============================] - 0s 12ms/step - loss: 0.1854 - acc: 0.9194 - val_loss: 17.8824 - val_acc: 0.1111\n",
            "Epoch 440/500\n",
            "4/4 [==============================] - 0s 12ms/step - loss: 0.1067 - acc: 0.9597 - val_loss: 17.5782 - val_acc: 0.1111\n",
            "Epoch 441/500\n",
            "4/4 [==============================] - 0s 12ms/step - loss: 0.1255 - acc: 0.9516 - val_loss: 18.1409 - val_acc: 0.1111\n",
            "Epoch 442/500\n",
            "4/4 [==============================] - 0s 12ms/step - loss: 0.1222 - acc: 0.9516 - val_loss: 18.1237 - val_acc: 0.1111\n",
            "Epoch 443/500\n",
            "4/4 [==============================] - 0s 14ms/step - loss: 0.1251 - acc: 0.9516 - val_loss: 18.2125 - val_acc: 0.1111\n",
            "Epoch 444/500\n",
            "4/4 [==============================] - 0s 12ms/step - loss: 0.1065 - acc: 0.9516 - val_loss: 17.9083 - val_acc: 0.1111\n",
            "Epoch 445/500\n",
            "4/4 [==============================] - 0s 12ms/step - loss: 0.0986 - acc: 0.9758 - val_loss: 18.0927 - val_acc: 0.1111\n",
            "Epoch 446/500\n",
            "4/4 [==============================] - 0s 13ms/step - loss: 0.0948 - acc: 0.9597 - val_loss: 18.4494 - val_acc: 0.1111\n",
            "Epoch 447/500\n",
            "4/4 [==============================] - 0s 12ms/step - loss: 0.0947 - acc: 0.9758 - val_loss: 18.8360 - val_acc: 0.1111\n",
            "Epoch 448/500\n",
            "4/4 [==============================] - 0s 12ms/step - loss: 0.0900 - acc: 0.9839 - val_loss: 19.0816 - val_acc: 0.1111\n",
            "Epoch 449/500\n",
            "4/4 [==============================] - 0s 11ms/step - loss: 0.0941 - acc: 0.9839 - val_loss: 18.8606 - val_acc: 0.1111\n",
            "Epoch 450/500\n",
            "4/4 [==============================] - 0s 10ms/step - loss: 0.1018 - acc: 0.9677 - val_loss: 18.8041 - val_acc: 0.1111\n",
            "Epoch 451/500\n",
            "4/4 [==============================] - 0s 11ms/step - loss: 0.1216 - acc: 0.9677 - val_loss: 18.9090 - val_acc: 0.1111\n",
            "Epoch 452/500\n",
            "4/4 [==============================] - 0s 10ms/step - loss: 0.0920 - acc: 0.9677 - val_loss: 19.4863 - val_acc: 0.1111\n",
            "Epoch 453/500\n",
            "4/4 [==============================] - 0s 11ms/step - loss: 0.0969 - acc: 0.9758 - val_loss: 19.2621 - val_acc: 0.1111\n",
            "Epoch 454/500\n",
            "4/4 [==============================] - 0s 11ms/step - loss: 0.1093 - acc: 0.9516 - val_loss: 19.4245 - val_acc: 0.1111\n",
            "Epoch 455/500\n",
            "4/4 [==============================] - 0s 18ms/step - loss: 0.1010 - acc: 0.9597 - val_loss: 18.9603 - val_acc: 0.1111\n",
            "Epoch 456/500\n",
            "4/4 [==============================] - 0s 11ms/step - loss: 0.1286 - acc: 0.9274 - val_loss: 19.6572 - val_acc: 0.1111\n",
            "Epoch 457/500\n",
            "4/4 [==============================] - 0s 13ms/step - loss: 0.1811 - acc: 0.9435 - val_loss: 18.8100 - val_acc: 0.1111\n",
            "Epoch 458/500\n",
            "4/4 [==============================] - 0s 12ms/step - loss: 0.2179 - acc: 0.9113 - val_loss: 19.1671 - val_acc: 0.1111\n",
            "Epoch 459/500\n",
            "4/4 [==============================] - 0s 11ms/step - loss: 0.1039 - acc: 0.9597 - val_loss: 18.9072 - val_acc: 0.1111\n",
            "Epoch 460/500\n",
            "4/4 [==============================] - 0s 12ms/step - loss: 0.1569 - acc: 0.9355 - val_loss: 19.2468 - val_acc: 0.1111\n",
            "Epoch 461/500\n",
            "4/4 [==============================] - 0s 11ms/step - loss: 0.1127 - acc: 0.9597 - val_loss: 18.8735 - val_acc: 0.1111\n",
            "Epoch 462/500\n",
            "4/4 [==============================] - 0s 13ms/step - loss: 0.1120 - acc: 0.9597 - val_loss: 19.1199 - val_acc: 0.1111\n",
            "Epoch 463/500\n",
            "4/4 [==============================] - 0s 12ms/step - loss: 0.1521 - acc: 0.9677 - val_loss: 18.5962 - val_acc: 0.1111\n",
            "Epoch 464/500\n",
            "4/4 [==============================] - 0s 13ms/step - loss: 0.1631 - acc: 0.9113 - val_loss: 18.6542 - val_acc: 0.1111\n",
            "Epoch 465/500\n",
            "4/4 [==============================] - 0s 13ms/step - loss: 0.1870 - acc: 0.9194 - val_loss: 18.2946 - val_acc: 0.1111\n",
            "Epoch 466/500\n",
            "4/4 [==============================] - 0s 12ms/step - loss: 0.2153 - acc: 0.8871 - val_loss: 18.3913 - val_acc: 0.1111\n",
            "Epoch 467/500\n",
            "4/4 [==============================] - 0s 12ms/step - loss: 0.2369 - acc: 0.9274 - val_loss: 18.1741 - val_acc: 0.1111\n",
            "Epoch 468/500\n",
            "4/4 [==============================] - 0s 13ms/step - loss: 0.3382 - acc: 0.8871 - val_loss: 17.8774 - val_acc: 0.1111\n",
            "Epoch 469/500\n",
            "4/4 [==============================] - 0s 13ms/step - loss: 0.2376 - acc: 0.9113 - val_loss: 17.9103 - val_acc: 0.1111\n",
            "Epoch 470/500\n",
            "4/4 [==============================] - 0s 13ms/step - loss: 0.2542 - acc: 0.8871 - val_loss: 17.6141 - val_acc: 0.1111\n",
            "Epoch 471/500\n",
            "4/4 [==============================] - 0s 12ms/step - loss: 0.2887 - acc: 0.9032 - val_loss: 17.7183 - val_acc: 0.1111\n",
            "Epoch 472/500\n",
            "4/4 [==============================] - 0s 11ms/step - loss: 0.2433 - acc: 0.9032 - val_loss: 17.7769 - val_acc: 0.1111\n",
            "Epoch 473/500\n",
            "4/4 [==============================] - 0s 11ms/step - loss: 0.2269 - acc: 0.9113 - val_loss: 17.9430 - val_acc: 0.1111\n",
            "Epoch 474/500\n",
            "4/4 [==============================] - 0s 11ms/step - loss: 0.1272 - acc: 0.9355 - val_loss: 17.4873 - val_acc: 0.1111\n",
            "Epoch 475/500\n",
            "4/4 [==============================] - 0s 14ms/step - loss: 0.1032 - acc: 0.9435 - val_loss: 18.0527 - val_acc: 0.1111\n",
            "Epoch 476/500\n",
            "4/4 [==============================] - 0s 12ms/step - loss: 0.1239 - acc: 0.9355 - val_loss: 17.2757 - val_acc: 0.1111\n",
            "Epoch 477/500\n",
            "4/4 [==============================] - 0s 13ms/step - loss: 0.1339 - acc: 0.9435 - val_loss: 17.4714 - val_acc: 0.1111\n",
            "Epoch 478/500\n",
            "4/4 [==============================] - 0s 12ms/step - loss: 0.1226 - acc: 0.9597 - val_loss: 17.5744 - val_acc: 0.1111\n",
            "Epoch 479/500\n",
            "4/4 [==============================] - 0s 11ms/step - loss: 0.1333 - acc: 0.9355 - val_loss: 17.3792 - val_acc: 0.1111\n",
            "Epoch 480/500\n",
            "4/4 [==============================] - 0s 12ms/step - loss: 0.1463 - acc: 0.9435 - val_loss: 17.5425 - val_acc: 0.1111\n",
            "Epoch 481/500\n",
            "4/4 [==============================] - 0s 13ms/step - loss: 0.1146 - acc: 0.9516 - val_loss: 17.4411 - val_acc: 0.1111\n",
            "Epoch 482/500\n",
            "4/4 [==============================] - 0s 11ms/step - loss: 0.1128 - acc: 0.9677 - val_loss: 17.3740 - val_acc: 0.1111\n",
            "Epoch 483/500\n",
            "4/4 [==============================] - 0s 11ms/step - loss: 0.1226 - acc: 0.9435 - val_loss: 17.4382 - val_acc: 0.1111\n",
            "Epoch 484/500\n",
            "4/4 [==============================] - 0s 12ms/step - loss: 0.1071 - acc: 0.9677 - val_loss: 17.4635 - val_acc: 0.1111\n",
            "Epoch 485/500\n",
            "4/4 [==============================] - 0s 12ms/step - loss: 0.0997 - acc: 0.9758 - val_loss: 17.3944 - val_acc: 0.1111\n",
            "Epoch 486/500\n",
            "4/4 [==============================] - 0s 13ms/step - loss: 0.1179 - acc: 0.9516 - val_loss: 17.9249 - val_acc: 0.1111\n",
            "Epoch 487/500\n",
            "4/4 [==============================] - 0s 12ms/step - loss: 0.1059 - acc: 0.9839 - val_loss: 19.2664 - val_acc: 0.1111\n",
            "Epoch 488/500\n",
            "4/4 [==============================] - 0s 11ms/step - loss: 0.1405 - acc: 0.9516 - val_loss: 19.0748 - val_acc: 0.1111\n",
            "Epoch 489/500\n",
            "4/4 [==============================] - 0s 10ms/step - loss: 0.1361 - acc: 0.9516 - val_loss: 18.9551 - val_acc: 0.1111\n",
            "Epoch 490/500\n",
            "4/4 [==============================] - 0s 10ms/step - loss: 0.1193 - acc: 0.9274 - val_loss: 19.0104 - val_acc: 0.1111\n",
            "Epoch 491/500\n",
            "4/4 [==============================] - 0s 12ms/step - loss: 0.1074 - acc: 0.9758 - val_loss: 18.6905 - val_acc: 0.1111\n",
            "Epoch 492/500\n",
            "4/4 [==============================] - 0s 12ms/step - loss: 0.1076 - acc: 0.9597 - val_loss: 18.7081 - val_acc: 0.1111\n",
            "Epoch 493/500\n",
            "4/4 [==============================] - 0s 12ms/step - loss: 0.0979 - acc: 0.9839 - val_loss: 18.5124 - val_acc: 0.1111\n",
            "Epoch 494/500\n",
            "4/4 [==============================] - 0s 14ms/step - loss: 0.1384 - acc: 0.9516 - val_loss: 18.3861 - val_acc: 0.1111\n",
            "Epoch 495/500\n",
            "4/4 [==============================] - 0s 13ms/step - loss: 0.1479 - acc: 0.9435 - val_loss: 18.2176 - val_acc: 0.1111\n",
            "Epoch 496/500\n",
            "4/4 [==============================] - 0s 13ms/step - loss: 0.0938 - acc: 0.9597 - val_loss: 18.1225 - val_acc: 0.1111\n",
            "Epoch 497/500\n",
            "4/4 [==============================] - 0s 11ms/step - loss: 0.0897 - acc: 0.9839 - val_loss: 18.0908 - val_acc: 0.1111\n",
            "Epoch 498/500\n",
            "4/4 [==============================] - 0s 13ms/step - loss: 0.0965 - acc: 0.9758 - val_loss: 18.2007 - val_acc: 0.1111\n",
            "Epoch 499/500\n",
            "4/4 [==============================] - 0s 13ms/step - loss: 0.1298 - acc: 0.9677 - val_loss: 18.1438 - val_acc: 0.1111\n",
            "Epoch 500/500\n",
            "4/4 [==============================] - 0s 11ms/step - loss: 0.1462 - acc: 0.9516 - val_loss: 18.3651 - val_acc: 0.1111\n"
          ],
          "name": "stdout"
        },
        {
          "output_type": "execute_result",
          "data": {
            "text/plain": [
              "<tensorflow.python.keras.callbacks.History at 0x7fafe0649c10>"
            ]
          },
          "metadata": {
            "tags": []
          },
          "execution_count": 16
        }
      ]
    },
    {
      "cell_type": "markdown",
      "metadata": {
        "id": "rnqI5pSpmP9R"
      },
      "source": [
        "# 5. 검증 (Evaluation)"
      ]
    },
    {
      "cell_type": "code",
      "metadata": {
        "id": "g1TXH09Fl1l0"
      },
      "source": [
        "# model.evaluate(x_data, y_data)  # epochs=50 - loss: 54.4796 - acc: 0.6404"
      ],
      "execution_count": 17,
      "outputs": []
    },
    {
      "cell_type": "code",
      "metadata": {
        "id": "Qzq8qFO7oqzg"
      },
      "source": [
        "# model.evaluate(x_data, y_data)  # epochs=100 - loss: 11.6780 - acc: 0.6854"
      ],
      "execution_count": 18,
      "outputs": []
    },
    {
      "cell_type": "code",
      "metadata": {
        "id": "2WXkkBOQo1Xi"
      },
      "source": [
        "#  model.evaluate(x_data, y_data)  # epochs=500 - loss: 11.8336 - acc: 0.6798"
      ],
      "execution_count": 19,
      "outputs": []
    },
    {
      "cell_type": "code",
      "metadata": {
        "id": "J0ku4UQUqjpL"
      },
      "source": [
        "model.evaluate(x_data, y_data)  # epochs=500, hidden layer 추가 (val 128) - loss: 10.4153 - acc: 0.7135"
      ],
      "execution_count": 20,
      "outputs": []
    },
    {
      "cell_type": "code",
      "metadata": {
        "colab": {
          "base_uri": "https://localhost:8080/"
        },
        "id": "GOyZMshvx6Q3",
        "outputId": "353dec3b-5b8c-45d1-d56a-f417eb259010"
      },
      "source": [
        "# model.evaluate(x_data, y_data)  # epochs=500, hidden layer 추가 (val 128, 64) - loss: 5.6670 - acc: 0.6798"
      ],
      "execution_count": 21,
      "outputs": [
        {
          "output_type": "stream",
          "text": [
            "6/6 [==============================] - 0s 2ms/step - loss: 5.6670 - acc: 0.6798\n"
          ],
          "name": "stdout"
        },
        {
          "output_type": "execute_result",
          "data": {
            "text/plain": [
              "[5.6670098304748535, 0.6797752976417542]"
            ]
          },
          "metadata": {
            "tags": []
          },
          "execution_count": 21
        }
      ]
    },
    {
      "cell_type": "markdown",
      "metadata": {
        "id": "mWAyBWm8m475"
      },
      "source": [
        "# 6. 서비스 (predict)"
      ]
    },
    {
      "cell_type": "code",
      "metadata": {
        "colab": {
          "base_uri": "https://localhost:8080/"
        },
        "id": "IHXGkyWqmf-S",
        "outputId": "fe25fbac-d12d-474c-cbfe-00c5d8256f5e"
      },
      "source": [
        "x_data[30], y_data[30]"
      ],
      "execution_count": 22,
      "outputs": [
        {
          "output_type": "execute_result",
          "data": {
            "text/plain": [
              "(array([1.373e+01, 1.500e+00, 2.700e+00, 2.250e+01, 1.010e+02, 3.000e+00,\n",
              "        3.250e+00, 2.900e-01, 2.380e+00, 5.700e+00, 1.190e+00, 2.710e+00,\n",
              "        1.285e+03]), 0)"
            ]
          },
          "metadata": {
            "tags": []
          },
          "execution_count": 22
        }
      ]
    },
    {
      "cell_type": "code",
      "metadata": {
        "colab": {
          "base_uri": "https://localhost:8080/"
        },
        "id": "cQmpouV7nCjW",
        "outputId": "1ef95ea2-4d40-4e30-8990-072202f631cb"
      },
      "source": [
        "pred = model.predict([[1.373e+01, 1.500e+00, 2.700e+00, 2.250e+01, 1.010e+02, 3.000e+00,\n",
        "        3.250e+00, 2.900e-01, 2.380e+00, 5.700e+00, 1.190e+00, 2.710e+00,\n",
        "        1.285e+03]])\n",
        "pred"
      ],
      "execution_count": 23,
      "outputs": [
        {
          "output_type": "execute_result",
          "data": {
            "text/plain": [
              "array([[9.9994421e-01, 5.5755678e-05, 3.1954276e-24]], dtype=float32)"
            ]
          },
          "metadata": {
            "tags": []
          },
          "execution_count": 23
        }
      ]
    },
    {
      "cell_type": "code",
      "metadata": {
        "colab": {
          "base_uri": "https://localhost:8080/"
        },
        "id": "gaYEGPMtnJVt",
        "outputId": "d65157c6-400a-47a0-b712-bacd90370eda"
      },
      "source": [
        "np.argmax(pred)"
      ],
      "execution_count": 24,
      "outputs": [
        {
          "output_type": "execute_result",
          "data": {
            "text/plain": [
              "0"
            ]
          },
          "metadata": {
            "tags": []
          },
          "execution_count": 24
        }
      ]
    }
  ]
}