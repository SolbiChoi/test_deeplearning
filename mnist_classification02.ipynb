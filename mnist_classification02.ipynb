{
  "nbformat": 4,
  "nbformat_minor": 0,
  "metadata": {
    "colab": {
      "name": "mnist_classification.ipynb",
      "provenance": [],
      "collapsed_sections": [],
      "authorship_tag": "ABX9TyNs5yCT+fAuFyPVUiuisfZs",
      "include_colab_link": true
    },
    "kernelspec": {
      "name": "python3",
      "display_name": "Python 3"
    },
    "language_info": {
      "name": "python"
    }
  },
  "cells": [
    {
      "cell_type": "markdown",
      "metadata": {
        "id": "view-in-github",
        "colab_type": "text"
      },
      "source": [
        "<a href=\"https://colab.research.google.com/github/SolbiChoi/test_deeplearning/blob/master/mnist_classification02.ipynb\" target=\"_parent\"><img src=\"https://colab.research.google.com/assets/colab-badge.svg\" alt=\"Open In Colab\"/></a>"
      ]
    },
    {
      "cell_type": "code",
      "metadata": {
        "id": "8Clcaw4olZa8"
      },
      "source": [
        "from tensorflow.keras.datasets.mnist import load_data"
      ],
      "execution_count": 40,
      "outputs": []
    },
    {
      "cell_type": "code",
      "metadata": {
        "colab": {
          "base_uri": "https://localhost:8080/"
        },
        "id": "ordDEiXEmqtd",
        "outputId": "82f29c2a-5755-4d41-d429-b918a190896a"
      },
      "source": [
        "(x_train, y_train), (x_test, y_test) = load_data(path='mnist.npz')\n",
        "x_train.shape, y_train.shape, x_test.shape, y_test.shape  # (행, 열, 밀어넣는..3차원)"
      ],
      "execution_count": 41,
      "outputs": [
        {
          "output_type": "execute_result",
          "data": {
            "text/plain": [
              "((60000, 28, 28), (60000,), (10000, 28, 28), (10000,))"
            ]
          },
          "metadata": {
            "tags": []
          },
          "execution_count": 41
        }
      ]
    },
    {
      "cell_type": "code",
      "metadata": {
        "colab": {
          "base_uri": "https://localhost:8080/"
        },
        "id": "cTMoVpZasKNE",
        "outputId": "1511b9b6-7f7d-4170-a6fc-7153e913031c"
      },
      "source": [
        "# y_train[4], x_train[4]\n",
        "y_train[50000], x_train[50000]"
      ],
      "execution_count": 42,
      "outputs": [
        {
          "output_type": "execute_result",
          "data": {
            "text/plain": [
              "(3, array([[  0,   0,   0,   0,   0,   0,   0,   0,   0,   0,   0,   0,   0,\n",
              "           0,   0,   0,   0,   0,   0,   0,   0,   0,   0,   0,   0,   0,\n",
              "           0,   0],\n",
              "        [  0,   0,   0,   0,   0,   0,   0,   0,   0,   0,   0,   0,   0,\n",
              "           0,   0,   0,   0,   0,   0,   0,   0,   0,   0,   0,   0,   0,\n",
              "           0,   0],\n",
              "        [  0,   0,   0,   0,   0,   0,   0,   0,   0,   0,   0,   0,   0,\n",
              "           0,   0,   0,   0,   0,   0,   0,   0,   0,   0,   0,   0,   0,\n",
              "           0,   0],\n",
              "        [  0,   0,   0,   0,   0,   0,   0,   0,   0,   0,   0,   0,   0,\n",
              "           0,   0,   0,   0,   0,   0,   0,   0,   0,   0,   0,   0,   0,\n",
              "           0,   0],\n",
              "        [  0,   0,   0,   0,   0,   0,   0,   0,   0,   0,  47, 160, 195,\n",
              "         205,  71,  86,  13,   0,   0,   0,   0,   0,   0,   0,   0,   0,\n",
              "           0,   0],\n",
              "        [  0,   0,   0,   0,   0,   0,   0,   0,   0,  12, 238, 254, 254,\n",
              "         254, 254, 254, 227,  84,   0,   0,   0,   0,   0,   0,   0,   0,\n",
              "           0,   0],\n",
              "        [  0,   0,   0,   0,   0,   0,   0,   0,   0,  13, 196, 176, 127,\n",
              "         176, 207, 236, 245, 222,  23,   0,   0,   0,   0,   0,   0,   0,\n",
              "           0,   0],\n",
              "        [  0,   0,   0,   0,   0,   0,   0,   0,   0,   0,   0,   0,   0,\n",
              "           0,   0,  20, 137, 254,  95,   0,   0,   0,   0,   0,   0,   0,\n",
              "           0,   0],\n",
              "        [  0,   0,   0,   0,   0,   0,   0,   0,   0,   0,   0,   0,   0,\n",
              "           0,   0,   0,  78, 254, 144,   0,   0,   0,   0,   0,   0,   0,\n",
              "           0,   0],\n",
              "        [  0,   0,   0,   0,   0,   0,   0,   0,   0,   0,   0,   0,   0,\n",
              "           0,   0,  17, 200, 254, 170,   0,   0,   0,   0,   0,   0,   0,\n",
              "           0,   0],\n",
              "        [  0,   0,   0,   0,   0,   0,   0,   0,   0,   0,   0,   0,   0,\n",
              "           0,  47, 218, 254, 216,  29,   0,   0,   0,   0,   0,   0,   0,\n",
              "           0,   0],\n",
              "        [  0,   0,   0,   0,   0,   0,   0,   0,   0,   0,   0,   0,   0,\n",
              "          95, 225, 254, 245,  65,   0,   0,   0,   0,   0,   0,   0,   0,\n",
              "           0,   0],\n",
              "        [  0,   0,   0,   0,   0,   0,   0,   0,   0,   0,   0,  12, 128,\n",
              "         252, 254, 236,  40,   0,   0,   0,   0,   0,   0,   0,   0,   0,\n",
              "           0,   0],\n",
              "        [  0,   0,   0,   0,   0,   0,   0,   0,   0,   0,   0, 172, 254,\n",
              "         254, 170,  58,   0,   0,   0,   0,   0,   0,   0,   0,   0,   0,\n",
              "           0,   0],\n",
              "        [  0,   0,   0,   0,   0,   0,   0,   0,   0,   0,   0, 207, 254,\n",
              "         254,  65,   0,   0,   0,   0,   0,   0,   0,   0,   0,   0,   0,\n",
              "           0,   0],\n",
              "        [  0,   0,   0,   0,   0,   0,   0,   0,   0,   0,   0, 137, 254,\n",
              "         254, 251, 146,  26,   0,   0,   0,   0,   0,   0,   0,   0,   0,\n",
              "           0,   0],\n",
              "        [  0,   0,   0,   0,   0,   0,   0,   0,   0,   0,   0,   9, 173,\n",
              "         224, 254, 254, 230,  71,   0,   0,   0,   0,   0,   0,   0,   0,\n",
              "           0,   0],\n",
              "        [  0,   0,   0,   0,   0,   0,   0,   0,   0,   0,   0,   0,   8,\n",
              "          12, 254, 254, 254, 246, 104,   0,   0,   0,   0,   0,   0,   0,\n",
              "           0,   0],\n",
              "        [  0,   0,   0,   0,   0,   0,   0,   0,   0,   0,   0,   0,   0,\n",
              "           0,  46, 189, 254, 254, 224,   0,   0,   0,   0,   0,   0,   0,\n",
              "           0,   0],\n",
              "        [  0,   0,   0,   0,   0,   0,   0,   0,   0,  10,   0,   0,   0,\n",
              "           0,   0,  17, 175, 254, 254,  25,   0,   0,   0,   0,   0,   0,\n",
              "           0,   0],\n",
              "        [  0,   0,   0,   0,   0,   0,   0,   0,  35, 231, 156, 112,  87,\n",
              "         186, 191, 218, 254, 254, 219,   0,   0,   0,   0,   0,   0,   0,\n",
              "           0,   0],\n",
              "        [  0,   0,   0,   0,   0,   0,   0,   0, 120, 255, 254, 254, 254,\n",
              "         254, 255, 254, 254, 242,  67,   0,   0,   0,   0,   0,   0,   0,\n",
              "           0,   0],\n",
              "        [  0,   0,   0,   0,   0,   0,   0,   0, 139, 255, 254, 254, 254,\n",
              "         254, 255, 171,  46,  24,   0,   0,   0,   0,   0,   0,   0,   0,\n",
              "           0,   0],\n",
              "        [  0,   0,   0,   0,   0,   0,   0,   0,   5,  71, 164, 189, 174,\n",
              "         174,  66,   4,   0,   0,   0,   0,   0,   0,   0,   0,   0,   0,\n",
              "           0,   0],\n",
              "        [  0,   0,   0,   0,   0,   0,   0,   0,   0,   0,   0,   0,   0,\n",
              "           0,   0,   0,   0,   0,   0,   0,   0,   0,   0,   0,   0,   0,\n",
              "           0,   0],\n",
              "        [  0,   0,   0,   0,   0,   0,   0,   0,   0,   0,   0,   0,   0,\n",
              "           0,   0,   0,   0,   0,   0,   0,   0,   0,   0,   0,   0,   0,\n",
              "           0,   0],\n",
              "        [  0,   0,   0,   0,   0,   0,   0,   0,   0,   0,   0,   0,   0,\n",
              "           0,   0,   0,   0,   0,   0,   0,   0,   0,   0,   0,   0,   0,\n",
              "           0,   0],\n",
              "        [  0,   0,   0,   0,   0,   0,   0,   0,   0,   0,   0,   0,   0,\n",
              "           0,   0,   0,   0,   0,   0,   0,   0,   0,   0,   0,   0,   0,\n",
              "           0,   0]], dtype=uint8))"
            ]
          },
          "metadata": {
            "tags": []
          },
          "execution_count": 42
        }
      ]
    },
    {
      "cell_type": "code",
      "metadata": {
        "colab": {
          "base_uri": "https://localhost:8080/",
          "height": 301
        },
        "id": "-CtiP3sNqjj8",
        "outputId": "888e4c85-9b9a-4b89-e5e7-7bc158686bce"
      },
      "source": [
        "import matplotlib.pyplot as plt\n",
        "plt.imshow(x_train[50000])\n",
        "print(y_train[50000]), type(y_train[50000])"
      ],
      "execution_count": 43,
      "outputs": [
        {
          "output_type": "stream",
          "text": [
            "3\n"
          ],
          "name": "stdout"
        },
        {
          "output_type": "execute_result",
          "data": {
            "text/plain": [
              "(None, numpy.uint8)"
            ]
          },
          "metadata": {
            "tags": []
          },
          "execution_count": 43
        },
        {
          "output_type": "display_data",
          "data": {
            "image/png": "[encoded data removed]",
            "text/plain": [
              "<Figure size 432x288 with 1 Axes>"
            ]
          },
          "metadata": {
            "tags": [],
            "needs_background": "light"
          }
        }
      ]
    },
    {
      "cell_type": "code",
      "metadata": {
        "colab": {
          "base_uri": "https://localhost:8080/"
        },
        "id": "1a4kBPxmtBvL",
        "outputId": "fea0173a-eaad-4261-dd71-8ac0ff81bd02"
      },
      "source": [
        "x_train = x_train.reshape(-1,28*28) / 255  # 255로 나누는 이유 : x_train max값, 값 scaling (min max scale)\n",
        "x_train.shape"
      ],
      "execution_count": 44,
      "outputs": [
        {
          "output_type": "execute_result",
          "data": {
            "text/plain": [
              "(60000, 784)"
            ]
          },
          "metadata": {
            "tags": []
          },
          "execution_count": 44
        }
      ]
    },
    {
      "cell_type": "code",
      "metadata": {
        "colab": {
          "base_uri": "https://localhost:8080/"
        },
        "id": "tuAywHFXuzIg",
        "outputId": "c1b4872d-83e2-40c5-f62c-0b877467cee0"
      },
      "source": [
        "x_test = x_test.reshape(-1,28*28) / 255\n",
        "x_test.shape"
      ],
      "execution_count": 45,
      "outputs": [
        {
          "output_type": "execute_result",
          "data": {
            "text/plain": [
              "(10000, 784)"
            ]
          },
          "metadata": {
            "tags": []
          },
          "execution_count": 45
        }
      ]
    },
    {
      "cell_type": "code",
      "metadata": {
        "colab": {
          "base_uri": "https://localhost:8080/"
        },
        "id": "P8h__09nvRGP",
        "outputId": "af173322-d054-4d11-b283-71f747abbe0e"
      },
      "source": [
        "y_train.shape"
      ],
      "execution_count": 46,
      "outputs": [
        {
          "output_type": "execute_result",
          "data": {
            "text/plain": [
              "(60000,)"
            ]
          },
          "metadata": {
            "tags": []
          },
          "execution_count": 46
        }
      ]
    },
    {
      "cell_type": "code",
      "metadata": {
        "colab": {
          "base_uri": "https://localhost:8080/"
        },
        "id": "4zppxHNgviJX",
        "outputId": "7352ec09-bc06-4645-dcce-44bd42eb536d"
      },
      "source": [
        "y_train[2:10]"
      ],
      "execution_count": 47,
      "outputs": [
        {
          "output_type": "execute_result",
          "data": {
            "text/plain": [
              "array([4, 1, 9, 2, 1, 3, 1, 4], dtype=uint8)"
            ]
          },
          "metadata": {
            "tags": []
          },
          "execution_count": 47
        }
      ]
    },
    {
      "cell_type": "code",
      "metadata": {
        "colab": {
          "base_uri": "https://localhost:8080/"
        },
        "id": "CZ1IfloIxksg",
        "outputId": "8127456d-3a0d-47b2-9603-fbc9e9bb5e0f"
      },
      "source": [
        "import numpy as np\n",
        "np.unique(y_train)"
      ],
      "execution_count": 48,
      "outputs": [
        {
          "output_type": "execute_result",
          "data": {
            "text/plain": [
              "array([0, 1, 2, 3, 4, 5, 6, 7, 8, 9], dtype=uint8)"
            ]
          },
          "metadata": {
            "tags": []
          },
          "execution_count": 48
        }
      ]
    },
    {
      "cell_type": "markdown",
      "metadata": {
        "id": "wE0nnnVVwClo"
      },
      "source": [
        "## Apply model"
      ]
    },
    {
      "cell_type": "code",
      "metadata": {
        "id": "k-MKXwb-vo9r"
      },
      "source": [
        "import tensorflow as tf"
      ],
      "execution_count": 49,
      "outputs": []
    },
    {
      "cell_type": "code",
      "metadata": {
        "colab": {
          "base_uri": "https://localhost:8080/"
        },
        "id": "DEHCuBfnwOZE",
        "outputId": "4052bb7f-2366-47a7-b92c-588179e73acb"
      },
      "source": [
        "model = tf.keras.models.Sequential()\n",
        "\n",
        "model.add(tf.keras.Input(shape=(784,))) # input layer - reshape후 열의 숫자 입력\n",
        "model.add(tf.keras.layers.Dense(64, activation='relu')) # hidden layer\n",
        "model.add(tf.keras.layers.Dense(64, activation='relu')) # hidden layer\n",
        "# 분류 3개 이상일 때 -> softmax, binary -> sigmoid (hidden에서만 사용)\n",
        "model.add(tf.keras.layers.Dense(10, activation='softmax')) # output layer\n",
        "\n",
        "# regression -> loss : mse\n",
        "# binary classification -> loss : binary crossentropy\n",
        "# over 3 classification -> loss : categorical cross entropy (sparse_categorical_crossentropy)\n",
        "model.compile(optimizer='adam', loss='sparse_categorical_crossentropy', metrics=['acc'])"
      ],
      "execution_count": 50,
      "outputs": [
        {
          "output_type": "stream",
          "text": [
            "WARNING:tensorflow:Please add `keras.layers.InputLayer` instead of `keras.Input` to Sequential model. `keras.Input` is intended to be used by Functional model.\n"
          ],
          "name": "stdout"
        }
      ]
    },
    {
      "cell_type": "code",
      "metadata": {
        "id": "i0NM4_u0wWVO",
        "colab": {
          "base_uri": "https://localhost:8080/"
        },
        "outputId": "b1c506ea-1149-4b4e-cfe7-06db05228e6e"
      },
      "source": [
        "hist = model.fit(x_train, y_train, epochs=100, validation_split=0.3)"
      ],
      "execution_count": 51,
      "outputs": [
        {
          "output_type": "stream",
          "text": [
            "Epoch 1/100\n",
            "1313/1313 [==============================] - 4s 3ms/step - loss: 0.3202 - acc: 0.9065 - val_loss: 0.1785 - val_acc: 0.9476\n",
            "Epoch 2/100\n",
            "1313/1313 [==============================] - 3s 2ms/step - loss: 0.1412 - acc: 0.9572 - val_loss: 0.1465 - val_acc: 0.9568\n",
            "Epoch 3/100\n",
            "1313/1313 [==============================] - 3s 3ms/step - loss: 0.1025 - acc: 0.9693 - val_loss: 0.1240 - val_acc: 0.9647\n",
            "Epoch 4/100\n",
            "1313/1313 [==============================] - 3s 2ms/step - loss: 0.0797 - acc: 0.9753 - val_loss: 0.1296 - val_acc: 0.9636\n",
            "Epoch 5/100\n",
            "1313/1313 [==============================] - 3s 2ms/step - loss: 0.0625 - acc: 0.9811 - val_loss: 0.1130 - val_acc: 0.9665\n",
            "Epoch 6/100\n",
            "1313/1313 [==============================] - 3s 3ms/step - loss: 0.0524 - acc: 0.9837 - val_loss: 0.1142 - val_acc: 0.9688\n",
            "Epoch 7/100\n",
            "1313/1313 [==============================] - 3s 2ms/step - loss: 0.0427 - acc: 0.9860 - val_loss: 0.1212 - val_acc: 0.9678\n",
            "Epoch 8/100\n",
            "1313/1313 [==============================] - 3s 2ms/step - loss: 0.0370 - acc: 0.9874 - val_loss: 0.1248 - val_acc: 0.9679\n",
            "Epoch 9/100\n",
            "1313/1313 [==============================] - 3s 3ms/step - loss: 0.0293 - acc: 0.9903 - val_loss: 0.1205 - val_acc: 0.9695\n",
            "Epoch 10/100\n",
            "1313/1313 [==============================] - 4s 3ms/step - loss: 0.0275 - acc: 0.9907 - val_loss: 0.1341 - val_acc: 0.9689\n",
            "Epoch 11/100\n",
            "1313/1313 [==============================] - 3s 2ms/step - loss: 0.0236 - acc: 0.9921 - val_loss: 0.1288 - val_acc: 0.9702\n",
            "Epoch 12/100\n",
            "1313/1313 [==============================] - 3s 3ms/step - loss: 0.0207 - acc: 0.9928 - val_loss: 0.1433 - val_acc: 0.9666\n",
            "Epoch 13/100\n",
            "1313/1313 [==============================] - 3s 2ms/step - loss: 0.0184 - acc: 0.9941 - val_loss: 0.1402 - val_acc: 0.9704\n",
            "Epoch 14/100\n",
            "1313/1313 [==============================] - 3s 2ms/step - loss: 0.0191 - acc: 0.9940 - val_loss: 0.1544 - val_acc: 0.9667\n",
            "Epoch 15/100\n",
            "1313/1313 [==============================] - 3s 2ms/step - loss: 0.0160 - acc: 0.9944 - val_loss: 0.1505 - val_acc: 0.9691\n",
            "Epoch 16/100\n",
            "1313/1313 [==============================] - 3s 2ms/step - loss: 0.0150 - acc: 0.9951 - val_loss: 0.1530 - val_acc: 0.9689\n",
            "Epoch 17/100\n",
            "1313/1313 [==============================] - 3s 2ms/step - loss: 0.0106 - acc: 0.9965 - val_loss: 0.1526 - val_acc: 0.9716\n",
            "Epoch 18/100\n",
            "1313/1313 [==============================] - 3s 2ms/step - loss: 0.0136 - acc: 0.9953 - val_loss: 0.1680 - val_acc: 0.9706\n",
            "Epoch 19/100\n",
            "1313/1313 [==============================] - 3s 2ms/step - loss: 0.0134 - acc: 0.9955 - val_loss: 0.1696 - val_acc: 0.9677\n",
            "Epoch 20/100\n",
            "1313/1313 [==============================] - 3s 2ms/step - loss: 0.0133 - acc: 0.9955 - val_loss: 0.1798 - val_acc: 0.9667\n",
            "Epoch 21/100\n",
            "1313/1313 [==============================] - 3s 2ms/step - loss: 0.0085 - acc: 0.9973 - val_loss: 0.1688 - val_acc: 0.9712\n",
            "Epoch 22/100\n",
            "1313/1313 [==============================] - 3s 2ms/step - loss: 0.0126 - acc: 0.9959 - val_loss: 0.1606 - val_acc: 0.9727\n",
            "Epoch 23/100\n",
            "1313/1313 [==============================] - 3s 2ms/step - loss: 0.0081 - acc: 0.9972 - val_loss: 0.1706 - val_acc: 0.9693\n",
            "Epoch 24/100\n",
            "1313/1313 [==============================] - 3s 2ms/step - loss: 0.0111 - acc: 0.9964 - val_loss: 0.1862 - val_acc: 0.9710\n",
            "Epoch 25/100\n",
            "1313/1313 [==============================] - 3s 2ms/step - loss: 0.0093 - acc: 0.9967 - val_loss: 0.1977 - val_acc: 0.9695\n",
            "Epoch 26/100\n",
            "1313/1313 [==============================] - 3s 2ms/step - loss: 0.0115 - acc: 0.9964 - val_loss: 0.1964 - val_acc: 0.9667\n",
            "Epoch 27/100\n",
            "1313/1313 [==============================] - 3s 2ms/step - loss: 0.0069 - acc: 0.9977 - val_loss: 0.1929 - val_acc: 0.9707\n",
            "Epoch 28/100\n",
            "1313/1313 [==============================] - 3s 2ms/step - loss: 0.0112 - acc: 0.9962 - val_loss: 0.1914 - val_acc: 0.9701\n",
            "Epoch 29/100\n",
            "1313/1313 [==============================] - 3s 2ms/step - loss: 0.0085 - acc: 0.9975 - val_loss: 0.2062 - val_acc: 0.9699\n",
            "Epoch 30/100\n",
            "1313/1313 [==============================] - 3s 2ms/step - loss: 0.0098 - acc: 0.9972 - val_loss: 0.2045 - val_acc: 0.9701\n",
            "Epoch 31/100\n",
            "1313/1313 [==============================] - 3s 3ms/step - loss: 0.0088 - acc: 0.9970 - val_loss: 0.2100 - val_acc: 0.9708\n",
            "Epoch 32/100\n",
            "1313/1313 [==============================] - 3s 2ms/step - loss: 0.0076 - acc: 0.9977 - val_loss: 0.2156 - val_acc: 0.9699\n",
            "Epoch 33/100\n",
            "1313/1313 [==============================] - 3s 2ms/step - loss: 0.0055 - acc: 0.9980 - val_loss: 0.2134 - val_acc: 0.9717\n",
            "Epoch 34/100\n",
            "1313/1313 [==============================] - 3s 2ms/step - loss: 0.0088 - acc: 0.9973 - val_loss: 0.2056 - val_acc: 0.9714\n",
            "Epoch 35/100\n",
            "1313/1313 [==============================] - 3s 2ms/step - loss: 0.0062 - acc: 0.9980 - val_loss: 0.2540 - val_acc: 0.9671\n",
            "Epoch 36/100\n",
            "1313/1313 [==============================] - 3s 2ms/step - loss: 0.0097 - acc: 0.9966 - val_loss: 0.2078 - val_acc: 0.9721\n",
            "Epoch 37/100\n",
            "1313/1313 [==============================] - 3s 2ms/step - loss: 0.0097 - acc: 0.9970 - val_loss: 0.2489 - val_acc: 0.9694\n",
            "Epoch 38/100\n",
            "1313/1313 [==============================] - 3s 2ms/step - loss: 0.0049 - acc: 0.9985 - val_loss: 0.2078 - val_acc: 0.9736\n",
            "Epoch 39/100\n",
            "1313/1313 [==============================] - 3s 2ms/step - loss: 0.0048 - acc: 0.9987 - val_loss: 0.2404 - val_acc: 0.9689\n",
            "Epoch 40/100\n",
            "1313/1313 [==============================] - 3s 2ms/step - loss: 0.0118 - acc: 0.9962 - val_loss: 0.2025 - val_acc: 0.9721\n",
            "Epoch 41/100\n",
            "1313/1313 [==============================] - 3s 2ms/step - loss: 0.0048 - acc: 0.9986 - val_loss: 0.2186 - val_acc: 0.9722\n",
            "Epoch 42/100\n",
            "1313/1313 [==============================] - 3s 2ms/step - loss: 0.0068 - acc: 0.9977 - val_loss: 0.2417 - val_acc: 0.9704\n",
            "Epoch 43/100\n",
            "1313/1313 [==============================] - 3s 2ms/step - loss: 0.0075 - acc: 0.9979 - val_loss: 0.2493 - val_acc: 0.9706\n",
            "Epoch 44/100\n",
            "1313/1313 [==============================] - 3s 2ms/step - loss: 0.0064 - acc: 0.9979 - val_loss: 0.2422 - val_acc: 0.9717\n",
            "Epoch 45/100\n",
            "1313/1313 [==============================] - 3s 2ms/step - loss: 0.0087 - acc: 0.9975 - val_loss: 0.2440 - val_acc: 0.9704\n",
            "Epoch 46/100\n",
            "1313/1313 [==============================] - 3s 2ms/step - loss: 0.0048 - acc: 0.9985 - val_loss: 0.2634 - val_acc: 0.9694\n",
            "Epoch 47/100\n",
            "1313/1313 [==============================] - 3s 3ms/step - loss: 0.0054 - acc: 0.9983 - val_loss: 0.2845 - val_acc: 0.9677\n",
            "Epoch 48/100\n",
            "1313/1313 [==============================] - 3s 3ms/step - loss: 0.0076 - acc: 0.9978 - val_loss: 0.2637 - val_acc: 0.9698\n",
            "Epoch 49/100\n",
            "1313/1313 [==============================] - 3s 2ms/step - loss: 0.0060 - acc: 0.9982 - val_loss: 0.2650 - val_acc: 0.9693\n",
            "Epoch 50/100\n",
            "1313/1313 [==============================] - 3s 3ms/step - loss: 0.0049 - acc: 0.9984 - val_loss: 0.2618 - val_acc: 0.9714\n",
            "Epoch 51/100\n",
            "1313/1313 [==============================] - 3s 2ms/step - loss: 0.0076 - acc: 0.9977 - val_loss: 0.2767 - val_acc: 0.9698\n",
            "Epoch 52/100\n",
            "1313/1313 [==============================] - 3s 2ms/step - loss: 0.0077 - acc: 0.9977 - val_loss: 0.2881 - val_acc: 0.9666\n",
            "Epoch 53/100\n",
            "1313/1313 [==============================] - 3s 2ms/step - loss: 0.0073 - acc: 0.9978 - val_loss: 0.2699 - val_acc: 0.9714\n",
            "Epoch 54/100\n",
            "1313/1313 [==============================] - 3s 2ms/step - loss: 0.0054 - acc: 0.9985 - val_loss: 0.2735 - val_acc: 0.9713\n",
            "Epoch 55/100\n",
            "1313/1313 [==============================] - 3s 2ms/step - loss: 0.0068 - acc: 0.9980 - val_loss: 0.2734 - val_acc: 0.9718\n",
            "Epoch 56/100\n",
            "1313/1313 [==============================] - 3s 2ms/step - loss: 0.0064 - acc: 0.9978 - val_loss: 0.2621 - val_acc: 0.9708\n",
            "Epoch 57/100\n",
            "1313/1313 [==============================] - 3s 2ms/step - loss: 0.0046 - acc: 0.9987 - val_loss: 0.2741 - val_acc: 0.9713\n",
            "Epoch 58/100\n",
            "1313/1313 [==============================] - 3s 2ms/step - loss: 0.0067 - acc: 0.9983 - val_loss: 0.2922 - val_acc: 0.9697\n",
            "Epoch 59/100\n",
            "1313/1313 [==============================] - 3s 2ms/step - loss: 0.0049 - acc: 0.9985 - val_loss: 0.2875 - val_acc: 0.9704\n",
            "Epoch 60/100\n",
            "1313/1313 [==============================] - 3s 3ms/step - loss: 0.0097 - acc: 0.9974 - val_loss: 0.2767 - val_acc: 0.9706\n",
            "Epoch 61/100\n",
            "1313/1313 [==============================] - 3s 3ms/step - loss: 0.0059 - acc: 0.9982 - val_loss: 0.2800 - val_acc: 0.9732\n",
            "Epoch 62/100\n",
            "1313/1313 [==============================] - 3s 3ms/step - loss: 0.0038 - acc: 0.9989 - val_loss: 0.2818 - val_acc: 0.9730\n",
            "Epoch 63/100\n",
            "1313/1313 [==============================] - 3s 3ms/step - loss: 0.0055 - acc: 0.9986 - val_loss: 0.2922 - val_acc: 0.9709\n",
            "Epoch 64/100\n",
            "1313/1313 [==============================] - 3s 3ms/step - loss: 0.0085 - acc: 0.9978 - val_loss: 0.3070 - val_acc: 0.9706\n",
            "Epoch 65/100\n",
            "1313/1313 [==============================] - 3s 3ms/step - loss: 0.0058 - acc: 0.9982 - val_loss: 0.2832 - val_acc: 0.9708\n",
            "Epoch 66/100\n",
            "1313/1313 [==============================] - 3s 3ms/step - loss: 0.0057 - acc: 0.9983 - val_loss: 0.3176 - val_acc: 0.9712\n",
            "Epoch 67/100\n",
            "1313/1313 [==============================] - 3s 3ms/step - loss: 0.0071 - acc: 0.9980 - val_loss: 0.3206 - val_acc: 0.9714\n",
            "Epoch 68/100\n",
            "1313/1313 [==============================] - 3s 2ms/step - loss: 0.0028 - acc: 0.9991 - val_loss: 0.2850 - val_acc: 0.9721\n",
            "Epoch 69/100\n",
            "1313/1313 [==============================] - 3s 2ms/step - loss: 0.0029 - acc: 0.9992 - val_loss: 0.3309 - val_acc: 0.9677\n",
            "Epoch 70/100\n",
            "1313/1313 [==============================] - 3s 3ms/step - loss: 0.0084 - acc: 0.9978 - val_loss: 0.2981 - val_acc: 0.9708\n",
            "Epoch 71/100\n",
            "1313/1313 [==============================] - 3s 2ms/step - loss: 0.0043 - acc: 0.9987 - val_loss: 0.2909 - val_acc: 0.9719\n",
            "Epoch 72/100\n",
            "1313/1313 [==============================] - 3s 2ms/step - loss: 0.0080 - acc: 0.9978 - val_loss: 0.3256 - val_acc: 0.9698\n",
            "Epoch 73/100\n",
            "1313/1313 [==============================] - 3s 2ms/step - loss: 0.0043 - acc: 0.9987 - val_loss: 0.3181 - val_acc: 0.9723\n",
            "Epoch 74/100\n",
            "1313/1313 [==============================] - 3s 2ms/step - loss: 0.0061 - acc: 0.9982 - val_loss: 0.3246 - val_acc: 0.9714\n",
            "Epoch 75/100\n",
            "1313/1313 [==============================] - 3s 2ms/step - loss: 0.0058 - acc: 0.9987 - val_loss: 0.3061 - val_acc: 0.9726\n",
            "Epoch 76/100\n",
            "1313/1313 [==============================] - 3s 2ms/step - loss: 0.0040 - acc: 0.9989 - val_loss: 0.3439 - val_acc: 0.9688\n",
            "Epoch 77/100\n",
            "1313/1313 [==============================] - 3s 3ms/step - loss: 0.0088 - acc: 0.9980 - val_loss: 0.3359 - val_acc: 0.9697\n",
            "Epoch 78/100\n",
            "1313/1313 [==============================] - 3s 2ms/step - loss: 0.0039 - acc: 0.9987 - val_loss: 0.3075 - val_acc: 0.9725\n",
            "Epoch 79/100\n",
            "1313/1313 [==============================] - 3s 2ms/step - loss: 0.0022 - acc: 0.9994 - val_loss: 0.3648 - val_acc: 0.9692\n",
            "Epoch 80/100\n",
            "1313/1313 [==============================] - 3s 2ms/step - loss: 0.0082 - acc: 0.9978 - val_loss: 0.3423 - val_acc: 0.9706\n",
            "Epoch 81/100\n",
            "1313/1313 [==============================] - 3s 2ms/step - loss: 0.0071 - acc: 0.9986 - val_loss: 0.3139 - val_acc: 0.9711\n",
            "Epoch 82/100\n",
            "1313/1313 [==============================] - 3s 2ms/step - loss: 0.0054 - acc: 0.9985 - val_loss: 0.3261 - val_acc: 0.9714\n",
            "Epoch 83/100\n",
            "1313/1313 [==============================] - 3s 3ms/step - loss: 7.1017e-04 - acc: 0.9999 - val_loss: 0.3046 - val_acc: 0.9733\n",
            "Epoch 84/100\n",
            "1313/1313 [==============================] - 3s 2ms/step - loss: 0.0107 - acc: 0.9974 - val_loss: 0.3572 - val_acc: 0.9697\n",
            "Epoch 85/100\n",
            "1313/1313 [==============================] - 3s 2ms/step - loss: 0.0036 - acc: 0.9992 - val_loss: 0.3830 - val_acc: 0.9688\n",
            "Epoch 86/100\n",
            "1313/1313 [==============================] - 3s 2ms/step - loss: 0.0067 - acc: 0.9983 - val_loss: 0.3375 - val_acc: 0.9695\n",
            "Epoch 87/100\n",
            "1313/1313 [==============================] - 3s 2ms/step - loss: 0.0044 - acc: 0.9987 - val_loss: 0.3391 - val_acc: 0.9719\n",
            "Epoch 88/100\n",
            "1313/1313 [==============================] - 3s 2ms/step - loss: 0.0058 - acc: 0.9989 - val_loss: 0.3692 - val_acc: 0.9706\n",
            "Epoch 89/100\n",
            "1313/1313 [==============================] - 3s 2ms/step - loss: 0.0063 - acc: 0.9980 - val_loss: 0.3703 - val_acc: 0.9700\n",
            "Epoch 90/100\n",
            "1313/1313 [==============================] - 3s 2ms/step - loss: 0.0047 - acc: 0.9986 - val_loss: 0.3528 - val_acc: 0.9709\n",
            "Epoch 91/100\n",
            "1313/1313 [==============================] - 3s 2ms/step - loss: 0.0022 - acc: 0.9993 - val_loss: 0.3317 - val_acc: 0.9725\n",
            "Epoch 92/100\n",
            "1313/1313 [==============================] - 3s 2ms/step - loss: 0.0067 - acc: 0.9985 - val_loss: 0.3480 - val_acc: 0.9708\n",
            "Epoch 93/100\n",
            "1313/1313 [==============================] - 3s 2ms/step - loss: 0.0064 - acc: 0.9984 - val_loss: 0.3829 - val_acc: 0.9700\n",
            "Epoch 94/100\n",
            "1313/1313 [==============================] - 3s 2ms/step - loss: 0.0050 - acc: 0.9985 - val_loss: 0.3544 - val_acc: 0.9713\n",
            "Epoch 95/100\n",
            "1313/1313 [==============================] - 3s 3ms/step - loss: 0.0034 - acc: 0.9990 - val_loss: 0.3849 - val_acc: 0.9694\n",
            "Epoch 96/100\n",
            "1313/1313 [==============================] - 3s 3ms/step - loss: 0.0075 - acc: 0.9982 - val_loss: 0.3605 - val_acc: 0.9718\n",
            "Epoch 97/100\n",
            "1313/1313 [==============================] - 3s 3ms/step - loss: 0.0027 - acc: 0.9992 - val_loss: 0.3734 - val_acc: 0.9721\n",
            "Epoch 98/100\n",
            "1313/1313 [==============================] - 3s 2ms/step - loss: 0.0043 - acc: 0.9987 - val_loss: 0.3877 - val_acc: 0.9720\n",
            "Epoch 99/100\n",
            "1313/1313 [==============================] - 3s 3ms/step - loss: 0.0064 - acc: 0.9986 - val_loss: 0.3528 - val_acc: 0.9729\n",
            "Epoch 100/100\n",
            "1313/1313 [==============================] - 3s 2ms/step - loss: 0.0051 - acc: 0.9988 - val_loss: 0.3844 - val_acc: 0.9702\n"
          ],
          "name": "stdout"
        }
      ]
    },
    {
      "cell_type": "markdown",
      "metadata": {
        "id": "cQPBNyFOKrt8"
      },
      "source": [
        "## evaluation"
      ]
    },
    {
      "cell_type": "code",
      "metadata": {
        "colab": {
          "base_uri": "https://localhost:8080/"
        },
        "id": "5K8hV3aCK_C9",
        "outputId": "b5bede4e-3d6b-4426-a4dd-cb31432710ed"
      },
      "source": [
        "hist.history.keys()"
      ],
      "execution_count": 52,
      "outputs": [
        {
          "output_type": "execute_result",
          "data": {
            "text/plain": [
              "dict_keys(['loss', 'acc', 'val_loss', 'val_acc'])"
            ]
          },
          "metadata": {
            "tags": []
          },
          "execution_count": 52
        }
      ]
    },
    {
      "cell_type": "code",
      "metadata": {
        "colab": {
          "base_uri": "https://localhost:8080/",
          "height": 266
        },
        "id": "bWlT4_tR_LKH",
        "outputId": "1a54d7a4-f6ad-43ed-972f-d7849ae03666"
      },
      "source": [
        "import matplotlib.pyplot as plt\n",
        "\n",
        "plt.plot(hist.history['loss'])\n",
        "plt.plot(hist.history['val_loss'],'b-')\n",
        "plt.show()"
      ],
      "execution_count": 53,
      "outputs": [
        {
          "output_type": "display_data",
          "data": {
            "image/png": "[encoded data removed]",
            "text/plain": [
              "<Figure size 432x288 with 1 Axes>"
            ]
          },
          "metadata": {
            "tags": [],
            "needs_background": "light"
          }
        }
      ]
    },
    {
      "cell_type": "code",
      "metadata": {
        "colab": {
          "base_uri": "https://localhost:8080/",
          "height": 265
        },
        "id": "vHud65coK7oT",
        "outputId": "314cfe6b-e2d5-4097-f421-a0fcaeee646c"
      },
      "source": [
        "plt.plot(hist.history['acc'])\n",
        "plt.plot(hist.history['val_acc'],'-r')\n",
        "plt.show()"
      ],
      "execution_count": 54,
      "outputs": [
        {
          "output_type": "display_data",
          "data": {
            "image/png": "[encoded data removed]",
            "text/plain": [
              "<Figure size 432x288 with 1 Axes>"
            ]
          },
          "metadata": {
            "tags": [],
            "needs_background": "light"
          }
        }
      ]
    },
    {
      "cell_type": "markdown",
      "metadata": {
        "id": "cwtfhDsxMpNP"
      },
      "source": [
        "## service"
      ]
    },
    {
      "cell_type": "code",
      "metadata": {
        "id": "jf_jSOEYMXoP"
      },
      "source": [
        "# x_test[30]"
      ],
      "execution_count": 55,
      "outputs": []
    },
    {
      "cell_type": "code",
      "metadata": {
        "id": "-_vE4uEsMtQM"
      },
      "source": [
        "# pred = model.predict([x_test[30:31]])  # 사이즈(영역)를 명확하게 지정해주어야 한다."
      ],
      "execution_count": 56,
      "outputs": []
    },
    {
      "cell_type": "code",
      "metadata": {
        "id": "NQJMZz-nNDsr",
        "colab": {
          "base_uri": "https://localhost:8080/"
        },
        "outputId": "435c6be8-c7a6-4f15-df69-057b745bfdab"
      },
      "source": [
        "import numpy as np\n",
        "# np.set_printoptions(precision=8)\n",
        "\n",
        "pred = model.predict([x_test[30:31]])\n",
        "pred"
      ],
      "execution_count": 72,
      "outputs": [
        {
          "output_type": "execute_result",
          "data": {
            "text/plain": [
              "array([[0., 0., 0., 1., 0., 0., 0., 0., 0., 0.]], dtype=float32)"
            ]
          },
          "metadata": {
            "tags": []
          },
          "execution_count": 72
        }
      ]
    },
    {
      "cell_type": "code",
      "metadata": {
        "colab": {
          "base_uri": "https://localhost:8080/"
        },
        "id": "7ld_9T8TniTg",
        "outputId": "41174e73-47b2-46b1-94a6-6ac87d353a1c"
      },
      "source": [
        "np.argmax(pred, axis=1)"
      ],
      "execution_count": 77,
      "outputs": [
        {
          "output_type": "execute_result",
          "data": {
            "text/plain": [
              "array([3])"
            ]
          },
          "metadata": {
            "tags": []
          },
          "execution_count": 77
        }
      ]
    },
    {
      "cell_type": "code",
      "metadata": {
        "colab": {
          "base_uri": "https://localhost:8080/"
        },
        "id": "88kT0I3Pn5hU",
        "outputId": "180c2732-51d5-4e0f-f851-28471b087213"
      },
      "source": [
        "y_test[30]"
      ],
      "execution_count": 78,
      "outputs": [
        {
          "output_type": "execute_result",
          "data": {
            "text/plain": [
              "3"
            ]
          },
          "metadata": {
            "tags": []
          },
          "execution_count": 78
        }
      ]
    },
    {
      "cell_type": "markdown",
      "metadata": {
        "id": "3jYYtEtzlWhe"
      },
      "source": [
        "### numpy.argmax 위치값을 가져옴 example"
      ]
    },
    {
      "cell_type": "code",
      "metadata": {
        "colab": {
          "base_uri": "https://localhost:8080/"
        },
        "id": "ti_75PzikWnr",
        "outputId": "ee4f5cc7-287a-4bd2-bba9-60239c2864cf"
      },
      "source": [
        "a = np.arange(6).reshape(2,3) + 10\n",
        "print(a)\n",
        "np.argmax(a, axis=0)"
      ],
      "execution_count": 60,
      "outputs": [
        {
          "output_type": "stream",
          "text": [
            "[[10 11 12]\n",
            " [13 14 15]]\n"
          ],
          "name": "stdout"
        },
        {
          "output_type": "execute_result",
          "data": {
            "text/plain": [
              "array([1, 1, 1])"
            ]
          },
          "metadata": {
            "tags": []
          },
          "execution_count": 60
        }
      ]
    },
    {
      "cell_type": "code",
      "metadata": {
        "colab": {
          "base_uri": "https://localhost:8080/"
        },
        "id": "4bAxqQCIlmDR",
        "outputId": "6afc6c17-b1ab-4c52-bebd-9db266f9152e"
      },
      "source": [
        "np.argmax(np.array([[10,11,12]]), axis=1)"
      ],
      "execution_count": 61,
      "outputs": [
        {
          "output_type": "execute_result",
          "data": {
            "text/plain": [
              "array([2])"
            ]
          },
          "metadata": {
            "tags": []
          },
          "execution_count": 61
        }
      ]
    },
    {
      "cell_type": "markdown",
      "metadata": {
        "id": "o2czYSrU5bU1"
      },
      "source": [
        "## save"
      ]
    },
    {
      "cell_type": "code",
      "metadata": {
        "colab": {
          "base_uri": "https://localhost:8080/"
        },
        "id": "KznDossbnTKy",
        "outputId": "41329fd7-dcd1-4737-b8ad-6e86cf1681b9"
      },
      "source": [
        "model.save('./model_save')"
      ],
      "execution_count": 62,
      "outputs": [
        {
          "output_type": "stream",
          "text": [
            "INFO:tensorflow:Assets written to: ./model_save/assets\n"
          ],
          "name": "stdout"
        }
      ]
    },
    {
      "cell_type": "code",
      "metadata": {
        "id": "5TbmpBuO4k00"
      },
      "source": [
        "model.save('./model_save01.h5')"
      ],
      "execution_count": 63,
      "outputs": []
    },
    {
      "cell_type": "code",
      "metadata": {
        "colab": {
          "base_uri": "https://localhost:8080/"
        },
        "id": "8I9EckL17Gwa",
        "outputId": "4de7091e-a523-4ec4-a4d6-cc7b2ad3c65f"
      },
      "source": [
        "model_load = tf.keras.models.load_model('./model_save01.h5')\n",
        "model_load"
      ],
      "execution_count": 79,
      "outputs": [
        {
          "output_type": "execute_result",
          "data": {
            "text/plain": [
              "<tensorflow.python.keras.engine.sequential.Sequential at 0x7fece7d7c710>"
            ]
          },
          "metadata": {
            "tags": []
          },
          "execution_count": 79
        }
      ]
    },
    {
      "cell_type": "code",
      "metadata": {
        "id": "CT3Cpp2r8cTr"
      },
      "source": [
        "model_load = tf.keras.models.load_model('./model_save01.h5')"
      ],
      "execution_count": 80,
      "outputs": []
    },
    {
      "cell_type": "code",
      "metadata": {
        "colab": {
          "base_uri": "https://localhost:8080/"
        },
        "id": "tte4gLoW9CJp",
        "outputId": "76dd544b-d479-467b-825a-cba42b74d691"
      },
      "source": [
        "load_pred = model_load.predict(x_test[30:31])\n",
        "load_pred"
      ],
      "execution_count": 81,
      "outputs": [
        {
          "output_type": "execute_result",
          "data": {
            "text/plain": [
              "array([[0., 0., 0., 1., 0., 0., 0., 0., 0., 0.]], dtype=float32)"
            ]
          },
          "metadata": {
            "tags": []
          },
          "execution_count": 81
        }
      ]
    },
    {
      "cell_type": "code",
      "metadata": {
        "id": "zDC5cFPm9NUD"
      },
      "source": [
        ""
      ],
      "execution_count": null,
      "outputs": []
    }
  ]
}